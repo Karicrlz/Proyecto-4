{
 "cells": [
  {
   "cell_type": "markdown",
   "id": "c84e218e",
   "metadata": {},
   "source": [
    "¡Hola!\n",
    "\n",
    "Mi nombre es Tonatiuh Cruz. Me complace revisar tu proyecto hoy.\n",
    "\n",
    "Al identificar cualquier error inicialmente, simplemente los destacaré. Te animo a localizar y abordar los problemas de forma independiente como parte de tu preparación para un rol como data-scientist. En un entorno profesional, tu líder de equipo seguiría un enfoque similar. Si encuentras la tarea desafiante, proporcionaré una pista más específica en la próxima iteración.\n",
    "\n",
    "Encontrarás mis comentarios a continuación - **por favor no los muevas, modifiques o elimines**.\n",
    "\n",
    "Puedes encontrar mis comentarios en cajas verdes, amarillas o rojas como esta:\n",
    "\n",
    "<div class=\"alert alert-block alert-success\">\n",
    "<b>Comentario del revisor</b> <a class=\"tocSkip\"></a>\n",
    "\n",
    "Éxito. Todo está hecho correctamente.\n",
    "</div>\n",
    "\n",
    "<div class=\"alert alert-block alert-warning\">\n",
    "<b>Comentario del revisor</b> <a class=\"tocSkip\"></a>\n",
    "\n",
    "Observaciones. Algunas recomendaciones.\n",
    "</div>\n",
    "\n",
    "<div class=\"alert alert-block alert-danger\">\n",
    "<b>Comentario del revisor</b> <a class=\"tocSkip\"></a>\n",
    "\n",
    "Necesita corrección. El bloque requiere algunas correcciones. El trabajo no puede ser aceptado con comentarios en rojo.\n",
    "</div>\n",
    "\n",
    "Puedes responderme utilizando esto:\n",
    "\n",
    "<div class=\"alert alert-block alert-info\">\n",
    "<b>Respuesta del estudiante.</b> <a class=\"tocSkip\"></a>\n",
    "</div>"
   ]
  },
  {
   "cell_type": "markdown",
   "id": "3Xg_RQfnafXz",
   "metadata": {
    "id": "3Xg_RQfnafXz"
   },
   "source": [
    "# ¡Llena ese carrito!"
   ]
  },
  {
   "cell_type": "markdown",
   "id": "mhIvmmkW414q",
   "metadata": {
    "id": "mhIvmmkW414q"
   },
   "source": [
    "# Introducción\n",
    "\n",
    "Instacart es una plataforma de entregas de comestibles donde la clientela puede registrar un pedido y hacer que se lo entreguen, similar a Uber Eats y Door Dash.\n",
    "El conjunto de datos que te hemos proporcionado tiene modificaciones del original. Redujimos el tamaño del conjunto para que tus cálculos se hicieran más rápido e introdujimos valores ausentes y duplicados. Tuvimos cuidado de conservar las distribuciones de los datos originales cuando hicimos los cambios.\n",
    "\n",
    "Debes completar tres pasos. Para cada uno de ellos, escribe una breve introducción que refleje con claridad cómo pretendes resolver cada paso, y escribe párrafos explicatorios que justifiquen tus decisiones al tiempo que avanzas en tu solución.  También escribe una conclusión que resuma tus hallazgos y elecciones.\n"
   ]
  },
  {
   "cell_type": "markdown",
   "id": "3MbyzpOQZ5Or",
   "metadata": {
    "id": "3MbyzpOQZ5Or"
   },
   "source": [
    "## Diccionario de datos\n",
    "\n",
    "Hay cinco tablas en el conjunto de datos, y tendrás que usarlas todas para hacer el preprocesamiento de datos y el análisis exploratorio de datos. A continuación se muestra un diccionario de datos que enumera las columnas de cada tabla y describe los datos que contienen.\n",
    "\n",
    "- `instacart_orders.csv`: cada fila corresponde a un pedido en la aplicación Instacart.\n",
    "    - `'order_id'`: número de ID que identifica de manera única cada pedido.\n",
    "    - `'user_id'`: número de ID que identifica de manera única la cuenta de cada cliente.\n",
    "    - `'order_number'`: el número de veces que este cliente ha hecho un pedido.\n",
    "    - `'order_dow'`: día de la semana en que se hizo el pedido (0 si es domingo).\n",
    "    - `'order_hour_of_day'`: hora del día en que se hizo el pedido.\n",
    "    - `'days_since_prior_order'`: número de días transcurridos desde que este cliente hizo su pedido anterior.\n",
    "- `products.csv`: cada fila corresponde a un producto único que pueden comprar los clientes.\n",
    "    - `'product_id'`: número ID que identifica de manera única cada producto.\n",
    "    - `'product_name'`: nombre del producto.\n",
    "    - `'aisle_id'`: número ID que identifica de manera única cada categoría de pasillo de víveres.\n",
    "    - `'department_id'`: número ID que identifica de manera única cada departamento de víveres.\n",
    "- `order_products.csv`: cada fila corresponde a un artículo pedido en un pedido.\n",
    "    - `'order_id'`: número de ID que identifica de manera única cada pedido.\n",
    "    - `'product_id'`: número ID que identifica de manera única cada producto.\n",
    "    - `'add_to_cart_order'`: el orden secuencial en el que se añadió cada artículo en el carrito.\n",
    "    - `'reordered'`: 0 si el cliente nunca ha pedido este producto antes, 1 si lo ha pedido.\n",
    "- `aisles.csv`\n",
    "    - `'aisle_id'`: número ID que identifica de manera única cada categoría de pasillo de víveres.\n",
    "    - `'aisle'`: nombre del pasillo.\n",
    "- `departments.csv`\n",
    "    - `'department_id'`: número ID que identifica de manera única cada departamento de víveres.\n",
    "    - `'department'`: nombre del departamento."
   ]
  },
  {
   "cell_type": "markdown",
   "id": "36e4f862",
   "metadata": {},
   "source": [
    "<div class=\"alert alert-block alert-success\">\n",
    "<b>Comentario del revisor</b> <a class=\"tocSkip\"></a>\n",
    "\n",
    "¡Hola! Excelente trabajo desarrollando la introducción y el diccionario de datos. Esto es crucial para cualquier proyecto, ya que establece una guía clara sobre los pasos a seguir. Tener estos elementos bien definidos desde el principio nos permite trabajar de manera más organizada y eficiente. En un futuro lo podrías complementar con una tabla de contenido.\n",
    "</div>"
   ]
  },
  {
   "cell_type": "markdown",
   "id": "n3Ha_cNSZ8lK",
   "metadata": {
    "id": "n3Ha_cNSZ8lK"
   },
   "source": [
    "# Paso 1. Descripción de los datos\n",
    "\n",
    "Lee los archivos de datos (`/datasets/instacart_orders.csv`, `/datasets/products.csv`, `/datasets/aisles.csv`, `/datasets/departments.csv` y `/datasets/order_products.csv`) con `pd.read_csv()` usando los parámetros adecuados para leer los datos correctamente. Verifica la información para cada DataFrame creado.\n"
   ]
  },
  {
   "cell_type": "markdown",
   "id": "OmlQPLlyaAfR",
   "metadata": {
    "id": "OmlQPLlyaAfR"
   },
   "source": [
    "## Plan de solución\n",
    "\n",
    "Escribe aquí tu plan de solución para el Paso 1. Descripción de los datos.\n",
    "\n",
    "El primer paso para trabajar con datos es acceder a ellos. Por lo que se enlistan los objetivos del paso 1 a continuación: \n",
    "\n",
    "-Obtener la información general de cada archivo de datos. \n",
    "-Verificar que la información se encuentre con los parametros correctos para el correcto análisis. \n",
    "\n"
   ]
  },
  {
   "cell_type": "code",
   "execution_count": 2,
   "id": "fbf1adab",
   "metadata": {
    "id": "fbf1adab"
   },
   "outputs": [],
   "source": [
    "import pandas as pd# importar librerías"
   ]
  },
  {
   "cell_type": "markdown",
   "id": "1ff0466e",
   "metadata": {},
   "source": [
    "<div class=\"alert alert-block alert-warning\">\n",
    "<b>Comentario revisor</b> <a class=\"tocSkip\"></a>\n",
    "\n",
    "\n",
    "Recomiendo importar y cargar la librería de matplolib.pyplot para el desarrollo de las diferentes gráficas que te van a ayudar al análisis de los datos. \n",
    "</div>"
   ]
  },
  {
   "cell_type": "code",
   "execution_count": 3,
   "id": "ad36396d",
   "metadata": {
    "id": "ad36396d"
   },
   "outputs": [],
   "source": [
    "orders= pd.read_csv('/datasets/instacart_orders.csv', sep=';')\n",
    "products= pd.read_csv('/datasets/products.csv', sep=';')\n",
    "aisles = pd.read_csv('/datasets/aisles.csv',sep=';')\n",
    "departments = pd.read_csv('/datasets/departments.csv', sep=';')\n",
    "order_products = pd.read_csv('/datasets/order_products.csv', sep=';')# leer conjuntos de datos en los DataFrames"
   ]
  },
  {
   "cell_type": "code",
   "execution_count": 4,
   "id": "bc7f89c4",
   "metadata": {},
   "outputs": [
    {
     "name": "stdout",
     "output_type": "stream",
     "text": [
      "<class 'pandas.core.frame.DataFrame'>\n",
      "RangeIndex: 478967 entries, 0 to 478966\n",
      "Data columns (total 6 columns):\n",
      " #   Column                  Non-Null Count   Dtype  \n",
      "---  ------                  --------------   -----  \n",
      " 0   order_id                478967 non-null  int64  \n",
      " 1   user_id                 478967 non-null  int64  \n",
      " 2   order_number            478967 non-null  int64  \n",
      " 3   order_dow               478967 non-null  int64  \n",
      " 4   order_hour_of_day       478967 non-null  int64  \n",
      " 5   days_since_prior_order  450148 non-null  float64\n",
      "dtypes: float64(1), int64(5)\n",
      "memory usage: 21.9 MB\n"
     ]
    },
    {
     "data": {
      "text/html": [
       "<div>\n",
       "<style scoped>\n",
       "    .dataframe tbody tr th:only-of-type {\n",
       "        vertical-align: middle;\n",
       "    }\n",
       "\n",
       "    .dataframe tbody tr th {\n",
       "        vertical-align: top;\n",
       "    }\n",
       "\n",
       "    .dataframe thead th {\n",
       "        text-align: right;\n",
       "    }\n",
       "</style>\n",
       "<table border=\"1\" class=\"dataframe\">\n",
       "  <thead>\n",
       "    <tr style=\"text-align: right;\">\n",
       "      <th></th>\n",
       "      <th>order_id</th>\n",
       "      <th>user_id</th>\n",
       "      <th>order_number</th>\n",
       "      <th>order_dow</th>\n",
       "      <th>order_hour_of_day</th>\n",
       "      <th>days_since_prior_order</th>\n",
       "    </tr>\n",
       "  </thead>\n",
       "  <tbody>\n",
       "    <tr>\n",
       "      <th>0</th>\n",
       "      <td>1515936</td>\n",
       "      <td>183418</td>\n",
       "      <td>11</td>\n",
       "      <td>6</td>\n",
       "      <td>13</td>\n",
       "      <td>30.0</td>\n",
       "    </tr>\n",
       "    <tr>\n",
       "      <th>1</th>\n",
       "      <td>1690866</td>\n",
       "      <td>163593</td>\n",
       "      <td>5</td>\n",
       "      <td>5</td>\n",
       "      <td>12</td>\n",
       "      <td>9.0</td>\n",
       "    </tr>\n",
       "    <tr>\n",
       "      <th>2</th>\n",
       "      <td>1454967</td>\n",
       "      <td>39980</td>\n",
       "      <td>4</td>\n",
       "      <td>5</td>\n",
       "      <td>19</td>\n",
       "      <td>2.0</td>\n",
       "    </tr>\n",
       "    <tr>\n",
       "      <th>3</th>\n",
       "      <td>1768857</td>\n",
       "      <td>82516</td>\n",
       "      <td>56</td>\n",
       "      <td>0</td>\n",
       "      <td>20</td>\n",
       "      <td>10.0</td>\n",
       "    </tr>\n",
       "    <tr>\n",
       "      <th>4</th>\n",
       "      <td>3007858</td>\n",
       "      <td>196724</td>\n",
       "      <td>2</td>\n",
       "      <td>4</td>\n",
       "      <td>12</td>\n",
       "      <td>17.0</td>\n",
       "    </tr>\n",
       "  </tbody>\n",
       "</table>\n",
       "</div>"
      ],
      "text/plain": [
       "   order_id  user_id  order_number  order_dow  order_hour_of_day  \\\n",
       "0   1515936   183418            11          6                 13   \n",
       "1   1690866   163593             5          5                 12   \n",
       "2   1454967    39980             4          5                 19   \n",
       "3   1768857    82516            56          0                 20   \n",
       "4   3007858   196724             2          4                 12   \n",
       "\n",
       "   days_since_prior_order  \n",
       "0                    30.0  \n",
       "1                     9.0  \n",
       "2                     2.0  \n",
       "3                    10.0  \n",
       "4                    17.0  "
      ]
     },
     "execution_count": 4,
     "metadata": {},
     "output_type": "execute_result"
    }
   ],
   "source": [
    "orders.info()\n",
    "orders.head()"
   ]
  },
  {
   "cell_type": "code",
   "execution_count": 5,
   "id": "5130e05e",
   "metadata": {
    "id": "5130e05e"
   },
   "outputs": [
    {
     "name": "stdout",
     "output_type": "stream",
     "text": [
      "<class 'pandas.core.frame.DataFrame'>\n",
      "RangeIndex: 49694 entries, 0 to 49693\n",
      "Data columns (total 4 columns):\n",
      " #   Column         Non-Null Count  Dtype \n",
      "---  ------         --------------  ----- \n",
      " 0   product_id     49694 non-null  int64 \n",
      " 1   product_name   48436 non-null  object\n",
      " 2   aisle_id       49694 non-null  int64 \n",
      " 3   department_id  49694 non-null  int64 \n",
      "dtypes: int64(3), object(1)\n",
      "memory usage: 1.5+ MB\n"
     ]
    }
   ],
   "source": [
    "products.info()\n",
    "# mostrar información del DataFrame"
   ]
  },
  {
   "cell_type": "code",
   "execution_count": 6,
   "id": "d8370c05",
   "metadata": {
    "id": "d8370c05"
   },
   "outputs": [
    {
     "name": "stdout",
     "output_type": "stream",
     "text": [
      "<class 'pandas.core.frame.DataFrame'>\n",
      "RangeIndex: 134 entries, 0 to 133\n",
      "Data columns (total 2 columns):\n",
      " #   Column    Non-Null Count  Dtype \n",
      "---  ------    --------------  ----- \n",
      " 0   aisle_id  134 non-null    int64 \n",
      " 1   aisle     134 non-null    object\n",
      "dtypes: int64(1), object(1)\n",
      "memory usage: 2.2+ KB\n"
     ]
    },
    {
     "data": {
      "text/html": [
       "<div>\n",
       "<style scoped>\n",
       "    .dataframe tbody tr th:only-of-type {\n",
       "        vertical-align: middle;\n",
       "    }\n",
       "\n",
       "    .dataframe tbody tr th {\n",
       "        vertical-align: top;\n",
       "    }\n",
       "\n",
       "    .dataframe thead th {\n",
       "        text-align: right;\n",
       "    }\n",
       "</style>\n",
       "<table border=\"1\" class=\"dataframe\">\n",
       "  <thead>\n",
       "    <tr style=\"text-align: right;\">\n",
       "      <th></th>\n",
       "      <th>aisle_id</th>\n",
       "      <th>aisle</th>\n",
       "    </tr>\n",
       "  </thead>\n",
       "  <tbody>\n",
       "    <tr>\n",
       "      <th>0</th>\n",
       "      <td>1</td>\n",
       "      <td>prepared soups salads</td>\n",
       "    </tr>\n",
       "    <tr>\n",
       "      <th>1</th>\n",
       "      <td>2</td>\n",
       "      <td>specialty cheeses</td>\n",
       "    </tr>\n",
       "    <tr>\n",
       "      <th>2</th>\n",
       "      <td>3</td>\n",
       "      <td>energy granola bars</td>\n",
       "    </tr>\n",
       "    <tr>\n",
       "      <th>3</th>\n",
       "      <td>4</td>\n",
       "      <td>instant foods</td>\n",
       "    </tr>\n",
       "    <tr>\n",
       "      <th>4</th>\n",
       "      <td>5</td>\n",
       "      <td>marinades meat preparation</td>\n",
       "    </tr>\n",
       "  </tbody>\n",
       "</table>\n",
       "</div>"
      ],
      "text/plain": [
       "   aisle_id                       aisle\n",
       "0         1       prepared soups salads\n",
       "1         2           specialty cheeses\n",
       "2         3         energy granola bars\n",
       "3         4               instant foods\n",
       "4         5  marinades meat preparation"
      ]
     },
     "execution_count": 6,
     "metadata": {},
     "output_type": "execute_result"
    }
   ],
   "source": [
    "aisles.info()\n",
    "aisles.head()# mostrar información del DataFrame"
   ]
  },
  {
   "cell_type": "code",
   "execution_count": 7,
   "id": "59e2090f",
   "metadata": {
    "id": "59e2090f"
   },
   "outputs": [
    {
     "name": "stdout",
     "output_type": "stream",
     "text": [
      "<class 'pandas.core.frame.DataFrame'>\n",
      "RangeIndex: 21 entries, 0 to 20\n",
      "Data columns (total 2 columns):\n",
      " #   Column         Non-Null Count  Dtype \n",
      "---  ------         --------------  ----- \n",
      " 0   department_id  21 non-null     int64 \n",
      " 1   department     21 non-null     object\n",
      "dtypes: int64(1), object(1)\n",
      "memory usage: 464.0+ bytes\n"
     ]
    },
    {
     "data": {
      "text/html": [
       "<div>\n",
       "<style scoped>\n",
       "    .dataframe tbody tr th:only-of-type {\n",
       "        vertical-align: middle;\n",
       "    }\n",
       "\n",
       "    .dataframe tbody tr th {\n",
       "        vertical-align: top;\n",
       "    }\n",
       "\n",
       "    .dataframe thead th {\n",
       "        text-align: right;\n",
       "    }\n",
       "</style>\n",
       "<table border=\"1\" class=\"dataframe\">\n",
       "  <thead>\n",
       "    <tr style=\"text-align: right;\">\n",
       "      <th></th>\n",
       "      <th>department_id</th>\n",
       "      <th>department</th>\n",
       "    </tr>\n",
       "  </thead>\n",
       "  <tbody>\n",
       "    <tr>\n",
       "      <th>0</th>\n",
       "      <td>1</td>\n",
       "      <td>frozen</td>\n",
       "    </tr>\n",
       "    <tr>\n",
       "      <th>1</th>\n",
       "      <td>2</td>\n",
       "      <td>other</td>\n",
       "    </tr>\n",
       "    <tr>\n",
       "      <th>2</th>\n",
       "      <td>3</td>\n",
       "      <td>bakery</td>\n",
       "    </tr>\n",
       "    <tr>\n",
       "      <th>3</th>\n",
       "      <td>4</td>\n",
       "      <td>produce</td>\n",
       "    </tr>\n",
       "    <tr>\n",
       "      <th>4</th>\n",
       "      <td>5</td>\n",
       "      <td>alcohol</td>\n",
       "    </tr>\n",
       "  </tbody>\n",
       "</table>\n",
       "</div>"
      ],
      "text/plain": [
       "   department_id department\n",
       "0              1     frozen\n",
       "1              2      other\n",
       "2              3     bakery\n",
       "3              4    produce\n",
       "4              5    alcohol"
      ]
     },
     "execution_count": 7,
     "metadata": {},
     "output_type": "execute_result"
    }
   ],
   "source": [
    "departments.info()\n",
    "departments.head()# mostrar información del DataFrame"
   ]
  },
  {
   "cell_type": "code",
   "execution_count": 8,
   "id": "6fc81694",
   "metadata": {
    "id": "6fc81694"
   },
   "outputs": [
    {
     "name": "stdout",
     "output_type": "stream",
     "text": [
      "<class 'pandas.core.frame.DataFrame'>\n",
      "RangeIndex: 4545007 entries, 0 to 4545006\n",
      "Data columns (total 4 columns):\n",
      " #   Column             Non-Null Count    Dtype  \n",
      "---  ------             --------------    -----  \n",
      " 0   order_id           4545007 non-null  int64  \n",
      " 1   product_id         4545007 non-null  int64  \n",
      " 2   add_to_cart_order  4544171 non-null  float64\n",
      " 3   reordered          4545007 non-null  int64  \n",
      "dtypes: float64(1), int64(3)\n",
      "memory usage: 138.7 MB\n"
     ]
    },
    {
     "data": {
      "text/html": [
       "<div>\n",
       "<style scoped>\n",
       "    .dataframe tbody tr th:only-of-type {\n",
       "        vertical-align: middle;\n",
       "    }\n",
       "\n",
       "    .dataframe tbody tr th {\n",
       "        vertical-align: top;\n",
       "    }\n",
       "\n",
       "    .dataframe thead th {\n",
       "        text-align: right;\n",
       "    }\n",
       "</style>\n",
       "<table border=\"1\" class=\"dataframe\">\n",
       "  <thead>\n",
       "    <tr style=\"text-align: right;\">\n",
       "      <th></th>\n",
       "      <th>order_id</th>\n",
       "      <th>product_id</th>\n",
       "      <th>add_to_cart_order</th>\n",
       "      <th>reordered</th>\n",
       "    </tr>\n",
       "  </thead>\n",
       "  <tbody>\n",
       "    <tr>\n",
       "      <th>0</th>\n",
       "      <td>2141543</td>\n",
       "      <td>11440</td>\n",
       "      <td>17.0</td>\n",
       "      <td>0</td>\n",
       "    </tr>\n",
       "    <tr>\n",
       "      <th>1</th>\n",
       "      <td>567889</td>\n",
       "      <td>1560</td>\n",
       "      <td>1.0</td>\n",
       "      <td>1</td>\n",
       "    </tr>\n",
       "    <tr>\n",
       "      <th>2</th>\n",
       "      <td>2261212</td>\n",
       "      <td>26683</td>\n",
       "      <td>1.0</td>\n",
       "      <td>1</td>\n",
       "    </tr>\n",
       "    <tr>\n",
       "      <th>3</th>\n",
       "      <td>491251</td>\n",
       "      <td>8670</td>\n",
       "      <td>35.0</td>\n",
       "      <td>1</td>\n",
       "    </tr>\n",
       "    <tr>\n",
       "      <th>4</th>\n",
       "      <td>2571142</td>\n",
       "      <td>1940</td>\n",
       "      <td>5.0</td>\n",
       "      <td>1</td>\n",
       "    </tr>\n",
       "  </tbody>\n",
       "</table>\n",
       "</div>"
      ],
      "text/plain": [
       "   order_id  product_id  add_to_cart_order  reordered\n",
       "0   2141543       11440               17.0          0\n",
       "1    567889        1560                1.0          1\n",
       "2   2261212       26683                1.0          1\n",
       "3    491251        8670               35.0          1\n",
       "4   2571142        1940                5.0          1"
      ]
     },
     "execution_count": 8,
     "metadata": {},
     "output_type": "execute_result"
    }
   ],
   "source": [
    "order_products.info(show_counts=True)\n",
    "order_products.head()# mostrar información del DataFrame"
   ]
  },
  {
   "cell_type": "markdown",
   "id": "3b2dbb53",
   "metadata": {},
   "source": [
    "<div class=\"alert alert-block alert-success\">\n",
    "    <b>Comentario del revisor:</b> <a class=\"tocSkip\"></a>\n",
    "    \n",
    "Realizaste un excelente trabajo presentando la información de la base de datos.\n",
    "</div>"
   ]
  },
  {
   "cell_type": "markdown",
   "id": "t75BD19oaR5f",
   "metadata": {
    "id": "t75BD19oaR5f"
   },
   "source": [
    "## Conclusiones\n",
    "\n",
    "Para realizar la lectura de las tablas se pidio mendiante el comando: **read_csv**, se pudo obsertvar que el separador de las tablas era un **;** por lo que se le afrego el parametro**sep** para que python pudiera leer nuestra información como una tabla. Posterior a eso en cada una de las tablas se solicito su información, en donde se desplego la información general de cada data frame, la cual nos indica el total columnas, el formato en la que los datos de cada columna esta, cuantas filas hay, si hay valores nules. \n",
    "\n",
    "Además de eso, se solicito con **head()**  visualizar las primeras 5 filas de cada data frame, esto para poder observar y conocer si hay errores a primera vista nuestros datos.\n"
   ]
  },
  {
   "cell_type": "markdown",
   "id": "8RJHqxVmaVsF",
   "metadata": {
    "id": "8RJHqxVmaVsF"
   },
   "source": [
    "# Paso 2. Preprocesamiento de los datos\n",
    "\n",
    "Preprocesa los datos de la siguiente manera:\n",
    "\n",
    "- Verifica y corrige los tipos de datos (por ejemplo, asegúrate de que las columnas de ID sean números enteros).\n",
    "- Identifica y completa los valores ausentes.\n",
    "- Identifica y elimina los valores duplicados.\n",
    "\n",
    "Asegúrate de explicar qué tipos de valores ausentes y duplicados encontraste, cómo los completaste o eliminaste y por qué usaste esos métodos. ¿Por qué crees que estos valores ausentes y duplicados pueden haber estado presentes en el conjunto de datos?"
   ]
  },
  {
   "cell_type": "markdown",
   "id": "p6poABZQaZYb",
   "metadata": {
    "id": "p6poABZQaZYb"
   },
   "source": [
    "## Plan de solución\n",
    "\n",
    "**Preprocesamiento de los datos:** \n",
    "A pesar de que se ha logrado leer la información de la manera correcta y hemos obtenido la información general de los data frame, aún no se puede trabajar en el análisis de los datos,antes de eso, se necesita realizar un preprocesamiento de los datos, donde se explorará si exixten valores duplicados y/o ausentes que nos puedan afectar en los resultados. \n",
    "\n",
    "Para esto, comenzaremos buscando los valores duplicados, en caso de encontrarlos serán corregidos para evitar tener información incorrecta, posteriormente nos enfocaremos en los valores ausentes, que seran análizados y tratados para asegurar que los resultados esten completos.\n",
    "\n",
    "Es importante mencionar que también se verificaran que los datos se encuentren con el correcto parametro, esto para poder hacer un correcto manejo de los datos así como poder eficientar el análisis"
   ]
  },
  {
   "cell_type": "markdown",
   "id": "07357848-dc64-4156-9cc3-01ff4365226d",
   "metadata": {
    "id": "07357848-dc64-4156-9cc3-01ff4365226d"
   },
   "source": [
    "## Encuentra y elimina los valores duplicados (y describe cómo tomaste tus decisiones)."
   ]
  },
  {
   "cell_type": "markdown",
   "id": "f179f0a9",
   "metadata": {
    "id": "f179f0a9"
   },
   "source": [
    "### `instacart_orders` data frame"
   ]
  },
  {
   "cell_type": "code",
   "execution_count": 9,
   "id": "b99297a5-405a-463d-8535-9adc3da4ad74",
   "metadata": {
    "id": "b99297a5-405a-463d-8535-9adc3da4ad74"
   },
   "outputs": [
    {
     "name": "stdout",
     "output_type": "stream",
     "text": [
      "la cantidad de duplicados encontrados es de:\n",
      "15\n",
      "\n",
      "Los duplicados se muestran a continuación:\n"
     ]
    },
    {
     "data": {
      "text/html": [
       "<div>\n",
       "<style scoped>\n",
       "    .dataframe tbody tr th:only-of-type {\n",
       "        vertical-align: middle;\n",
       "    }\n",
       "\n",
       "    .dataframe tbody tr th {\n",
       "        vertical-align: top;\n",
       "    }\n",
       "\n",
       "    .dataframe thead th {\n",
       "        text-align: right;\n",
       "    }\n",
       "</style>\n",
       "<table border=\"1\" class=\"dataframe\">\n",
       "  <thead>\n",
       "    <tr style=\"text-align: right;\">\n",
       "      <th></th>\n",
       "      <th>order_id</th>\n",
       "      <th>user_id</th>\n",
       "      <th>order_number</th>\n",
       "      <th>order_dow</th>\n",
       "      <th>order_hour_of_day</th>\n",
       "      <th>days_since_prior_order</th>\n",
       "    </tr>\n",
       "  </thead>\n",
       "  <tbody>\n",
       "    <tr>\n",
       "      <th>145574</th>\n",
       "      <td>794638</td>\n",
       "      <td>50898</td>\n",
       "      <td>24</td>\n",
       "      <td>3</td>\n",
       "      <td>2</td>\n",
       "      <td>2.0</td>\n",
       "    </tr>\n",
       "    <tr>\n",
       "      <th>223105</th>\n",
       "      <td>2160484</td>\n",
       "      <td>107525</td>\n",
       "      <td>16</td>\n",
       "      <td>3</td>\n",
       "      <td>2</td>\n",
       "      <td>30.0</td>\n",
       "    </tr>\n",
       "    <tr>\n",
       "      <th>230807</th>\n",
       "      <td>1918001</td>\n",
       "      <td>188546</td>\n",
       "      <td>14</td>\n",
       "      <td>3</td>\n",
       "      <td>2</td>\n",
       "      <td>16.0</td>\n",
       "    </tr>\n",
       "    <tr>\n",
       "      <th>266232</th>\n",
       "      <td>1782114</td>\n",
       "      <td>106752</td>\n",
       "      <td>1</td>\n",
       "      <td>3</td>\n",
       "      <td>2</td>\n",
       "      <td>NaN</td>\n",
       "    </tr>\n",
       "    <tr>\n",
       "      <th>273805</th>\n",
       "      <td>1112182</td>\n",
       "      <td>202304</td>\n",
       "      <td>84</td>\n",
       "      <td>3</td>\n",
       "      <td>2</td>\n",
       "      <td>6.0</td>\n",
       "    </tr>\n",
       "    <tr>\n",
       "      <th>284038</th>\n",
       "      <td>2845099</td>\n",
       "      <td>31189</td>\n",
       "      <td>11</td>\n",
       "      <td>3</td>\n",
       "      <td>2</td>\n",
       "      <td>7.0</td>\n",
       "    </tr>\n",
       "    <tr>\n",
       "      <th>311713</th>\n",
       "      <td>1021560</td>\n",
       "      <td>53767</td>\n",
       "      <td>3</td>\n",
       "      <td>3</td>\n",
       "      <td>2</td>\n",
       "      <td>9.0</td>\n",
       "    </tr>\n",
       "    <tr>\n",
       "      <th>321100</th>\n",
       "      <td>408114</td>\n",
       "      <td>68324</td>\n",
       "      <td>4</td>\n",
       "      <td>3</td>\n",
       "      <td>2</td>\n",
       "      <td>18.0</td>\n",
       "    </tr>\n",
       "    <tr>\n",
       "      <th>323900</th>\n",
       "      <td>1919531</td>\n",
       "      <td>191501</td>\n",
       "      <td>32</td>\n",
       "      <td>3</td>\n",
       "      <td>2</td>\n",
       "      <td>7.0</td>\n",
       "    </tr>\n",
       "    <tr>\n",
       "      <th>345917</th>\n",
       "      <td>2232988</td>\n",
       "      <td>82565</td>\n",
       "      <td>1</td>\n",
       "      <td>3</td>\n",
       "      <td>2</td>\n",
       "      <td>NaN</td>\n",
       "    </tr>\n",
       "    <tr>\n",
       "      <th>371905</th>\n",
       "      <td>391768</td>\n",
       "      <td>57671</td>\n",
       "      <td>19</td>\n",
       "      <td>3</td>\n",
       "      <td>2</td>\n",
       "      <td>10.0</td>\n",
       "    </tr>\n",
       "    <tr>\n",
       "      <th>394347</th>\n",
       "      <td>467134</td>\n",
       "      <td>63189</td>\n",
       "      <td>21</td>\n",
       "      <td>3</td>\n",
       "      <td>2</td>\n",
       "      <td>2.0</td>\n",
       "    </tr>\n",
       "    <tr>\n",
       "      <th>411408</th>\n",
       "      <td>1286742</td>\n",
       "      <td>183220</td>\n",
       "      <td>48</td>\n",
       "      <td>3</td>\n",
       "      <td>2</td>\n",
       "      <td>4.0</td>\n",
       "    </tr>\n",
       "    <tr>\n",
       "      <th>415163</th>\n",
       "      <td>2282673</td>\n",
       "      <td>86751</td>\n",
       "      <td>49</td>\n",
       "      <td>3</td>\n",
       "      <td>2</td>\n",
       "      <td>2.0</td>\n",
       "    </tr>\n",
       "    <tr>\n",
       "      <th>441599</th>\n",
       "      <td>2125197</td>\n",
       "      <td>14050</td>\n",
       "      <td>48</td>\n",
       "      <td>3</td>\n",
       "      <td>2</td>\n",
       "      <td>3.0</td>\n",
       "    </tr>\n",
       "  </tbody>\n",
       "</table>\n",
       "</div>"
      ],
      "text/plain": [
       "        order_id  user_id  order_number  order_dow  order_hour_of_day  \\\n",
       "145574    794638    50898            24          3                  2   \n",
       "223105   2160484   107525            16          3                  2   \n",
       "230807   1918001   188546            14          3                  2   \n",
       "266232   1782114   106752             1          3                  2   \n",
       "273805   1112182   202304            84          3                  2   \n",
       "284038   2845099    31189            11          3                  2   \n",
       "311713   1021560    53767             3          3                  2   \n",
       "321100    408114    68324             4          3                  2   \n",
       "323900   1919531   191501            32          3                  2   \n",
       "345917   2232988    82565             1          3                  2   \n",
       "371905    391768    57671            19          3                  2   \n",
       "394347    467134    63189            21          3                  2   \n",
       "411408   1286742   183220            48          3                  2   \n",
       "415163   2282673    86751            49          3                  2   \n",
       "441599   2125197    14050            48          3                  2   \n",
       "\n",
       "        days_since_prior_order  \n",
       "145574                     2.0  \n",
       "223105                    30.0  \n",
       "230807                    16.0  \n",
       "266232                     NaN  \n",
       "273805                     6.0  \n",
       "284038                     7.0  \n",
       "311713                     9.0  \n",
       "321100                    18.0  \n",
       "323900                     7.0  \n",
       "345917                     NaN  \n",
       "371905                    10.0  \n",
       "394347                     2.0  \n",
       "411408                     4.0  \n",
       "415163                     2.0  \n",
       "441599                     3.0  "
      ]
     },
     "execution_count": 9,
     "metadata": {},
     "output_type": "execute_result"
    }
   ],
   "source": [
    "print('la cantidad de duplicados encontrados es de:')\n",
    "print(orders.duplicated().sum())\n",
    "print()\n",
    "print('Los duplicados se muestran a continuación:')\n",
    "orders[orders.duplicated()]# Revisa si hay pedidos duplicados"
   ]
  },
  {
   "cell_type": "markdown",
   "id": "PEkwUX_gvt5A",
   "metadata": {
    "id": "PEkwUX_gvt5A"
   },
   "source": [
    "¿Tienes líneas duplicadas? Si sí, ¿qué tienen en común? \n",
    "En el dataframe de orders, podemos encomntrar un total de 15 duplicados, estos duplicados corresponden a las columnas \"order_dow\" y \"order_hour_of_day\", son de pedidos que comparten el mismo horario en que se han realizado siendo durante el día miércoles a las dos a.m."
   ]
  },
  {
   "cell_type": "code",
   "execution_count": 10,
   "id": "0d44de5d",
   "metadata": {
    "id": "0d44de5d"
   },
   "outputs": [
    {
     "data": {
      "text/html": [
       "<div>\n",
       "<style scoped>\n",
       "    .dataframe tbody tr th:only-of-type {\n",
       "        vertical-align: middle;\n",
       "    }\n",
       "\n",
       "    .dataframe tbody tr th {\n",
       "        vertical-align: top;\n",
       "    }\n",
       "\n",
       "    .dataframe thead th {\n",
       "        text-align: right;\n",
       "    }\n",
       "</style>\n",
       "<table border=\"1\" class=\"dataframe\">\n",
       "  <thead>\n",
       "    <tr style=\"text-align: right;\">\n",
       "      <th></th>\n",
       "      <th>order_id</th>\n",
       "      <th>user_id</th>\n",
       "      <th>order_number</th>\n",
       "      <th>order_dow</th>\n",
       "      <th>order_hour_of_day</th>\n",
       "      <th>days_since_prior_order</th>\n",
       "    </tr>\n",
       "  </thead>\n",
       "  <tbody>\n",
       "    <tr>\n",
       "      <th>145574</th>\n",
       "      <td>794638</td>\n",
       "      <td>50898</td>\n",
       "      <td>24</td>\n",
       "      <td>3</td>\n",
       "      <td>2</td>\n",
       "      <td>2.0</td>\n",
       "    </tr>\n",
       "    <tr>\n",
       "      <th>223105</th>\n",
       "      <td>2160484</td>\n",
       "      <td>107525</td>\n",
       "      <td>16</td>\n",
       "      <td>3</td>\n",
       "      <td>2</td>\n",
       "      <td>30.0</td>\n",
       "    </tr>\n",
       "    <tr>\n",
       "      <th>230807</th>\n",
       "      <td>1918001</td>\n",
       "      <td>188546</td>\n",
       "      <td>14</td>\n",
       "      <td>3</td>\n",
       "      <td>2</td>\n",
       "      <td>16.0</td>\n",
       "    </tr>\n",
       "    <tr>\n",
       "      <th>266232</th>\n",
       "      <td>1782114</td>\n",
       "      <td>106752</td>\n",
       "      <td>1</td>\n",
       "      <td>3</td>\n",
       "      <td>2</td>\n",
       "      <td>NaN</td>\n",
       "    </tr>\n",
       "    <tr>\n",
       "      <th>273805</th>\n",
       "      <td>1112182</td>\n",
       "      <td>202304</td>\n",
       "      <td>84</td>\n",
       "      <td>3</td>\n",
       "      <td>2</td>\n",
       "      <td>6.0</td>\n",
       "    </tr>\n",
       "    <tr>\n",
       "      <th>284038</th>\n",
       "      <td>2845099</td>\n",
       "      <td>31189</td>\n",
       "      <td>11</td>\n",
       "      <td>3</td>\n",
       "      <td>2</td>\n",
       "      <td>7.0</td>\n",
       "    </tr>\n",
       "    <tr>\n",
       "      <th>311713</th>\n",
       "      <td>1021560</td>\n",
       "      <td>53767</td>\n",
       "      <td>3</td>\n",
       "      <td>3</td>\n",
       "      <td>2</td>\n",
       "      <td>9.0</td>\n",
       "    </tr>\n",
       "    <tr>\n",
       "      <th>321100</th>\n",
       "      <td>408114</td>\n",
       "      <td>68324</td>\n",
       "      <td>4</td>\n",
       "      <td>3</td>\n",
       "      <td>2</td>\n",
       "      <td>18.0</td>\n",
       "    </tr>\n",
       "    <tr>\n",
       "      <th>323900</th>\n",
       "      <td>1919531</td>\n",
       "      <td>191501</td>\n",
       "      <td>32</td>\n",
       "      <td>3</td>\n",
       "      <td>2</td>\n",
       "      <td>7.0</td>\n",
       "    </tr>\n",
       "    <tr>\n",
       "      <th>345917</th>\n",
       "      <td>2232988</td>\n",
       "      <td>82565</td>\n",
       "      <td>1</td>\n",
       "      <td>3</td>\n",
       "      <td>2</td>\n",
       "      <td>NaN</td>\n",
       "    </tr>\n",
       "    <tr>\n",
       "      <th>371905</th>\n",
       "      <td>391768</td>\n",
       "      <td>57671</td>\n",
       "      <td>19</td>\n",
       "      <td>3</td>\n",
       "      <td>2</td>\n",
       "      <td>10.0</td>\n",
       "    </tr>\n",
       "    <tr>\n",
       "      <th>394347</th>\n",
       "      <td>467134</td>\n",
       "      <td>63189</td>\n",
       "      <td>21</td>\n",
       "      <td>3</td>\n",
       "      <td>2</td>\n",
       "      <td>2.0</td>\n",
       "    </tr>\n",
       "    <tr>\n",
       "      <th>411408</th>\n",
       "      <td>1286742</td>\n",
       "      <td>183220</td>\n",
       "      <td>48</td>\n",
       "      <td>3</td>\n",
       "      <td>2</td>\n",
       "      <td>4.0</td>\n",
       "    </tr>\n",
       "    <tr>\n",
       "      <th>415163</th>\n",
       "      <td>2282673</td>\n",
       "      <td>86751</td>\n",
       "      <td>49</td>\n",
       "      <td>3</td>\n",
       "      <td>2</td>\n",
       "      <td>2.0</td>\n",
       "    </tr>\n",
       "    <tr>\n",
       "      <th>441599</th>\n",
       "      <td>2125197</td>\n",
       "      <td>14050</td>\n",
       "      <td>48</td>\n",
       "      <td>3</td>\n",
       "      <td>2</td>\n",
       "      <td>3.0</td>\n",
       "    </tr>\n",
       "  </tbody>\n",
       "</table>\n",
       "</div>"
      ],
      "text/plain": [
       "        order_id  user_id  order_number  order_dow  order_hour_of_day  \\\n",
       "145574    794638    50898            24          3                  2   \n",
       "223105   2160484   107525            16          3                  2   \n",
       "230807   1918001   188546            14          3                  2   \n",
       "266232   1782114   106752             1          3                  2   \n",
       "273805   1112182   202304            84          3                  2   \n",
       "284038   2845099    31189            11          3                  2   \n",
       "311713   1021560    53767             3          3                  2   \n",
       "321100    408114    68324             4          3                  2   \n",
       "323900   1919531   191501            32          3                  2   \n",
       "345917   2232988    82565             1          3                  2   \n",
       "371905    391768    57671            19          3                  2   \n",
       "394347    467134    63189            21          3                  2   \n",
       "411408   1286742   183220            48          3                  2   \n",
       "415163   2282673    86751            49          3                  2   \n",
       "441599   2125197    14050            48          3                  2   \n",
       "\n",
       "        days_since_prior_order  \n",
       "145574                     2.0  \n",
       "223105                    30.0  \n",
       "230807                    16.0  \n",
       "266232                     NaN  \n",
       "273805                     6.0  \n",
       "284038                     7.0  \n",
       "311713                     9.0  \n",
       "321100                    18.0  \n",
       "323900                     7.0  \n",
       "345917                     NaN  \n",
       "371905                    10.0  \n",
       "394347                     2.0  \n",
       "411408                     4.0  \n",
       "415163                     2.0  \n",
       "441599                     3.0  "
      ]
     },
     "execution_count": 10,
     "metadata": {},
     "output_type": "execute_result"
    }
   ],
   "source": [
    "orders[orders.duplicated(subset='order_id')]# Basándote en tus hallazgos,\n",
    "# Verifica todos los pedidos que se hicieron el miércoles a las 2:00 a.m.\n"
   ]
  },
  {
   "cell_type": "markdown",
   "id": "8b080169",
   "metadata": {},
   "source": [
    "<div class=\"alert alert-block alert-warning\">\n",
    "    <b>Comentario del revisor:</b> <a class=\"tocSkip\"></a>\n",
    "    \n",
    "Gran trabajo! Solamente te recomiendo hacer los filtros por las variables order_dow y order_hour_of_day\n",
    "</div>"
   ]
  },
  {
   "cell_type": "markdown",
   "id": "vu2OWyoqwOx5",
   "metadata": {
    "id": "vu2OWyoqwOx5"
   },
   "source": [
    "¿Qué sugiere este resultado? Los pedidos que se realizaron durante el miércoles a las 2:00 a.m. fueron registrados dos veces."
   ]
  },
  {
   "cell_type": "code",
   "execution_count": 11,
   "id": "480563c7",
   "metadata": {
    "id": "480563c7"
   },
   "outputs": [],
   "source": [
    "orders.drop_duplicates(subset='order_id', inplace=True)# Elimina los pedidos duplicados\n"
   ]
  },
  {
   "cell_type": "code",
   "execution_count": 12,
   "id": "0b2396a2",
   "metadata": {
    "id": "0b2396a2"
   },
   "outputs": [
    {
     "data": {
      "text/plain": [
       "0"
      ]
     },
     "execution_count": 12,
     "metadata": {},
     "output_type": "execute_result"
    }
   ],
   "source": [
    "orders.duplicated().sum()# Vuelve a verificar si hay filas duplicadas\n"
   ]
  },
  {
   "cell_type": "code",
   "execution_count": 13,
   "id": "f6113ef1",
   "metadata": {
    "id": "f6113ef1"
   },
   "outputs": [
    {
     "data": {
      "text/html": [
       "<div>\n",
       "<style scoped>\n",
       "    .dataframe tbody tr th:only-of-type {\n",
       "        vertical-align: middle;\n",
       "    }\n",
       "\n",
       "    .dataframe tbody tr th {\n",
       "        vertical-align: top;\n",
       "    }\n",
       "\n",
       "    .dataframe thead th {\n",
       "        text-align: right;\n",
       "    }\n",
       "</style>\n",
       "<table border=\"1\" class=\"dataframe\">\n",
       "  <thead>\n",
       "    <tr style=\"text-align: right;\">\n",
       "      <th></th>\n",
       "      <th>order_id</th>\n",
       "      <th>user_id</th>\n",
       "      <th>order_number</th>\n",
       "      <th>order_dow</th>\n",
       "      <th>order_hour_of_day</th>\n",
       "      <th>days_since_prior_order</th>\n",
       "    </tr>\n",
       "  </thead>\n",
       "  <tbody>\n",
       "  </tbody>\n",
       "</table>\n",
       "</div>"
      ],
      "text/plain": [
       "Empty DataFrame\n",
       "Columns: [order_id, user_id, order_number, order_dow, order_hour_of_day, days_since_prior_order]\n",
       "Index: []"
      ]
     },
     "execution_count": 13,
     "metadata": {},
     "output_type": "execute_result"
    }
   ],
   "source": [
    "orders[orders.duplicated(subset='order_id')]# Vuelve a verificar únicamente si hay IDs duplicados de pedidos\n"
   ]
  },
  {
   "cell_type": "markdown",
   "id": "5e8905ae",
   "metadata": {
    "id": "5e8905ae"
   },
   "source": [
    "Se comenzo buscando si había dudplicados en el dataframe de orders, en donde fueron encontrados 15, al analizarlos, se noto que lo que tenían en comun era la misma fecha con la misma hora, por lo que fueron analizados esos datos más a fondo, resultando que los pedidos de ese horario habían sido duplicados. \n",
    "Para lograr encontrar dichos duplicados se utiliz'o la función **dupliccated()** m'as la función **sum()** que nos permitio visualizar la cantidad de duplicados que habíaen nuestros datos, para poder tener una mejor visualización se solicitó en el código que filtrara y mostrara los datos duplicados **orders[orders.duplicated()]**.   \n",
    "Ya teniendo conocimiento de que los valores duplicados eran repeticiones de un mismo horario y que era información que sobraba se procedio a borrarlos, para esto, se utilizo la función**drop_duplicates(subset='order_id', inplace=True)** con el fin de borrar todos los duplicados correspondientes a la columna \"order_id\""
   ]
  },
  {
   "cell_type": "markdown",
   "id": "45e6bc46",
   "metadata": {
    "id": "45e6bc46"
   },
   "source": [
    "### `products` data frame"
   ]
  },
  {
   "cell_type": "code",
   "execution_count": 14,
   "id": "5f526b5b-8175-46fa-a0fd-441767d50e64",
   "metadata": {
    "id": "5f526b5b-8175-46fa-a0fd-441767d50e64"
   },
   "outputs": [
    {
     "data": {
      "text/plain": [
       "0"
      ]
     },
     "execution_count": 14,
     "metadata": {},
     "output_type": "execute_result"
    }
   ],
   "source": [
    "products.duplicated().sum()# Verifica si hay filas totalmente duplicadas\n"
   ]
  },
  {
   "cell_type": "code",
   "execution_count": 15,
   "id": "88daa4f4",
   "metadata": {
    "id": "88daa4f4"
   },
   "outputs": [
    {
     "data": {
      "text/html": [
       "<div>\n",
       "<style scoped>\n",
       "    .dataframe tbody tr th:only-of-type {\n",
       "        vertical-align: middle;\n",
       "    }\n",
       "\n",
       "    .dataframe tbody tr th {\n",
       "        vertical-align: top;\n",
       "    }\n",
       "\n",
       "    .dataframe thead th {\n",
       "        text-align: right;\n",
       "    }\n",
       "</style>\n",
       "<table border=\"1\" class=\"dataframe\">\n",
       "  <thead>\n",
       "    <tr style=\"text-align: right;\">\n",
       "      <th></th>\n",
       "      <th>product_id</th>\n",
       "      <th>product_name</th>\n",
       "      <th>aisle_id</th>\n",
       "      <th>department_id</th>\n",
       "    </tr>\n",
       "  </thead>\n",
       "  <tbody>\n",
       "  </tbody>\n",
       "</table>\n",
       "</div>"
      ],
      "text/plain": [
       "Empty DataFrame\n",
       "Columns: [product_id, product_name, aisle_id, department_id]\n",
       "Index: []"
      ]
     },
     "execution_count": 15,
     "metadata": {},
     "output_type": "execute_result"
    }
   ],
   "source": [
    "products[products.duplicated(subset='product_id')]# Revisa únicamente si hay ID de departamentos duplicados\n"
   ]
  },
  {
   "cell_type": "code",
   "execution_count": 16,
   "id": "c773f0bf",
   "metadata": {
    "id": "c773f0bf"
   },
   "outputs": [
    {
     "data": {
      "text/plain": [
       "1361"
      ]
     },
     "execution_count": 16,
     "metadata": {},
     "output_type": "execute_result"
    }
   ],
   "source": [
    "products['product_name'].str.lower().duplicated().sum()# Revisa únicamente si hay nombres duplicados de productos (convierte los nombres a letras mayúsculas para compararlos mejor)\n"
   ]
  },
  {
   "cell_type": "code",
   "execution_count": 17,
   "id": "01efd02e",
   "metadata": {
    "id": "01efd02e"
   },
   "outputs": [
    {
     "data": {
      "text/html": [
       "<div>\n",
       "<style scoped>\n",
       "    .dataframe tbody tr th:only-of-type {\n",
       "        vertical-align: middle;\n",
       "    }\n",
       "\n",
       "    .dataframe tbody tr th {\n",
       "        vertical-align: top;\n",
       "    }\n",
       "\n",
       "    .dataframe thead th {\n",
       "        text-align: right;\n",
       "    }\n",
       "</style>\n",
       "<table border=\"1\" class=\"dataframe\">\n",
       "  <thead>\n",
       "    <tr style=\"text-align: right;\">\n",
       "      <th></th>\n",
       "      <th>product_id</th>\n",
       "      <th>product_name</th>\n",
       "      <th>aisle_id</th>\n",
       "      <th>department_id</th>\n",
       "    </tr>\n",
       "  </thead>\n",
       "  <tbody>\n",
       "    <tr>\n",
       "      <th>2058</th>\n",
       "      <td>2059</td>\n",
       "      <td>Biotin 1000 Mcg</td>\n",
       "      <td>47</td>\n",
       "      <td>11</td>\n",
       "    </tr>\n",
       "    <tr>\n",
       "      <th>5455</th>\n",
       "      <td>5456</td>\n",
       "      <td>Green Tea With Ginseng and Honey</td>\n",
       "      <td>96</td>\n",
       "      <td>20</td>\n",
       "    </tr>\n",
       "    <tr>\n",
       "      <th>5558</th>\n",
       "      <td>5559</td>\n",
       "      <td>Cream Of Mushroom Soup</td>\n",
       "      <td>69</td>\n",
       "      <td>15</td>\n",
       "    </tr>\n",
       "    <tr>\n",
       "      <th>7558</th>\n",
       "      <td>7559</td>\n",
       "      <td>Cinnamon Rolls with Icing</td>\n",
       "      <td>105</td>\n",
       "      <td>13</td>\n",
       "    </tr>\n",
       "    <tr>\n",
       "      <th>9037</th>\n",
       "      <td>9038</td>\n",
       "      <td>American Cheese slices</td>\n",
       "      <td>21</td>\n",
       "      <td>16</td>\n",
       "    </tr>\n",
       "    <tr>\n",
       "      <th>...</th>\n",
       "      <td>...</td>\n",
       "      <td>...</td>\n",
       "      <td>...</td>\n",
       "      <td>...</td>\n",
       "    </tr>\n",
       "    <tr>\n",
       "      <th>49689</th>\n",
       "      <td>49690</td>\n",
       "      <td>HIGH PERFORMANCE ENERGY DRINK</td>\n",
       "      <td>64</td>\n",
       "      <td>7</td>\n",
       "    </tr>\n",
       "    <tr>\n",
       "      <th>49690</th>\n",
       "      <td>49691</td>\n",
       "      <td>ORIGINAL PANCAKE &amp; WAFFLE MIX</td>\n",
       "      <td>130</td>\n",
       "      <td>14</td>\n",
       "    </tr>\n",
       "    <tr>\n",
       "      <th>49691</th>\n",
       "      <td>49692</td>\n",
       "      <td>ORGANIC INSTANT OATMEAL LIGHT MAPLE BROWN SUGAR</td>\n",
       "      <td>130</td>\n",
       "      <td>14</td>\n",
       "    </tr>\n",
       "    <tr>\n",
       "      <th>49692</th>\n",
       "      <td>49693</td>\n",
       "      <td>SPRING WATER BODY WASH</td>\n",
       "      <td>127</td>\n",
       "      <td>11</td>\n",
       "    </tr>\n",
       "    <tr>\n",
       "      <th>49693</th>\n",
       "      <td>49694</td>\n",
       "      <td>BURRITO- STEAK &amp; CHEESE</td>\n",
       "      <td>38</td>\n",
       "      <td>1</td>\n",
       "    </tr>\n",
       "  </tbody>\n",
       "</table>\n",
       "<p>104 rows × 4 columns</p>\n",
       "</div>"
      ],
      "text/plain": [
       "       product_id                                     product_name  aisle_id  \\\n",
       "2058         2059                                  Biotin 1000 Mcg        47   \n",
       "5455         5456                 Green Tea With Ginseng and Honey        96   \n",
       "5558         5559                           Cream Of Mushroom Soup        69   \n",
       "7558         7559                        Cinnamon Rolls with Icing       105   \n",
       "9037         9038                           American Cheese slices        21   \n",
       "...           ...                                              ...       ...   \n",
       "49689       49690                    HIGH PERFORMANCE ENERGY DRINK        64   \n",
       "49690       49691                    ORIGINAL PANCAKE & WAFFLE MIX       130   \n",
       "49691       49692  ORGANIC INSTANT OATMEAL LIGHT MAPLE BROWN SUGAR       130   \n",
       "49692       49693                           SPRING WATER BODY WASH       127   \n",
       "49693       49694                          BURRITO- STEAK & CHEESE        38   \n",
       "\n",
       "       department_id  \n",
       "2058              11  \n",
       "5455              20  \n",
       "5558              15  \n",
       "7558              13  \n",
       "9037              16  \n",
       "...              ...  \n",
       "49689              7  \n",
       "49690             14  \n",
       "49691             14  \n",
       "49692             11  \n",
       "49693              1  \n",
       "\n",
       "[104 rows x 4 columns]"
      ]
     },
     "execution_count": 17,
     "metadata": {},
     "output_type": "execute_result"
    }
   ],
   "source": [
    "products[(~products['product_name'].isna()) &(products['product_name'].str.lower().duplicated())]# Revisa si hay nombres duplicados de productos no faltantes\n"
   ]
  },
  {
   "cell_type": "markdown",
   "id": "9da8d293",
   "metadata": {
    "id": "9da8d293"
   },
   "source": [
    "Se realizó un chequeo general de duplicados en donde no se reporto ninguna fila como duplicada, pero al ser un data frame de products, se realizo una prueba enfocada en la columna \"product_name\" donde volví todos los nombres en minuscula, y al correr la prueba de duplicados aparecieron 1361 duplicados (unicamente por el nombre) esto paso debido a que no se homogenizo el como escribir el nombre del producto que provoco más variantes, las cuales fueron localizadas al pasar todo en un solo formato al utilizar la función **str.lower().duplicated()**.\n",
    "\n",
    "debido a que no se necesita tener como duplicados a valores ausentes, se realizo un filtrado que trajera los valores no ausentes y que siguieran la regla de homogenizar todos los nombres a minusculas para realizar el conteo de los duplicados, utilizando el siguiente codigo: **products[(~products['product_name'].isna()) &(products['product_name'].str.lower().duplicated())]** mostrando únicamente 104 duplicados."
   ]
  },
  {
   "cell_type": "markdown",
   "id": "83664561",
   "metadata": {},
   "source": [
    "\n",
    "<div class=\"alert alert-block alert-success\">\n",
    "<b>Comentario del revisor</b> <a class=\"tocSkip\"></a>\n",
    "\n",
    "Muy buen trabajo!! Desarrollaste de manera excelente el análisis de duplicados. Para complementar el análisis, qué podríamos decir de estos 104 productos duplicados? \n",
    "    \n",
    "</div>"
   ]
  },
  {
   "cell_type": "markdown",
   "id": "60f30db1",
   "metadata": {
    "id": "60f30db1"
   },
   "source": [
    "### `departments` data frame"
   ]
  },
  {
   "cell_type": "code",
   "execution_count": 18,
   "id": "fb410ad4-0fbf-4b80-bb09-23fdea79afe3",
   "metadata": {
    "id": "fb410ad4-0fbf-4b80-bb09-23fdea79afe3"
   },
   "outputs": [
    {
     "data": {
      "text/plain": [
       "0"
      ]
     },
     "execution_count": 18,
     "metadata": {},
     "output_type": "execute_result"
    }
   ],
   "source": [
    "departments.duplicated().sum()# Revisa si hay filas totalmente duplicadas"
   ]
  },
  {
   "cell_type": "code",
   "execution_count": 19,
   "id": "2709bb53",
   "metadata": {},
   "outputs": [
    {
     "data": {
      "text/html": [
       "<div>\n",
       "<style scoped>\n",
       "    .dataframe tbody tr th:only-of-type {\n",
       "        vertical-align: middle;\n",
       "    }\n",
       "\n",
       "    .dataframe tbody tr th {\n",
       "        vertical-align: top;\n",
       "    }\n",
       "\n",
       "    .dataframe thead th {\n",
       "        text-align: right;\n",
       "    }\n",
       "</style>\n",
       "<table border=\"1\" class=\"dataframe\">\n",
       "  <thead>\n",
       "    <tr style=\"text-align: right;\">\n",
       "      <th></th>\n",
       "      <th>department_id</th>\n",
       "      <th>department</th>\n",
       "    </tr>\n",
       "  </thead>\n",
       "  <tbody>\n",
       "    <tr>\n",
       "      <th>0</th>\n",
       "      <td>1</td>\n",
       "      <td>frozen</td>\n",
       "    </tr>\n",
       "    <tr>\n",
       "      <th>1</th>\n",
       "      <td>2</td>\n",
       "      <td>other</td>\n",
       "    </tr>\n",
       "    <tr>\n",
       "      <th>2</th>\n",
       "      <td>3</td>\n",
       "      <td>bakery</td>\n",
       "    </tr>\n",
       "    <tr>\n",
       "      <th>3</th>\n",
       "      <td>4</td>\n",
       "      <td>produce</td>\n",
       "    </tr>\n",
       "    <tr>\n",
       "      <th>4</th>\n",
       "      <td>5</td>\n",
       "      <td>alcohol</td>\n",
       "    </tr>\n",
       "  </tbody>\n",
       "</table>\n",
       "</div>"
      ],
      "text/plain": [
       "   department_id department\n",
       "0              1     frozen\n",
       "1              2      other\n",
       "2              3     bakery\n",
       "3              4    produce\n",
       "4              5    alcohol"
      ]
     },
     "execution_count": 19,
     "metadata": {},
     "output_type": "execute_result"
    }
   ],
   "source": [
    "departments.head()"
   ]
  },
  {
   "cell_type": "code",
   "execution_count": 20,
   "id": "332b12bb",
   "metadata": {
    "id": "332b12bb"
   },
   "outputs": [
    {
     "data": {
      "text/html": [
       "<div>\n",
       "<style scoped>\n",
       "    .dataframe tbody tr th:only-of-type {\n",
       "        vertical-align: middle;\n",
       "    }\n",
       "\n",
       "    .dataframe tbody tr th {\n",
       "        vertical-align: top;\n",
       "    }\n",
       "\n",
       "    .dataframe thead th {\n",
       "        text-align: right;\n",
       "    }\n",
       "</style>\n",
       "<table border=\"1\" class=\"dataframe\">\n",
       "  <thead>\n",
       "    <tr style=\"text-align: right;\">\n",
       "      <th></th>\n",
       "      <th>department_id</th>\n",
       "      <th>department</th>\n",
       "    </tr>\n",
       "  </thead>\n",
       "  <tbody>\n",
       "  </tbody>\n",
       "</table>\n",
       "</div>"
      ],
      "text/plain": [
       "Empty DataFrame\n",
       "Columns: [department_id, department]\n",
       "Index: []"
      ]
     },
     "execution_count": 20,
     "metadata": {},
     "output_type": "execute_result"
    }
   ],
   "source": [
    "departments[departments['department'].str.lower().duplicated()]# Revisa únicamente si hay IDs duplicadas de productos"
   ]
  },
  {
   "cell_type": "markdown",
   "id": "bd30d78e",
   "metadata": {
    "id": "bd30d78e"
   },
   "source": [
    "Describe brevemente tus hallazgos y lo que hiciste con ellos. No se encontro duplicados en este data frame, para poder descartar errores provenientes al formato de escritura se transformo toda la columna para poder buscar duplicados."
   ]
  },
  {
   "cell_type": "markdown",
   "id": "889349c1",
   "metadata": {
    "id": "889349c1"
   },
   "source": [
    "### `aisles` data frame"
   ]
  },
  {
   "cell_type": "code",
   "execution_count": 21,
   "id": "9da89fb9-4679-40f5-ad0d-c34df753a3f8",
   "metadata": {
    "id": "9da89fb9-4679-40f5-ad0d-c34df753a3f8"
   },
   "outputs": [
    {
     "data": {
      "text/plain": [
       "0"
      ]
     },
     "execution_count": 21,
     "metadata": {},
     "output_type": "execute_result"
    }
   ],
   "source": [
    "aisles.duplicated().sum()# Revisa si hay filas totalmente duplicadas"
   ]
  },
  {
   "cell_type": "code",
   "execution_count": 22,
   "id": "5315a014",
   "metadata": {},
   "outputs": [
    {
     "data": {
      "text/html": [
       "<div>\n",
       "<style scoped>\n",
       "    .dataframe tbody tr th:only-of-type {\n",
       "        vertical-align: middle;\n",
       "    }\n",
       "\n",
       "    .dataframe tbody tr th {\n",
       "        vertical-align: top;\n",
       "    }\n",
       "\n",
       "    .dataframe thead th {\n",
       "        text-align: right;\n",
       "    }\n",
       "</style>\n",
       "<table border=\"1\" class=\"dataframe\">\n",
       "  <thead>\n",
       "    <tr style=\"text-align: right;\">\n",
       "      <th></th>\n",
       "      <th>aisle_id</th>\n",
       "      <th>aisle</th>\n",
       "    </tr>\n",
       "  </thead>\n",
       "  <tbody>\n",
       "    <tr>\n",
       "      <th>0</th>\n",
       "      <td>1</td>\n",
       "      <td>prepared soups salads</td>\n",
       "    </tr>\n",
       "    <tr>\n",
       "      <th>1</th>\n",
       "      <td>2</td>\n",
       "      <td>specialty cheeses</td>\n",
       "    </tr>\n",
       "    <tr>\n",
       "      <th>2</th>\n",
       "      <td>3</td>\n",
       "      <td>energy granola bars</td>\n",
       "    </tr>\n",
       "    <tr>\n",
       "      <th>3</th>\n",
       "      <td>4</td>\n",
       "      <td>instant foods</td>\n",
       "    </tr>\n",
       "    <tr>\n",
       "      <th>4</th>\n",
       "      <td>5</td>\n",
       "      <td>marinades meat preparation</td>\n",
       "    </tr>\n",
       "  </tbody>\n",
       "</table>\n",
       "</div>"
      ],
      "text/plain": [
       "   aisle_id                       aisle\n",
       "0         1       prepared soups salads\n",
       "1         2           specialty cheeses\n",
       "2         3         energy granola bars\n",
       "3         4               instant foods\n",
       "4         5  marinades meat preparation"
      ]
     },
     "execution_count": 22,
     "metadata": {},
     "output_type": "execute_result"
    }
   ],
   "source": [
    "aisles.head()"
   ]
  },
  {
   "cell_type": "code",
   "execution_count": 23,
   "id": "da7c2822",
   "metadata": {
    "id": "da7c2822"
   },
   "outputs": [
    {
     "data": {
      "text/html": [
       "<div>\n",
       "<style scoped>\n",
       "    .dataframe tbody tr th:only-of-type {\n",
       "        vertical-align: middle;\n",
       "    }\n",
       "\n",
       "    .dataframe tbody tr th {\n",
       "        vertical-align: top;\n",
       "    }\n",
       "\n",
       "    .dataframe thead th {\n",
       "        text-align: right;\n",
       "    }\n",
       "</style>\n",
       "<table border=\"1\" class=\"dataframe\">\n",
       "  <thead>\n",
       "    <tr style=\"text-align: right;\">\n",
       "      <th></th>\n",
       "      <th>aisle_id</th>\n",
       "      <th>aisle</th>\n",
       "    </tr>\n",
       "  </thead>\n",
       "  <tbody>\n",
       "  </tbody>\n",
       "</table>\n",
       "</div>"
      ],
      "text/plain": [
       "Empty DataFrame\n",
       "Columns: [aisle_id, aisle]\n",
       "Index: []"
      ]
     },
     "execution_count": 23,
     "metadata": {},
     "output_type": "execute_result"
    }
   ],
   "source": [
    "aisles[aisles['aisle'].str.lower().duplicated()]# Revisa únicamente si hay IDs duplicadas de productos"
   ]
  },
  {
   "cell_type": "markdown",
   "id": "ac63826f",
   "metadata": {
    "id": "ac63826f"
   },
   "source": [
    "Describe brevemente tus hallazgos y lo que hiciste con ellos.No se encontro duplicados en este data frame"
   ]
  },
  {
   "cell_type": "markdown",
   "id": "274cd06a",
   "metadata": {
    "id": "274cd06a"
   },
   "source": [
    "### `order_products` data frame"
   ]
  },
  {
   "cell_type": "code",
   "execution_count": 24,
   "id": "52326689-84a8-4b8f-a881-7c68780f62c9",
   "metadata": {
    "id": "52326689-84a8-4b8f-a881-7c68780f62c9"
   },
   "outputs": [
    {
     "data": {
      "text/plain": [
       "0"
      ]
     },
     "execution_count": 24,
     "metadata": {},
     "output_type": "execute_result"
    }
   ],
   "source": [
    "order_products.duplicated().sum()# Revisa si hay filas totalmente duplicadas\n"
   ]
  },
  {
   "cell_type": "code",
   "execution_count": 25,
   "id": "7b861391",
   "metadata": {
    "id": "7b861391"
   },
   "outputs": [
    {
     "data": {
      "text/plain": [
       "0"
      ]
     },
     "execution_count": 25,
     "metadata": {},
     "output_type": "execute_result"
    }
   ],
   "source": [
    "order_products.duplicated(subset=['order_id','product_id']).sum()# Vuelve a verificar si hay cualquier otro duplicado engañoso\n"
   ]
  },
  {
   "cell_type": "markdown",
   "id": "0b890492",
   "metadata": {
    "id": "0b890492"
   },
   "source": [
    "Describe brevemente tus hallazgos y lo que hiciste con ellos.No se encontro duplicados en este data frame"
   ]
  },
  {
   "cell_type": "markdown",
   "id": "1e46de76",
   "metadata": {
    "id": "1e46de76"
   },
   "source": [
    "## Encuentra y elimina los valores ausentes\n",
    "\n",
    "Al trabajar con valores duplicados, pudimos observar que también nos falta investigar valores ausentes:\n",
    "\n",
    "* La columna `'product_name'` de la tabla products.\n",
    "* La columna `'days_since_prior_order'` de la tabla orders.\n",
    "* La columna `'add_to_cart_order'` de la tabla order_productos."
   ]
  },
  {
   "cell_type": "markdown",
   "id": "c0aebd78",
   "metadata": {
    "id": "c0aebd78"
   },
   "source": [
    "### `products` data frame"
   ]
  },
  {
   "cell_type": "code",
   "execution_count": 26,
   "id": "fe4a8b0f",
   "metadata": {
    "id": "fe4a8b0f"
   },
   "outputs": [
    {
     "data": {
      "text/plain": [
       "product_id          0\n",
       "product_name     1258\n",
       "aisle_id            0\n",
       "department_id       0\n",
       "dtype: int64"
      ]
     },
     "execution_count": 26,
     "metadata": {},
     "output_type": "execute_result"
    }
   ],
   "source": [
    "products.isna().sum()# Encuentra los valores ausentes en la columna 'product_name'"
   ]
  },
  {
   "cell_type": "code",
   "execution_count": 27,
   "id": "217899b7",
   "metadata": {},
   "outputs": [
    {
     "data": {
      "text/html": [
       "<div>\n",
       "<style scoped>\n",
       "    .dataframe tbody tr th:only-of-type {\n",
       "        vertical-align: middle;\n",
       "    }\n",
       "\n",
       "    .dataframe tbody tr th {\n",
       "        vertical-align: top;\n",
       "    }\n",
       "\n",
       "    .dataframe thead th {\n",
       "        text-align: right;\n",
       "    }\n",
       "</style>\n",
       "<table border=\"1\" class=\"dataframe\">\n",
       "  <thead>\n",
       "    <tr style=\"text-align: right;\">\n",
       "      <th></th>\n",
       "      <th>product_id</th>\n",
       "      <th>product_name</th>\n",
       "      <th>aisle_id</th>\n",
       "      <th>department_id</th>\n",
       "    </tr>\n",
       "  </thead>\n",
       "  <tbody>\n",
       "    <tr>\n",
       "      <th>37</th>\n",
       "      <td>38</td>\n",
       "      <td>NaN</td>\n",
       "      <td>100</td>\n",
       "      <td>21</td>\n",
       "    </tr>\n",
       "    <tr>\n",
       "      <th>71</th>\n",
       "      <td>72</td>\n",
       "      <td>NaN</td>\n",
       "      <td>100</td>\n",
       "      <td>21</td>\n",
       "    </tr>\n",
       "    <tr>\n",
       "      <th>109</th>\n",
       "      <td>110</td>\n",
       "      <td>NaN</td>\n",
       "      <td>100</td>\n",
       "      <td>21</td>\n",
       "    </tr>\n",
       "    <tr>\n",
       "      <th>296</th>\n",
       "      <td>297</td>\n",
       "      <td>NaN</td>\n",
       "      <td>100</td>\n",
       "      <td>21</td>\n",
       "    </tr>\n",
       "    <tr>\n",
       "      <th>416</th>\n",
       "      <td>417</td>\n",
       "      <td>NaN</td>\n",
       "      <td>100</td>\n",
       "      <td>21</td>\n",
       "    </tr>\n",
       "    <tr>\n",
       "      <th>...</th>\n",
       "      <td>...</td>\n",
       "      <td>...</td>\n",
       "      <td>...</td>\n",
       "      <td>...</td>\n",
       "    </tr>\n",
       "    <tr>\n",
       "      <th>49552</th>\n",
       "      <td>49553</td>\n",
       "      <td>NaN</td>\n",
       "      <td>100</td>\n",
       "      <td>21</td>\n",
       "    </tr>\n",
       "    <tr>\n",
       "      <th>49574</th>\n",
       "      <td>49575</td>\n",
       "      <td>NaN</td>\n",
       "      <td>100</td>\n",
       "      <td>21</td>\n",
       "    </tr>\n",
       "    <tr>\n",
       "      <th>49640</th>\n",
       "      <td>49641</td>\n",
       "      <td>NaN</td>\n",
       "      <td>100</td>\n",
       "      <td>21</td>\n",
       "    </tr>\n",
       "    <tr>\n",
       "      <th>49663</th>\n",
       "      <td>49664</td>\n",
       "      <td>NaN</td>\n",
       "      <td>100</td>\n",
       "      <td>21</td>\n",
       "    </tr>\n",
       "    <tr>\n",
       "      <th>49668</th>\n",
       "      <td>49669</td>\n",
       "      <td>NaN</td>\n",
       "      <td>100</td>\n",
       "      <td>21</td>\n",
       "    </tr>\n",
       "  </tbody>\n",
       "</table>\n",
       "<p>1258 rows × 4 columns</p>\n",
       "</div>"
      ],
      "text/plain": [
       "       product_id product_name  aisle_id  department_id\n",
       "37             38          NaN       100             21\n",
       "71             72          NaN       100             21\n",
       "109           110          NaN       100             21\n",
       "296           297          NaN       100             21\n",
       "416           417          NaN       100             21\n",
       "...           ...          ...       ...            ...\n",
       "49552       49553          NaN       100             21\n",
       "49574       49575          NaN       100             21\n",
       "49640       49641          NaN       100             21\n",
       "49663       49664          NaN       100             21\n",
       "49668       49669          NaN       100             21\n",
       "\n",
       "[1258 rows x 4 columns]"
      ]
     },
     "execution_count": 27,
     "metadata": {},
     "output_type": "execute_result"
    }
   ],
   "source": [
    "products[products['product_name'].isna()]"
   ]
  },
  {
   "cell_type": "markdown",
   "id": "-A6x1AbJhjkp",
   "metadata": {
    "id": "-A6x1AbJhjkp"
   },
   "source": [
    "Describe brevemente cuáles son tus hallazgos. Al buscar los valores ausentes en el data frame de products, con la fucnión **.isna()**, unicamente la columna  \"product_name\" tiene valores ausentes, siendo un total de 1258, por lo que se pidio mostrar una tabla de estos valores ausentes, notamos a primera vista que el \"aisle_id\" y el \"department_id\" parecen ser siempre el mismo teniendo los valores de 100 y 21 respectivamente, por lo que solicitamos un filtro para ambos casos en donde mostrara los valores de la columna de \"product_name\" donde fueran ausente **Y** que la columna \"aisle_id\" y \"department_id\" **No** contuvieran los valores 100 y 21. \n",
    "\n"
   ]
  },
  {
   "cell_type": "code",
   "execution_count": 28,
   "id": "e96167bc",
   "metadata": {
    "id": "e96167bc"
   },
   "outputs": [
    {
     "data": {
      "text/html": [
       "<div>\n",
       "<style scoped>\n",
       "    .dataframe tbody tr th:only-of-type {\n",
       "        vertical-align: middle;\n",
       "    }\n",
       "\n",
       "    .dataframe tbody tr th {\n",
       "        vertical-align: top;\n",
       "    }\n",
       "\n",
       "    .dataframe thead th {\n",
       "        text-align: right;\n",
       "    }\n",
       "</style>\n",
       "<table border=\"1\" class=\"dataframe\">\n",
       "  <thead>\n",
       "    <tr style=\"text-align: right;\">\n",
       "      <th></th>\n",
       "      <th>product_id</th>\n",
       "      <th>product_name</th>\n",
       "      <th>aisle_id</th>\n",
       "      <th>department_id</th>\n",
       "    </tr>\n",
       "  </thead>\n",
       "  <tbody>\n",
       "  </tbody>\n",
       "</table>\n",
       "</div>"
      ],
      "text/plain": [
       "Empty DataFrame\n",
       "Columns: [product_id, product_name, aisle_id, department_id]\n",
       "Index: []"
      ]
     },
     "execution_count": 28,
     "metadata": {},
     "output_type": "execute_result"
    }
   ],
   "source": [
    "products[(products['product_name'].isna()) & (products['aisle_id']!=100)]#  ¿Todos los nombres de productos ausentes están relacionados con el pasillo con ID 100?\n"
   ]
  },
  {
   "cell_type": "markdown",
   "id": "WRpIfXRphpSL",
   "metadata": {
    "id": "WRpIfXRphpSL"
   },
   "source": [
    " No se encontraron m'as valores ausentes que no pertenecieran al pasillo con id 100"
   ]
  },
  {
   "cell_type": "code",
   "execution_count": 29,
   "id": "8fd0a541",
   "metadata": {
    "id": "8fd0a541"
   },
   "outputs": [
    {
     "data": {
      "text/html": [
       "<div>\n",
       "<style scoped>\n",
       "    .dataframe tbody tr th:only-of-type {\n",
       "        vertical-align: middle;\n",
       "    }\n",
       "\n",
       "    .dataframe tbody tr th {\n",
       "        vertical-align: top;\n",
       "    }\n",
       "\n",
       "    .dataframe thead th {\n",
       "        text-align: right;\n",
       "    }\n",
       "</style>\n",
       "<table border=\"1\" class=\"dataframe\">\n",
       "  <thead>\n",
       "    <tr style=\"text-align: right;\">\n",
       "      <th></th>\n",
       "      <th>product_id</th>\n",
       "      <th>product_name</th>\n",
       "      <th>aisle_id</th>\n",
       "      <th>department_id</th>\n",
       "    </tr>\n",
       "  </thead>\n",
       "  <tbody>\n",
       "  </tbody>\n",
       "</table>\n",
       "</div>"
      ],
      "text/plain": [
       "Empty DataFrame\n",
       "Columns: [product_id, product_name, aisle_id, department_id]\n",
       "Index: []"
      ]
     },
     "execution_count": 29,
     "metadata": {},
     "output_type": "execute_result"
    }
   ],
   "source": [
    "products[(products['product_name'].isna()) & (products['department_id']!=21)]# ¿Todos los nombres de productos ausentes están relacionados con el departamento con ID 21?\n"
   ]
  },
  {
   "cell_type": "markdown",
   "id": "qDpdYn1Fht_I",
   "metadata": {
    "id": "qDpdYn1Fht_I"
   },
   "source": [
    " No se encontraron más valores ausentes que no pertenecieran al departamentocon id 21.\n",
    " Parece ser un caso aislado a esa isla y a ese departamento, un error que dejo valores ausentes en la columna product_name. "
   ]
  },
  {
   "cell_type": "code",
   "execution_count": 30,
   "id": "325c3464",
   "metadata": {
    "id": "325c3464"
   },
   "outputs": [
    {
     "data": {
      "text/html": [
       "<div>\n",
       "<style scoped>\n",
       "    .dataframe tbody tr th:only-of-type {\n",
       "        vertical-align: middle;\n",
       "    }\n",
       "\n",
       "    .dataframe tbody tr th {\n",
       "        vertical-align: top;\n",
       "    }\n",
       "\n",
       "    .dataframe thead th {\n",
       "        text-align: right;\n",
       "    }\n",
       "</style>\n",
       "<table border=\"1\" class=\"dataframe\">\n",
       "  <thead>\n",
       "    <tr style=\"text-align: right;\">\n",
       "      <th></th>\n",
       "      <th>department_id</th>\n",
       "      <th>department</th>\n",
       "    </tr>\n",
       "  </thead>\n",
       "  <tbody>\n",
       "    <tr>\n",
       "      <th>20</th>\n",
       "      <td>21</td>\n",
       "      <td>missing</td>\n",
       "    </tr>\n",
       "  </tbody>\n",
       "</table>\n",
       "</div>"
      ],
      "text/plain": [
       "    department_id department\n",
       "20             21    missing"
      ]
     },
     "execution_count": 30,
     "metadata": {},
     "output_type": "execute_result"
    }
   ],
   "source": [
    "departments[(departments['department_id'] == 21)]\n",
    "# Usa las tablas department y aisle para revisar los datos del pasillo con ID 100 y el departamento con ID 21.\n"
   ]
  },
  {
   "cell_type": "code",
   "execution_count": 31,
   "id": "05876b02",
   "metadata": {},
   "outputs": [
    {
     "data": {
      "text/html": [
       "<div>\n",
       "<style scoped>\n",
       "    .dataframe tbody tr th:only-of-type {\n",
       "        vertical-align: middle;\n",
       "    }\n",
       "\n",
       "    .dataframe tbody tr th {\n",
       "        vertical-align: top;\n",
       "    }\n",
       "\n",
       "    .dataframe thead th {\n",
       "        text-align: right;\n",
       "    }\n",
       "</style>\n",
       "<table border=\"1\" class=\"dataframe\">\n",
       "  <thead>\n",
       "    <tr style=\"text-align: right;\">\n",
       "      <th></th>\n",
       "      <th>aisle_id</th>\n",
       "      <th>aisle</th>\n",
       "    </tr>\n",
       "  </thead>\n",
       "  <tbody>\n",
       "    <tr>\n",
       "      <th>99</th>\n",
       "      <td>100</td>\n",
       "      <td>missing</td>\n",
       "    </tr>\n",
       "  </tbody>\n",
       "</table>\n",
       "</div>"
      ],
      "text/plain": [
       "    aisle_id    aisle\n",
       "99       100  missing"
      ]
     },
     "execution_count": 31,
     "metadata": {},
     "output_type": "execute_result"
    }
   ],
   "source": [
    "aisles[(aisles['aisle_id']== 100)]"
   ]
  },
  {
   "cell_type": "markdown",
   "id": "nqhSTUPhhvEJ",
   "metadata": {
    "id": "nqhSTUPhhvEJ"
   },
   "source": [
    "Parece que el departamento y la isla son desconosidos, ya que ambos estan como desaparecidas."
   ]
  },
  {
   "cell_type": "code",
   "execution_count": 32,
   "id": "6b295120",
   "metadata": {
    "id": "6b295120"
   },
   "outputs": [],
   "source": [
    "products['product_name'].fillna('Unknown', inplace=True)# Completa los nombres de productos ausentes con 'Unknown'\n"
   ]
  },
  {
   "cell_type": "code",
   "execution_count": 33,
   "id": "6f5c48b2",
   "metadata": {},
   "outputs": [
    {
     "data": {
      "text/html": [
       "<div>\n",
       "<style scoped>\n",
       "    .dataframe tbody tr th:only-of-type {\n",
       "        vertical-align: middle;\n",
       "    }\n",
       "\n",
       "    .dataframe tbody tr th {\n",
       "        vertical-align: top;\n",
       "    }\n",
       "\n",
       "    .dataframe thead th {\n",
       "        text-align: right;\n",
       "    }\n",
       "</style>\n",
       "<table border=\"1\" class=\"dataframe\">\n",
       "  <thead>\n",
       "    <tr style=\"text-align: right;\">\n",
       "      <th></th>\n",
       "      <th>product_id</th>\n",
       "      <th>product_name</th>\n",
       "      <th>aisle_id</th>\n",
       "      <th>department_id</th>\n",
       "    </tr>\n",
       "  </thead>\n",
       "  <tbody>\n",
       "    <tr>\n",
       "      <th>37</th>\n",
       "      <td>38</td>\n",
       "      <td>Unknown</td>\n",
       "      <td>100</td>\n",
       "      <td>21</td>\n",
       "    </tr>\n",
       "    <tr>\n",
       "      <th>71</th>\n",
       "      <td>72</td>\n",
       "      <td>Unknown</td>\n",
       "      <td>100</td>\n",
       "      <td>21</td>\n",
       "    </tr>\n",
       "    <tr>\n",
       "      <th>109</th>\n",
       "      <td>110</td>\n",
       "      <td>Unknown</td>\n",
       "      <td>100</td>\n",
       "      <td>21</td>\n",
       "    </tr>\n",
       "    <tr>\n",
       "      <th>296</th>\n",
       "      <td>297</td>\n",
       "      <td>Unknown</td>\n",
       "      <td>100</td>\n",
       "      <td>21</td>\n",
       "    </tr>\n",
       "    <tr>\n",
       "      <th>416</th>\n",
       "      <td>417</td>\n",
       "      <td>Unknown</td>\n",
       "      <td>100</td>\n",
       "      <td>21</td>\n",
       "    </tr>\n",
       "    <tr>\n",
       "      <th>...</th>\n",
       "      <td>...</td>\n",
       "      <td>...</td>\n",
       "      <td>...</td>\n",
       "      <td>...</td>\n",
       "    </tr>\n",
       "    <tr>\n",
       "      <th>49552</th>\n",
       "      <td>49553</td>\n",
       "      <td>Unknown</td>\n",
       "      <td>100</td>\n",
       "      <td>21</td>\n",
       "    </tr>\n",
       "    <tr>\n",
       "      <th>49574</th>\n",
       "      <td>49575</td>\n",
       "      <td>Unknown</td>\n",
       "      <td>100</td>\n",
       "      <td>21</td>\n",
       "    </tr>\n",
       "    <tr>\n",
       "      <th>49640</th>\n",
       "      <td>49641</td>\n",
       "      <td>Unknown</td>\n",
       "      <td>100</td>\n",
       "      <td>21</td>\n",
       "    </tr>\n",
       "    <tr>\n",
       "      <th>49663</th>\n",
       "      <td>49664</td>\n",
       "      <td>Unknown</td>\n",
       "      <td>100</td>\n",
       "      <td>21</td>\n",
       "    </tr>\n",
       "    <tr>\n",
       "      <th>49668</th>\n",
       "      <td>49669</td>\n",
       "      <td>Unknown</td>\n",
       "      <td>100</td>\n",
       "      <td>21</td>\n",
       "    </tr>\n",
       "  </tbody>\n",
       "</table>\n",
       "<p>1258 rows × 4 columns</p>\n",
       "</div>"
      ],
      "text/plain": [
       "       product_id product_name  aisle_id  department_id\n",
       "37             38      Unknown       100             21\n",
       "71             72      Unknown       100             21\n",
       "109           110      Unknown       100             21\n",
       "296           297      Unknown       100             21\n",
       "416           417      Unknown       100             21\n",
       "...           ...          ...       ...            ...\n",
       "49552       49553      Unknown       100             21\n",
       "49574       49575      Unknown       100             21\n",
       "49640       49641      Unknown       100             21\n",
       "49663       49664      Unknown       100             21\n",
       "49668       49669      Unknown       100             21\n",
       "\n",
       "[1258 rows x 4 columns]"
      ]
     },
     "execution_count": 33,
     "metadata": {},
     "output_type": "execute_result"
    }
   ],
   "source": [
    "products[(products['product_name'] == 'Unknown')]"
   ]
  },
  {
   "cell_type": "code",
   "execution_count": 34,
   "id": "d13ac764",
   "metadata": {},
   "outputs": [
    {
     "data": {
      "text/plain": [
       "product_id       0\n",
       "product_name     0\n",
       "aisle_id         0\n",
       "department_id    0\n",
       "dtype: int64"
      ]
     },
     "execution_count": 34,
     "metadata": {},
     "output_type": "execute_result"
    }
   ],
   "source": [
    "products.isna().sum()"
   ]
  },
  {
   "cell_type": "markdown",
   "id": "fc70e5ad",
   "metadata": {
    "id": "fc70e5ad"
   },
   "source": [
    "Ya que sabemos que el valor ausente pertenece unicamente a la isla 100 del departamento 21 y al no tener otra pista de los nombres, lo rellenamos como \"Unknown\", ya que son productos de los que tampoco sabemos de que área provienen."
   ]
  },
  {
   "cell_type": "markdown",
   "id": "088a088d",
   "metadata": {},
   "source": [
    "<div class=\"alert alert-block alert-success\">\n",
    "<b>Comentario del revisor</b> <a class=\"tocSkip\"></a>\n",
    "\n",
    "Muy buen trabajo!! Desarrollaste de manera excelente el análisis de valores faltantes y los llenaste con \"unknown\".\n",
    "    \n",
    "</div>"
   ]
  },
  {
   "cell_type": "markdown",
   "id": "7eb45c86",
   "metadata": {
    "id": "7eb45c86"
   },
   "source": [
    "### `orders` data frame"
   ]
  },
  {
   "cell_type": "code",
   "execution_count": 35,
   "id": "93e41d96",
   "metadata": {
    "id": "93e41d96"
   },
   "outputs": [
    {
     "data": {
      "text/plain": [
       "order_id                      0\n",
       "user_id                       0\n",
       "order_number                  0\n",
       "order_dow                     0\n",
       "order_hour_of_day             0\n",
       "days_since_prior_order    28817\n",
       "dtype: int64"
      ]
     },
     "execution_count": 35,
     "metadata": {},
     "output_type": "execute_result"
    }
   ],
   "source": [
    "orders.isna().sum()# Encuentra los valores ausentes"
   ]
  },
  {
   "cell_type": "code",
   "execution_count": 36,
   "id": "166e5a86",
   "metadata": {
    "id": "166e5a86"
   },
   "outputs": [
    {
     "data": {
      "text/html": [
       "<div>\n",
       "<style scoped>\n",
       "    .dataframe tbody tr th:only-of-type {\n",
       "        vertical-align: middle;\n",
       "    }\n",
       "\n",
       "    .dataframe tbody tr th {\n",
       "        vertical-align: top;\n",
       "    }\n",
       "\n",
       "    .dataframe thead th {\n",
       "        text-align: right;\n",
       "    }\n",
       "</style>\n",
       "<table border=\"1\" class=\"dataframe\">\n",
       "  <thead>\n",
       "    <tr style=\"text-align: right;\">\n",
       "      <th></th>\n",
       "      <th>order_id</th>\n",
       "      <th>user_id</th>\n",
       "      <th>order_number</th>\n",
       "      <th>order_dow</th>\n",
       "      <th>order_hour_of_day</th>\n",
       "      <th>days_since_prior_order</th>\n",
       "    </tr>\n",
       "  </thead>\n",
       "  <tbody>\n",
       "    <tr>\n",
       "      <th>28</th>\n",
       "      <td>133707</td>\n",
       "      <td>182261</td>\n",
       "      <td>1</td>\n",
       "      <td>3</td>\n",
       "      <td>10</td>\n",
       "      <td>NaN</td>\n",
       "    </tr>\n",
       "    <tr>\n",
       "      <th>96</th>\n",
       "      <td>787445</td>\n",
       "      <td>25685</td>\n",
       "      <td>1</td>\n",
       "      <td>6</td>\n",
       "      <td>18</td>\n",
       "      <td>NaN</td>\n",
       "    </tr>\n",
       "    <tr>\n",
       "      <th>100</th>\n",
       "      <td>294410</td>\n",
       "      <td>111449</td>\n",
       "      <td>1</td>\n",
       "      <td>0</td>\n",
       "      <td>19</td>\n",
       "      <td>NaN</td>\n",
       "    </tr>\n",
       "    <tr>\n",
       "      <th>103</th>\n",
       "      <td>2869915</td>\n",
       "      <td>123958</td>\n",
       "      <td>1</td>\n",
       "      <td>4</td>\n",
       "      <td>16</td>\n",
       "      <td>NaN</td>\n",
       "    </tr>\n",
       "    <tr>\n",
       "      <th>104</th>\n",
       "      <td>2521921</td>\n",
       "      <td>42286</td>\n",
       "      <td>1</td>\n",
       "      <td>3</td>\n",
       "      <td>18</td>\n",
       "      <td>NaN</td>\n",
       "    </tr>\n",
       "    <tr>\n",
       "      <th>...</th>\n",
       "      <td>...</td>\n",
       "      <td>...</td>\n",
       "      <td>...</td>\n",
       "      <td>...</td>\n",
       "      <td>...</td>\n",
       "      <td>...</td>\n",
       "    </tr>\n",
       "    <tr>\n",
       "      <th>478895</th>\n",
       "      <td>2589657</td>\n",
       "      <td>205028</td>\n",
       "      <td>1</td>\n",
       "      <td>0</td>\n",
       "      <td>16</td>\n",
       "      <td>NaN</td>\n",
       "    </tr>\n",
       "    <tr>\n",
       "      <th>478896</th>\n",
       "      <td>2222353</td>\n",
       "      <td>141211</td>\n",
       "      <td>1</td>\n",
       "      <td>2</td>\n",
       "      <td>13</td>\n",
       "      <td>NaN</td>\n",
       "    </tr>\n",
       "    <tr>\n",
       "      <th>478922</th>\n",
       "      <td>2272807</td>\n",
       "      <td>204154</td>\n",
       "      <td>1</td>\n",
       "      <td>1</td>\n",
       "      <td>15</td>\n",
       "      <td>NaN</td>\n",
       "    </tr>\n",
       "    <tr>\n",
       "      <th>478926</th>\n",
       "      <td>2499542</td>\n",
       "      <td>68810</td>\n",
       "      <td>1</td>\n",
       "      <td>4</td>\n",
       "      <td>19</td>\n",
       "      <td>NaN</td>\n",
       "    </tr>\n",
       "    <tr>\n",
       "      <th>478945</th>\n",
       "      <td>1387033</td>\n",
       "      <td>22496</td>\n",
       "      <td>1</td>\n",
       "      <td>5</td>\n",
       "      <td>14</td>\n",
       "      <td>NaN</td>\n",
       "    </tr>\n",
       "  </tbody>\n",
       "</table>\n",
       "<p>28817 rows × 6 columns</p>\n",
       "</div>"
      ],
      "text/plain": [
       "        order_id  user_id  order_number  order_dow  order_hour_of_day  \\\n",
       "28        133707   182261             1          3                 10   \n",
       "96        787445    25685             1          6                 18   \n",
       "100       294410   111449             1          0                 19   \n",
       "103      2869915   123958             1          4                 16   \n",
       "104      2521921    42286             1          3                 18   \n",
       "...          ...      ...           ...        ...                ...   \n",
       "478895   2589657   205028             1          0                 16   \n",
       "478896   2222353   141211             1          2                 13   \n",
       "478922   2272807   204154             1          1                 15   \n",
       "478926   2499542    68810             1          4                 19   \n",
       "478945   1387033    22496             1          5                 14   \n",
       "\n",
       "        days_since_prior_order  \n",
       "28                         NaN  \n",
       "96                         NaN  \n",
       "100                        NaN  \n",
       "103                        NaN  \n",
       "104                        NaN  \n",
       "...                        ...  \n",
       "478895                     NaN  \n",
       "478896                     NaN  \n",
       "478922                     NaN  \n",
       "478926                     NaN  \n",
       "478945                     NaN  \n",
       "\n",
       "[28817 rows x 6 columns]"
      ]
     },
     "execution_count": 36,
     "metadata": {},
     "output_type": "execute_result"
    }
   ],
   "source": [
    "orders[(orders['days_since_prior_order'].isna()==1) & (orders['order_number']==1)]# ¿Hay algún valor ausente que no sea el primer pedido del cliente?\n"
   ]
  },
  {
   "cell_type": "code",
   "execution_count": 37,
   "id": "12d0136b",
   "metadata": {},
   "outputs": [],
   "source": [
    "orders.fillna('0', inplace=True)"
   ]
  },
  {
   "cell_type": "code",
   "execution_count": 38,
   "id": "de0bec2f",
   "metadata": {},
   "outputs": [
    {
     "data": {
      "text/plain": [
       "order_id                  0\n",
       "user_id                   0\n",
       "order_number              0\n",
       "order_dow                 0\n",
       "order_hour_of_day         0\n",
       "days_since_prior_order    0\n",
       "dtype: int64"
      ]
     },
     "execution_count": 38,
     "metadata": {},
     "output_type": "execute_result"
    }
   ],
   "source": [
    "orders.isna().sum()"
   ]
  },
  {
   "cell_type": "markdown",
   "id": "4e23d089",
   "metadata": {
    "id": "4e23d089"
   },
   "source": [
    "Describe brevemente tus hallazgos y lo que hiciste con ellos. Al revisar los valores ausentes del date frame de orders, nos salio que únicamente la columna de \"days_since_prior_order\" contenia valores ausentes, siendo un total de  28817, antes de proceder a realizarles un cambio, se tenía que saber porque esos valores eran ausentes, para esto, la unica manera en la que se justificaria que no hubiera valores ahí es si el usuario no hubiera ordenado con anterioridad y esta fuera su primera vez, se necesito realizar un filtro con condiciones en el que se mostrara la información en donde \"days_since_prior_order\" tuviera valores ausentes **Y** la columna de \"order_number\" fuera **igual** a 1. El resultado mostro 28817 filas! las mismas que nuestra cantidad de valores ausentes, por lo que estos valores no existen debido a que es la primera compra del usuario, sabiendo esto, para darle una explicacion a estos valores nulos se replazo el \"NaN\" por \"0\"."
   ]
  },
  {
   "cell_type": "markdown",
   "id": "69dc9ca4",
   "metadata": {
    "id": "69dc9ca4"
   },
   "source": [
    "### `order_products` data frame"
   ]
  },
  {
   "cell_type": "code",
   "execution_count": 39,
   "id": "b8240253",
   "metadata": {
    "id": "b8240253"
   },
   "outputs": [
    {
     "data": {
      "text/plain": [
       "order_id               0\n",
       "product_id             0\n",
       "add_to_cart_order    836\n",
       "reordered              0\n",
       "dtype: int64"
      ]
     },
     "execution_count": 39,
     "metadata": {},
     "output_type": "execute_result"
    }
   ],
   "source": [
    "order_products.isna().sum()# Encuentra los valores ausentes"
   ]
  },
  {
   "cell_type": "code",
   "execution_count": 40,
   "id": "5f5267c9",
   "metadata": {},
   "outputs": [
    {
     "data": {
      "text/html": [
       "<div>\n",
       "<style scoped>\n",
       "    .dataframe tbody tr th:only-of-type {\n",
       "        vertical-align: middle;\n",
       "    }\n",
       "\n",
       "    .dataframe tbody tr th {\n",
       "        vertical-align: top;\n",
       "    }\n",
       "\n",
       "    .dataframe thead th {\n",
       "        text-align: right;\n",
       "    }\n",
       "</style>\n",
       "<table border=\"1\" class=\"dataframe\">\n",
       "  <thead>\n",
       "    <tr style=\"text-align: right;\">\n",
       "      <th></th>\n",
       "      <th>order_id</th>\n",
       "      <th>product_id</th>\n",
       "      <th>add_to_cart_order</th>\n",
       "      <th>reordered</th>\n",
       "    </tr>\n",
       "  </thead>\n",
       "  <tbody>\n",
       "    <tr>\n",
       "      <th>737</th>\n",
       "      <td>2449164</td>\n",
       "      <td>5068</td>\n",
       "      <td>NaN</td>\n",
       "      <td>0</td>\n",
       "    </tr>\n",
       "    <tr>\n",
       "      <th>9926</th>\n",
       "      <td>1968313</td>\n",
       "      <td>43867</td>\n",
       "      <td>NaN</td>\n",
       "      <td>0</td>\n",
       "    </tr>\n",
       "    <tr>\n",
       "      <th>14394</th>\n",
       "      <td>2926893</td>\n",
       "      <td>11688</td>\n",
       "      <td>NaN</td>\n",
       "      <td>0</td>\n",
       "    </tr>\n",
       "    <tr>\n",
       "      <th>16418</th>\n",
       "      <td>1717990</td>\n",
       "      <td>4142</td>\n",
       "      <td>NaN</td>\n",
       "      <td>0</td>\n",
       "    </tr>\n",
       "    <tr>\n",
       "      <th>30114</th>\n",
       "      <td>1959075</td>\n",
       "      <td>42828</td>\n",
       "      <td>NaN</td>\n",
       "      <td>1</td>\n",
       "    </tr>\n",
       "    <tr>\n",
       "      <th>...</th>\n",
       "      <td>...</td>\n",
       "      <td>...</td>\n",
       "      <td>...</td>\n",
       "      <td>...</td>\n",
       "    </tr>\n",
       "    <tr>\n",
       "      <th>4505662</th>\n",
       "      <td>1800005</td>\n",
       "      <td>7411</td>\n",
       "      <td>NaN</td>\n",
       "      <td>0</td>\n",
       "    </tr>\n",
       "    <tr>\n",
       "      <th>4511400</th>\n",
       "      <td>1633337</td>\n",
       "      <td>260</td>\n",
       "      <td>NaN</td>\n",
       "      <td>0</td>\n",
       "    </tr>\n",
       "    <tr>\n",
       "      <th>4517562</th>\n",
       "      <td>404157</td>\n",
       "      <td>9517</td>\n",
       "      <td>NaN</td>\n",
       "      <td>0</td>\n",
       "    </tr>\n",
       "    <tr>\n",
       "      <th>4534112</th>\n",
       "      <td>1673227</td>\n",
       "      <td>17835</td>\n",
       "      <td>NaN</td>\n",
       "      <td>0</td>\n",
       "    </tr>\n",
       "    <tr>\n",
       "      <th>4535739</th>\n",
       "      <td>1832957</td>\n",
       "      <td>17949</td>\n",
       "      <td>NaN</td>\n",
       "      <td>1</td>\n",
       "    </tr>\n",
       "  </tbody>\n",
       "</table>\n",
       "<p>836 rows × 4 columns</p>\n",
       "</div>"
      ],
      "text/plain": [
       "         order_id  product_id  add_to_cart_order  reordered\n",
       "737       2449164        5068                NaN          0\n",
       "9926      1968313       43867                NaN          0\n",
       "14394     2926893       11688                NaN          0\n",
       "16418     1717990        4142                NaN          0\n",
       "30114     1959075       42828                NaN          1\n",
       "...           ...         ...                ...        ...\n",
       "4505662   1800005        7411                NaN          0\n",
       "4511400   1633337         260                NaN          0\n",
       "4517562    404157        9517                NaN          0\n",
       "4534112   1673227       17835                NaN          0\n",
       "4535739   1832957       17949                NaN          1\n",
       "\n",
       "[836 rows x 4 columns]"
      ]
     },
     "execution_count": 40,
     "metadata": {},
     "output_type": "execute_result"
    }
   ],
   "source": [
    "order_products[order_products['add_to_cart_order'].isna()]"
   ]
  },
  {
   "cell_type": "code",
   "execution_count": 41,
   "id": "9a78e5ee",
   "metadata": {
    "id": "9a78e5ee"
   },
   "outputs": [
    {
     "data": {
      "text/plain": [
       "1.0"
      ]
     },
     "execution_count": 41,
     "metadata": {},
     "output_type": "execute_result"
    }
   ],
   "source": [
    "order_products['add_to_cart_order'].min()# ¿Cuáles son los valores mínimos y máximos en esta columna?\n"
   ]
  },
  {
   "cell_type": "code",
   "execution_count": 42,
   "id": "2c7a1902",
   "metadata": {},
   "outputs": [
    {
     "data": {
      "text/plain": [
       "64.0"
      ]
     },
     "execution_count": 42,
     "metadata": {},
     "output_type": "execute_result"
    }
   ],
   "source": [
    "order_products['add_to_cart_order'].max()"
   ]
  },
  {
   "cell_type": "markdown",
   "id": "-Z2Ja215jW78",
   "metadata": {
    "id": "-Z2Ja215jW78"
   },
   "source": [
    "Se encontro un total de 836 valores ausentes en la columna de \"add_to_cart_order \". El minimo de articulos que se pueden colocar en el carrito es de 1, mientra que el maximo  fue de 64, un gran número de productos"
   ]
  },
  {
   "cell_type": "code",
   "execution_count": 43,
   "id": "abfe2c85",
   "metadata": {},
   "outputs": [
    {
     "data": {
      "text/html": [
       "<div>\n",
       "<style scoped>\n",
       "    .dataframe tbody tr th:only-of-type {\n",
       "        vertical-align: middle;\n",
       "    }\n",
       "\n",
       "    .dataframe tbody tr th {\n",
       "        vertical-align: top;\n",
       "    }\n",
       "\n",
       "    .dataframe thead th {\n",
       "        text-align: right;\n",
       "    }\n",
       "</style>\n",
       "<table border=\"1\" class=\"dataframe\">\n",
       "  <thead>\n",
       "    <tr style=\"text-align: right;\">\n",
       "      <th></th>\n",
       "      <th>order_id</th>\n",
       "      <th>product_id</th>\n",
       "      <th>add_to_cart_order</th>\n",
       "      <th>reordered</th>\n",
       "    </tr>\n",
       "  </thead>\n",
       "  <tbody>\n",
       "    <tr>\n",
       "      <th>0</th>\n",
       "      <td>2141543</td>\n",
       "      <td>11440</td>\n",
       "      <td>17.0</td>\n",
       "      <td>0</td>\n",
       "    </tr>\n",
       "    <tr>\n",
       "      <th>1</th>\n",
       "      <td>567889</td>\n",
       "      <td>1560</td>\n",
       "      <td>1.0</td>\n",
       "      <td>1</td>\n",
       "    </tr>\n",
       "    <tr>\n",
       "      <th>2</th>\n",
       "      <td>2261212</td>\n",
       "      <td>26683</td>\n",
       "      <td>1.0</td>\n",
       "      <td>1</td>\n",
       "    </tr>\n",
       "    <tr>\n",
       "      <th>3</th>\n",
       "      <td>491251</td>\n",
       "      <td>8670</td>\n",
       "      <td>35.0</td>\n",
       "      <td>1</td>\n",
       "    </tr>\n",
       "    <tr>\n",
       "      <th>4</th>\n",
       "      <td>2571142</td>\n",
       "      <td>1940</td>\n",
       "      <td>5.0</td>\n",
       "      <td>1</td>\n",
       "    </tr>\n",
       "  </tbody>\n",
       "</table>\n",
       "</div>"
      ],
      "text/plain": [
       "   order_id  product_id  add_to_cart_order  reordered\n",
       "0   2141543       11440               17.0          0\n",
       "1    567889        1560                1.0          1\n",
       "2   2261212       26683                1.0          1\n",
       "3    491251        8670               35.0          1\n",
       "4   2571142        1940                5.0          1"
      ]
     },
     "execution_count": 43,
     "metadata": {},
     "output_type": "execute_result"
    }
   ],
   "source": [
    "order_products.head()"
   ]
  },
  {
   "cell_type": "code",
   "execution_count": 44,
   "id": "ab9d0c2b",
   "metadata": {
    "id": "ab9d0c2b"
   },
   "outputs": [
    {
     "data": {
      "text/plain": [
       "[9310,\n",
       " 61355,\n",
       " 102236,\n",
       " 129627,\n",
       " 165801,\n",
       " 171934,\n",
       " 180546,\n",
       " 264710,\n",
       " 293169,\n",
       " 388234,\n",
       " 404157,\n",
       " 678116,\n",
       " 733526,\n",
       " 747668,\n",
       " 813364,\n",
       " 844733,\n",
       " 854647,\n",
       " 871281,\n",
       " 888470,\n",
       " 903110,\n",
       " 936852,\n",
       " 1021563,\n",
       " 1038146,\n",
       " 1169835,\n",
       " 1183255,\n",
       " 1220886,\n",
       " 1302315,\n",
       " 1308785,\n",
       " 1386261,\n",
       " 1477139,\n",
       " 1529171,\n",
       " 1564093,\n",
       " 1598369,\n",
       " 1625713,\n",
       " 1633337,\n",
       " 1648217,\n",
       " 1673227,\n",
       " 1677118,\n",
       " 1713430,\n",
       " 1717990,\n",
       " 1730767,\n",
       " 1800005,\n",
       " 1832957,\n",
       " 1888628,\n",
       " 1916118,\n",
       " 1959075,\n",
       " 1961723,\n",
       " 1968313,\n",
       " 2094761,\n",
       " 2136777,\n",
       " 2170451,\n",
       " 2256933,\n",
       " 2409109,\n",
       " 2449164,\n",
       " 2470674,\n",
       " 2479011,\n",
       " 2621907,\n",
       " 2625444,\n",
       " 2652650,\n",
       " 2721963,\n",
       " 2729254,\n",
       " 2849370,\n",
       " 2926893,\n",
       " 2979697,\n",
       " 2997021,\n",
       " 2999801,\n",
       " 3125735,\n",
       " 3308010,\n",
       " 3347453,\n",
       " 3383594]"
      ]
     },
     "execution_count": 44,
     "metadata": {},
     "output_type": "execute_result"
    }
   ],
   "source": [
    "order_id_nan = order_products[order_products['add_to_cart_order'].isna()]['order_id'].unique()# Guarda todas las IDs de pedidos que tengan un valor ausente en 'add_to_cart_order'\n",
    "order_id_nan = sorted(list(order_id_nan))\n",
    "order_id_nan"
   ]
  },
  {
   "cell_type": "code",
   "execution_count": 45,
   "id": "54c31695",
   "metadata": {
    "id": "54c31695"
   },
   "outputs": [
    {
     "data": {
      "text/plain": [
       "order_id\n",
       "3421079      1\n",
       "1288686      1\n",
       "1288764      1\n",
       "1288825      1\n",
       "1288873      1\n",
       "          ... \n",
       "1959075     98\n",
       "171934     104\n",
       "2136777    108\n",
       "3308010    115\n",
       "61355      127\n",
       "Name: product_id, Length: 450046, dtype: int64"
      ]
     },
     "execution_count": 45,
     "metadata": {},
     "output_type": "execute_result"
    }
   ],
   "source": [
    "order_products.groupby('order_id')['product_id'].count().sort_values()# ¿Todos los pedidos con valores ausentes tienen más de 64 productos?\n",
    "# Agrupa todos los pedidos con datos ausentes por su ID de pedido.\n",
    "# Cuenta el número de 'product_id' en cada pedido y revisa el valor mínimo del conteo.\n"
   ]
  },
  {
   "cell_type": "code",
   "execution_count": 46,
   "id": "046b4cf8",
   "metadata": {},
   "outputs": [
    {
     "data": {
      "text/plain": [
       "order_id\n",
       "9310        65\n",
       "747668      65\n",
       "1598369     65\n",
       "1677118     65\n",
       "2170451     65\n",
       "          ... \n",
       "1959075     98\n",
       "171934     104\n",
       "2136777    108\n",
       "3308010    115\n",
       "61355      127\n",
       "Name: product_id, Length: 70, dtype: int64"
      ]
     },
     "execution_count": 46,
     "metadata": {},
     "output_type": "execute_result"
    }
   ],
   "source": [
    "order_products[order_products['order_id'].isin(order_id_nan)].groupby('order_id')['product_id'].count().sort_values()"
   ]
  },
  {
   "cell_type": "code",
   "execution_count": 112,
   "id": "638f98fa",
   "metadata": {},
   "outputs": [
    {
     "data": {
      "text/plain": [
       "70"
      ]
     },
     "execution_count": 112,
     "metadata": {},
     "output_type": "execute_result"
    }
   ],
   "source": [
    "len(order_id_nan)"
   ]
  },
  {
   "cell_type": "markdown",
   "id": "p9V6pddtjglj",
   "metadata": {
    "id": "p9V6pddtjglj"
   },
   "source": [
    "Describe brevemente cuáles son tus hallazgos."
   ]
  },
  {
   "cell_type": "code",
   "execution_count": 48,
   "id": "7a987d08",
   "metadata": {
    "id": "7a987d08"
   },
   "outputs": [],
   "source": [
    "order_products['add_to_cart_order']=order_products['add_to_cart_order'].fillna(999).astype('int')# Remplaza los valores ausentes en la columna 'add_to_cart? con 999 y convierte la columna al tipo entero.\n"
   ]
  },
  {
   "cell_type": "code",
   "execution_count": 49,
   "id": "1432c1e2",
   "metadata": {},
   "outputs": [
    {
     "data": {
      "text/plain": [
       "order_id             0\n",
       "product_id           0\n",
       "add_to_cart_order    0\n",
       "reordered            0\n",
       "dtype: int64"
      ]
     },
     "execution_count": 49,
     "metadata": {},
     "output_type": "execute_result"
    }
   ],
   "source": [
    "order_products.isna().sum()"
   ]
  },
  {
   "cell_type": "markdown",
   "id": "fea4bcc7",
   "metadata": {
    "id": "fea4bcc7"
   },
   "source": [
    "Por fin el data frame de order_products ya no tiene valores ausentes."
   ]
  },
  {
   "cell_type": "markdown",
   "id": "345cb96f",
   "metadata": {},
   "source": [
    "<div class=\"alert alert-block alert-warning\">\n",
    "<b>Comentario revisor</b> <a class=\"tocSkip\"></a>\n",
    "\n",
    "\n",
    "Muy buena conclusión de esta base. Pero qué podríamos decir de los pedidos que tienen más de 64 productos?\n",
    "</div>"
   ]
  },
  {
   "cell_type": "markdown",
   "id": "RnplPFY1gSrb",
   "metadata": {
    "id": "RnplPFY1gSrb"
   },
   "source": [
    "## Conclusiones\n",
    "Después de verificar y analizar nuestros datos en cuanto a valores duplicados y ausentes, se logro tratarlos para poder hacer el analisis de datos. \n",
    "\n",
    "En general los valores duplicados fueron error al llenar el data frame, puede ser un error humano, es normal que pase. \n",
    "En cuanto a los valores ausentes, había razones para que algunos datos no contuvieran valores, por lo que al buscar estos valores se logro justificar y tratar los valores NaN para evitar que nos causaran algun tipo de error al querer correr nuestros datos.\n"
   ]
  },
  {
   "cell_type": "markdown",
   "id": "UjrOIwTcz3ri",
   "metadata": {
    "id": "UjrOIwTcz3ri"
   },
   "source": [
    "# Paso 3. Análisis de los datos\n",
    "\n",
    "Una vez los datos estén procesados y listos, haz el siguiente análisis:"
   ]
  },
  {
   "cell_type": "markdown",
   "id": "turkish-kidney",
   "metadata": {
    "id": "turkish-kidney"
   },
   "source": [
    "# [A] Fácil (deben completarse todos para aprobar)\n",
    "\n",
    "1. Verifica que los valores en las columnas `'order_hour_of_day'` y `'order_dow'` en la tabla orders sean razonables (es decir, `'order_hour_of_day'` oscile entre 0 y 23 y `'order_dow'` oscile entre 0 y 6).\n",
    "2. Crea un gráfico que muestre el número de personas que hacen pedidos dependiendo de la hora del día.\n",
    "3. Crea un gráfico que muestre qué día de la semana la gente hace sus compras.\n",
    "4. Crea un gráfico que muestre el tiempo que la gente espera hasta hacer su siguiente pedido, y comenta sobre los valores mínimos y máximos."
   ]
  },
  {
   "cell_type": "markdown",
   "id": "short-capability",
   "metadata": {
    "id": "short-capability"
   },
   "source": [
    "### [A1] Verifica que los valores sean sensibles"
   ]
  },
  {
   "cell_type": "code",
   "execution_count": 50,
   "id": "growing-fruit",
   "metadata": {
    "id": "growing-fruit"
   },
   "outputs": [
    {
     "name": "stdout",
     "output_type": "stream",
     "text": [
      "<class 'pandas.core.frame.DataFrame'>\n",
      "Int64Index: 478952 entries, 0 to 478966\n",
      "Data columns (total 6 columns):\n",
      " #   Column                  Non-Null Count   Dtype \n",
      "---  ------                  --------------   ----- \n",
      " 0   order_id                478952 non-null  int64 \n",
      " 1   user_id                 478952 non-null  int64 \n",
      " 2   order_number            478952 non-null  int64 \n",
      " 3   order_dow               478952 non-null  int64 \n",
      " 4   order_hour_of_day       478952 non-null  int64 \n",
      " 5   days_since_prior_order  478952 non-null  object\n",
      "dtypes: int64(5), object(1)\n",
      "memory usage: 25.6+ MB\n"
     ]
    }
   ],
   "source": [
    "orders.info()"
   ]
  },
  {
   "cell_type": "code",
   "execution_count": 51,
   "id": "ad54308e",
   "metadata": {},
   "outputs": [
    {
     "data": {
      "text/plain": [
       "0      3180\n",
       "1      1763\n",
       "2       989\n",
       "3       770\n",
       "4       765\n",
       "5      1371\n",
       "6      4215\n",
       "7     13043\n",
       "8     25024\n",
       "9     35896\n",
       "10    40578\n",
       "11    40032\n",
       "12    38034\n",
       "13    39007\n",
       "14    39631\n",
       "15    39789\n",
       "16    38112\n",
       "17    31930\n",
       "18    25510\n",
       "19    19547\n",
       "20    14624\n",
       "21    11019\n",
       "22     8512\n",
       "23     5611\n",
       "Name: order_hour_of_day, dtype: int64"
      ]
     },
     "execution_count": 51,
     "metadata": {},
     "output_type": "execute_result"
    }
   ],
   "source": [
    "orders['order_hour_of_day'].value_counts().sort_index()"
   ]
  },
  {
   "cell_type": "code",
   "execution_count": 113,
   "id": "accessory-malaysia",
   "metadata": {
    "id": "accessory-malaysia"
   },
   "outputs": [],
   "source": [
    "compras_hora_del_día= orders['order_hour_of_day'].value_counts().sort_index()"
   ]
  },
  {
   "cell_type": "code",
   "execution_count": 114,
   "id": "e2dc6654",
   "metadata": {},
   "outputs": [
    {
     "data": {
      "text/plain": [
       "0    84090\n",
       "1    82185\n",
       "2    65833\n",
       "3    60897\n",
       "4    59810\n",
       "5    63488\n",
       "6    62649\n",
       "Name: order_dow, dtype: int64"
      ]
     },
     "execution_count": 114,
     "metadata": {},
     "output_type": "execute_result"
    }
   ],
   "source": [
    "orders['order_dow'].value_counts().sort_index()"
   ]
  },
  {
   "cell_type": "code",
   "execution_count": 115,
   "id": "781fa5dd",
   "metadata": {},
   "outputs": [],
   "source": [
    "compras_día_de_la_semana = orders['order_dow'].value_counts().sort_index()"
   ]
  },
  {
   "cell_type": "markdown",
   "id": "hmR2GNQ6lCsX",
   "metadata": {
    "id": "hmR2GNQ6lCsX"
   },
   "source": [
    "Los valores se encuentran bien, en cuanto a la columna de \"'order_hour_of_day\", sus valores van enumerados del 0 hasta el 23, representando las horas del día. Mientras que en la columna de 'order_hour_of_day', los valores van desde el 0 al 6, representando un día entre semana empezando desde el dí 0 que es domingo al 6 siendo el sábado. "
   ]
  },
  {
   "cell_type": "markdown",
   "id": "a6743a70",
   "metadata": {
    "id": "a6743a70"
   },
   "source": [
    "### [A2] Para cada hora del día, ¿cuántas personas hacen órdenes?"
   ]
  },
  {
   "cell_type": "code",
   "execution_count": 55,
   "id": "a36cca27",
   "metadata": {
    "id": "a36cca27"
   },
   "outputs": [],
   "source": [
    "import matplotlib.pyplot as plt"
   ]
  },
  {
   "cell_type": "code",
   "execution_count": 56,
   "id": "a334250b",
   "metadata": {},
   "outputs": [
    {
     "data": {
      "image/png": "[encoded data removed]",
      "text/plain": [
       "<Figure size 640x480 with 1 Axes>"
      ]
     },
     "metadata": {},
     "output_type": "display_data"
    }
   ],
   "source": [
    "compras_hora_del_día.plot(kind='bar', title='Ordenes por hora del día', xlabel ='Hora del día', ylabel='Número de ordenes')\n",
    "plt.show()"
   ]
  },
  {
   "cell_type": "markdown",
   "id": "11270eed",
   "metadata": {
    "id": "11270eed"
   },
   "source": [
    "Como se puede observar en la grafica, el horario en donde realizan más pedidos es a las 10:00 am, llegando a las 4,000 ordenes, hay una gran demanda de ordenes entre las 10:00 am hasta las 15:00, después, la demanda baja y es mucho menor en la madrugada."
   ]
  },
  {
   "cell_type": "markdown",
   "id": "43a86352",
   "metadata": {},
   "source": [
    "<div class=\"alert alert-block alert-success\">\n",
    "<b>Comentario revisor</b> <a class=\"tocSkip\"></a>\n",
    "\n",
    "\n",
    "Muy buen trabajo el desarrollar una gráfica para visualizar los resultados\n",
    "</div>"
   ]
  },
  {
   "cell_type": "markdown",
   "id": "documented-command",
   "metadata": {
    "id": "documented-command"
   },
   "source": [
    "### [A3] ¿Qué día de la semana compran víveres las personas?"
   ]
  },
  {
   "cell_type": "code",
   "execution_count": 57,
   "id": "feddf644",
   "metadata": {},
   "outputs": [
    {
     "data": {
      "text/plain": [
       "order_dow\n",
       "0    84090\n",
       "1    82185\n",
       "2    65833\n",
       "3    60897\n",
       "4    59810\n",
       "5    63488\n",
       "6    62649\n",
       "Name: order_id, dtype: int64"
      ]
     },
     "execution_count": 57,
     "metadata": {},
     "output_type": "execute_result"
    }
   ],
   "source": [
    "orders.groupby('order_dow')['order_id'].count().sort_index()"
   ]
  },
  {
   "cell_type": "code",
   "execution_count": 117,
   "id": "chief-digit",
   "metadata": {
    "id": "chief-digit"
   },
   "outputs": [
    {
     "data": {
      "image/png": "[encoded data removed]",
      "text/plain": [
       "<Figure size 640x480 with 1 Axes>"
      ]
     },
     "metadata": {},
     "output_type": "display_data"
    }
   ],
   "source": [
    "compras_día_de_la_semana.plot(kind='bar', title= 'Compra en los días de la semana', xlabel='día de la semana', ylabel = 'Número de ordenes')\n",
    "plt.show()"
   ]
  },
  {
   "cell_type": "markdown",
   "id": "dominant-lightning",
   "metadata": {
    "id": "dominant-lightning"
   },
   "source": [
    "Como se puede observar el día domingo y lunes, es cuando los clientes hacen mucho más ordenes ya que sobrepasan las 8,0000 ordenes, sera por ser el inicio de semana? \n",
    "los demás días se comportan muy similares entre si, rondando entre las 60,000 ordenes."
   ]
  },
  {
   "cell_type": "markdown",
   "id": "cutting-concert",
   "metadata": {
    "id": "cutting-concert"
   },
   "source": [
    "### [A4] ¿Cuánto tiempo esperan las personas hasta hacer otro pedido? Comenta sobre los valores mínimos y máximos."
   ]
  },
  {
   "cell_type": "code",
   "execution_count": 59,
   "id": "91e3118b",
   "metadata": {},
   "outputs": [],
   "source": [
    "orders['days_since_prior_order']=orders['days_since_prior_order'].astype('int')"
   ]
  },
  {
   "cell_type": "code",
   "execution_count": 60,
   "id": "4f6a9123",
   "metadata": {},
   "outputs": [
    {
     "name": "stdout",
     "output_type": "stream",
     "text": [
      "<class 'pandas.core.frame.DataFrame'>\n",
      "Int64Index: 478952 entries, 0 to 478966\n",
      "Data columns (total 6 columns):\n",
      " #   Column                  Non-Null Count   Dtype\n",
      "---  ------                  --------------   -----\n",
      " 0   order_id                478952 non-null  int64\n",
      " 1   user_id                 478952 non-null  int64\n",
      " 2   order_number            478952 non-null  int64\n",
      " 3   order_dow               478952 non-null  int64\n",
      " 4   order_hour_of_day       478952 non-null  int64\n",
      " 5   days_since_prior_order  478952 non-null  int64\n",
      "dtypes: int64(6)\n",
      "memory usage: 25.6 MB\n"
     ]
    }
   ],
   "source": [
    "orders.info()"
   ]
  },
  {
   "cell_type": "code",
   "execution_count": 61,
   "id": "8e0d9fae",
   "metadata": {},
   "outputs": [
    {
     "data": {
      "text/plain": [
       "count    478952.000000\n",
       "mean         10.433853\n",
       "std           9.292153\n",
       "min           0.000000\n",
       "25%           4.000000\n",
       "50%           7.000000\n",
       "75%          15.000000\n",
       "max          30.000000\n",
       "Name: days_since_prior_order, dtype: float64"
      ]
     },
     "execution_count": 61,
     "metadata": {},
     "output_type": "execute_result"
    }
   ],
   "source": [
    "orders['days_since_prior_order'].describe()"
   ]
  },
  {
   "cell_type": "code",
   "execution_count": 62,
   "id": "43fc27e4",
   "metadata": {},
   "outputs": [],
   "source": [
    "tiempo_de_espera = orders['days_since_prior_order'].value_counts().sort_index()"
   ]
  },
  {
   "cell_type": "code",
   "execution_count": 63,
   "id": "b7878595",
   "metadata": {},
   "outputs": [
    {
     "data": {
      "image/png": "[encoded data removed]",
      "text/plain": [
       "<Figure size 640x480 with 1 Axes>"
      ]
     },
     "metadata": {},
     "output_type": "display_data"
    }
   ],
   "source": [
    "tiempo_de_espera.plot(kind='bar', title ='Tiempo de espera hasta el siguiente pedido', xlabel = 'Número de días hasta el siguiente pedido', ylabel= 'numero de ordenes')\n",
    "plt.show()"
   ]
  },
  {
   "cell_type": "markdown",
   "id": "discrete-vertex",
   "metadata": {
    "id": "discrete-vertex"
   },
   "source": [
    "En la grafica nos muestra que el minimo de días para hacer una orden es 0, mientras que el maximo es de 30 días, los 30 días son el valor en el que el numero de días esperan más para otro pedido."
   ]
  },
  {
   "cell_type": "markdown",
   "id": "30d35b5e",
   "metadata": {},
   "source": [
    "<div class=\"alert alert-block alert-success\">\n",
    "<b>Comentario revisor</b> <a class=\"tocSkip\"></a>\n",
    "\n",
    "\n",
    "Excelente trabajo con el desarrollo de la sección\n",
    "</div>"
   ]
  },
  {
   "cell_type": "markdown",
   "id": "tight-staff",
   "metadata": {
    "id": "tight-staff"
   },
   "source": [
    "# [B] Intermedio (deben completarse todos para aprobar)\n",
    "\n",
    "1. ¿Existe alguna diferencia entre las distribuciones `'order_hour_of_day'` de los miércoles y los sábados? Traza gráficos de barra de `'order_hour_of_day'` para ambos días en la misma figura y describe las diferencias que observes.\n",
    "2. Grafica la distribución para el número de órdenes que hacen los clientes (es decir, cuántos clientes hicieron solo 1 pedido, cuántos hicieron 2, cuántos 3, y así sucesivamente...).\n",
    "3. ¿Cuáles son los 20 principales productos que se piden con más frecuencia (muestra su identificación y nombre)?"
   ]
  },
  {
   "cell_type": "markdown",
   "id": "packed-classic",
   "metadata": {
    "id": "packed-classic"
   },
   "source": [
    "### [B1] Diferencia entre miércoles y sábados para  `'order_hour_of_day'`. Traza gráficos de barra para los dos días y describe las diferencias que veas."
   ]
  },
  {
   "cell_type": "code",
   "execution_count": 64,
   "id": "d89b8403",
   "metadata": {
    "id": "d89b8403"
   },
   "outputs": [],
   "source": [
    "miercoles = orders['order_dow'] == 3"
   ]
  },
  {
   "cell_type": "code",
   "execution_count": 65,
   "id": "94e54e8a",
   "metadata": {
    "id": "94e54e8a"
   },
   "outputs": [],
   "source": [
    "hora_miercoles = orders [miercoles]['order_hour_of_day'].value_counts().sort_index()"
   ]
  },
  {
   "cell_type": "code",
   "execution_count": 66,
   "id": "797c90a8",
   "metadata": {
    "id": "797c90a8"
   },
   "outputs": [
    {
     "data": {
      "text/plain": [
       "0      373\n",
       "1      215\n",
       "2      106\n",
       "3      101\n",
       "4      108\n",
       "5      170\n",
       "6      643\n",
       "7     1732\n",
       "8     3125\n",
       "9     4490\n",
       "10    5026\n",
       "11    5004\n",
       "12    4688\n",
       "13    4674\n",
       "14    4774\n",
       "15    5163\n",
       "16    4976\n",
       "17    4175\n",
       "18    3463\n",
       "19    2652\n",
       "20    1917\n",
       "21    1450\n",
       "22    1154\n",
       "23     718\n",
       "Name: order_hour_of_day, dtype: int64"
      ]
     },
     "execution_count": 66,
     "metadata": {},
     "output_type": "execute_result"
    }
   ],
   "source": [
    "hora_miercoles"
   ]
  },
  {
   "cell_type": "code",
   "execution_count": 67,
   "id": "35bcea30",
   "metadata": {
    "id": "35bcea30"
   },
   "outputs": [],
   "source": [
    "sabado = orders['order_dow'] == 6 "
   ]
  },
  {
   "cell_type": "code",
   "execution_count": 68,
   "id": "f0bfede4",
   "metadata": {},
   "outputs": [],
   "source": [
    "hora_sabado = orders[sabado]['order_hour_of_day'].value_counts().sort_index()"
   ]
  },
  {
   "cell_type": "code",
   "execution_count": 69,
   "id": "422ed383",
   "metadata": {},
   "outputs": [
    {
     "data": {
      "text/plain": [
       "0      464\n",
       "1      254\n",
       "2      177\n",
       "3      125\n",
       "4      118\n",
       "5      161\n",
       "6      451\n",
       "7     1619\n",
       "8     3246\n",
       "9     4311\n",
       "10    4919\n",
       "11    5116\n",
       "12    5132\n",
       "13    5323\n",
       "14    5375\n",
       "15    5188\n",
       "16    5029\n",
       "17    4295\n",
       "18    3338\n",
       "19    2610\n",
       "20    1847\n",
       "21    1473\n",
       "22    1185\n",
       "23     893\n",
       "Name: order_hour_of_day, dtype: int64"
      ]
     },
     "execution_count": 69,
     "metadata": {},
     "output_type": "execute_result"
    }
   ],
   "source": [
    "hora_sabado"
   ]
  },
  {
   "cell_type": "code",
   "execution_count": 70,
   "id": "c7b346ca",
   "metadata": {},
   "outputs": [],
   "source": [
    "miercoles_sabado = pd.concat([hora_miercoles,hora_sabado], axis=1)"
   ]
  },
  {
   "cell_type": "code",
   "execution_count": 71,
   "id": "fbbc7ba2",
   "metadata": {},
   "outputs": [],
   "source": [
    "miercoles_sabado.columns = ['Miercoles','Sabado' ]"
   ]
  },
  {
   "cell_type": "code",
   "execution_count": 72,
   "id": "41c10576",
   "metadata": {},
   "outputs": [
    {
     "data": {
      "text/html": [
       "<div>\n",
       "<style scoped>\n",
       "    .dataframe tbody tr th:only-of-type {\n",
       "        vertical-align: middle;\n",
       "    }\n",
       "\n",
       "    .dataframe tbody tr th {\n",
       "        vertical-align: top;\n",
       "    }\n",
       "\n",
       "    .dataframe thead th {\n",
       "        text-align: right;\n",
       "    }\n",
       "</style>\n",
       "<table border=\"1\" class=\"dataframe\">\n",
       "  <thead>\n",
       "    <tr style=\"text-align: right;\">\n",
       "      <th></th>\n",
       "      <th>Miercoles</th>\n",
       "      <th>Sabado</th>\n",
       "    </tr>\n",
       "  </thead>\n",
       "  <tbody>\n",
       "    <tr>\n",
       "      <th>0</th>\n",
       "      <td>373</td>\n",
       "      <td>464</td>\n",
       "    </tr>\n",
       "    <tr>\n",
       "      <th>1</th>\n",
       "      <td>215</td>\n",
       "      <td>254</td>\n",
       "    </tr>\n",
       "    <tr>\n",
       "      <th>2</th>\n",
       "      <td>106</td>\n",
       "      <td>177</td>\n",
       "    </tr>\n",
       "    <tr>\n",
       "      <th>3</th>\n",
       "      <td>101</td>\n",
       "      <td>125</td>\n",
       "    </tr>\n",
       "    <tr>\n",
       "      <th>4</th>\n",
       "      <td>108</td>\n",
       "      <td>118</td>\n",
       "    </tr>\n",
       "    <tr>\n",
       "      <th>5</th>\n",
       "      <td>170</td>\n",
       "      <td>161</td>\n",
       "    </tr>\n",
       "    <tr>\n",
       "      <th>6</th>\n",
       "      <td>643</td>\n",
       "      <td>451</td>\n",
       "    </tr>\n",
       "    <tr>\n",
       "      <th>7</th>\n",
       "      <td>1732</td>\n",
       "      <td>1619</td>\n",
       "    </tr>\n",
       "    <tr>\n",
       "      <th>8</th>\n",
       "      <td>3125</td>\n",
       "      <td>3246</td>\n",
       "    </tr>\n",
       "    <tr>\n",
       "      <th>9</th>\n",
       "      <td>4490</td>\n",
       "      <td>4311</td>\n",
       "    </tr>\n",
       "    <tr>\n",
       "      <th>10</th>\n",
       "      <td>5026</td>\n",
       "      <td>4919</td>\n",
       "    </tr>\n",
       "    <tr>\n",
       "      <th>11</th>\n",
       "      <td>5004</td>\n",
       "      <td>5116</td>\n",
       "    </tr>\n",
       "    <tr>\n",
       "      <th>12</th>\n",
       "      <td>4688</td>\n",
       "      <td>5132</td>\n",
       "    </tr>\n",
       "    <tr>\n",
       "      <th>13</th>\n",
       "      <td>4674</td>\n",
       "      <td>5323</td>\n",
       "    </tr>\n",
       "    <tr>\n",
       "      <th>14</th>\n",
       "      <td>4774</td>\n",
       "      <td>5375</td>\n",
       "    </tr>\n",
       "    <tr>\n",
       "      <th>15</th>\n",
       "      <td>5163</td>\n",
       "      <td>5188</td>\n",
       "    </tr>\n",
       "    <tr>\n",
       "      <th>16</th>\n",
       "      <td>4976</td>\n",
       "      <td>5029</td>\n",
       "    </tr>\n",
       "    <tr>\n",
       "      <th>17</th>\n",
       "      <td>4175</td>\n",
       "      <td>4295</td>\n",
       "    </tr>\n",
       "    <tr>\n",
       "      <th>18</th>\n",
       "      <td>3463</td>\n",
       "      <td>3338</td>\n",
       "    </tr>\n",
       "    <tr>\n",
       "      <th>19</th>\n",
       "      <td>2652</td>\n",
       "      <td>2610</td>\n",
       "    </tr>\n",
       "    <tr>\n",
       "      <th>20</th>\n",
       "      <td>1917</td>\n",
       "      <td>1847</td>\n",
       "    </tr>\n",
       "    <tr>\n",
       "      <th>21</th>\n",
       "      <td>1450</td>\n",
       "      <td>1473</td>\n",
       "    </tr>\n",
       "    <tr>\n",
       "      <th>22</th>\n",
       "      <td>1154</td>\n",
       "      <td>1185</td>\n",
       "    </tr>\n",
       "    <tr>\n",
       "      <th>23</th>\n",
       "      <td>718</td>\n",
       "      <td>893</td>\n",
       "    </tr>\n",
       "  </tbody>\n",
       "</table>\n",
       "</div>"
      ],
      "text/plain": [
       "    Miercoles  Sabado\n",
       "0         373     464\n",
       "1         215     254\n",
       "2         106     177\n",
       "3         101     125\n",
       "4         108     118\n",
       "5         170     161\n",
       "6         643     451\n",
       "7        1732    1619\n",
       "8        3125    3246\n",
       "9        4490    4311\n",
       "10       5026    4919\n",
       "11       5004    5116\n",
       "12       4688    5132\n",
       "13       4674    5323\n",
       "14       4774    5375\n",
       "15       5163    5188\n",
       "16       4976    5029\n",
       "17       4175    4295\n",
       "18       3463    3338\n",
       "19       2652    2610\n",
       "20       1917    1847\n",
       "21       1450    1473\n",
       "22       1154    1185\n",
       "23        718     893"
      ]
     },
     "execution_count": 72,
     "metadata": {},
     "output_type": "execute_result"
    }
   ],
   "source": [
    "miercoles_sabado"
   ]
  },
  {
   "cell_type": "code",
   "execution_count": 73,
   "id": "76240c51",
   "metadata": {},
   "outputs": [
    {
     "data": {
      "image/png": "[encoded data removed]",
      "text/plain": [
       "<Figure size 640x480 with 1 Axes>"
      ]
     },
     "metadata": {},
     "output_type": "display_data"
    }
   ],
   "source": [
    "miercoles_sabado.plot(kind='bar', title= 'Diferencia cantidad de ordenes durante el día en Miércoles y Sábado', xlabel = 'Hora del día', ylabel= 'Número de ordenes')\n",
    "plt.show()"
   ]
  },
  {
   "cell_type": "markdown",
   "id": "charitable-congo",
   "metadata": {
    "id": "charitable-congo"
   },
   "source": [
    "En general no hay una diferencia significativa en los horarios entre sábado y miércoles, suelen comportarse muy simmilar, a excepción del rango de 12:00 a 14:00, que se eleva significativamente, lo interesante es que el incremento significativo es únicamente para el día sábado."
   ]
  },
  {
   "cell_type": "markdown",
   "id": "e3891143",
   "metadata": {
    "id": "e3891143"
   },
   "source": [
    "### [B2] ¿Cuál es la distribución para el número de pedidos por cliente?"
   ]
  },
  {
   "cell_type": "markdown",
   "id": "7fe9f2c2",
   "metadata": {},
   "source": [
    "Grafica la distribución para el número de órdenes que hacen los clientes (es decir, cuántos clientes hicieron solo 1 pedido, cuántos hicieron 2, cuántos 3, y así sucesivamente...)."
   ]
  },
  {
   "cell_type": "code",
   "execution_count": 74,
   "id": "67390450",
   "metadata": {},
   "outputs": [],
   "source": [
    "numero_de_ordenes=orders['order_number']"
   ]
  },
  {
   "cell_type": "code",
   "execution_count": 75,
   "id": "0548bcf3",
   "metadata": {},
   "outputs": [
    {
     "data": {
      "text/plain": [
       "count    478952.000000\n",
       "mean         17.157563\n",
       "std          17.704457\n",
       "min           1.000000\n",
       "25%           5.000000\n",
       "50%          11.000000\n",
       "75%          23.000000\n",
       "max         100.000000\n",
       "Name: order_number, dtype: float64"
      ]
     },
     "execution_count": 75,
     "metadata": {},
     "output_type": "execute_result"
    }
   ],
   "source": [
    "orders['order_number'].describe()"
   ]
  },
  {
   "cell_type": "code",
   "execution_count": 76,
   "id": "8023d30b",
   "metadata": {},
   "outputs": [],
   "source": [
    "total_de_ordenes = numero_de_ordenes.value_counts().sort_index()"
   ]
  },
  {
   "cell_type": "code",
   "execution_count": 77,
   "id": "c5222cdf",
   "metadata": {},
   "outputs": [
    {
     "data": {
      "image/png": "[encoded data removed]",
      "text/plain": [
       "<Figure size 2300x700 with 1 Axes>"
      ]
     },
     "metadata": {},
     "output_type": "display_data"
    }
   ],
   "source": [
    "total_de_ordenes.plot(kind='bar',figsize=(23, 7) )\n",
    "plt.show()"
   ]
  },
  {
   "cell_type": "markdown",
   "id": "d2eff7d5",
   "metadata": {
    "id": "d2eff7d5"
   },
   "source": [
    "Es normal que un cliente haga 1, 2 o tal vez 3 ... o hasta 10 ordenes, como se puede ver en la gráfica los clientes suelen pedir menos ordenes quue más, de esta manera, nuestra grafica va disminuyendo el valor de clientes que hacen ordenes mientras la cantidad de estos aumente."
   ]
  },
  {
   "cell_type": "markdown",
   "id": "54a0319c",
   "metadata": {
    "id": "54a0319c"
   },
   "source": [
    "### [B3] ¿Cuáles son los 20 productos más populares (muestra su ID y nombre)?"
   ]
  },
  {
   "cell_type": "code",
   "execution_count": 111,
   "id": "bbcdd20b",
   "metadata": {
    "id": "bbcdd20b"
   },
   "outputs": [
    {
     "data": {
      "image/png": "[encoded data removed]",
      "text/plain": [
       "<Figure size 640x480 with 1 Axes>"
      ]
     },
     "metadata": {},
     "output_type": "display_data"
    }
   ],
   "source": [
    "(\n",
    "order_products\n",
    ".merge(products,on='product_id', how = 'left')\n",
    ".groupby(['product_id','product_name'])['order_id'].count()\n",
    ".sort_values(ascending=False)\n",
    ".head(20)\n",
    ").plot(kind='bar', title = 'Los 20 productos más populares', xlabel= 'Productos y ID', ylabel = ' Cantidad de veces comprado')\n",
    "plt.show()"
   ]
  },
  {
   "cell_type": "markdown",
   "id": "7df00f47",
   "metadata": {
    "id": "7df00f47"
   },
   "source": [
    "Nuestra grafica nos muestra los 20 productos más populares, Todos son comida!, en general son frutas y verduras, como el caso del producto más popular, siendo una Banana que alcanza más de 60,000 veces en las qe se han comprado. "
   ]
  },
  {
   "cell_type": "markdown",
   "id": "9be91c3a",
   "metadata": {},
   "source": [
    "<div class=\"alert alert-block alert-success\">\n",
    "<b>Comentario del revisor</b> <a class=\"tocSkip\"></a>\n",
    "\n",
    "Muy buen desarrollo de la sección. Desarrollaste de buena manera todos los análisis y lo complementaste con una gráfica. \n",
    "</div>"
   ]
  },
  {
   "cell_type": "markdown",
   "id": "gross-theme",
   "metadata": {
    "id": "gross-theme"
   },
   "source": [
    "# [C] Difícil (deben completarse todos para aprobar)\n",
    "\n",
    "1. ¿Cuántos artículos suelen comprar las personas en un pedido? ¿Cómo es la distribución?\n",
    "2. ¿Cuáles son los 20 principales artículos que vuelven a pedirse con mayor frecuencia (muestra sus nombres e IDs de los productos)?\n",
    "3. Para cada producto, ¿cuál es la tasa de repetición del pedido (número de repeticiones de pedido/total de pedidos?\n",
    "4. Para cada cliente, ¿qué proporción de los productos que pidió ya los había pedido? Calcula la tasa de repetición de pedido para cada usuario en lugar de para cada producto.\n",
    "5. ¿Cuáles son los 20 principales artículos que la gente pone primero en sus carritos (muestra las IDs de los productos, sus nombres, y el número de veces en que fueron el primer artículo en añadirse al carrito)?"
   ]
  },
  {
   "cell_type": "markdown",
   "id": "romantic-deposit",
   "metadata": {
    "id": "romantic-deposit"
   },
   "source": [
    "### [C1] ¿Cuántos artículos compran normalmente las personas en un pedido? ¿Cómo es la distribución?"
   ]
  },
  {
   "cell_type": "code",
   "execution_count": 82,
   "id": "virtual-punch",
   "metadata": {
    "id": "virtual-punch"
   },
   "outputs": [],
   "source": [
    "articulos_por_orden = order_products.groupby('order_id')['product_id'].count()"
   ]
  },
  {
   "cell_type": "code",
   "execution_count": 83,
   "id": "sensitive-breathing",
   "metadata": {
    "id": "sensitive-breathing"
   },
   "outputs": [],
   "source": [
    "total_articulos_por_orden = articulos_por_orden.value_counts().sort_index()"
   ]
  },
  {
   "cell_type": "code",
   "execution_count": 84,
   "id": "completed-frank",
   "metadata": {
    "id": "completed-frank"
   },
   "outputs": [
    {
     "data": {
      "image/png": "[encoded data removed]",
      "text/plain": [
       "<Figure size 2300x700 with 1 Axes>"
      ]
     },
     "metadata": {},
     "output_type": "display_data"
    }
   ],
   "source": [
    "total_articulos_por_orden.plot(kind='bar', title= 'Total de articulos comprados en un pedido por cliente', xlabel= 'Número de productos', ylabel= 'Número de ordenes',figsize=(23, 7) ) \n",
    "plt.show()"
   ]
  },
  {
   "cell_type": "markdown",
   "id": "designed-mortality",
   "metadata": {
    "id": "designed-mortality"
   },
   "source": [
    "Es normal que un cliente compre más de un producto, como se puede ver en la gráfica los clientes suelen pedir menos productos que más, de esta manera, nuestra grafica va disminuyendo el valor de clientes que compran productos mientras la cantidad de estos aumente."
   ]
  },
  {
   "cell_type": "markdown",
   "id": "5e6b5537",
   "metadata": {
    "id": "5e6b5537"
   },
   "source": [
    "### [C2] ¿Cuáles son los 20 principales artículos que vuelven a pedirse con mayor frecuencia (muestra sus nombres e IDs de los productos)?"
   ]
  },
  {
   "cell_type": "code",
   "execution_count": 85,
   "id": "9374e55a",
   "metadata": {
    "id": "9374e55a"
   },
   "outputs": [
    {
     "data": {
      "text/html": [
       "<div>\n",
       "<style scoped>\n",
       "    .dataframe tbody tr th:only-of-type {\n",
       "        vertical-align: middle;\n",
       "    }\n",
       "\n",
       "    .dataframe tbody tr th {\n",
       "        vertical-align: top;\n",
       "    }\n",
       "\n",
       "    .dataframe thead th {\n",
       "        text-align: right;\n",
       "    }\n",
       "</style>\n",
       "<table border=\"1\" class=\"dataframe\">\n",
       "  <thead>\n",
       "    <tr style=\"text-align: right;\">\n",
       "      <th></th>\n",
       "      <th>order_id</th>\n",
       "      <th>product_id</th>\n",
       "      <th>add_to_cart_order</th>\n",
       "      <th>reordered</th>\n",
       "    </tr>\n",
       "  </thead>\n",
       "  <tbody>\n",
       "    <tr>\n",
       "      <th>1</th>\n",
       "      <td>567889</td>\n",
       "      <td>1560</td>\n",
       "      <td>1</td>\n",
       "      <td>1</td>\n",
       "    </tr>\n",
       "    <tr>\n",
       "      <th>2</th>\n",
       "      <td>2261212</td>\n",
       "      <td>26683</td>\n",
       "      <td>1</td>\n",
       "      <td>1</td>\n",
       "    </tr>\n",
       "    <tr>\n",
       "      <th>3</th>\n",
       "      <td>491251</td>\n",
       "      <td>8670</td>\n",
       "      <td>35</td>\n",
       "      <td>1</td>\n",
       "    </tr>\n",
       "    <tr>\n",
       "      <th>4</th>\n",
       "      <td>2571142</td>\n",
       "      <td>1940</td>\n",
       "      <td>5</td>\n",
       "      <td>1</td>\n",
       "    </tr>\n",
       "    <tr>\n",
       "      <th>5</th>\n",
       "      <td>2456893</td>\n",
       "      <td>21616</td>\n",
       "      <td>4</td>\n",
       "      <td>1</td>\n",
       "    </tr>\n",
       "  </tbody>\n",
       "</table>\n",
       "</div>"
      ],
      "text/plain": [
       "   order_id  product_id  add_to_cart_order  reordered\n",
       "1    567889        1560                  1          1\n",
       "2   2261212       26683                  1          1\n",
       "3    491251        8670                 35          1\n",
       "4   2571142        1940                  5          1\n",
       "5   2456893       21616                  4          1"
      ]
     },
     "execution_count": 85,
     "metadata": {},
     "output_type": "execute_result"
    }
   ],
   "source": [
    "reorder_products = order_products[order_products['reordered']==1]\n",
    "reorder_products.head()"
   ]
  },
  {
   "cell_type": "code",
   "execution_count": 86,
   "id": "12fadbf8",
   "metadata": {},
   "outputs": [
    {
     "data": {
      "text/html": [
       "<div>\n",
       "<style scoped>\n",
       "    .dataframe tbody tr th:only-of-type {\n",
       "        vertical-align: middle;\n",
       "    }\n",
       "\n",
       "    .dataframe tbody tr th {\n",
       "        vertical-align: top;\n",
       "    }\n",
       "\n",
       "    .dataframe thead th {\n",
       "        text-align: right;\n",
       "    }\n",
       "</style>\n",
       "<table border=\"1\" class=\"dataframe\">\n",
       "  <thead>\n",
       "    <tr style=\"text-align: right;\">\n",
       "      <th></th>\n",
       "      <th>order_id</th>\n",
       "      <th>product_id</th>\n",
       "      <th>add_to_cart_order</th>\n",
       "      <th>reordered</th>\n",
       "    </tr>\n",
       "  </thead>\n",
       "  <tbody>\n",
       "    <tr>\n",
       "      <th>0</th>\n",
       "      <td>2141543</td>\n",
       "      <td>11440</td>\n",
       "      <td>17</td>\n",
       "      <td>0</td>\n",
       "    </tr>\n",
       "    <tr>\n",
       "      <th>1</th>\n",
       "      <td>567889</td>\n",
       "      <td>1560</td>\n",
       "      <td>1</td>\n",
       "      <td>1</td>\n",
       "    </tr>\n",
       "    <tr>\n",
       "      <th>2</th>\n",
       "      <td>2261212</td>\n",
       "      <td>26683</td>\n",
       "      <td>1</td>\n",
       "      <td>1</td>\n",
       "    </tr>\n",
       "    <tr>\n",
       "      <th>3</th>\n",
       "      <td>491251</td>\n",
       "      <td>8670</td>\n",
       "      <td>35</td>\n",
       "      <td>1</td>\n",
       "    </tr>\n",
       "    <tr>\n",
       "      <th>4</th>\n",
       "      <td>2571142</td>\n",
       "      <td>1940</td>\n",
       "      <td>5</td>\n",
       "      <td>1</td>\n",
       "    </tr>\n",
       "  </tbody>\n",
       "</table>\n",
       "</div>"
      ],
      "text/plain": [
       "   order_id  product_id  add_to_cart_order  reordered\n",
       "0   2141543       11440                 17          0\n",
       "1    567889        1560                  1          1\n",
       "2   2261212       26683                  1          1\n",
       "3    491251        8670                 35          1\n",
       "4   2571142        1940                  5          1"
      ]
     },
     "execution_count": 86,
     "metadata": {},
     "output_type": "execute_result"
    }
   ],
   "source": [
    "order_products.head()"
   ]
  },
  {
   "cell_type": "code",
   "execution_count": 87,
   "id": "4765115b",
   "metadata": {},
   "outputs": [],
   "source": [
    "reorder_products_merge = reorder_products.merge(products, on= 'product_id')"
   ]
  },
  {
   "cell_type": "code",
   "execution_count": 88,
   "id": "114560d3",
   "metadata": {},
   "outputs": [],
   "source": [
    "top20_products = reorder_products_merge.groupby(['product_id','product_name'])['add_to_cart_order'].count().sort_values(ascending=False)"
   ]
  },
  {
   "cell_type": "code",
   "execution_count": 89,
   "id": "77e19a0e",
   "metadata": {},
   "outputs": [],
   "source": [
    "top20_products = top20_products.head(20)"
   ]
  },
  {
   "cell_type": "code",
   "execution_count": 90,
   "id": "8438411a",
   "metadata": {},
   "outputs": [
    {
     "data": {
      "text/plain": [
       "<AxesSubplot:xlabel='product_id,product_name'>"
      ]
     },
     "execution_count": 90,
     "metadata": {},
     "output_type": "execute_result"
    },
    {
     "data": {
      "image/png": "[encoded data removed]",
      "text/plain": [
       "<Figure size 640x480 with 1 Axes>"
      ]
     },
     "metadata": {},
     "output_type": "display_data"
    }
   ],
   "source": [
    "top20_products.plot(kind='bar')"
   ]
  },
  {
   "cell_type": "markdown",
   "id": "80e70c74",
   "metadata": {
    "id": "80e70c74"
   },
   "source": [
    "Volvemos a ver que Banana encabeza esta gráfica! al fin de acabo es comida, esta se acaba y hay que comprar más, en general eso pasa con la comida, razón por la que esta gráfica esta relacionada con la de los 20 productos más populares."
   ]
  },
  {
   "cell_type": "markdown",
   "id": "9d312b14",
   "metadata": {
    "id": "9d312b14"
   },
   "source": [
    "### [C3] Para cada producto, ¿cuál es la proporción de las veces que se pide y que se vuelve a pedir?"
   ]
  },
  {
   "cell_type": "code",
   "execution_count": 91,
   "id": "8ae9f4b1",
   "metadata": {
    "id": "8ae9f4b1"
   },
   "outputs": [],
   "source": [
    "proporcion_de_ordenes= order_products.groupby('product_id')['reordered'].mean()"
   ]
  },
  {
   "cell_type": "code",
   "execution_count": 92,
   "id": "social-individual",
   "metadata": {
    "id": "social-individual"
   },
   "outputs": [
    {
     "data": {
      "text/plain": [
       "product_id\n",
       "1        0.564286\n",
       "2        0.000000\n",
       "3        0.738095\n",
       "4        0.510204\n",
       "7        0.500000\n",
       "           ...   \n",
       "49690    0.800000\n",
       "49691    0.430556\n",
       "49692    0.416667\n",
       "49693    0.440000\n",
       "49694    0.333333\n",
       "Name: reordered, Length: 45573, dtype: float64"
      ]
     },
     "execution_count": 92,
     "metadata": {},
     "output_type": "execute_result"
    }
   ],
   "source": [
    "proporcion_de_ordenes"
   ]
  },
  {
   "cell_type": "code",
   "execution_count": 93,
   "id": "7f4e31cc",
   "metadata": {},
   "outputs": [
    {
     "data": {
      "image/png": "[encoded data removed]",
      "text/plain": [
       "<Figure size 640x480 with 1 Axes>"
      ]
     },
     "metadata": {},
     "output_type": "display_data"
    }
   ],
   "source": [
    "proporcion_de_ordenes.plot(kind='hist', title= 'Proporcion en la que en producto se vuelve a pedir', xlabel = 'promedio')\n",
    "plt.show()"
   ]
  },
  {
   "cell_type": "markdown",
   "id": "I10dEIAyldcO",
   "metadata": {
    "id": "I10dEIAyldcO"
   },
   "source": [
    "Escribe aquí tus conclusiones"
   ]
  },
  {
   "cell_type": "markdown",
   "id": "subject-boxing",
   "metadata": {
    "id": "subject-boxing"
   },
   "source": [
    "### [C4] Para cada cliente, ¿qué proporción de sus productos ya los había pedido?"
   ]
  },
  {
   "cell_type": "code",
   "execution_count": 94,
   "id": "medical-couple",
   "metadata": {
    "id": "medical-couple",
    "scrolled": true
   },
   "outputs": [],
   "source": [
    "order_merge= order_products.merge(orders)"
   ]
  },
  {
   "cell_type": "code",
   "execution_count": 95,
   "id": "8892e4b4",
   "metadata": {
    "id": "8892e4b4"
   },
   "outputs": [],
   "source": [
    "reorder = order_merge.groupby('user_id')['reordered'].mean()\n"
   ]
  },
  {
   "cell_type": "code",
   "execution_count": 96,
   "id": "64ac8e03",
   "metadata": {},
   "outputs": [
    {
     "data": {
      "text/plain": [
       "user_id\n",
       "2         0.038462\n",
       "4         0.000000\n",
       "5         0.666667\n",
       "6         0.000000\n",
       "7         0.928571\n",
       "            ...   \n",
       "206203    0.222222\n",
       "206206    0.714286\n",
       "206207    0.891304\n",
       "206208    0.696000\n",
       "206209    0.320000\n",
       "Name: reordered, Length: 149626, dtype: float64"
      ]
     },
     "execution_count": 96,
     "metadata": {},
     "output_type": "execute_result"
    }
   ],
   "source": [
    "reorder"
   ]
  },
  {
   "cell_type": "code",
   "execution_count": 97,
   "id": "24bf48c4",
   "metadata": {},
   "outputs": [
    {
     "data": {
      "image/png": "[encoded data removed]",
      "text/plain": [
       "<Figure size 640x480 with 1 Axes>"
      ]
     },
     "metadata": {},
     "output_type": "display_data"
    }
   ],
   "source": [
    "reorder.plot(kind='hist', title= 'Proporción de productos en que un cliente vuelve a pedir')\n",
    "plt.show()"
   ]
  },
  {
   "cell_type": "markdown",
   "id": "BgJSvXDsleXz",
   "metadata": {
    "id": "BgJSvXDsleXz"
   },
   "source": [
    "Escribe aquí tus conclusiones"
   ]
  },
  {
   "cell_type": "markdown",
   "id": "92d35137",
   "metadata": {
    "id": "92d35137"
   },
   "source": [
    "### [C5] ¿Cuáles son los 20 principales artículos que las personas ponen primero en sus carritos?"
   ]
  },
  {
   "cell_type": "code",
   "execution_count": 98,
   "id": "0ae57274",
   "metadata": {
    "id": "0ae57274",
    "scrolled": true
   },
   "outputs": [
    {
     "data": {
      "text/html": [
       "<div>\n",
       "<style scoped>\n",
       "    .dataframe tbody tr th:only-of-type {\n",
       "        vertical-align: middle;\n",
       "    }\n",
       "\n",
       "    .dataframe tbody tr th {\n",
       "        vertical-align: top;\n",
       "    }\n",
       "\n",
       "    .dataframe thead th {\n",
       "        text-align: right;\n",
       "    }\n",
       "</style>\n",
       "<table border=\"1\" class=\"dataframe\">\n",
       "  <thead>\n",
       "    <tr style=\"text-align: right;\">\n",
       "      <th></th>\n",
       "      <th>order_id</th>\n",
       "      <th>product_id</th>\n",
       "      <th>add_to_cart_order</th>\n",
       "      <th>reordered</th>\n",
       "    </tr>\n",
       "  </thead>\n",
       "  <tbody>\n",
       "    <tr>\n",
       "      <th>0</th>\n",
       "      <td>2141543</td>\n",
       "      <td>11440</td>\n",
       "      <td>17</td>\n",
       "      <td>0</td>\n",
       "    </tr>\n",
       "    <tr>\n",
       "      <th>1</th>\n",
       "      <td>567889</td>\n",
       "      <td>1560</td>\n",
       "      <td>1</td>\n",
       "      <td>1</td>\n",
       "    </tr>\n",
       "    <tr>\n",
       "      <th>2</th>\n",
       "      <td>2261212</td>\n",
       "      <td>26683</td>\n",
       "      <td>1</td>\n",
       "      <td>1</td>\n",
       "    </tr>\n",
       "    <tr>\n",
       "      <th>3</th>\n",
       "      <td>491251</td>\n",
       "      <td>8670</td>\n",
       "      <td>35</td>\n",
       "      <td>1</td>\n",
       "    </tr>\n",
       "    <tr>\n",
       "      <th>4</th>\n",
       "      <td>2571142</td>\n",
       "      <td>1940</td>\n",
       "      <td>5</td>\n",
       "      <td>1</td>\n",
       "    </tr>\n",
       "    <tr>\n",
       "      <th>...</th>\n",
       "      <td>...</td>\n",
       "      <td>...</td>\n",
       "      <td>...</td>\n",
       "      <td>...</td>\n",
       "    </tr>\n",
       "    <tr>\n",
       "      <th>4545002</th>\n",
       "      <td>577211</td>\n",
       "      <td>15290</td>\n",
       "      <td>12</td>\n",
       "      <td>1</td>\n",
       "    </tr>\n",
       "    <tr>\n",
       "      <th>4545003</th>\n",
       "      <td>1219554</td>\n",
       "      <td>21914</td>\n",
       "      <td>9</td>\n",
       "      <td>0</td>\n",
       "    </tr>\n",
       "    <tr>\n",
       "      <th>4545004</th>\n",
       "      <td>692640</td>\n",
       "      <td>47766</td>\n",
       "      <td>4</td>\n",
       "      <td>1</td>\n",
       "    </tr>\n",
       "    <tr>\n",
       "      <th>4545005</th>\n",
       "      <td>319435</td>\n",
       "      <td>691</td>\n",
       "      <td>8</td>\n",
       "      <td>1</td>\n",
       "    </tr>\n",
       "    <tr>\n",
       "      <th>4545006</th>\n",
       "      <td>1398151</td>\n",
       "      <td>28733</td>\n",
       "      <td>9</td>\n",
       "      <td>0</td>\n",
       "    </tr>\n",
       "  </tbody>\n",
       "</table>\n",
       "<p>4545007 rows × 4 columns</p>\n",
       "</div>"
      ],
      "text/plain": [
       "         order_id  product_id  add_to_cart_order  reordered\n",
       "0         2141543       11440                 17          0\n",
       "1          567889        1560                  1          1\n",
       "2         2261212       26683                  1          1\n",
       "3          491251        8670                 35          1\n",
       "4         2571142        1940                  5          1\n",
       "...           ...         ...                ...        ...\n",
       "4545002    577211       15290                 12          1\n",
       "4545003   1219554       21914                  9          0\n",
       "4545004    692640       47766                  4          1\n",
       "4545005    319435         691                  8          1\n",
       "4545006   1398151       28733                  9          0\n",
       "\n",
       "[4545007 rows x 4 columns]"
      ]
     },
     "execution_count": 98,
     "metadata": {},
     "output_type": "execute_result"
    }
   ],
   "source": [
    "order_products"
   ]
  },
  {
   "cell_type": "code",
   "execution_count": 99,
   "id": "forty-netherlands",
   "metadata": {
    "id": "forty-netherlands",
    "scrolled": true
   },
   "outputs": [],
   "source": [
    "first_add_to_cart_order= order_products[order_products['add_to_cart_order'] == 1]"
   ]
  },
  {
   "cell_type": "code",
   "execution_count": 100,
   "id": "08e41ec2",
   "metadata": {
    "id": "08e41ec2"
   },
   "outputs": [
    {
     "data": {
      "text/html": [
       "<div>\n",
       "<style scoped>\n",
       "    .dataframe tbody tr th:only-of-type {\n",
       "        vertical-align: middle;\n",
       "    }\n",
       "\n",
       "    .dataframe tbody tr th {\n",
       "        vertical-align: top;\n",
       "    }\n",
       "\n",
       "    .dataframe thead th {\n",
       "        text-align: right;\n",
       "    }\n",
       "</style>\n",
       "<table border=\"1\" class=\"dataframe\">\n",
       "  <thead>\n",
       "    <tr style=\"text-align: right;\">\n",
       "      <th></th>\n",
       "      <th>order_id</th>\n",
       "      <th>product_id</th>\n",
       "      <th>add_to_cart_order</th>\n",
       "      <th>reordered</th>\n",
       "    </tr>\n",
       "  </thead>\n",
       "  <tbody>\n",
       "    <tr>\n",
       "      <th>1</th>\n",
       "      <td>567889</td>\n",
       "      <td>1560</td>\n",
       "      <td>1</td>\n",
       "      <td>1</td>\n",
       "    </tr>\n",
       "    <tr>\n",
       "      <th>2</th>\n",
       "      <td>2261212</td>\n",
       "      <td>26683</td>\n",
       "      <td>1</td>\n",
       "      <td>1</td>\n",
       "    </tr>\n",
       "    <tr>\n",
       "      <th>14</th>\n",
       "      <td>1961225</td>\n",
       "      <td>37553</td>\n",
       "      <td>1</td>\n",
       "      <td>1</td>\n",
       "    </tr>\n",
       "    <tr>\n",
       "      <th>16</th>\n",
       "      <td>639939</td>\n",
       "      <td>10017</td>\n",
       "      <td>1</td>\n",
       "      <td>1</td>\n",
       "    </tr>\n",
       "    <tr>\n",
       "      <th>23</th>\n",
       "      <td>750040</td>\n",
       "      <td>8518</td>\n",
       "      <td>1</td>\n",
       "      <td>0</td>\n",
       "    </tr>\n",
       "    <tr>\n",
       "      <th>...</th>\n",
       "      <td>...</td>\n",
       "      <td>...</td>\n",
       "      <td>...</td>\n",
       "      <td>...</td>\n",
       "    </tr>\n",
       "    <tr>\n",
       "      <th>4544978</th>\n",
       "      <td>1759009</td>\n",
       "      <td>46175</td>\n",
       "      <td>1</td>\n",
       "      <td>0</td>\n",
       "    </tr>\n",
       "    <tr>\n",
       "      <th>4544989</th>\n",
       "      <td>115427</td>\n",
       "      <td>20842</td>\n",
       "      <td>1</td>\n",
       "      <td>1</td>\n",
       "    </tr>\n",
       "    <tr>\n",
       "      <th>4544990</th>\n",
       "      <td>2049780</td>\n",
       "      <td>28576</td>\n",
       "      <td>1</td>\n",
       "      <td>1</td>\n",
       "    </tr>\n",
       "    <tr>\n",
       "      <th>4544997</th>\n",
       "      <td>2300092</td>\n",
       "      <td>10017</td>\n",
       "      <td>1</td>\n",
       "      <td>0</td>\n",
       "    </tr>\n",
       "    <tr>\n",
       "      <th>4544999</th>\n",
       "      <td>1622300</td>\n",
       "      <td>24852</td>\n",
       "      <td>1</td>\n",
       "      <td>1</td>\n",
       "    </tr>\n",
       "  </tbody>\n",
       "</table>\n",
       "<p>450046 rows × 4 columns</p>\n",
       "</div>"
      ],
      "text/plain": [
       "         order_id  product_id  add_to_cart_order  reordered\n",
       "1          567889        1560                  1          1\n",
       "2         2261212       26683                  1          1\n",
       "14        1961225       37553                  1          1\n",
       "16         639939       10017                  1          1\n",
       "23         750040        8518                  1          0\n",
       "...           ...         ...                ...        ...\n",
       "4544978   1759009       46175                  1          0\n",
       "4544989    115427       20842                  1          1\n",
       "4544990   2049780       28576                  1          1\n",
       "4544997   2300092       10017                  1          0\n",
       "4544999   1622300       24852                  1          1\n",
       "\n",
       "[450046 rows x 4 columns]"
      ]
     },
     "execution_count": 100,
     "metadata": {},
     "output_type": "execute_result"
    }
   ],
   "source": [
    "first_add_to_cart_order"
   ]
  },
  {
   "cell_type": "code",
   "execution_count": 101,
   "id": "8033f021",
   "metadata": {},
   "outputs": [],
   "source": [
    "df_first_add_to_cart_order = first_add_to_cart_order.merge(products, on= 'product_id')"
   ]
  },
  {
   "cell_type": "code",
   "execution_count": 102,
   "id": "79035d4b",
   "metadata": {},
   "outputs": [],
   "source": [
    "top20_add_products = df_first_add_to_cart_order.groupby(['product_id','product_name'])['add_to_cart_order'].count().sort_values(ascending=False)"
   ]
  },
  {
   "cell_type": "code",
   "execution_count": 103,
   "id": "91cafd7b",
   "metadata": {},
   "outputs": [],
   "source": [
    "top20_add_products=top20_add_products.head(20)"
   ]
  },
  {
   "cell_type": "code",
   "execution_count": 104,
   "id": "3ecbe24c",
   "metadata": {},
   "outputs": [
    {
     "data": {
      "text/plain": [
       "product_id  product_name               \n",
       "24852       Banana                         15562\n",
       "13176       Bag of Organic Bananas         11026\n",
       "27845       Organic Whole Milk              4363\n",
       "21137       Organic Strawberries            3946\n",
       "47209       Organic Hass Avocado            3390\n",
       "21903       Organic Baby Spinach            3336\n",
       "47766       Organic Avocado                 3044\n",
       "19660       Spring Water                    2336\n",
       "16797       Strawberries                    2308\n",
       "27966       Organic Raspberries             2024\n",
       "44632       Sparkling Water Grapefruit      1914\n",
       "49235       Organic Half & Half             1797\n",
       "47626       Large Lemon                     1737\n",
       "196         Soda                            1733\n",
       "38689       Organic Reduced Fat Milk        1397\n",
       "26209       Limes                           1370\n",
       "12341       Hass Avocados                   1340\n",
       "5785        Organic Reduced Fat 2% Milk     1310\n",
       "27086       Half & Half                     1309\n",
       "43352       Raspberries                     1246\n",
       "Name: add_to_cart_order, dtype: int64"
      ]
     },
     "execution_count": 104,
     "metadata": {},
     "output_type": "execute_result"
    }
   ],
   "source": [
    "top20_add_products"
   ]
  },
  {
   "cell_type": "code",
   "execution_count": 105,
   "id": "238b20bc",
   "metadata": {},
   "outputs": [
    {
     "data": {
      "image/png": "[encoded data removed]",
      "text/plain": [
       "<Figure size 640x480 with 1 Axes>"
      ]
     },
     "metadata": {},
     "output_type": "display_data"
    }
   ],
   "source": [
    "top20_add_products.plot(kind='bar', title= '20 Principales productos que colocan primero los clientes en el carrito', xlabel = 'Id y nombre del producto', ylabel= 'Cantidad de veces que se coloca en el carrito')\n",
    "plt.show()"
   ]
  },
  {
   "cell_type": "markdown",
   "id": "3a1269c8",
   "metadata": {},
   "source": [
    "<div class=\"alert alert-block alert-success\">\n",
    "<b>Comentario del revisor</b> <a class=\"tocSkip\"></a>\n",
    "\n",
    "Muy buen desarrollo de la sección. Desarrollaste de buena manera todos los análisis y lo complementaste con una gráfica. \n",
    "</div>"
   ]
  },
  {
   "cell_type": "markdown",
   "id": "28ce9872",
   "metadata": {
    "id": "28ce9872"
   },
   "source": [
    "Volvemos a ver que otra vez más Banana encabeza esta gráfica! es normal, que al realizar compras, lo primero que intentes cubrir sean tus necesidades, de nuevo, la comida se encuentra como los primeros objetos que colocan en el carrito."
   ]
  },
  {
   "cell_type": "markdown",
   "id": "uITbFCEoDosC",
   "metadata": {
    "id": "uITbFCEoDosC"
   },
   "source": [
    "### Conclusion general del proyecto:"
   ]
  },
  {
   "cell_type": "markdown",
   "id": "940e31d3",
   "metadata": {
    "id": "Nk-4GS7mDwqY"
   },
   "source": [
    "Hacer ordenes suele ser en promedio cada 7 días, generalmente, las personas intentan tener todas sus necesidades listawsa, razon por la que lo primero que compran es la comida, generalmente esta es comprada al inicio de semana, principalmente en domingo, este tipo de datos fueron los obtenidos a . "
   ]
  },
  {
   "cell_type": "markdown",
   "id": "50ad451d",
   "metadata": {},
   "source": [
    "<div class=\"alert alert-block alert-warning\">\n",
    "<b>Comentario revisor</b> <a class=\"tocSkip\"></a>\n",
    "\n",
    "En general creo que hiciste un muy buen trabajo con el proyecto, pudiste limpiar y trabajar las bases de datos de beuna manera, análisis de duplicados, y de valores faltantes. Además dearrollaste de buena manera los diferentes anális que se solicitaban y cuando podías los complementabas con greaficas. No obstante, recuerda que siempre podemos mejorar y te menciono algunos puntos que debes considerar:\n",
    "\n",
    "    \n",
    "    \n",
    "*  Realizar análisis complementarios eliminando los valores que parecen ser atípicos. \n",
    "    \n",
    "    \n",
    "*  Profundizar en los resultados intermedios y en la conclusión final.\n",
    "\n",
    "</div>"
   ]
  }
 ],
 "metadata": {
  "ExecuteTimeLog": [
   {
    "duration": 302,
    "start_time": "2024-07-08T17:34:14.036Z"
   },
   {
    "duration": 21,
    "start_time": "2024-07-08T17:34:19.897Z"
   },
   {
    "duration": 23,
    "start_time": "2024-07-08T17:35:12.302Z"
   },
   {
    "duration": 431,
    "start_time": "2024-07-08T17:35:30.671Z"
   },
   {
    "duration": 470,
    "start_time": "2024-07-08T17:35:32.973Z"
   },
   {
    "duration": 32,
    "start_time": "2024-07-08T17:35:35.530Z"
   },
   {
    "duration": 6,
    "start_time": "2024-07-08T17:35:58.217Z"
   },
   {
    "duration": 413,
    "start_time": "2024-07-08T17:36:37.965Z"
   },
   {
    "duration": 14,
    "start_time": "2024-07-08T17:36:40.664Z"
   },
   {
    "duration": 188,
    "start_time": "2024-07-08T18:17:30.273Z"
   },
   {
    "duration": 13,
    "start_time": "2024-07-08T18:17:32.148Z"
   },
   {
    "duration": 256,
    "start_time": "2024-07-08T18:18:33.948Z"
   },
   {
    "duration": 8,
    "start_time": "2024-07-08T18:18:36.793Z"
   },
   {
    "duration": 230,
    "start_time": "2024-07-08T18:18:50.566Z"
   },
   {
    "duration": 10,
    "start_time": "2024-07-08T18:18:51.177Z"
   },
   {
    "duration": 236,
    "start_time": "2024-07-08T18:19:58.910Z"
   },
   {
    "duration": 8,
    "start_time": "2024-07-08T18:20:05.254Z"
   },
   {
    "duration": 233,
    "start_time": "2024-07-08T18:20:15.680Z"
   },
   {
    "duration": 9,
    "start_time": "2024-07-08T18:20:16.143Z"
   },
   {
    "duration": 263,
    "start_time": "2024-07-08T18:20:49.997Z"
   },
   {
    "duration": 56,
    "start_time": "2024-07-08T18:21:09.723Z"
   },
   {
    "duration": 226,
    "start_time": "2024-07-08T18:21:20.729Z"
   },
   {
    "duration": 9,
    "start_time": "2024-07-08T18:21:21.156Z"
   },
   {
    "duration": 228,
    "start_time": "2024-07-08T18:21:30.487Z"
   },
   {
    "duration": 9,
    "start_time": "2024-07-08T18:21:30.909Z"
   },
   {
    "duration": 1540,
    "start_time": "2024-07-08T18:22:25.767Z"
   },
   {
    "duration": 11,
    "start_time": "2024-07-08T18:22:34.333Z"
   },
   {
    "duration": 16,
    "start_time": "2024-07-08T19:10:44.071Z"
   },
   {
    "duration": 35,
    "start_time": "2024-07-08T19:11:52.561Z"
   },
   {
    "duration": 16,
    "start_time": "2024-07-08T19:11:52.616Z"
   },
   {
    "duration": 17,
    "start_time": "2024-07-08T19:11:52.635Z"
   },
   {
    "duration": 13,
    "start_time": "2024-07-08T19:11:52.657Z"
   },
   {
    "duration": 1458,
    "start_time": "2024-07-08T19:11:57.579Z"
   },
   {
    "duration": 16,
    "start_time": "2024-07-08T19:12:09.385Z"
   },
   {
    "duration": 24,
    "start_time": "2024-07-08T19:19:03.884Z"
   },
   {
    "duration": 33,
    "start_time": "2024-07-08T19:19:25.079Z"
   },
   {
    "duration": 21,
    "start_time": "2024-07-08T19:19:31.008Z"
   },
   {
    "duration": 25,
    "start_time": "2024-07-08T19:21:18.706Z"
   },
   {
    "duration": 16,
    "start_time": "2024-07-08T19:21:32.822Z"
   },
   {
    "duration": 19,
    "start_time": "2024-07-08T19:21:43.796Z"
   },
   {
    "duration": 31,
    "start_time": "2024-07-08T19:22:01.407Z"
   },
   {
    "duration": 18,
    "start_time": "2024-07-08T19:22:08.401Z"
   },
   {
    "duration": 42,
    "start_time": "2024-07-08T19:22:26.744Z"
   },
   {
    "duration": 17,
    "start_time": "2024-07-08T19:23:47.863Z"
   },
   {
    "duration": 24,
    "start_time": "2024-07-08T19:23:57.521Z"
   },
   {
    "duration": 131,
    "start_time": "2024-07-08T19:58:59.144Z"
   },
   {
    "duration": 131,
    "start_time": "2024-07-08T20:01:17.963Z"
   },
   {
    "duration": 263,
    "start_time": "2024-07-08T20:02:02.893Z"
   },
   {
    "duration": 256,
    "start_time": "2024-07-08T20:02:58.052Z"
   },
   {
    "duration": 6,
    "start_time": "2024-07-08T20:03:17.542Z"
   },
   {
    "duration": 277,
    "start_time": "2024-07-08T20:03:24.295Z"
   },
   {
    "duration": 271,
    "start_time": "2024-07-08T20:03:49.049Z"
   },
   {
    "duration": 302,
    "start_time": "2024-07-08T20:04:01.776Z"
   },
   {
    "duration": 309,
    "start_time": "2024-07-08T20:26:09.473Z"
   },
   {
    "duration": 80,
    "start_time": "2024-07-08T20:39:10.409Z"
   },
   {
    "duration": 84,
    "start_time": "2024-07-08T20:42:22.759Z"
   },
   {
    "duration": 91,
    "start_time": "2024-07-08T20:42:42.131Z"
   },
   {
    "duration": 74,
    "start_time": "2024-07-08T20:42:46.917Z"
   },
   {
    "duration": 79,
    "start_time": "2024-07-08T20:43:16.797Z"
   },
   {
    "duration": 74,
    "start_time": "2024-07-08T20:43:35.799Z"
   },
   {
    "duration": 78,
    "start_time": "2024-07-08T20:43:48.049Z"
   },
   {
    "duration": 49,
    "start_time": "2024-07-08T20:44:11.814Z"
   },
   {
    "duration": 93,
    "start_time": "2024-07-08T20:44:37.170Z"
   },
   {
    "duration": 8,
    "start_time": "2024-07-08T20:46:01.876Z"
   },
   {
    "duration": 10,
    "start_time": "2024-07-08T20:46:25.778Z"
   },
   {
    "duration": 37,
    "start_time": "2024-07-08T20:53:18.215Z"
   },
   {
    "duration": 170,
    "start_time": "2024-07-08T20:53:42.583Z"
   },
   {
    "duration": 21,
    "start_time": "2024-07-08T20:54:16.199Z"
   },
   {
    "duration": 156,
    "start_time": "2024-07-08T20:54:20.435Z"
   },
   {
    "duration": 158,
    "start_time": "2024-07-08T20:54:25.351Z"
   },
   {
    "duration": 22,
    "start_time": "2024-07-08T20:54:48.329Z"
   },
   {
    "duration": 107,
    "start_time": "2024-07-08T20:54:54.608Z"
   },
   {
    "duration": 181,
    "start_time": "2024-07-08T20:54:58.234Z"
   },
   {
    "duration": 178,
    "start_time": "2024-07-08T21:01:20.082Z"
   },
   {
    "duration": 161,
    "start_time": "2024-07-08T21:01:25.041Z"
   },
   {
    "duration": 104,
    "start_time": "2024-07-08T21:02:58.337Z"
   },
   {
    "duration": 102,
    "start_time": "2024-07-08T21:09:39.829Z"
   },
   {
    "duration": 160,
    "start_time": "2024-07-08T21:09:43.062Z"
   },
   {
    "duration": 309,
    "start_time": "2024-07-09T15:23:55.976Z"
   },
   {
    "duration": 469,
    "start_time": "2024-07-09T15:24:02.218Z"
   },
   {
    "duration": 1658,
    "start_time": "2024-07-09T15:24:02.691Z"
   },
   {
    "duration": 39,
    "start_time": "2024-07-09T15:24:04.352Z"
   },
   {
    "duration": 38,
    "start_time": "2024-07-09T15:24:04.395Z"
   },
   {
    "duration": 20,
    "start_time": "2024-07-09T15:24:04.436Z"
   },
   {
    "duration": 19,
    "start_time": "2024-07-09T15:24:04.460Z"
   },
   {
    "duration": 92,
    "start_time": "2024-07-09T15:24:04.482Z"
   },
   {
    "duration": 356,
    "start_time": "2024-07-09T15:24:04.577Z"
   },
   {
    "duration": 102,
    "start_time": "2024-07-09T15:24:04.935Z"
   },
   {
    "duration": 122,
    "start_time": "2024-07-09T15:24:05.044Z"
   },
   {
    "duration": 177,
    "start_time": "2024-07-09T15:24:05.169Z"
   },
   {
    "duration": 99,
    "start_time": "2024-07-09T15:24:05.349Z"
   },
   {
    "duration": 4,
    "start_time": "2024-07-09T15:24:05.451Z"
   },
   {
    "duration": 5,
    "start_time": "2024-07-09T15:24:05.458Z"
   },
   {
    "duration": 5,
    "start_time": "2024-07-09T15:24:05.466Z"
   },
   {
    "duration": 4,
    "start_time": "2024-07-09T15:24:05.474Z"
   },
   {
    "duration": 5,
    "start_time": "2024-07-09T15:24:05.481Z"
   },
   {
    "duration": 4,
    "start_time": "2024-07-09T15:24:05.532Z"
   },
   {
    "duration": 4,
    "start_time": "2024-07-09T15:24:05.540Z"
   },
   {
    "duration": 3,
    "start_time": "2024-07-09T15:24:05.548Z"
   },
   {
    "duration": 6,
    "start_time": "2024-07-09T15:24:05.554Z"
   },
   {
    "duration": 4,
    "start_time": "2024-07-09T15:24:05.563Z"
   },
   {
    "duration": 5,
    "start_time": "2024-07-09T15:24:05.570Z"
   },
   {
    "duration": 52,
    "start_time": "2024-07-09T15:24:05.578Z"
   },
   {
    "duration": 9,
    "start_time": "2024-07-09T15:24:05.634Z"
   },
   {
    "duration": 8,
    "start_time": "2024-07-09T15:24:05.649Z"
   },
   {
    "duration": 3,
    "start_time": "2024-07-09T15:24:05.661Z"
   },
   {
    "duration": 4,
    "start_time": "2024-07-09T15:24:05.673Z"
   },
   {
    "duration": 4,
    "start_time": "2024-07-09T15:24:05.681Z"
   },
   {
    "duration": 44,
    "start_time": "2024-07-09T15:24:05.688Z"
   },
   {
    "duration": 3,
    "start_time": "2024-07-09T15:24:05.736Z"
   },
   {
    "duration": 12,
    "start_time": "2024-07-09T15:24:05.742Z"
   },
   {
    "duration": 3,
    "start_time": "2024-07-09T15:24:05.758Z"
   },
   {
    "duration": 4,
    "start_time": "2024-07-09T15:24:05.764Z"
   },
   {
    "duration": 22,
    "start_time": "2024-07-09T15:35:16.988Z"
   },
   {
    "duration": 8,
    "start_time": "2024-07-09T15:36:28.209Z"
   },
   {
    "duration": 856,
    "start_time": "2024-07-09T15:36:40.251Z"
   },
   {
    "duration": 80,
    "start_time": "2024-07-09T15:36:55.980Z"
   },
   {
    "duration": 72,
    "start_time": "2024-07-09T15:37:27.360Z"
   },
   {
    "duration": 86,
    "start_time": "2024-07-09T15:38:34.099Z"
   },
   {
    "duration": 73,
    "start_time": "2024-07-09T15:38:54.900Z"
   },
   {
    "duration": 434,
    "start_time": "2024-07-09T17:20:19.398Z"
   },
   {
    "duration": 1696,
    "start_time": "2024-07-09T17:20:19.835Z"
   },
   {
    "duration": 33,
    "start_time": "2024-07-09T17:20:21.534Z"
   },
   {
    "duration": 15,
    "start_time": "2024-07-09T17:20:21.570Z"
   },
   {
    "duration": 47,
    "start_time": "2024-07-09T17:20:21.590Z"
   },
   {
    "duration": 21,
    "start_time": "2024-07-09T17:20:21.640Z"
   },
   {
    "duration": 84,
    "start_time": "2024-07-09T17:20:21.664Z"
   },
   {
    "duration": 358,
    "start_time": "2024-07-09T17:20:21.754Z"
   },
   {
    "duration": 102,
    "start_time": "2024-07-09T17:20:22.116Z"
   },
   {
    "duration": 126,
    "start_time": "2024-07-09T17:20:22.221Z"
   },
   {
    "duration": 192,
    "start_time": "2024-07-09T17:20:22.351Z"
   },
   {
    "duration": 91,
    "start_time": "2024-07-09T17:20:22.546Z"
   },
   {
    "duration": 25,
    "start_time": "2024-07-09T17:20:22.640Z"
   },
   {
    "duration": 1173,
    "start_time": "2024-07-09T17:20:22.672Z"
   },
   {
    "duration": 0,
    "start_time": "2024-07-09T17:20:23.847Z"
   },
   {
    "duration": 0,
    "start_time": "2024-07-09T17:20:23.849Z"
   },
   {
    "duration": 0,
    "start_time": "2024-07-09T17:20:23.851Z"
   },
   {
    "duration": 0,
    "start_time": "2024-07-09T17:20:23.853Z"
   },
   {
    "duration": 0,
    "start_time": "2024-07-09T17:20:23.856Z"
   },
   {
    "duration": 0,
    "start_time": "2024-07-09T17:20:23.858Z"
   },
   {
    "duration": 0,
    "start_time": "2024-07-09T17:20:23.860Z"
   },
   {
    "duration": 0,
    "start_time": "2024-07-09T17:20:23.862Z"
   },
   {
    "duration": 0,
    "start_time": "2024-07-09T17:20:23.864Z"
   },
   {
    "duration": 0,
    "start_time": "2024-07-09T17:20:23.866Z"
   },
   {
    "duration": 0,
    "start_time": "2024-07-09T17:20:23.868Z"
   },
   {
    "duration": 0,
    "start_time": "2024-07-09T17:20:23.869Z"
   },
   {
    "duration": 0,
    "start_time": "2024-07-09T17:20:23.871Z"
   },
   {
    "duration": 0,
    "start_time": "2024-07-09T17:20:23.874Z"
   },
   {
    "duration": 0,
    "start_time": "2024-07-09T17:20:23.876Z"
   },
   {
    "duration": 0,
    "start_time": "2024-07-09T17:20:23.877Z"
   },
   {
    "duration": 0,
    "start_time": "2024-07-09T17:20:23.880Z"
   },
   {
    "duration": 0,
    "start_time": "2024-07-09T17:20:23.882Z"
   },
   {
    "duration": 0,
    "start_time": "2024-07-09T17:20:23.931Z"
   },
   {
    "duration": 0,
    "start_time": "2024-07-09T17:20:23.934Z"
   },
   {
    "duration": 73,
    "start_time": "2024-07-09T17:20:56.697Z"
   },
   {
    "duration": 22,
    "start_time": "2024-07-09T17:27:39.456Z"
   },
   {
    "duration": 34,
    "start_time": "2024-07-09T17:36:59.076Z"
   },
   {
    "duration": 39,
    "start_time": "2024-07-09T17:37:12.219Z"
   },
   {
    "duration": 27,
    "start_time": "2024-07-09T17:37:32.006Z"
   },
   {
    "duration": 11,
    "start_time": "2024-07-09T17:38:33.338Z"
   },
   {
    "duration": 77,
    "start_time": "2024-07-09T17:38:52.376Z"
   },
   {
    "duration": 16,
    "start_time": "2024-07-09T17:39:18.584Z"
   },
   {
    "duration": 70,
    "start_time": "2024-07-09T17:40:14.539Z"
   },
   {
    "duration": 33,
    "start_time": "2024-07-09T17:40:45.497Z"
   },
   {
    "duration": 24,
    "start_time": "2024-07-09T17:42:00.662Z"
   },
   {
    "duration": 50,
    "start_time": "2024-07-09T17:42:22.889Z"
   },
   {
    "duration": 21,
    "start_time": "2024-07-09T17:45:00.508Z"
   },
   {
    "duration": 94,
    "start_time": "2024-07-09T17:45:13.837Z"
   },
   {
    "duration": 18,
    "start_time": "2024-07-09T17:45:35.975Z"
   },
   {
    "duration": 10,
    "start_time": "2024-07-09T17:46:21.733Z"
   },
   {
    "duration": 10,
    "start_time": "2024-07-09T17:46:31.511Z"
   },
   {
    "duration": 11,
    "start_time": "2024-07-09T17:46:37.567Z"
   },
   {
    "duration": 22,
    "start_time": "2024-07-09T17:47:08.158Z"
   },
   {
    "duration": 78,
    "start_time": "2024-07-09T17:47:17.245Z"
   },
   {
    "duration": 22,
    "start_time": "2024-07-09T17:47:26.245Z"
   },
   {
    "duration": 17,
    "start_time": "2024-07-09T17:47:44.087Z"
   },
   {
    "duration": 28,
    "start_time": "2024-07-09T17:47:51.744Z"
   },
   {
    "duration": 17,
    "start_time": "2024-07-09T17:49:06.586Z"
   },
   {
    "duration": 43,
    "start_time": "2024-07-09T17:49:44.501Z"
   },
   {
    "duration": 522,
    "start_time": "2024-07-09T19:59:26.614Z"
   },
   {
    "duration": 1873,
    "start_time": "2024-07-09T19:59:27.140Z"
   },
   {
    "duration": 38,
    "start_time": "2024-07-09T19:59:29.017Z"
   },
   {
    "duration": 50,
    "start_time": "2024-07-09T19:59:29.058Z"
   },
   {
    "duration": 23,
    "start_time": "2024-07-09T19:59:29.113Z"
   },
   {
    "duration": 24,
    "start_time": "2024-07-09T19:59:29.140Z"
   },
   {
    "duration": 51,
    "start_time": "2024-07-09T19:59:29.209Z"
   },
   {
    "duration": 446,
    "start_time": "2024-07-09T19:59:29.264Z"
   },
   {
    "duration": 145,
    "start_time": "2024-07-09T19:59:29.717Z"
   },
   {
    "duration": 140,
    "start_time": "2024-07-09T19:59:29.869Z"
   },
   {
    "duration": 223,
    "start_time": "2024-07-09T19:59:30.012Z"
   },
   {
    "duration": 110,
    "start_time": "2024-07-09T19:59:30.241Z"
   },
   {
    "duration": 28,
    "start_time": "2024-07-09T19:59:30.354Z"
   },
   {
    "duration": 30,
    "start_time": "2024-07-09T19:59:30.389Z"
   },
   {
    "duration": 37,
    "start_time": "2024-07-09T19:59:30.423Z"
   },
   {
    "duration": 81,
    "start_time": "2024-07-09T19:59:30.463Z"
   },
   {
    "duration": 4,
    "start_time": "2024-07-09T19:59:30.547Z"
   },
   {
    "duration": 5,
    "start_time": "2024-07-09T19:59:30.555Z"
   },
   {
    "duration": 4,
    "start_time": "2024-07-09T19:59:30.565Z"
   },
   {
    "duration": 5,
    "start_time": "2024-07-09T19:59:30.612Z"
   },
   {
    "duration": 5,
    "start_time": "2024-07-09T19:59:30.621Z"
   },
   {
    "duration": 8,
    "start_time": "2024-07-09T19:59:30.631Z"
   },
   {
    "duration": 4,
    "start_time": "2024-07-09T19:59:30.643Z"
   },
   {
    "duration": 4,
    "start_time": "2024-07-09T19:59:30.652Z"
   },
   {
    "duration": 50,
    "start_time": "2024-07-09T19:59:30.661Z"
   },
   {
    "duration": 5,
    "start_time": "2024-07-09T19:59:30.715Z"
   },
   {
    "duration": 5,
    "start_time": "2024-07-09T19:59:30.724Z"
   },
   {
    "duration": 5,
    "start_time": "2024-07-09T19:59:30.733Z"
   },
   {
    "duration": 4,
    "start_time": "2024-07-09T19:59:30.742Z"
   },
   {
    "duration": 4,
    "start_time": "2024-07-09T19:59:30.751Z"
   },
   {
    "duration": 4,
    "start_time": "2024-07-09T19:59:30.811Z"
   },
   {
    "duration": 4,
    "start_time": "2024-07-09T19:59:30.819Z"
   },
   {
    "duration": 4,
    "start_time": "2024-07-09T19:59:30.826Z"
   },
   {
    "duration": 4,
    "start_time": "2024-07-09T19:59:30.836Z"
   },
   {
    "duration": 388,
    "start_time": "2024-07-09T20:13:04.899Z"
   },
   {
    "duration": 1621,
    "start_time": "2024-07-09T20:13:44.715Z"
   },
   {
    "duration": 22,
    "start_time": "2024-07-09T20:13:49.638Z"
   },
   {
    "duration": 8,
    "start_time": "2024-07-09T20:13:55.201Z"
   },
   {
    "duration": 8,
    "start_time": "2024-07-09T20:21:47.970Z"
   },
   {
    "duration": 7,
    "start_time": "2024-07-09T20:21:59.341Z"
   },
   {
    "duration": 26,
    "start_time": "2024-07-09T20:22:47.543Z"
   },
   {
    "duration": 6,
    "start_time": "2024-07-09T20:22:57.555Z"
   },
   {
    "duration": 24,
    "start_time": "2024-07-09T20:24:18.446Z"
   },
   {
    "duration": 7,
    "start_time": "2024-07-09T20:24:22.916Z"
   },
   {
    "duration": 22,
    "start_time": "2024-07-09T20:24:59.728Z"
   },
   {
    "duration": 6,
    "start_time": "2024-07-09T20:25:08.067Z"
   },
   {
    "duration": 9,
    "start_time": "2024-07-09T20:25:41.032Z"
   },
   {
    "duration": 8,
    "start_time": "2024-07-09T20:25:55.220Z"
   },
   {
    "duration": 1351,
    "start_time": "2024-07-09T20:26:36.594Z"
   },
   {
    "duration": 1181,
    "start_time": "2024-07-09T20:29:36.024Z"
   },
   {
    "duration": 1191,
    "start_time": "2024-07-09T20:29:49.989Z"
   },
   {
    "duration": 28,
    "start_time": "2024-07-09T20:30:33.856Z"
   },
   {
    "duration": 9,
    "start_time": "2024-07-09T20:30:39.174Z"
   },
   {
    "duration": 8,
    "start_time": "2024-07-09T20:31:20.935Z"
   },
   {
    "duration": 11,
    "start_time": "2024-07-09T20:31:38.118Z"
   },
   {
    "duration": 13,
    "start_time": "2024-07-09T20:32:03.138Z"
   },
   {
    "duration": 10,
    "start_time": "2024-07-09T20:32:14.877Z"
   },
   {
    "duration": 13,
    "start_time": "2024-07-09T20:32:27.602Z"
   },
   {
    "duration": 9,
    "start_time": "2024-07-09T20:34:18.789Z"
   },
   {
    "duration": 10,
    "start_time": "2024-07-09T20:35:43.279Z"
   },
   {
    "duration": 22,
    "start_time": "2024-07-09T20:37:04.253Z"
   },
   {
    "duration": 20,
    "start_time": "2024-07-09T20:37:11.605Z"
   },
   {
    "duration": 15,
    "start_time": "2024-07-09T20:38:05.537Z"
   },
   {
    "duration": 15,
    "start_time": "2024-07-09T20:38:11.192Z"
   },
   {
    "duration": 16,
    "start_time": "2024-07-09T20:38:12.273Z"
   },
   {
    "duration": 17,
    "start_time": "2024-07-09T20:38:13.222Z"
   },
   {
    "duration": 14,
    "start_time": "2024-07-09T20:38:13.789Z"
   },
   {
    "duration": 14,
    "start_time": "2024-07-09T20:38:14.379Z"
   },
   {
    "duration": 14,
    "start_time": "2024-07-09T20:38:14.765Z"
   },
   {
    "duration": 23,
    "start_time": "2024-07-09T20:38:15.098Z"
   },
   {
    "duration": 17,
    "start_time": "2024-07-09T20:38:15.381Z"
   },
   {
    "duration": 27,
    "start_time": "2024-07-09T20:38:15.602Z"
   },
   {
    "duration": 17,
    "start_time": "2024-07-09T20:38:15.761Z"
   },
   {
    "duration": 18,
    "start_time": "2024-07-09T20:38:15.925Z"
   },
   {
    "duration": 15,
    "start_time": "2024-07-09T20:38:16.081Z"
   },
   {
    "duration": 16,
    "start_time": "2024-07-09T20:38:16.273Z"
   },
   {
    "duration": 13,
    "start_time": "2024-07-09T20:38:16.433Z"
   },
   {
    "duration": 16,
    "start_time": "2024-07-09T20:38:16.604Z"
   },
   {
    "duration": 15,
    "start_time": "2024-07-09T20:38:16.757Z"
   },
   {
    "duration": 18,
    "start_time": "2024-07-09T20:39:36.749Z"
   },
   {
    "duration": 20,
    "start_time": "2024-07-09T20:39:51.644Z"
   },
   {
    "duration": 849,
    "start_time": "2024-07-09T20:41:19.086Z"
   },
   {
    "duration": 12,
    "start_time": "2024-07-09T20:41:38.785Z"
   },
   {
    "duration": 30,
    "start_time": "2024-07-09T20:51:05.019Z"
   },
   {
    "duration": 12,
    "start_time": "2024-07-09T20:51:12.795Z"
   },
   {
    "duration": 14,
    "start_time": "2024-07-09T20:51:20.136Z"
   },
   {
    "duration": 13,
    "start_time": "2024-07-09T20:54:13.660Z"
   },
   {
    "duration": 13,
    "start_time": "2024-07-09T20:54:58.044Z"
   },
   {
    "duration": 17,
    "start_time": "2024-07-09T21:04:45.014Z"
   },
   {
    "duration": 11,
    "start_time": "2024-07-09T21:06:08.483Z"
   },
   {
    "duration": 12,
    "start_time": "2024-07-09T21:06:36.828Z"
   },
   {
    "duration": 10,
    "start_time": "2024-07-09T21:06:59.459Z"
   },
   {
    "duration": 12,
    "start_time": "2024-07-09T21:07:12.224Z"
   },
   {
    "duration": 9,
    "start_time": "2024-07-09T21:07:15.061Z"
   },
   {
    "duration": 316,
    "start_time": "2024-07-09T21:14:32.876Z"
   },
   {
    "duration": 12,
    "start_time": "2024-07-09T21:14:53.942Z"
   },
   {
    "duration": 16,
    "start_time": "2024-07-09T21:16:00.507Z"
   },
   {
    "duration": 11,
    "start_time": "2024-07-09T21:16:33.999Z"
   },
   {
    "duration": 9,
    "start_time": "2024-07-09T21:16:38.418Z"
   },
   {
    "duration": 9,
    "start_time": "2024-07-09T21:16:40.844Z"
   },
   {
    "duration": 23,
    "start_time": "2024-07-09T21:16:47.142Z"
   },
   {
    "duration": 17,
    "start_time": "2024-07-09T21:17:36.507Z"
   },
   {
    "duration": 17,
    "start_time": "2024-07-09T21:17:47.907Z"
   },
   {
    "duration": 32,
    "start_time": "2024-07-09T21:17:54.888Z"
   },
   {
    "duration": 17,
    "start_time": "2024-07-09T21:18:03.730Z"
   },
   {
    "duration": 19,
    "start_time": "2024-07-09T21:20:32.269Z"
   },
   {
    "duration": 11,
    "start_time": "2024-07-09T21:20:38.402Z"
   },
   {
    "duration": 462,
    "start_time": "2024-07-10T19:22:17.249Z"
   },
   {
    "duration": 1687,
    "start_time": "2024-07-10T19:22:17.714Z"
   },
   {
    "duration": 31,
    "start_time": "2024-07-10T19:22:19.404Z"
   },
   {
    "duration": 35,
    "start_time": "2024-07-10T19:22:19.440Z"
   },
   {
    "duration": 19,
    "start_time": "2024-07-10T19:22:19.479Z"
   },
   {
    "duration": 20,
    "start_time": "2024-07-10T19:22:19.504Z"
   },
   {
    "duration": 82,
    "start_time": "2024-07-10T19:22:19.527Z"
   },
   {
    "duration": 339,
    "start_time": "2024-07-10T19:22:19.613Z"
   },
   {
    "duration": 100,
    "start_time": "2024-07-10T19:22:19.955Z"
   },
   {
    "duration": 114,
    "start_time": "2024-07-10T19:22:20.071Z"
   },
   {
    "duration": 179,
    "start_time": "2024-07-10T19:22:20.188Z"
   },
   {
    "duration": 106,
    "start_time": "2024-07-10T19:22:20.370Z"
   },
   {
    "duration": 25,
    "start_time": "2024-07-10T19:22:20.479Z"
   },
   {
    "duration": 13,
    "start_time": "2024-07-10T19:22:20.507Z"
   },
   {
    "duration": 66,
    "start_time": "2024-07-10T19:22:20.524Z"
   },
   {
    "duration": 40,
    "start_time": "2024-07-10T19:22:20.593Z"
   },
   {
    "duration": 37,
    "start_time": "2024-07-10T19:22:20.636Z"
   },
   {
    "duration": 9,
    "start_time": "2024-07-10T19:22:20.676Z"
   },
   {
    "duration": 367,
    "start_time": "2024-07-10T19:22:20.688Z"
   },
   {
    "duration": 0,
    "start_time": "2024-07-10T19:22:21.059Z"
   },
   {
    "duration": 0,
    "start_time": "2024-07-10T19:22:21.068Z"
   },
   {
    "duration": 0,
    "start_time": "2024-07-10T19:22:21.070Z"
   },
   {
    "duration": 0,
    "start_time": "2024-07-10T19:22:21.072Z"
   },
   {
    "duration": 0,
    "start_time": "2024-07-10T19:22:21.074Z"
   },
   {
    "duration": 0,
    "start_time": "2024-07-10T19:22:21.076Z"
   },
   {
    "duration": 0,
    "start_time": "2024-07-10T19:22:21.079Z"
   },
   {
    "duration": 0,
    "start_time": "2024-07-10T19:22:21.080Z"
   },
   {
    "duration": 0,
    "start_time": "2024-07-10T19:22:21.083Z"
   },
   {
    "duration": 0,
    "start_time": "2024-07-10T19:22:21.085Z"
   },
   {
    "duration": 0,
    "start_time": "2024-07-10T19:22:21.087Z"
   },
   {
    "duration": 0,
    "start_time": "2024-07-10T19:22:21.093Z"
   },
   {
    "duration": 0,
    "start_time": "2024-07-10T19:22:21.095Z"
   },
   {
    "duration": 0,
    "start_time": "2024-07-10T19:22:21.098Z"
   },
   {
    "duration": 0,
    "start_time": "2024-07-10T19:22:21.101Z"
   },
   {
    "duration": 0,
    "start_time": "2024-07-10T19:22:21.103Z"
   },
   {
    "duration": 0,
    "start_time": "2024-07-10T19:22:21.105Z"
   },
   {
    "duration": 0,
    "start_time": "2024-07-10T19:22:21.107Z"
   },
   {
    "duration": 0,
    "start_time": "2024-07-10T19:22:21.109Z"
   },
   {
    "duration": 0,
    "start_time": "2024-07-10T19:22:21.169Z"
   },
   {
    "duration": 0,
    "start_time": "2024-07-10T19:22:21.171Z"
   },
   {
    "duration": 11,
    "start_time": "2024-07-10T19:22:40.584Z"
   },
   {
    "duration": 29,
    "start_time": "2024-07-10T19:26:37.094Z"
   },
   {
    "duration": 22,
    "start_time": "2024-07-10T19:29:26.877Z"
   },
   {
    "duration": 12,
    "start_time": "2024-07-10T19:29:30.634Z"
   },
   {
    "duration": 17,
    "start_time": "2024-07-10T19:29:48.185Z"
   },
   {
    "duration": 28,
    "start_time": "2024-07-10T19:29:57.356Z"
   },
   {
    "duration": 28,
    "start_time": "2024-07-10T19:29:58.498Z"
   },
   {
    "duration": 27,
    "start_time": "2024-07-10T19:29:58.960Z"
   },
   {
    "duration": 27,
    "start_time": "2024-07-10T19:29:59.375Z"
   },
   {
    "duration": 28,
    "start_time": "2024-07-10T19:29:59.866Z"
   },
   {
    "duration": 28,
    "start_time": "2024-07-10T19:30:00.322Z"
   },
   {
    "duration": 26,
    "start_time": "2024-07-10T19:30:00.720Z"
   },
   {
    "duration": 27,
    "start_time": "2024-07-10T19:30:01.207Z"
   },
   {
    "duration": 28,
    "start_time": "2024-07-10T19:30:01.631Z"
   },
   {
    "duration": 27,
    "start_time": "2024-07-10T19:30:02.013Z"
   },
   {
    "duration": 27,
    "start_time": "2024-07-10T19:30:02.382Z"
   },
   {
    "duration": 29,
    "start_time": "2024-07-10T19:30:02.766Z"
   },
   {
    "duration": 29,
    "start_time": "2024-07-10T19:30:03.163Z"
   },
   {
    "duration": 28,
    "start_time": "2024-07-10T19:30:03.497Z"
   },
   {
    "duration": 27,
    "start_time": "2024-07-10T19:30:03.830Z"
   },
   {
    "duration": 27,
    "start_time": "2024-07-10T19:30:04.092Z"
   },
   {
    "duration": 28,
    "start_time": "2024-07-10T19:30:04.295Z"
   },
   {
    "duration": 60,
    "start_time": "2024-07-10T19:30:24.103Z"
   },
   {
    "duration": 64,
    "start_time": "2024-07-10T19:30:29.610Z"
   },
   {
    "duration": 11,
    "start_time": "2024-07-10T19:30:58.636Z"
   },
   {
    "duration": 7,
    "start_time": "2024-07-10T19:56:40.955Z"
   },
   {
    "duration": 20,
    "start_time": "2024-07-10T19:56:49.155Z"
   },
   {
    "duration": 883,
    "start_time": "2024-07-10T20:16:22.181Z"
   },
   {
    "duration": 34,
    "start_time": "2024-07-10T20:16:37.968Z"
   },
   {
    "duration": 7,
    "start_time": "2024-07-10T20:17:02.604Z"
   },
   {
    "duration": 48,
    "start_time": "2024-07-10T20:17:06.940Z"
   },
   {
    "duration": 23,
    "start_time": "2024-07-10T20:17:20.371Z"
   },
   {
    "duration": 23,
    "start_time": "2024-07-10T20:17:22.549Z"
   },
   {
    "duration": 56,
    "start_time": "2024-07-10T20:18:04.919Z"
   },
   {
    "duration": 75,
    "start_time": "2024-07-10T21:09:50.181Z"
   },
   {
    "duration": 274,
    "start_time": "2024-07-10T21:10:04.879Z"
   },
   {
    "duration": 25,
    "start_time": "2024-07-10T21:12:05.409Z"
   },
   {
    "duration": 26,
    "start_time": "2024-07-10T21:12:11.642Z"
   },
   {
    "duration": 28,
    "start_time": "2024-07-10T21:12:16.480Z"
   },
   {
    "duration": 45,
    "start_time": "2024-07-10T21:12:40.082Z"
   },
   {
    "duration": 25,
    "start_time": "2024-07-10T21:12:56.693Z"
   },
   {
    "duration": 25,
    "start_time": "2024-07-10T21:12:58.858Z"
   },
   {
    "duration": 26,
    "start_time": "2024-07-10T21:20:10.197Z"
   },
   {
    "duration": 22,
    "start_time": "2024-07-10T21:20:34.591Z"
   },
   {
    "duration": 26,
    "start_time": "2024-07-10T21:21:18.757Z"
   },
   {
    "duration": 18,
    "start_time": "2024-07-10T21:21:32.376Z"
   },
   {
    "duration": 10,
    "start_time": "2024-07-10T21:27:10.019Z"
   },
   {
    "duration": 19,
    "start_time": "2024-07-10T21:28:07.688Z"
   },
   {
    "duration": 377,
    "start_time": "2024-07-10T21:29:40.710Z"
   },
   {
    "duration": 20,
    "start_time": "2024-07-10T21:29:54.060Z"
   },
   {
    "duration": 23,
    "start_time": "2024-07-10T21:30:00.290Z"
   },
   {
    "duration": 457,
    "start_time": "2024-07-10T21:30:03.341Z"
   },
   {
    "duration": 1706,
    "start_time": "2024-07-10T21:30:03.802Z"
   },
   {
    "duration": 30,
    "start_time": "2024-07-10T21:30:05.511Z"
   },
   {
    "duration": 17,
    "start_time": "2024-07-10T21:30:05.567Z"
   },
   {
    "duration": 21,
    "start_time": "2024-07-10T21:30:05.586Z"
   },
   {
    "duration": 58,
    "start_time": "2024-07-10T21:30:05.610Z"
   },
   {
    "duration": 51,
    "start_time": "2024-07-10T21:30:05.671Z"
   },
   {
    "duration": 371,
    "start_time": "2024-07-10T21:30:05.725Z"
   },
   {
    "duration": 122,
    "start_time": "2024-07-10T21:30:06.099Z"
   },
   {
    "duration": 129,
    "start_time": "2024-07-10T21:30:06.227Z"
   },
   {
    "duration": 184,
    "start_time": "2024-07-10T21:30:06.359Z"
   },
   {
    "duration": 104,
    "start_time": "2024-07-10T21:30:06.546Z"
   },
   {
    "duration": 37,
    "start_time": "2024-07-10T21:30:06.654Z"
   },
   {
    "duration": 14,
    "start_time": "2024-07-10T21:30:06.694Z"
   },
   {
    "duration": 63,
    "start_time": "2024-07-10T21:30:06.712Z"
   },
   {
    "duration": 42,
    "start_time": "2024-07-10T21:30:06.779Z"
   },
   {
    "duration": 8,
    "start_time": "2024-07-10T21:30:06.824Z"
   },
   {
    "duration": 42,
    "start_time": "2024-07-10T21:30:06.834Z"
   },
   {
    "duration": 58,
    "start_time": "2024-07-10T21:30:06.880Z"
   },
   {
    "duration": 0,
    "start_time": "2024-07-10T21:30:06.943Z"
   },
   {
    "duration": 0,
    "start_time": "2024-07-10T21:30:06.969Z"
   },
   {
    "duration": 0,
    "start_time": "2024-07-10T21:30:06.972Z"
   },
   {
    "duration": 0,
    "start_time": "2024-07-10T21:30:06.975Z"
   },
   {
    "duration": 0,
    "start_time": "2024-07-10T21:30:06.977Z"
   },
   {
    "duration": 0,
    "start_time": "2024-07-10T21:30:06.980Z"
   },
   {
    "duration": 0,
    "start_time": "2024-07-10T21:30:06.982Z"
   },
   {
    "duration": 0,
    "start_time": "2024-07-10T21:30:06.985Z"
   },
   {
    "duration": 1,
    "start_time": "2024-07-10T21:30:06.987Z"
   },
   {
    "duration": 0,
    "start_time": "2024-07-10T21:30:06.990Z"
   },
   {
    "duration": 0,
    "start_time": "2024-07-10T21:30:06.993Z"
   },
   {
    "duration": 0,
    "start_time": "2024-07-10T21:30:06.995Z"
   },
   {
    "duration": 0,
    "start_time": "2024-07-10T21:30:06.998Z"
   },
   {
    "duration": 0,
    "start_time": "2024-07-10T21:30:07.001Z"
   },
   {
    "duration": 0,
    "start_time": "2024-07-10T21:30:07.003Z"
   },
   {
    "duration": 0,
    "start_time": "2024-07-10T21:30:07.005Z"
   },
   {
    "duration": 0,
    "start_time": "2024-07-10T21:30:07.007Z"
   },
   {
    "duration": 0,
    "start_time": "2024-07-10T21:30:07.009Z"
   },
   {
    "duration": 0,
    "start_time": "2024-07-10T21:30:07.010Z"
   },
   {
    "duration": 0,
    "start_time": "2024-07-10T21:30:07.069Z"
   },
   {
    "duration": 0,
    "start_time": "2024-07-10T21:30:07.076Z"
   },
   {
    "duration": 0,
    "start_time": "2024-07-10T21:30:07.078Z"
   },
   {
    "duration": 0,
    "start_time": "2024-07-10T21:30:07.080Z"
   },
   {
    "duration": 0,
    "start_time": "2024-07-10T21:30:07.081Z"
   },
   {
    "duration": 0,
    "start_time": "2024-07-10T21:30:07.084Z"
   },
   {
    "duration": 0,
    "start_time": "2024-07-10T21:30:07.088Z"
   },
   {
    "duration": 0,
    "start_time": "2024-07-10T21:30:07.090Z"
   },
   {
    "duration": 20,
    "start_time": "2024-07-10T21:30:09.245Z"
   },
   {
    "duration": 4,
    "start_time": "2024-07-10T21:32:14.542Z"
   },
   {
    "duration": 1600,
    "start_time": "2024-07-10T21:32:14.557Z"
   },
   {
    "duration": 33,
    "start_time": "2024-07-10T21:32:16.162Z"
   },
   {
    "duration": 22,
    "start_time": "2024-07-10T21:32:16.199Z"
   },
   {
    "duration": 48,
    "start_time": "2024-07-10T21:32:16.229Z"
   },
   {
    "duration": 25,
    "start_time": "2024-07-10T21:32:16.282Z"
   },
   {
    "duration": 79,
    "start_time": "2024-07-10T21:32:16.310Z"
   },
   {
    "duration": 389,
    "start_time": "2024-07-10T21:32:16.393Z"
   },
   {
    "duration": 119,
    "start_time": "2024-07-10T21:32:16.784Z"
   },
   {
    "duration": 103,
    "start_time": "2024-07-10T21:32:16.908Z"
   },
   {
    "duration": 203,
    "start_time": "2024-07-10T21:32:17.015Z"
   },
   {
    "duration": 104,
    "start_time": "2024-07-10T21:32:17.223Z"
   },
   {
    "duration": 39,
    "start_time": "2024-07-10T21:32:17.331Z"
   },
   {
    "duration": 12,
    "start_time": "2024-07-10T21:32:17.374Z"
   },
   {
    "duration": 36,
    "start_time": "2024-07-10T21:32:17.395Z"
   },
   {
    "duration": 72,
    "start_time": "2024-07-10T21:32:17.434Z"
   },
   {
    "duration": 7,
    "start_time": "2024-07-10T21:32:17.509Z"
   },
   {
    "duration": 10,
    "start_time": "2024-07-10T21:32:17.519Z"
   },
   {
    "duration": 55,
    "start_time": "2024-07-10T21:32:17.532Z"
   },
   {
    "duration": 0,
    "start_time": "2024-07-10T21:32:17.590Z"
   },
   {
    "duration": 0,
    "start_time": "2024-07-10T21:32:17.592Z"
   },
   {
    "duration": 0,
    "start_time": "2024-07-10T21:32:17.595Z"
   },
   {
    "duration": 0,
    "start_time": "2024-07-10T21:32:17.598Z"
   },
   {
    "duration": 0,
    "start_time": "2024-07-10T21:32:17.600Z"
   },
   {
    "duration": 0,
    "start_time": "2024-07-10T21:32:17.602Z"
   },
   {
    "duration": 0,
    "start_time": "2024-07-10T21:32:17.605Z"
   },
   {
    "duration": 0,
    "start_time": "2024-07-10T21:32:17.608Z"
   },
   {
    "duration": 0,
    "start_time": "2024-07-10T21:32:17.610Z"
   },
   {
    "duration": 0,
    "start_time": "2024-07-10T21:32:17.613Z"
   },
   {
    "duration": 0,
    "start_time": "2024-07-10T21:32:17.615Z"
   },
   {
    "duration": 0,
    "start_time": "2024-07-10T21:32:17.667Z"
   },
   {
    "duration": 0,
    "start_time": "2024-07-10T21:32:17.669Z"
   },
   {
    "duration": 0,
    "start_time": "2024-07-10T21:32:17.672Z"
   },
   {
    "duration": 0,
    "start_time": "2024-07-10T21:32:17.674Z"
   },
   {
    "duration": 0,
    "start_time": "2024-07-10T21:32:17.675Z"
   },
   {
    "duration": 0,
    "start_time": "2024-07-10T21:32:17.677Z"
   },
   {
    "duration": 0,
    "start_time": "2024-07-10T21:32:17.679Z"
   },
   {
    "duration": 0,
    "start_time": "2024-07-10T21:32:17.684Z"
   },
   {
    "duration": 0,
    "start_time": "2024-07-10T21:32:17.686Z"
   },
   {
    "duration": 0,
    "start_time": "2024-07-10T21:32:17.688Z"
   },
   {
    "duration": 0,
    "start_time": "2024-07-10T21:32:17.690Z"
   },
   {
    "duration": 0,
    "start_time": "2024-07-10T21:32:17.692Z"
   },
   {
    "duration": 0,
    "start_time": "2024-07-10T21:32:17.694Z"
   },
   {
    "duration": 0,
    "start_time": "2024-07-10T21:32:17.696Z"
   },
   {
    "duration": 0,
    "start_time": "2024-07-10T21:32:17.698Z"
   },
   {
    "duration": 0,
    "start_time": "2024-07-10T21:32:17.700Z"
   },
   {
    "duration": 21,
    "start_time": "2024-07-10T21:33:01.231Z"
   },
   {
    "duration": 1358,
    "start_time": "2024-07-10T21:33:04.169Z"
   },
   {
    "duration": 1186,
    "start_time": "2024-07-10T21:33:08.782Z"
   },
   {
    "duration": 20,
    "start_time": "2024-07-10T21:33:13.632Z"
   },
   {
    "duration": 19,
    "start_time": "2024-07-10T21:33:15.824Z"
   },
   {
    "duration": 21,
    "start_time": "2024-07-10T21:33:18.946Z"
   },
   {
    "duration": 12,
    "start_time": "2024-07-10T21:33:21.135Z"
   },
   {
    "duration": 10,
    "start_time": "2024-07-10T21:33:23.268Z"
   },
   {
    "duration": 10,
    "start_time": "2024-07-10T21:33:26.725Z"
   },
   {
    "duration": 7,
    "start_time": "2024-07-10T21:33:29.047Z"
   },
   {
    "duration": 22,
    "start_time": "2024-07-10T21:33:33.831Z"
   },
   {
    "duration": 14,
    "start_time": "2024-07-10T21:33:36.857Z"
   },
   {
    "duration": 11,
    "start_time": "2024-07-10T21:33:40.364Z"
   },
   {
    "duration": 24,
    "start_time": "2024-07-10T21:33:42.715Z"
   },
   {
    "duration": 42,
    "start_time": "2024-07-10T21:33:45.509Z"
   },
   {
    "duration": 30,
    "start_time": "2024-07-10T21:33:47.900Z"
   },
   {
    "duration": 59,
    "start_time": "2024-07-10T21:33:49.862Z"
   },
   {
    "duration": 48,
    "start_time": "2024-07-10T21:34:00.959Z"
   },
   {
    "duration": 35,
    "start_time": "2024-07-10T21:34:10.546Z"
   },
   {
    "duration": 70,
    "start_time": "2024-07-10T21:34:14.709Z"
   },
   {
    "duration": 35,
    "start_time": "2024-07-10T21:34:19.469Z"
   },
   {
    "duration": 42,
    "start_time": "2024-07-10T21:34:21.268Z"
   },
   {
    "duration": 47,
    "start_time": "2024-07-10T21:34:23.392Z"
   },
   {
    "duration": 29,
    "start_time": "2024-07-10T21:37:00.416Z"
   },
   {
    "duration": 24,
    "start_time": "2024-07-10T21:37:03.202Z"
   },
   {
    "duration": 49,
    "start_time": "2024-07-10T21:37:05.099Z"
   },
   {
    "duration": 7,
    "start_time": "2024-07-10T21:37:23.677Z"
   },
   {
    "duration": 27,
    "start_time": "2024-07-10T21:37:33.091Z"
   },
   {
    "duration": 5,
    "start_time": "2024-07-10T21:37:50.750Z"
   },
   {
    "duration": 47,
    "start_time": "2024-07-10T21:37:57.056Z"
   },
   {
    "duration": 10,
    "start_time": "2024-07-10T21:38:45.465Z"
   },
   {
    "duration": 819,
    "start_time": "2024-07-10T21:39:06.108Z"
   },
   {
    "duration": 12,
    "start_time": "2024-07-10T21:39:37.190Z"
   },
   {
    "duration": 7,
    "start_time": "2024-07-10T21:40:06.751Z"
   },
   {
    "duration": 88,
    "start_time": "2024-07-10T21:40:29.501Z"
   },
   {
    "duration": 242,
    "start_time": "2024-07-10T21:40:35.559Z"
   },
   {
    "duration": 45,
    "start_time": "2024-07-10T21:41:10.684Z"
   },
   {
    "duration": 46,
    "start_time": "2024-07-10T21:41:20.703Z"
   },
   {
    "duration": 27,
    "start_time": "2024-07-10T21:41:33.292Z"
   },
   {
    "duration": 24,
    "start_time": "2024-07-10T21:41:43.472Z"
   },
   {
    "duration": 48,
    "start_time": "2024-07-10T21:41:45.390Z"
   },
   {
    "duration": 24,
    "start_time": "2024-07-10T21:42:05.057Z"
   },
   {
    "duration": 553,
    "start_time": "2024-07-10T21:42:23.660Z"
   },
   {
    "duration": 47,
    "start_time": "2024-07-10T21:42:46.296Z"
   },
   {
    "duration": 21,
    "start_time": "2024-07-10T21:44:15.476Z"
   },
   {
    "duration": 21,
    "start_time": "2024-07-10T21:44:19.422Z"
   },
   {
    "duration": 66,
    "start_time": "2024-07-10T21:44:22.118Z"
   },
   {
    "duration": 21,
    "start_time": "2024-07-10T21:44:53.180Z"
   },
   {
    "duration": 27,
    "start_time": "2024-07-10T21:45:05.697Z"
   },
   {
    "duration": 21,
    "start_time": "2024-07-10T21:45:20.982Z"
   },
   {
    "duration": 36,
    "start_time": "2024-07-10T21:45:24.238Z"
   },
   {
    "duration": 22,
    "start_time": "2024-07-10T21:45:33.475Z"
   },
   {
    "duration": 27,
    "start_time": "2024-07-10T21:45:35.492Z"
   },
   {
    "duration": 28,
    "start_time": "2024-07-10T21:46:15.627Z"
   },
   {
    "duration": 27,
    "start_time": "2024-07-10T21:46:20.152Z"
   },
   {
    "duration": 27,
    "start_time": "2024-07-10T21:46:22.640Z"
   },
   {
    "duration": 303,
    "start_time": "2024-07-10T21:46:58.707Z"
   },
   {
    "duration": 29,
    "start_time": "2024-07-10T21:47:16.622Z"
   },
   {
    "duration": 337,
    "start_time": "2024-07-11T02:37:17.267Z"
   },
   {
    "duration": 23,
    "start_time": "2024-07-11T02:37:40.007Z"
   },
   {
    "duration": 478,
    "start_time": "2024-07-11T02:37:43.910Z"
   },
   {
    "duration": 1650,
    "start_time": "2024-07-11T02:37:44.392Z"
   },
   {
    "duration": 31,
    "start_time": "2024-07-11T02:37:46.045Z"
   },
   {
    "duration": 17,
    "start_time": "2024-07-11T02:37:46.078Z"
   },
   {
    "duration": 19,
    "start_time": "2024-07-11T02:37:46.124Z"
   },
   {
    "duration": 19,
    "start_time": "2024-07-11T02:37:46.146Z"
   },
   {
    "duration": 86,
    "start_time": "2024-07-11T02:37:46.168Z"
   },
   {
    "duration": 339,
    "start_time": "2024-07-11T02:37:46.256Z"
   },
   {
    "duration": 138,
    "start_time": "2024-07-11T02:37:46.598Z"
   },
   {
    "duration": 132,
    "start_time": "2024-07-11T02:37:46.741Z"
   },
   {
    "duration": 181,
    "start_time": "2024-07-11T02:37:46.876Z"
   },
   {
    "duration": 102,
    "start_time": "2024-07-11T02:37:47.060Z"
   },
   {
    "duration": 23,
    "start_time": "2024-07-11T02:37:47.165Z"
   },
   {
    "duration": 30,
    "start_time": "2024-07-11T02:37:47.194Z"
   },
   {
    "duration": 33,
    "start_time": "2024-07-11T02:37:47.228Z"
   },
   {
    "duration": 70,
    "start_time": "2024-07-11T02:37:47.264Z"
   },
   {
    "duration": 15,
    "start_time": "2024-07-11T02:37:47.337Z"
   },
   {
    "duration": 10,
    "start_time": "2024-07-11T02:37:47.356Z"
   },
   {
    "duration": 88,
    "start_time": "2024-07-11T02:37:47.370Z"
   },
   {
    "duration": 0,
    "start_time": "2024-07-11T02:37:47.461Z"
   },
   {
    "duration": 0,
    "start_time": "2024-07-11T02:37:47.463Z"
   },
   {
    "duration": 0,
    "start_time": "2024-07-11T02:37:47.466Z"
   },
   {
    "duration": 0,
    "start_time": "2024-07-11T02:37:47.468Z"
   },
   {
    "duration": 0,
    "start_time": "2024-07-11T02:37:47.470Z"
   },
   {
    "duration": 0,
    "start_time": "2024-07-11T02:37:47.471Z"
   },
   {
    "duration": 0,
    "start_time": "2024-07-11T02:37:47.473Z"
   },
   {
    "duration": 0,
    "start_time": "2024-07-11T02:37:47.477Z"
   },
   {
    "duration": 0,
    "start_time": "2024-07-11T02:37:47.478Z"
   },
   {
    "duration": 0,
    "start_time": "2024-07-11T02:37:47.480Z"
   },
   {
    "duration": 0,
    "start_time": "2024-07-11T02:37:47.482Z"
   },
   {
    "duration": 0,
    "start_time": "2024-07-11T02:37:47.524Z"
   },
   {
    "duration": 0,
    "start_time": "2024-07-11T02:37:47.527Z"
   },
   {
    "duration": 0,
    "start_time": "2024-07-11T02:37:47.529Z"
   },
   {
    "duration": 0,
    "start_time": "2024-07-11T02:37:47.531Z"
   },
   {
    "duration": 0,
    "start_time": "2024-07-11T02:37:47.534Z"
   },
   {
    "duration": 0,
    "start_time": "2024-07-11T02:37:47.536Z"
   },
   {
    "duration": 0,
    "start_time": "2024-07-11T02:37:47.540Z"
   },
   {
    "duration": 0,
    "start_time": "2024-07-11T02:37:47.542Z"
   },
   {
    "duration": 1,
    "start_time": "2024-07-11T02:37:47.544Z"
   },
   {
    "duration": 0,
    "start_time": "2024-07-11T02:37:47.547Z"
   },
   {
    "duration": 0,
    "start_time": "2024-07-11T02:37:47.549Z"
   },
   {
    "duration": 0,
    "start_time": "2024-07-11T02:37:47.551Z"
   },
   {
    "duration": 0,
    "start_time": "2024-07-11T02:37:47.553Z"
   },
   {
    "duration": 0,
    "start_time": "2024-07-11T02:37:47.555Z"
   },
   {
    "duration": 0,
    "start_time": "2024-07-11T02:37:47.557Z"
   },
   {
    "duration": 0,
    "start_time": "2024-07-11T02:37:47.560Z"
   },
   {
    "duration": 1332,
    "start_time": "2024-07-11T02:37:51.782Z"
   },
   {
    "duration": 1173,
    "start_time": "2024-07-11T02:37:54.792Z"
   },
   {
    "duration": 12,
    "start_time": "2024-07-11T02:37:59.798Z"
   },
   {
    "duration": 18,
    "start_time": "2024-07-11T02:38:02.272Z"
   },
   {
    "duration": 19,
    "start_time": "2024-07-11T02:38:04.679Z"
   },
   {
    "duration": 14,
    "start_time": "2024-07-11T02:38:07.112Z"
   },
   {
    "duration": 9,
    "start_time": "2024-07-11T02:38:10.050Z"
   },
   {
    "duration": 10,
    "start_time": "2024-07-11T02:38:14.322Z"
   },
   {
    "duration": 13,
    "start_time": "2024-07-11T02:38:16.660Z"
   },
   {
    "duration": 20,
    "start_time": "2024-07-11T02:38:19.979Z"
   },
   {
    "duration": 10,
    "start_time": "2024-07-11T02:38:22.513Z"
   },
   {
    "duration": 11,
    "start_time": "2024-07-11T02:38:24.621Z"
   },
   {
    "duration": 20,
    "start_time": "2024-07-11T02:38:26.821Z"
   },
   {
    "duration": 42,
    "start_time": "2024-07-11T02:38:29.132Z"
   },
   {
    "duration": 27,
    "start_time": "2024-07-11T02:38:31.868Z"
   },
   {
    "duration": 31,
    "start_time": "2024-07-11T02:38:35.931Z"
   },
   {
    "duration": 28,
    "start_time": "2024-07-11T02:38:38.019Z"
   },
   {
    "duration": 34,
    "start_time": "2024-07-11T02:38:41.120Z"
   },
   {
    "duration": 28,
    "start_time": "2024-07-11T02:38:43.344Z"
   },
   {
    "duration": 13,
    "start_time": "2024-07-11T02:38:45.907Z"
   },
   {
    "duration": 13,
    "start_time": "2024-07-11T02:39:09.158Z"
   },
   {
    "duration": 6,
    "start_time": "2024-07-11T02:39:32.371Z"
   },
   {
    "duration": 9,
    "start_time": "2024-07-11T02:40:31.694Z"
   },
   {
    "duration": 13,
    "start_time": "2024-07-11T02:40:38.895Z"
   },
   {
    "duration": 29,
    "start_time": "2024-07-11T02:40:58.903Z"
   },
   {
    "duration": 13,
    "start_time": "2024-07-11T02:41:28.460Z"
   },
   {
    "duration": 5,
    "start_time": "2024-07-11T02:41:39.523Z"
   },
   {
    "duration": 502,
    "start_time": "2024-07-11T02:45:45.189Z"
   },
   {
    "duration": 556,
    "start_time": "2024-07-11T02:46:10.451Z"
   },
   {
    "duration": 123,
    "start_time": "2024-07-11T03:26:32.575Z"
   },
   {
    "duration": 108,
    "start_time": "2024-07-11T03:27:27.049Z"
   },
   {
    "duration": 5,
    "start_time": "2024-07-11T03:28:40.666Z"
   },
   {
    "duration": 37,
    "start_time": "2024-07-11T03:33:03.907Z"
   },
   {
    "duration": 40,
    "start_time": "2024-07-11T03:33:18.726Z"
   },
   {
    "duration": 27,
    "start_time": "2024-07-11T03:33:41.100Z"
   },
   {
    "duration": 32,
    "start_time": "2024-07-11T03:43:54.567Z"
   },
   {
    "duration": 23,
    "start_time": "2024-07-11T03:45:11.738Z"
   },
   {
    "duration": 875,
    "start_time": "2024-07-11T03:45:16.726Z"
   },
   {
    "duration": 13,
    "start_time": "2024-07-11T03:45:26.689Z"
   },
   {
    "duration": 14,
    "start_time": "2024-07-11T03:45:42.350Z"
   },
   {
    "duration": 39,
    "start_time": "2024-07-11T03:45:49.955Z"
   },
   {
    "duration": 12,
    "start_time": "2024-07-11T03:45:56.090Z"
   },
   {
    "duration": 13,
    "start_time": "2024-07-11T03:46:09.613Z"
   },
   {
    "duration": 8,
    "start_time": "2024-07-11T03:46:34.329Z"
   },
   {
    "duration": 9,
    "start_time": "2024-07-11T03:46:42.978Z"
   },
   {
    "duration": 4058,
    "start_time": "2024-07-11T03:47:30.633Z"
   },
   {
    "duration": 383,
    "start_time": "2024-07-11T03:49:45.940Z"
   },
   {
    "duration": 354,
    "start_time": "2024-07-11T03:51:14.148Z"
   },
   {
    "duration": 10,
    "start_time": "2024-07-11T03:53:51.898Z"
   },
   {
    "duration": 11,
    "start_time": "2024-07-11T03:53:55.228Z"
   },
   {
    "duration": 19,
    "start_time": "2024-07-11T03:54:13.746Z"
   },
   {
    "duration": 13,
    "start_time": "2024-07-11T03:54:29.772Z"
   },
   {
    "duration": 12,
    "start_time": "2024-07-11T03:55:25.974Z"
   },
   {
    "duration": 7,
    "start_time": "2024-07-11T03:59:53.505Z"
   },
   {
    "duration": 211,
    "start_time": "2024-07-11T04:00:06.192Z"
   },
   {
    "duration": 214,
    "start_time": "2024-07-11T04:00:15.176Z"
   },
   {
    "duration": 19,
    "start_time": "2024-07-11T04:04:46.161Z"
   },
   {
    "duration": 22,
    "start_time": "2024-07-11T04:05:01.237Z"
   },
   {
    "duration": 7,
    "start_time": "2024-07-11T04:05:23.204Z"
   },
   {
    "duration": 137,
    "start_time": "2024-07-11T04:05:27.892Z"
   },
   {
    "duration": 19,
    "start_time": "2024-07-11T04:05:42.050Z"
   },
   {
    "duration": 6,
    "start_time": "2024-07-11T04:05:56.003Z"
   },
   {
    "duration": 12,
    "start_time": "2024-07-11T04:06:06.172Z"
   },
   {
    "duration": 27,
    "start_time": "2024-07-11T04:06:15.880Z"
   },
   {
    "duration": 14,
    "start_time": "2024-07-11T04:06:25.592Z"
   },
   {
    "duration": 12,
    "start_time": "2024-07-11T04:06:56.522Z"
   },
   {
    "duration": 14,
    "start_time": "2024-07-11T04:07:03.222Z"
   },
   {
    "duration": 14,
    "start_time": "2024-07-11T04:08:56.594Z"
   },
   {
    "duration": 13,
    "start_time": "2024-07-11T04:09:06.931Z"
   },
   {
    "duration": 12,
    "start_time": "2024-07-11T04:09:18.423Z"
   },
   {
    "duration": 12,
    "start_time": "2024-07-11T04:09:26.194Z"
   },
   {
    "duration": 16,
    "start_time": "2024-07-11T04:56:11.170Z"
   },
   {
    "duration": 13,
    "start_time": "2024-07-11T04:56:23.369Z"
   },
   {
    "duration": 14,
    "start_time": "2024-07-11T04:56:33.066Z"
   },
   {
    "duration": 25,
    "start_time": "2024-07-11T04:58:07.462Z"
   },
   {
    "duration": 84,
    "start_time": "2024-07-11T04:58:16.479Z"
   },
   {
    "duration": 446,
    "start_time": "2024-07-11T04:58:49.177Z"
   },
   {
    "duration": 141,
    "start_time": "2024-07-11T04:58:55.121Z"
   },
   {
    "duration": 110,
    "start_time": "2024-07-11T04:59:13.576Z"
   },
   {
    "duration": 24,
    "start_time": "2024-07-11T05:06:24.972Z"
   },
   {
    "duration": 389,
    "start_time": "2024-07-11T05:06:38.505Z"
   },
   {
    "duration": 43,
    "start_time": "2024-07-11T05:08:02.138Z"
   },
   {
    "duration": 109,
    "start_time": "2024-07-11T05:08:24.636Z"
   },
   {
    "duration": 110,
    "start_time": "2024-07-11T05:08:38.153Z"
   },
   {
    "duration": 28,
    "start_time": "2024-07-11T05:08:47.769Z"
   },
   {
    "duration": 42,
    "start_time": "2024-07-11T05:08:54.846Z"
   },
   {
    "duration": 64,
    "start_time": "2024-07-11T05:09:04.203Z"
   },
   {
    "duration": 105,
    "start_time": "2024-07-11T05:09:25.131Z"
   },
   {
    "duration": 135,
    "start_time": "2024-07-11T05:09:30.294Z"
   },
   {
    "duration": 1237,
    "start_time": "2024-07-11T05:10:04.808Z"
   },
   {
    "duration": 25,
    "start_time": "2024-07-11T05:10:28.088Z"
   },
   {
    "duration": 124,
    "start_time": "2024-07-11T05:10:48.273Z"
   },
   {
    "duration": 22,
    "start_time": "2024-07-11T05:11:06.673Z"
   },
   {
    "duration": 12,
    "start_time": "2024-07-11T05:16:10.274Z"
   },
   {
    "duration": 11,
    "start_time": "2024-07-11T05:28:58.738Z"
   },
   {
    "duration": 3,
    "start_time": "2024-07-11T05:29:40.651Z"
   },
   {
    "duration": 1607,
    "start_time": "2024-07-11T05:29:40.659Z"
   },
   {
    "duration": 27,
    "start_time": "2024-07-11T05:29:42.269Z"
   },
   {
    "duration": 36,
    "start_time": "2024-07-11T05:29:42.299Z"
   },
   {
    "duration": 21,
    "start_time": "2024-07-11T05:29:42.339Z"
   },
   {
    "duration": 60,
    "start_time": "2024-07-11T05:29:42.364Z"
   },
   {
    "duration": 46,
    "start_time": "2024-07-11T05:29:42.427Z"
   },
   {
    "duration": 331,
    "start_time": "2024-07-11T05:29:42.476Z"
   },
   {
    "duration": 93,
    "start_time": "2024-07-11T05:29:42.810Z"
   },
   {
    "duration": 126,
    "start_time": "2024-07-11T05:29:42.906Z"
   },
   {
    "duration": 171,
    "start_time": "2024-07-11T05:29:43.043Z"
   },
   {
    "duration": 83,
    "start_time": "2024-07-11T05:29:43.223Z"
   },
   {
    "duration": 34,
    "start_time": "2024-07-11T05:29:43.309Z"
   },
   {
    "duration": 12,
    "start_time": "2024-07-11T05:29:43.346Z"
   },
   {
    "duration": 76,
    "start_time": "2024-07-11T05:29:43.361Z"
   },
   {
    "duration": 48,
    "start_time": "2024-07-11T05:29:43.440Z"
   },
   {
    "duration": 12,
    "start_time": "2024-07-11T05:29:43.491Z"
   },
   {
    "duration": 22,
    "start_time": "2024-07-11T05:29:43.505Z"
   },
   {
    "duration": 29,
    "start_time": "2024-07-11T05:29:43.530Z"
   },
   {
    "duration": 0,
    "start_time": "2024-07-11T05:29:43.564Z"
   },
   {
    "duration": 0,
    "start_time": "2024-07-11T05:29:43.566Z"
   },
   {
    "duration": 0,
    "start_time": "2024-07-11T05:29:43.568Z"
   },
   {
    "duration": 0,
    "start_time": "2024-07-11T05:29:43.570Z"
   },
   {
    "duration": 0,
    "start_time": "2024-07-11T05:29:43.572Z"
   },
   {
    "duration": 0,
    "start_time": "2024-07-11T05:29:43.574Z"
   },
   {
    "duration": 0,
    "start_time": "2024-07-11T05:29:43.576Z"
   },
   {
    "duration": 0,
    "start_time": "2024-07-11T05:29:43.578Z"
   },
   {
    "duration": 0,
    "start_time": "2024-07-11T05:29:43.624Z"
   },
   {
    "duration": 0,
    "start_time": "2024-07-11T05:29:43.627Z"
   },
   {
    "duration": 0,
    "start_time": "2024-07-11T05:29:43.629Z"
   },
   {
    "duration": 0,
    "start_time": "2024-07-11T05:29:43.631Z"
   },
   {
    "duration": 0,
    "start_time": "2024-07-11T05:29:43.634Z"
   },
   {
    "duration": 0,
    "start_time": "2024-07-11T05:29:43.636Z"
   },
   {
    "duration": 0,
    "start_time": "2024-07-11T05:29:43.638Z"
   },
   {
    "duration": 0,
    "start_time": "2024-07-11T05:29:43.640Z"
   },
   {
    "duration": 0,
    "start_time": "2024-07-11T05:29:43.643Z"
   },
   {
    "duration": 0,
    "start_time": "2024-07-11T05:29:43.645Z"
   },
   {
    "duration": 0,
    "start_time": "2024-07-11T05:29:43.647Z"
   },
   {
    "duration": 0,
    "start_time": "2024-07-11T05:29:43.649Z"
   },
   {
    "duration": 0,
    "start_time": "2024-07-11T05:29:43.651Z"
   },
   {
    "duration": 0,
    "start_time": "2024-07-11T05:29:43.654Z"
   },
   {
    "duration": 0,
    "start_time": "2024-07-11T05:29:43.656Z"
   },
   {
    "duration": 1,
    "start_time": "2024-07-11T05:29:43.657Z"
   },
   {
    "duration": 0,
    "start_time": "2024-07-11T05:29:43.659Z"
   },
   {
    "duration": 0,
    "start_time": "2024-07-11T05:29:43.661Z"
   },
   {
    "duration": 0,
    "start_time": "2024-07-11T05:29:43.664Z"
   },
   {
    "duration": 0,
    "start_time": "2024-07-11T05:29:43.666Z"
   },
   {
    "duration": 0,
    "start_time": "2024-07-11T05:29:43.727Z"
   },
   {
    "duration": 0,
    "start_time": "2024-07-11T05:29:43.731Z"
   },
   {
    "duration": 0,
    "start_time": "2024-07-11T05:29:43.734Z"
   },
   {
    "duration": 0,
    "start_time": "2024-07-11T05:29:43.736Z"
   },
   {
    "duration": 0,
    "start_time": "2024-07-11T05:29:43.741Z"
   },
   {
    "duration": 0,
    "start_time": "2024-07-11T05:29:43.749Z"
   },
   {
    "duration": 0,
    "start_time": "2024-07-11T05:29:43.761Z"
   },
   {
    "duration": 0,
    "start_time": "2024-07-11T05:29:43.763Z"
   },
   {
    "duration": 0,
    "start_time": "2024-07-11T05:29:43.765Z"
   },
   {
    "duration": 0,
    "start_time": "2024-07-11T05:29:43.822Z"
   },
   {
    "duration": 16,
    "start_time": "2024-07-11T05:29:54.680Z"
   },
   {
    "duration": 12,
    "start_time": "2024-07-11T05:29:57.466Z"
   },
   {
    "duration": 10,
    "start_time": "2024-07-11T05:30:00.251Z"
   },
   {
    "duration": 1523,
    "start_time": "2024-07-11T05:30:24.301Z"
   },
   {
    "duration": 1201,
    "start_time": "2024-07-11T05:30:27.735Z"
   },
   {
    "duration": 11,
    "start_time": "2024-07-11T05:30:31.627Z"
   },
   {
    "duration": 18,
    "start_time": "2024-07-11T05:30:34.563Z"
   },
   {
    "duration": 13,
    "start_time": "2024-07-11T05:30:37.300Z"
   },
   {
    "duration": 14,
    "start_time": "2024-07-11T05:30:39.530Z"
   },
   {
    "duration": 12,
    "start_time": "2024-07-11T05:30:41.977Z"
   },
   {
    "duration": 11,
    "start_time": "2024-07-11T05:30:44.903Z"
   },
   {
    "duration": 8,
    "start_time": "2024-07-11T05:30:46.835Z"
   },
   {
    "duration": 23,
    "start_time": "2024-07-11T05:30:50.732Z"
   },
   {
    "duration": 12,
    "start_time": "2024-07-11T05:30:53.349Z"
   },
   {
    "duration": 10,
    "start_time": "2024-07-11T05:30:57.724Z"
   },
   {
    "duration": 20,
    "start_time": "2024-07-11T05:31:01.604Z"
   },
   {
    "duration": 33,
    "start_time": "2024-07-11T05:45:09.708Z"
   },
   {
    "duration": 16,
    "start_time": "2024-07-11T05:45:15.895Z"
   },
   {
    "duration": 16,
    "start_time": "2024-07-11T05:45:23.793Z"
   },
   {
    "duration": 9,
    "start_time": "2024-07-11T05:45:27.268Z"
   },
   {
    "duration": 14,
    "start_time": "2024-07-11T05:45:29.263Z"
   },
   {
    "duration": 10,
    "start_time": "2024-07-11T05:45:33.486Z"
   },
   {
    "duration": 17,
    "start_time": "2024-07-11T05:45:38.834Z"
   },
   {
    "duration": 229,
    "start_time": "2024-07-11T05:45:42.910Z"
   },
   {
    "duration": 335,
    "start_time": "2024-07-11T05:45:47.820Z"
   },
   {
    "duration": 4,
    "start_time": "2024-07-11T05:45:50.200Z"
   },
   {
    "duration": 12,
    "start_time": "2024-07-11T05:45:57.980Z"
   },
   {
    "duration": 38,
    "start_time": "2024-07-11T05:47:21.037Z"
   },
   {
    "duration": 32,
    "start_time": "2024-07-11T05:48:00.827Z"
   },
   {
    "duration": 95,
    "start_time": "2024-07-11T05:49:06.348Z"
   },
   {
    "duration": 13,
    "start_time": "2024-07-11T05:50:24.547Z"
   },
   {
    "duration": 21,
    "start_time": "2024-07-11T05:50:31.847Z"
   },
   {
    "duration": 16,
    "start_time": "2024-07-11T05:50:38.472Z"
   },
   {
    "duration": 3,
    "start_time": "2024-07-11T05:56:59.387Z"
   },
   {
    "duration": 179,
    "start_time": "2024-07-11T05:57:07.909Z"
   },
   {
    "duration": 17,
    "start_time": "2024-07-11T05:57:18.061Z"
   },
   {
    "duration": 4,
    "start_time": "2024-07-11T05:59:09.997Z"
   },
   {
    "duration": 182,
    "start_time": "2024-07-11T05:59:22.982Z"
   },
   {
    "duration": 16,
    "start_time": "2024-07-11T05:59:30.687Z"
   },
   {
    "duration": 2942,
    "start_time": "2024-07-11T06:02:51.411Z"
   },
   {
    "duration": 219,
    "start_time": "2024-07-11T06:04:47.093Z"
   },
   {
    "duration": 4,
    "start_time": "2024-07-11T06:06:26.267Z"
   },
   {
    "duration": 173,
    "start_time": "2024-07-11T06:06:57.911Z"
   },
   {
    "duration": 33,
    "start_time": "2024-07-11T06:07:03.693Z"
   },
   {
    "duration": 20,
    "start_time": "2024-07-11T06:07:19.784Z"
   },
   {
    "duration": 22,
    "start_time": "2024-07-11T06:07:26.396Z"
   },
   {
    "duration": 16,
    "start_time": "2024-07-11T06:08:12.817Z"
   },
   {
    "duration": 22,
    "start_time": "2024-07-11T06:08:16.146Z"
   },
   {
    "duration": 8,
    "start_time": "2024-07-11T06:08:52.410Z"
   },
   {
    "duration": 21,
    "start_time": "2024-07-11T06:09:34.762Z"
   },
   {
    "duration": 29,
    "start_time": "2024-07-11T06:09:42.798Z"
   },
   {
    "duration": 13,
    "start_time": "2024-07-11T06:10:36.409Z"
   },
   {
    "duration": 174,
    "start_time": "2024-07-11T06:10:38.554Z"
   },
   {
    "duration": 373,
    "start_time": "2024-07-11T06:11:12.044Z"
   },
   {
    "duration": 145,
    "start_time": "2024-07-11T06:14:49.888Z"
   },
   {
    "duration": 400,
    "start_time": "2024-07-11T06:17:59.897Z"
   },
   {
    "duration": 412,
    "start_time": "2024-07-11T06:18:16.385Z"
   },
   {
    "duration": 308,
    "start_time": "2024-07-11T17:14:03.703Z"
   },
   {
    "duration": 436,
    "start_time": "2024-07-11T17:14:19.859Z"
   },
   {
    "duration": 1820,
    "start_time": "2024-07-11T17:14:22.823Z"
   },
   {
    "duration": 34,
    "start_time": "2024-07-11T17:14:25.881Z"
   },
   {
    "duration": 23,
    "start_time": "2024-07-11T17:18:00.761Z"
   },
   {
    "duration": 10,
    "start_time": "2024-07-11T17:28:43.357Z"
   },
   {
    "duration": 45,
    "start_time": "2024-07-11T17:28:50.243Z"
   },
   {
    "duration": 28,
    "start_time": "2024-07-11T17:28:52.208Z"
   },
   {
    "duration": 12,
    "start_time": "2024-07-11T17:29:41.711Z"
   },
   {
    "duration": 41,
    "start_time": "2024-07-11T17:29:52.061Z"
   },
   {
    "duration": 133,
    "start_time": "2024-07-11T17:30:28.206Z"
   },
   {
    "duration": 31,
    "start_time": "2024-07-11T17:30:59.903Z"
   },
   {
    "duration": 36,
    "start_time": "2024-07-11T17:31:35.175Z"
   },
   {
    "duration": 31,
    "start_time": "2024-07-11T17:31:40.481Z"
   },
   {
    "duration": 55,
    "start_time": "2024-07-11T17:31:47.111Z"
   },
   {
    "duration": 36,
    "start_time": "2024-07-11T17:31:54.161Z"
   },
   {
    "duration": 18,
    "start_time": "2024-07-11T17:31:56.940Z"
   },
   {
    "duration": 46,
    "start_time": "2024-07-11T17:32:33.808Z"
   },
   {
    "duration": 16,
    "start_time": "2024-07-11T17:32:38.110Z"
   },
   {
    "duration": 136,
    "start_time": "2024-07-11T17:33:54.522Z"
   },
   {
    "duration": 23,
    "start_time": "2024-07-11T17:34:37.301Z"
   },
   {
    "duration": 15,
    "start_time": "2024-07-11T17:34:56.545Z"
   },
   {
    "duration": 23,
    "start_time": "2024-07-11T17:35:11.695Z"
   },
   {
    "duration": 9,
    "start_time": "2024-07-11T17:35:29.943Z"
   },
   {
    "duration": 4450,
    "start_time": "2024-07-11T17:35:32.346Z"
   },
   {
    "duration": 25,
    "start_time": "2024-07-11T17:36:40.637Z"
   },
   {
    "duration": 4,
    "start_time": "2024-07-11T17:37:19.454Z"
   },
   {
    "duration": 1480,
    "start_time": "2024-07-11T17:37:19.465Z"
   },
   {
    "duration": 26,
    "start_time": "2024-07-11T17:37:20.949Z"
   },
   {
    "duration": 20,
    "start_time": "2024-07-11T17:37:20.978Z"
   },
   {
    "duration": 21,
    "start_time": "2024-07-11T17:37:21.030Z"
   },
   {
    "duration": 19,
    "start_time": "2024-07-11T17:37:21.054Z"
   },
   {
    "duration": 83,
    "start_time": "2024-07-11T17:37:21.077Z"
   },
   {
    "duration": 299,
    "start_time": "2024-07-11T17:37:21.164Z"
   },
   {
    "duration": 93,
    "start_time": "2024-07-11T17:37:21.466Z"
   },
   {
    "duration": 100,
    "start_time": "2024-07-11T17:37:21.561Z"
   },
   {
    "duration": 166,
    "start_time": "2024-07-11T17:37:21.667Z"
   },
   {
    "duration": 94,
    "start_time": "2024-07-11T17:37:21.836Z"
   },
   {
    "duration": 23,
    "start_time": "2024-07-11T17:37:21.933Z"
   },
   {
    "duration": 14,
    "start_time": "2024-07-11T17:37:21.959Z"
   },
   {
    "duration": 79,
    "start_time": "2024-07-11T17:37:21.976Z"
   },
   {
    "duration": 56,
    "start_time": "2024-07-11T17:37:22.061Z"
   },
   {
    "duration": 13,
    "start_time": "2024-07-11T17:37:22.120Z"
   },
   {
    "duration": 13,
    "start_time": "2024-07-11T17:37:22.137Z"
   },
   {
    "duration": 30,
    "start_time": "2024-07-11T17:37:22.154Z"
   },
   {
    "duration": 0,
    "start_time": "2024-07-11T17:37:22.191Z"
   },
   {
    "duration": 1,
    "start_time": "2024-07-11T17:37:22.193Z"
   },
   {
    "duration": 0,
    "start_time": "2024-07-11T17:37:22.233Z"
   },
   {
    "duration": 0,
    "start_time": "2024-07-11T17:37:22.235Z"
   },
   {
    "duration": 0,
    "start_time": "2024-07-11T17:37:22.237Z"
   },
   {
    "duration": 0,
    "start_time": "2024-07-11T17:37:22.240Z"
   },
   {
    "duration": 0,
    "start_time": "2024-07-11T17:37:22.243Z"
   },
   {
    "duration": 0,
    "start_time": "2024-07-11T17:37:22.246Z"
   },
   {
    "duration": 0,
    "start_time": "2024-07-11T17:37:22.249Z"
   },
   {
    "duration": 0,
    "start_time": "2024-07-11T17:37:22.251Z"
   },
   {
    "duration": 0,
    "start_time": "2024-07-11T17:37:22.253Z"
   },
   {
    "duration": 0,
    "start_time": "2024-07-11T17:37:22.255Z"
   },
   {
    "duration": 0,
    "start_time": "2024-07-11T17:37:22.258Z"
   },
   {
    "duration": 0,
    "start_time": "2024-07-11T17:37:22.260Z"
   },
   {
    "duration": 0,
    "start_time": "2024-07-11T17:37:22.262Z"
   },
   {
    "duration": 0,
    "start_time": "2024-07-11T17:37:22.265Z"
   },
   {
    "duration": 0,
    "start_time": "2024-07-11T17:37:22.267Z"
   },
   {
    "duration": 0,
    "start_time": "2024-07-11T17:37:22.269Z"
   },
   {
    "duration": 0,
    "start_time": "2024-07-11T17:37:22.271Z"
   },
   {
    "duration": 0,
    "start_time": "2024-07-11T17:37:22.274Z"
   },
   {
    "duration": 0,
    "start_time": "2024-07-11T17:37:22.275Z"
   },
   {
    "duration": 0,
    "start_time": "2024-07-11T17:37:22.277Z"
   },
   {
    "duration": 0,
    "start_time": "2024-07-11T17:37:22.334Z"
   },
   {
    "duration": 0,
    "start_time": "2024-07-11T17:37:22.336Z"
   },
   {
    "duration": 0,
    "start_time": "2024-07-11T17:37:22.338Z"
   },
   {
    "duration": 0,
    "start_time": "2024-07-11T17:37:22.341Z"
   },
   {
    "duration": 0,
    "start_time": "2024-07-11T17:37:22.343Z"
   },
   {
    "duration": 0,
    "start_time": "2024-07-11T17:37:22.346Z"
   },
   {
    "duration": 0,
    "start_time": "2024-07-11T17:37:22.348Z"
   },
   {
    "duration": 0,
    "start_time": "2024-07-11T17:37:22.351Z"
   },
   {
    "duration": 0,
    "start_time": "2024-07-11T17:37:22.352Z"
   },
   {
    "duration": 0,
    "start_time": "2024-07-11T17:37:22.355Z"
   },
   {
    "duration": 0,
    "start_time": "2024-07-11T17:37:22.357Z"
   },
   {
    "duration": 0,
    "start_time": "2024-07-11T17:37:22.358Z"
   },
   {
    "duration": 0,
    "start_time": "2024-07-11T17:37:22.360Z"
   },
   {
    "duration": 0,
    "start_time": "2024-07-11T17:37:22.362Z"
   },
   {
    "duration": 0,
    "start_time": "2024-07-11T17:37:22.364Z"
   },
   {
    "duration": 0,
    "start_time": "2024-07-11T17:37:22.366Z"
   },
   {
    "duration": 0,
    "start_time": "2024-07-11T17:37:22.368Z"
   },
   {
    "duration": 0,
    "start_time": "2024-07-11T17:37:22.370Z"
   },
   {
    "duration": 0,
    "start_time": "2024-07-11T17:37:22.372Z"
   },
   {
    "duration": 0,
    "start_time": "2024-07-11T17:37:22.431Z"
   },
   {
    "duration": 0,
    "start_time": "2024-07-11T17:37:22.437Z"
   },
   {
    "duration": 0,
    "start_time": "2024-07-11T17:37:22.439Z"
   },
   {
    "duration": 8,
    "start_time": "2024-07-11T17:38:39.954Z"
   },
   {
    "duration": 3,
    "start_time": "2024-07-11T17:38:56.261Z"
   },
   {
    "duration": 1456,
    "start_time": "2024-07-11T17:38:56.270Z"
   },
   {
    "duration": 25,
    "start_time": "2024-07-11T17:38:57.728Z"
   },
   {
    "duration": 16,
    "start_time": "2024-07-11T17:38:57.756Z"
   },
   {
    "duration": 56,
    "start_time": "2024-07-11T17:38:57.776Z"
   },
   {
    "duration": 20,
    "start_time": "2024-07-11T17:38:57.836Z"
   },
   {
    "duration": 71,
    "start_time": "2024-07-11T17:38:57.859Z"
   },
   {
    "duration": 292,
    "start_time": "2024-07-11T17:38:57.934Z"
   },
   {
    "duration": 78,
    "start_time": "2024-07-11T17:38:58.228Z"
   },
   {
    "duration": 97,
    "start_time": "2024-07-11T17:38:58.309Z"
   },
   {
    "duration": 147,
    "start_time": "2024-07-11T17:38:58.409Z"
   },
   {
    "duration": 88,
    "start_time": "2024-07-11T17:38:58.559Z"
   },
   {
    "duration": 26,
    "start_time": "2024-07-11T17:38:58.650Z"
   },
   {
    "duration": 14,
    "start_time": "2024-07-11T17:38:58.679Z"
   },
   {
    "duration": 60,
    "start_time": "2024-07-11T17:38:58.700Z"
   },
   {
    "duration": 41,
    "start_time": "2024-07-11T17:38:58.764Z"
   },
   {
    "duration": 7,
    "start_time": "2024-07-11T17:38:58.832Z"
   },
   {
    "duration": 10,
    "start_time": "2024-07-11T17:38:58.842Z"
   },
   {
    "duration": 9,
    "start_time": "2024-07-11T17:38:58.856Z"
   },
   {
    "duration": 8,
    "start_time": "2024-07-11T17:38:58.868Z"
   },
   {
    "duration": 53,
    "start_time": "2024-07-11T17:38:58.879Z"
   },
   {
    "duration": 10,
    "start_time": "2024-07-11T17:38:58.935Z"
   },
   {
    "duration": 1284,
    "start_time": "2024-07-11T17:38:58.948Z"
   },
   {
    "duration": 1109,
    "start_time": "2024-07-11T17:39:00.235Z"
   },
   {
    "duration": 14,
    "start_time": "2024-07-11T17:39:01.347Z"
   },
   {
    "duration": 20,
    "start_time": "2024-07-11T17:39:01.365Z"
   },
   {
    "duration": 57,
    "start_time": "2024-07-11T17:39:01.388Z"
   },
   {
    "duration": 13,
    "start_time": "2024-07-11T17:39:01.448Z"
   },
   {
    "duration": 10,
    "start_time": "2024-07-11T17:39:01.464Z"
   },
   {
    "duration": 11,
    "start_time": "2024-07-11T17:39:01.477Z"
   },
   {
    "duration": 40,
    "start_time": "2024-07-11T17:39:01.491Z"
   },
   {
    "duration": 21,
    "start_time": "2024-07-11T17:39:01.533Z"
   },
   {
    "duration": 11,
    "start_time": "2024-07-11T17:39:01.557Z"
   },
   {
    "duration": 11,
    "start_time": "2024-07-11T17:39:01.571Z"
   },
   {
    "duration": 21,
    "start_time": "2024-07-11T17:39:01.631Z"
   },
   {
    "duration": 41,
    "start_time": "2024-07-11T17:39:01.655Z"
   },
   {
    "duration": 51,
    "start_time": "2024-07-11T17:39:01.699Z"
   },
   {
    "duration": 32,
    "start_time": "2024-07-11T17:39:01.753Z"
   },
   {
    "duration": 62,
    "start_time": "2024-07-11T17:39:01.789Z"
   },
   {
    "duration": 28,
    "start_time": "2024-07-11T17:39:01.854Z"
   },
   {
    "duration": 52,
    "start_time": "2024-07-11T17:39:01.885Z"
   },
   {
    "duration": 10,
    "start_time": "2024-07-11T17:39:01.947Z"
   },
   {
    "duration": 14,
    "start_time": "2024-07-11T17:39:01.960Z"
   },
   {
    "duration": 568,
    "start_time": "2024-07-11T17:39:01.976Z"
   },
   {
    "duration": 115,
    "start_time": "2024-07-11T17:39:02.547Z"
   },
   {
    "duration": 6,
    "start_time": "2024-07-11T17:39:02.665Z"
   },
   {
    "duration": 67,
    "start_time": "2024-07-11T17:39:02.675Z"
   },
   {
    "duration": 25,
    "start_time": "2024-07-11T17:39:02.745Z"
   },
   {
    "duration": 32,
    "start_time": "2024-07-11T17:39:02.773Z"
   },
   {
    "duration": 14,
    "start_time": "2024-07-11T17:39:02.833Z"
   },
   {
    "duration": 10,
    "start_time": "2024-07-11T17:39:02.850Z"
   },
   {
    "duration": 12,
    "start_time": "2024-07-11T17:39:02.863Z"
   },
   {
    "duration": 54,
    "start_time": "2024-07-11T17:39:02.877Z"
   },
   {
    "duration": 8,
    "start_time": "2024-07-11T17:39:02.934Z"
   },
   {
    "duration": 396,
    "start_time": "2024-07-11T17:39:02.945Z"
   },
   {
    "duration": 15,
    "start_time": "2024-07-11T17:39:03.344Z"
   },
   {
    "duration": 271,
    "start_time": "2024-07-11T17:39:03.361Z"
   },
   {
    "duration": 48,
    "start_time": "2024-07-11T17:39:03.635Z"
   },
   {
    "duration": 43,
    "start_time": "2024-07-11T17:39:03.687Z"
   },
   {
    "duration": 24,
    "start_time": "2024-07-11T17:39:03.733Z"
   },
   {
    "duration": 23,
    "start_time": "2024-07-11T17:39:03.759Z"
   },
   {
    "duration": 9,
    "start_time": "2024-07-11T17:39:03.784Z"
   },
   {
    "duration": 386,
    "start_time": "2024-07-11T17:39:03.831Z"
   },
   {
    "duration": 352,
    "start_time": "2024-07-11T22:38:29.697Z"
   },
   {
    "duration": 23,
    "start_time": "2024-07-11T22:38:42.063Z"
   },
   {
    "duration": 443,
    "start_time": "2024-07-11T22:38:45.964Z"
   },
   {
    "duration": 1728,
    "start_time": "2024-07-11T22:38:46.412Z"
   },
   {
    "duration": 31,
    "start_time": "2024-07-11T22:38:48.143Z"
   },
   {
    "duration": 40,
    "start_time": "2024-07-11T22:38:48.179Z"
   },
   {
    "duration": 19,
    "start_time": "2024-07-11T22:38:48.223Z"
   },
   {
    "duration": 19,
    "start_time": "2024-07-11T22:38:48.245Z"
   },
   {
    "duration": 87,
    "start_time": "2024-07-11T22:38:48.266Z"
   },
   {
    "duration": 375,
    "start_time": "2024-07-11T22:38:48.357Z"
   },
   {
    "duration": 126,
    "start_time": "2024-07-11T22:38:48.735Z"
   },
   {
    "duration": 135,
    "start_time": "2024-07-11T22:38:48.867Z"
   },
   {
    "duration": 185,
    "start_time": "2024-07-11T22:38:49.006Z"
   },
   {
    "duration": 102,
    "start_time": "2024-07-11T22:38:49.194Z"
   },
   {
    "duration": 28,
    "start_time": "2024-07-11T22:38:49.301Z"
   },
   {
    "duration": 12,
    "start_time": "2024-07-11T22:38:49.332Z"
   },
   {
    "duration": 66,
    "start_time": "2024-07-11T22:38:49.348Z"
   },
   {
    "duration": 47,
    "start_time": "2024-07-11T22:38:49.418Z"
   },
   {
    "duration": 7,
    "start_time": "2024-07-11T22:38:49.468Z"
   },
   {
    "duration": 38,
    "start_time": "2024-07-11T22:38:49.478Z"
   },
   {
    "duration": 10,
    "start_time": "2024-07-11T22:38:49.520Z"
   },
   {
    "duration": 9,
    "start_time": "2024-07-11T22:38:49.534Z"
   },
   {
    "duration": 10,
    "start_time": "2024-07-11T22:38:49.546Z"
   },
   {
    "duration": 60,
    "start_time": "2024-07-11T22:38:49.559Z"
   },
   {
    "duration": 1516,
    "start_time": "2024-07-11T22:38:49.623Z"
   },
   {
    "duration": 1262,
    "start_time": "2024-07-11T22:38:51.142Z"
   },
   {
    "duration": 11,
    "start_time": "2024-07-11T22:38:52.412Z"
   },
   {
    "duration": 19,
    "start_time": "2024-07-11T22:38:52.427Z"
   },
   {
    "duration": 15,
    "start_time": "2024-07-11T22:38:52.449Z"
   },
   {
    "duration": 16,
    "start_time": "2024-07-11T22:38:52.513Z"
   },
   {
    "duration": 11,
    "start_time": "2024-07-11T22:38:52.532Z"
   },
   {
    "duration": 10,
    "start_time": "2024-07-11T22:38:52.548Z"
   },
   {
    "duration": 8,
    "start_time": "2024-07-11T22:38:52.561Z"
   },
   {
    "duration": 55,
    "start_time": "2024-07-11T22:38:52.575Z"
   },
   {
    "duration": 11,
    "start_time": "2024-07-11T22:38:52.633Z"
   },
   {
    "duration": 12,
    "start_time": "2024-07-11T22:38:52.647Z"
   },
   {
    "duration": 63,
    "start_time": "2024-07-11T22:38:52.662Z"
   },
   {
    "duration": 43,
    "start_time": "2024-07-11T22:38:52.728Z"
   },
   {
    "duration": 47,
    "start_time": "2024-07-11T22:38:52.774Z"
   },
   {
    "duration": 30,
    "start_time": "2024-07-11T22:38:52.824Z"
   },
   {
    "duration": 63,
    "start_time": "2024-07-11T22:38:52.858Z"
   },
   {
    "duration": 34,
    "start_time": "2024-07-11T22:38:52.925Z"
   },
   {
    "duration": 60,
    "start_time": "2024-07-11T22:38:52.962Z"
   },
   {
    "duration": 13,
    "start_time": "2024-07-11T22:38:53.029Z"
   },
   {
    "duration": 21,
    "start_time": "2024-07-11T22:38:53.045Z"
   },
   {
    "duration": 613,
    "start_time": "2024-07-11T22:38:53.068Z"
   },
   {
    "duration": 117,
    "start_time": "2024-07-11T22:38:53.684Z"
   },
   {
    "duration": 14,
    "start_time": "2024-07-11T22:38:53.804Z"
   },
   {
    "duration": 44,
    "start_time": "2024-07-11T22:38:53.822Z"
   },
   {
    "duration": 59,
    "start_time": "2024-07-11T22:38:53.869Z"
   },
   {
    "duration": 33,
    "start_time": "2024-07-11T22:38:53.932Z"
   },
   {
    "duration": 13,
    "start_time": "2024-07-11T22:38:53.968Z"
   },
   {
    "duration": 34,
    "start_time": "2024-07-11T22:38:53.984Z"
   },
   {
    "duration": 12,
    "start_time": "2024-07-11T22:38:54.021Z"
   },
   {
    "duration": 10,
    "start_time": "2024-07-11T22:38:54.036Z"
   },
   {
    "duration": 4039,
    "start_time": "2024-07-11T22:38:54.048Z"
   },
   {
    "duration": 411,
    "start_time": "2024-07-11T22:38:58.093Z"
   },
   {
    "duration": 23,
    "start_time": "2024-07-11T22:38:58.507Z"
   },
   {
    "duration": 252,
    "start_time": "2024-07-11T22:38:58.533Z"
   },
   {
    "duration": 52,
    "start_time": "2024-07-11T22:38:58.787Z"
   },
   {
    "duration": 17,
    "start_time": "2024-07-11T22:38:58.842Z"
   },
   {
    "duration": 52,
    "start_time": "2024-07-11T22:38:58.862Z"
   },
   {
    "duration": 24,
    "start_time": "2024-07-11T22:38:58.917Z"
   },
   {
    "duration": 9,
    "start_time": "2024-07-11T22:38:58.944Z"
   },
   {
    "duration": 393,
    "start_time": "2024-07-11T22:38:58.956Z"
   },
   {
    "duration": 5,
    "start_time": "2024-07-11T22:38:59.413Z"
   },
   {
    "duration": 6,
    "start_time": "2024-07-11T22:39:04.218Z"
   },
   {
    "duration": 367,
    "start_time": "2024-07-11T22:39:15.896Z"
   },
   {
    "duration": 23,
    "start_time": "2024-07-11T22:39:37.323Z"
   },
   {
    "duration": 26,
    "start_time": "2024-07-11T22:41:40.958Z"
   },
   {
    "duration": 11,
    "start_time": "2024-07-11T22:41:57.849Z"
   },
   {
    "duration": 5,
    "start_time": "2024-07-11T22:43:08.342Z"
   },
   {
    "duration": 10,
    "start_time": "2024-07-11T22:44:08.741Z"
   },
   {
    "duration": 8,
    "start_time": "2024-07-11T22:44:15.350Z"
   },
   {
    "duration": 24,
    "start_time": "2024-07-11T22:44:45.243Z"
   },
   {
    "duration": 10,
    "start_time": "2024-07-11T22:44:58.728Z"
   },
   {
    "duration": 10,
    "start_time": "2024-07-11T22:45:58.622Z"
   },
   {
    "duration": 7,
    "start_time": "2024-07-11T22:46:11.061Z"
   },
   {
    "duration": 25,
    "start_time": "2024-07-11T22:56:59.215Z"
   },
   {
    "duration": 6,
    "start_time": "2024-07-11T22:57:13.724Z"
   },
   {
    "duration": 10,
    "start_time": "2024-07-11T22:57:23.855Z"
   },
   {
    "duration": 9,
    "start_time": "2024-07-11T22:58:38.605Z"
   },
   {
    "duration": 5,
    "start_time": "2024-07-11T22:58:41.112Z"
   },
   {
    "duration": 14,
    "start_time": "2024-07-11T22:59:00.648Z"
   },
   {
    "duration": 12,
    "start_time": "2024-07-11T23:01:03.812Z"
   },
   {
    "duration": 393,
    "start_time": "2024-07-11T23:01:20.070Z"
   },
   {
    "duration": 6,
    "start_time": "2024-07-11T23:02:05.578Z"
   },
   {
    "duration": 436,
    "start_time": "2024-07-11T23:02:14.305Z"
   },
   {
    "duration": 517,
    "start_time": "2024-07-11T23:03:15.834Z"
   },
   {
    "duration": 421,
    "start_time": "2024-07-11T23:03:36.316Z"
   },
   {
    "duration": 22,
    "start_time": "2024-07-11T23:10:26.314Z"
   },
   {
    "duration": 22,
    "start_time": "2024-07-11T23:10:44.825Z"
   },
   {
    "duration": 8,
    "start_time": "2024-07-11T23:11:23.385Z"
   },
   {
    "duration": 720,
    "start_time": "2024-07-11T23:12:27.274Z"
   },
   {
    "duration": 24,
    "start_time": "2024-07-11T23:12:45.415Z"
   },
   {
    "duration": 24,
    "start_time": "2024-07-11T23:13:16.015Z"
   },
   {
    "duration": 76,
    "start_time": "2024-07-11T23:13:22.508Z"
   },
   {
    "duration": 75,
    "start_time": "2024-07-11T23:13:35.630Z"
   },
   {
    "duration": 90,
    "start_time": "2024-07-11T23:14:03.517Z"
   },
   {
    "duration": 13,
    "start_time": "2024-07-11T23:14:09.263Z"
   },
   {
    "duration": 7,
    "start_time": "2024-07-11T23:14:35.092Z"
   },
   {
    "duration": 9,
    "start_time": "2024-07-11T23:14:44.844Z"
   },
   {
    "duration": 7,
    "start_time": "2024-07-11T23:14:51.704Z"
   },
   {
    "duration": 187,
    "start_time": "2024-07-11T23:15:02.825Z"
   },
   {
    "duration": 5,
    "start_time": "2024-07-11T23:17:39.353Z"
   },
   {
    "duration": 762,
    "start_time": "2024-07-11T23:17:41.562Z"
   },
   {
    "duration": 78,
    "start_time": "2024-07-11T23:18:05.563Z"
   },
   {
    "duration": 19,
    "start_time": "2024-07-11T23:20:36.368Z"
   },
   {
    "duration": 12,
    "start_time": "2024-07-11T23:20:42.281Z"
   },
   {
    "duration": 13,
    "start_time": "2024-07-11T23:21:02.151Z"
   },
   {
    "duration": 9,
    "start_time": "2024-07-11T23:21:20.162Z"
   },
   {
    "duration": 180,
    "start_time": "2024-07-11T23:21:37.223Z"
   },
   {
    "duration": 1570,
    "start_time": "2024-07-11T23:21:50.719Z"
   },
   {
    "duration": 37,
    "start_time": "2024-07-11T23:32:58.208Z"
   },
   {
    "duration": 34,
    "start_time": "2024-07-11T23:32:59.042Z"
   },
   {
    "duration": 34,
    "start_time": "2024-07-11T23:32:59.690Z"
   },
   {
    "duration": 35,
    "start_time": "2024-07-11T23:33:00.207Z"
   },
   {
    "duration": 35,
    "start_time": "2024-07-11T23:33:00.735Z"
   },
   {
    "duration": 36,
    "start_time": "2024-07-11T23:33:01.243Z"
   },
   {
    "duration": 35,
    "start_time": "2024-07-11T23:33:01.693Z"
   },
   {
    "duration": 35,
    "start_time": "2024-07-11T23:33:02.109Z"
   },
   {
    "duration": 36,
    "start_time": "2024-07-11T23:33:02.635Z"
   },
   {
    "duration": 55,
    "start_time": "2024-07-11T23:33:03.084Z"
   },
   {
    "duration": 41,
    "start_time": "2024-07-11T23:33:03.506Z"
   },
   {
    "duration": 35,
    "start_time": "2024-07-11T23:33:03.979Z"
   },
   {
    "duration": 35,
    "start_time": "2024-07-11T23:33:04.450Z"
   },
   {
    "duration": 35,
    "start_time": "2024-07-11T23:33:04.933Z"
   },
   {
    "duration": 35,
    "start_time": "2024-07-11T23:33:05.428Z"
   },
   {
    "duration": 44,
    "start_time": "2024-07-11T23:33:05.890Z"
   },
   {
    "duration": 34,
    "start_time": "2024-07-11T23:33:06.331Z"
   },
   {
    "duration": 40,
    "start_time": "2024-07-11T23:33:06.761Z"
   },
   {
    "duration": 43,
    "start_time": "2024-07-11T23:33:07.222Z"
   },
   {
    "duration": 35,
    "start_time": "2024-07-11T23:33:07.642Z"
   },
   {
    "duration": 35,
    "start_time": "2024-07-11T23:33:07.991Z"
   },
   {
    "duration": 34,
    "start_time": "2024-07-11T23:33:08.407Z"
   },
   {
    "duration": 35,
    "start_time": "2024-07-11T23:33:08.775Z"
   },
   {
    "duration": 33,
    "start_time": "2024-07-11T23:33:09.172Z"
   },
   {
    "duration": 39,
    "start_time": "2024-07-11T23:33:09.554Z"
   },
   {
    "duration": 34,
    "start_time": "2024-07-11T23:33:09.930Z"
   },
   {
    "duration": 39,
    "start_time": "2024-07-11T23:33:10.268Z"
   },
   {
    "duration": 46,
    "start_time": "2024-07-11T23:33:10.550Z"
   },
   {
    "duration": 48,
    "start_time": "2024-07-11T23:33:10.846Z"
   },
   {
    "duration": 43,
    "start_time": "2024-07-11T23:33:11.071Z"
   },
   {
    "duration": 41,
    "start_time": "2024-07-11T23:33:11.343Z"
   },
   {
    "duration": 35,
    "start_time": "2024-07-11T23:33:11.577Z"
   },
   {
    "duration": 41,
    "start_time": "2024-07-11T23:33:11.788Z"
   },
   {
    "duration": 43,
    "start_time": "2024-07-11T23:33:12.008Z"
   },
   {
    "duration": 36,
    "start_time": "2024-07-11T23:33:12.248Z"
   },
   {
    "duration": 36,
    "start_time": "2024-07-11T23:33:12.462Z"
   },
   {
    "duration": 34,
    "start_time": "2024-07-11T23:33:12.671Z"
   },
   {
    "duration": 40,
    "start_time": "2024-07-11T23:33:12.864Z"
   },
   {
    "duration": 21,
    "start_time": "2024-07-11T23:33:19.898Z"
   },
   {
    "duration": 8,
    "start_time": "2024-07-11T23:37:01.453Z"
   },
   {
    "duration": 21,
    "start_time": "2024-07-11T23:37:08.294Z"
   },
   {
    "duration": 312,
    "start_time": "2024-07-11T23:40:40.947Z"
   },
   {
    "duration": 22,
    "start_time": "2024-07-11T23:41:00.702Z"
   },
   {
    "duration": 19,
    "start_time": "2024-07-11T23:41:03.742Z"
   },
   {
    "duration": 488,
    "start_time": "2024-07-11T23:41:18.604Z"
   },
   {
    "duration": 1783,
    "start_time": "2024-07-11T23:41:19.096Z"
   },
   {
    "duration": 45,
    "start_time": "2024-07-11T23:41:20.882Z"
   },
   {
    "duration": 16,
    "start_time": "2024-07-11T23:41:20.931Z"
   },
   {
    "duration": 25,
    "start_time": "2024-07-11T23:41:20.953Z"
   },
   {
    "duration": 46,
    "start_time": "2024-07-11T23:41:20.982Z"
   },
   {
    "duration": 48,
    "start_time": "2024-07-11T23:41:21.030Z"
   },
   {
    "duration": 424,
    "start_time": "2024-07-11T23:41:21.080Z"
   },
   {
    "duration": 111,
    "start_time": "2024-07-11T23:41:21.514Z"
   },
   {
    "duration": 119,
    "start_time": "2024-07-11T23:41:21.628Z"
   },
   {
    "duration": 182,
    "start_time": "2024-07-11T23:41:21.750Z"
   },
   {
    "duration": 97,
    "start_time": "2024-07-11T23:41:21.935Z"
   },
   {
    "duration": 24,
    "start_time": "2024-07-11T23:41:22.035Z"
   },
   {
    "duration": 15,
    "start_time": "2024-07-11T23:41:22.065Z"
   },
   {
    "duration": 59,
    "start_time": "2024-07-11T23:41:22.084Z"
   },
   {
    "duration": 64,
    "start_time": "2024-07-11T23:41:22.147Z"
   },
   {
    "duration": 7,
    "start_time": "2024-07-11T23:41:22.214Z"
   },
   {
    "duration": 8,
    "start_time": "2024-07-11T23:41:22.225Z"
   },
   {
    "duration": 10,
    "start_time": "2024-07-11T23:41:22.236Z"
   },
   {
    "duration": 7,
    "start_time": "2024-07-11T23:41:22.251Z"
   },
   {
    "duration": 53,
    "start_time": "2024-07-11T23:41:22.261Z"
   },
   {
    "duration": 10,
    "start_time": "2024-07-11T23:41:22.317Z"
   },
   {
    "duration": 1393,
    "start_time": "2024-07-11T23:41:22.330Z"
   },
   {
    "duration": 1249,
    "start_time": "2024-07-11T23:41:23.726Z"
   },
   {
    "duration": 14,
    "start_time": "2024-07-11T23:41:24.978Z"
   },
   {
    "duration": 32,
    "start_time": "2024-07-11T23:41:24.994Z"
   },
   {
    "duration": 20,
    "start_time": "2024-07-11T23:41:25.029Z"
   },
   {
    "duration": 13,
    "start_time": "2024-07-11T23:41:25.052Z"
   },
   {
    "duration": 44,
    "start_time": "2024-07-11T23:41:25.068Z"
   },
   {
    "duration": 11,
    "start_time": "2024-07-11T23:41:25.116Z"
   },
   {
    "duration": 6,
    "start_time": "2024-07-11T23:41:25.131Z"
   },
   {
    "duration": 20,
    "start_time": "2024-07-11T23:41:25.141Z"
   },
   {
    "duration": 52,
    "start_time": "2024-07-11T23:41:25.165Z"
   },
   {
    "duration": 11,
    "start_time": "2024-07-11T23:41:25.221Z"
   },
   {
    "duration": 21,
    "start_time": "2024-07-11T23:41:25.235Z"
   },
   {
    "duration": 81,
    "start_time": "2024-07-11T23:41:25.258Z"
   },
   {
    "duration": 30,
    "start_time": "2024-07-11T23:41:25.342Z"
   },
   {
    "duration": 56,
    "start_time": "2024-07-11T23:41:25.376Z"
   },
   {
    "duration": 29,
    "start_time": "2024-07-11T23:41:25.435Z"
   },
   {
    "duration": 52,
    "start_time": "2024-07-11T23:41:25.468Z"
   },
   {
    "duration": 29,
    "start_time": "2024-07-11T23:41:25.530Z"
   },
   {
    "duration": 11,
    "start_time": "2024-07-11T23:41:25.562Z"
   },
   {
    "duration": 46,
    "start_time": "2024-07-11T23:41:25.576Z"
   },
   {
    "duration": 577,
    "start_time": "2024-07-11T23:41:25.625Z"
   },
   {
    "duration": 117,
    "start_time": "2024-07-11T23:41:26.205Z"
   },
   {
    "duration": 6,
    "start_time": "2024-07-11T23:41:26.326Z"
   },
   {
    "duration": 41,
    "start_time": "2024-07-11T23:41:26.335Z"
   },
   {
    "duration": 56,
    "start_time": "2024-07-11T23:41:26.379Z"
   },
   {
    "duration": 33,
    "start_time": "2024-07-11T23:41:26.438Z"
   },
   {
    "duration": 38,
    "start_time": "2024-07-11T23:41:26.474Z"
   },
   {
    "duration": 10,
    "start_time": "2024-07-11T23:41:26.515Z"
   },
   {
    "duration": 12,
    "start_time": "2024-07-11T23:41:26.528Z"
   },
   {
    "duration": 9,
    "start_time": "2024-07-11T23:41:26.542Z"
   },
   {
    "duration": 340,
    "start_time": "2024-07-11T23:41:26.553Z"
   },
   {
    "duration": 356,
    "start_time": "2024-07-11T23:41:26.897Z"
   },
   {
    "duration": 16,
    "start_time": "2024-07-11T23:41:27.256Z"
   },
   {
    "duration": 240,
    "start_time": "2024-07-11T23:41:27.275Z"
   },
   {
    "duration": 42,
    "start_time": "2024-07-11T23:41:27.518Z"
   },
   {
    "duration": 17,
    "start_time": "2024-07-11T23:41:27.563Z"
   },
   {
    "duration": 53,
    "start_time": "2024-07-11T23:41:27.582Z"
   },
   {
    "duration": 10,
    "start_time": "2024-07-11T23:41:27.638Z"
   },
   {
    "duration": 404,
    "start_time": "2024-07-11T23:41:27.650Z"
   },
   {
    "duration": 5,
    "start_time": "2024-07-11T23:41:28.058Z"
   },
   {
    "duration": 48,
    "start_time": "2024-07-11T23:41:28.067Z"
   },
   {
    "duration": 7,
    "start_time": "2024-07-11T23:41:28.119Z"
   },
   {
    "duration": 5,
    "start_time": "2024-07-11T23:41:28.129Z"
   },
   {
    "duration": 11,
    "start_time": "2024-07-11T23:41:28.137Z"
   },
   {
    "duration": 7,
    "start_time": "2024-07-11T23:41:28.150Z"
   },
   {
    "duration": 52,
    "start_time": "2024-07-11T23:41:28.161Z"
   },
   {
    "duration": 5,
    "start_time": "2024-07-11T23:41:28.216Z"
   },
   {
    "duration": 11,
    "start_time": "2024-07-11T23:41:28.224Z"
   },
   {
    "duration": 451,
    "start_time": "2024-07-11T23:41:28.238Z"
   },
   {
    "duration": 4,
    "start_time": "2024-07-11T23:41:28.712Z"
   },
   {
    "duration": 10,
    "start_time": "2024-07-11T23:41:56.784Z"
   },
   {
    "duration": 7,
    "start_time": "2024-07-11T23:42:07.660Z"
   },
   {
    "duration": 249,
    "start_time": "2024-07-11T23:42:18.430Z"
   },
   {
    "duration": 7,
    "start_time": "2024-07-11T23:43:29.344Z"
   },
   {
    "duration": 198,
    "start_time": "2024-07-12T02:13:39.253Z"
   },
   {
    "duration": 1573,
    "start_time": "2024-07-12T02:14:46.142Z"
   },
   {
    "duration": 176,
    "start_time": "2024-07-12T02:14:54.136Z"
   },
   {
    "duration": 1602,
    "start_time": "2024-07-12T02:15:39.895Z"
   },
   {
    "duration": 195,
    "start_time": "2024-07-12T02:15:56.272Z"
   },
   {
    "duration": 7,
    "start_time": "2024-07-12T02:16:49.498Z"
   },
   {
    "duration": 10,
    "start_time": "2024-07-12T02:18:45.181Z"
   },
   {
    "duration": 1835,
    "start_time": "2024-07-12T02:18:51.338Z"
   },
   {
    "duration": 69,
    "start_time": "2024-07-12T02:19:40.438Z"
   },
   {
    "duration": 24,
    "start_time": "2024-07-12T02:19:45.872Z"
   },
   {
    "duration": 1584,
    "start_time": "2024-07-12T02:26:11.116Z"
   },
   {
    "duration": 1593,
    "start_time": "2024-07-12T02:26:38.172Z"
   },
   {
    "duration": 1596,
    "start_time": "2024-07-12T02:26:48.964Z"
   },
   {
    "duration": 1846,
    "start_time": "2024-07-12T02:27:03.122Z"
   },
   {
    "duration": 1607,
    "start_time": "2024-07-12T02:27:31.596Z"
   },
   {
    "duration": 1577,
    "start_time": "2024-07-12T02:27:47.722Z"
   },
   {
    "duration": 1762,
    "start_time": "2024-07-12T02:29:36.757Z"
   },
   {
    "duration": 1705,
    "start_time": "2024-07-12T02:29:47.522Z"
   },
   {
    "duration": 1633,
    "start_time": "2024-07-12T02:29:57.612Z"
   },
   {
    "duration": 1683,
    "start_time": "2024-07-12T02:30:09.629Z"
   },
   {
    "duration": 1864,
    "start_time": "2024-07-12T02:30:21.868Z"
   },
   {
    "duration": 1734,
    "start_time": "2024-07-12T02:45:22.396Z"
   },
   {
    "duration": 1682,
    "start_time": "2024-07-12T02:45:33.959Z"
   },
   {
    "duration": 210,
    "start_time": "2024-07-12T02:50:09.082Z"
   },
   {
    "duration": 111,
    "start_time": "2024-07-12T02:54:06.552Z"
   },
   {
    "duration": 366,
    "start_time": "2024-07-12T02:54:15.700Z"
   },
   {
    "duration": 25,
    "start_time": "2024-07-12T02:54:40.381Z"
   },
   {
    "duration": 24,
    "start_time": "2024-07-12T02:54:42.931Z"
   },
   {
    "duration": 22,
    "start_time": "2024-07-12T02:54:56.384Z"
   },
   {
    "duration": 495,
    "start_time": "2024-07-12T02:55:01.472Z"
   },
   {
    "duration": 1800,
    "start_time": "2024-07-12T02:55:01.970Z"
   },
   {
    "duration": 45,
    "start_time": "2024-07-12T02:55:03.773Z"
   },
   {
    "duration": 16,
    "start_time": "2024-07-12T02:55:03.822Z"
   },
   {
    "duration": 21,
    "start_time": "2024-07-12T02:55:03.842Z"
   },
   {
    "duration": 60,
    "start_time": "2024-07-12T02:55:03.867Z"
   },
   {
    "duration": 47,
    "start_time": "2024-07-12T02:55:03.931Z"
   },
   {
    "duration": 394,
    "start_time": "2024-07-12T02:55:03.984Z"
   },
   {
    "duration": 134,
    "start_time": "2024-07-12T02:55:04.383Z"
   },
   {
    "duration": 154,
    "start_time": "2024-07-12T02:55:04.520Z"
   },
   {
    "duration": 209,
    "start_time": "2024-07-12T02:55:04.678Z"
   },
   {
    "duration": 121,
    "start_time": "2024-07-12T02:55:04.892Z"
   },
   {
    "duration": 23,
    "start_time": "2024-07-12T02:55:05.017Z"
   },
   {
    "duration": 13,
    "start_time": "2024-07-12T02:55:05.050Z"
   },
   {
    "duration": 68,
    "start_time": "2024-07-12T02:55:05.066Z"
   },
   {
    "duration": 81,
    "start_time": "2024-07-12T02:55:05.137Z"
   },
   {
    "duration": 22,
    "start_time": "2024-07-12T02:55:05.222Z"
   },
   {
    "duration": 13,
    "start_time": "2024-07-12T02:55:05.247Z"
   },
   {
    "duration": 14,
    "start_time": "2024-07-12T02:55:05.264Z"
   },
   {
    "duration": 10,
    "start_time": "2024-07-12T02:55:05.313Z"
   },
   {
    "duration": 20,
    "start_time": "2024-07-12T02:55:05.327Z"
   },
   {
    "duration": 22,
    "start_time": "2024-07-12T02:55:05.352Z"
   },
   {
    "duration": 1462,
    "start_time": "2024-07-12T02:55:05.414Z"
   },
   {
    "duration": 1296,
    "start_time": "2024-07-12T02:55:06.880Z"
   },
   {
    "duration": 11,
    "start_time": "2024-07-12T02:55:08.180Z"
   },
   {
    "duration": 35,
    "start_time": "2024-07-12T02:55:08.194Z"
   },
   {
    "duration": 14,
    "start_time": "2024-07-12T02:55:08.232Z"
   },
   {
    "duration": 12,
    "start_time": "2024-07-12T02:55:08.248Z"
   },
   {
    "duration": 51,
    "start_time": "2024-07-12T02:55:08.264Z"
   },
   {
    "duration": 11,
    "start_time": "2024-07-12T02:55:08.319Z"
   },
   {
    "duration": 7,
    "start_time": "2024-07-12T02:55:08.333Z"
   },
   {
    "duration": 21,
    "start_time": "2024-07-12T02:55:08.343Z"
   },
   {
    "duration": 10,
    "start_time": "2024-07-12T02:55:08.412Z"
   },
   {
    "duration": 11,
    "start_time": "2024-07-12T02:55:08.426Z"
   },
   {
    "duration": 23,
    "start_time": "2024-07-12T02:55:08.440Z"
   },
   {
    "duration": 82,
    "start_time": "2024-07-12T02:55:08.466Z"
   },
   {
    "duration": 26,
    "start_time": "2024-07-12T02:55:08.551Z"
   },
   {
    "duration": 57,
    "start_time": "2024-07-12T02:55:08.580Z"
   },
   {
    "duration": 30,
    "start_time": "2024-07-12T02:55:08.641Z"
   },
   {
    "duration": 53,
    "start_time": "2024-07-12T02:55:08.673Z"
   },
   {
    "duration": 27,
    "start_time": "2024-07-12T02:55:08.736Z"
   },
   {
    "duration": 11,
    "start_time": "2024-07-12T02:55:08.766Z"
   },
   {
    "duration": 42,
    "start_time": "2024-07-12T02:55:08.780Z"
   },
   {
    "duration": 569,
    "start_time": "2024-07-12T02:55:08.825Z"
   },
   {
    "duration": 127,
    "start_time": "2024-07-12T02:55:09.397Z"
   },
   {
    "duration": 5,
    "start_time": "2024-07-12T02:55:09.527Z"
   },
   {
    "duration": 43,
    "start_time": "2024-07-12T02:55:09.535Z"
   },
   {
    "duration": 58,
    "start_time": "2024-07-12T02:55:09.581Z"
   },
   {
    "duration": 37,
    "start_time": "2024-07-12T02:55:09.643Z"
   },
   {
    "duration": 38,
    "start_time": "2024-07-12T02:55:09.683Z"
   },
   {
    "duration": 12,
    "start_time": "2024-07-12T02:55:09.725Z"
   },
   {
    "duration": 15,
    "start_time": "2024-07-12T02:55:09.740Z"
   },
   {
    "duration": 15,
    "start_time": "2024-07-12T02:55:09.758Z"
   },
   {
    "duration": 344,
    "start_time": "2024-07-12T02:55:09.775Z"
   },
   {
    "duration": 382,
    "start_time": "2024-07-12T02:55:10.122Z"
   },
   {
    "duration": 18,
    "start_time": "2024-07-12T02:55:10.516Z"
   },
   {
    "duration": 255,
    "start_time": "2024-07-12T02:55:10.537Z"
   },
   {
    "duration": 58,
    "start_time": "2024-07-12T02:55:10.795Z"
   },
   {
    "duration": 17,
    "start_time": "2024-07-12T02:55:10.856Z"
   },
   {
    "duration": 57,
    "start_time": "2024-07-12T02:55:10.876Z"
   },
   {
    "duration": 11,
    "start_time": "2024-07-12T02:55:10.935Z"
   },
   {
    "duration": 430,
    "start_time": "2024-07-12T02:55:10.949Z"
   },
   {
    "duration": 5,
    "start_time": "2024-07-12T02:55:11.383Z"
   },
   {
    "duration": 40,
    "start_time": "2024-07-12T02:55:11.392Z"
   },
   {
    "duration": 8,
    "start_time": "2024-07-12T02:55:11.435Z"
   },
   {
    "duration": 4,
    "start_time": "2024-07-12T02:55:11.446Z"
   },
   {
    "duration": 12,
    "start_time": "2024-07-12T02:55:11.453Z"
   },
   {
    "duration": 45,
    "start_time": "2024-07-12T02:55:11.468Z"
   },
   {
    "duration": 9,
    "start_time": "2024-07-12T02:55:11.516Z"
   },
   {
    "duration": 4,
    "start_time": "2024-07-12T02:55:11.531Z"
   },
   {
    "duration": 10,
    "start_time": "2024-07-12T02:55:11.539Z"
   },
   {
    "duration": 456,
    "start_time": "2024-07-12T02:55:11.552Z"
   },
   {
    "duration": 4,
    "start_time": "2024-07-12T02:55:12.013Z"
   },
   {
    "duration": 26,
    "start_time": "2024-07-12T02:55:12.020Z"
   },
   {
    "duration": 10,
    "start_time": "2024-07-12T02:55:12.049Z"
   },
   {
    "duration": 1909,
    "start_time": "2024-07-12T02:55:12.061Z"
   },
   {
    "duration": 371,
    "start_time": "2024-07-12T02:55:20.579Z"
   },
   {
    "duration": 21,
    "start_time": "2024-07-12T02:55:39.917Z"
   },
   {
    "duration": 24,
    "start_time": "2024-07-12T02:55:42.623Z"
   },
   {
    "duration": 134,
    "start_time": "2024-07-12T02:58:19.914Z"
   },
   {
    "duration": 336,
    "start_time": "2024-07-12T02:58:32.345Z"
   },
   {
    "duration": 20,
    "start_time": "2024-07-12T03:06:52.075Z"
   },
   {
    "duration": 446,
    "start_time": "2024-07-12T03:07:21.765Z"
   },
   {
    "duration": 1927,
    "start_time": "2024-07-12T03:07:22.221Z"
   },
   {
    "duration": 34,
    "start_time": "2024-07-12T03:07:24.150Z"
   },
   {
    "duration": 16,
    "start_time": "2024-07-12T03:07:24.187Z"
   },
   {
    "duration": 29,
    "start_time": "2024-07-12T03:07:24.211Z"
   },
   {
    "duration": 24,
    "start_time": "2024-07-12T03:07:24.244Z"
   },
   {
    "duration": 93,
    "start_time": "2024-07-12T03:07:24.272Z"
   },
   {
    "duration": 382,
    "start_time": "2024-07-12T03:07:24.368Z"
   },
   {
    "duration": 123,
    "start_time": "2024-07-12T03:07:24.753Z"
   },
   {
    "duration": 126,
    "start_time": "2024-07-12T03:07:24.879Z"
   },
   {
    "duration": 192,
    "start_time": "2024-07-12T03:07:25.008Z"
   },
   {
    "duration": 103,
    "start_time": "2024-07-12T03:07:25.203Z"
   },
   {
    "duration": 36,
    "start_time": "2024-07-12T03:07:25.309Z"
   },
   {
    "duration": 13,
    "start_time": "2024-07-12T03:07:25.352Z"
   },
   {
    "duration": 60,
    "start_time": "2024-07-12T03:07:25.368Z"
   },
   {
    "duration": 49,
    "start_time": "2024-07-12T03:07:25.431Z"
   },
   {
    "duration": 8,
    "start_time": "2024-07-12T03:07:25.483Z"
   },
   {
    "duration": 10,
    "start_time": "2024-07-12T03:07:25.514Z"
   },
   {
    "duration": 18,
    "start_time": "2024-07-12T03:07:25.527Z"
   },
   {
    "duration": 7,
    "start_time": "2024-07-12T03:07:25.548Z"
   },
   {
    "duration": 10,
    "start_time": "2024-07-12T03:07:25.559Z"
   },
   {
    "duration": 52,
    "start_time": "2024-07-12T03:07:25.572Z"
   },
   {
    "duration": 1421,
    "start_time": "2024-07-12T03:07:25.633Z"
   },
   {
    "duration": 1240,
    "start_time": "2024-07-12T03:07:27.057Z"
   },
   {
    "duration": 22,
    "start_time": "2024-07-12T03:07:28.300Z"
   },
   {
    "duration": 21,
    "start_time": "2024-07-12T03:07:28.326Z"
   },
   {
    "duration": 15,
    "start_time": "2024-07-12T03:07:28.349Z"
   },
   {
    "duration": 48,
    "start_time": "2024-07-12T03:07:28.368Z"
   },
   {
    "duration": 22,
    "start_time": "2024-07-12T03:07:28.421Z"
   },
   {
    "duration": 11,
    "start_time": "2024-07-12T03:07:28.446Z"
   },
   {
    "duration": 7,
    "start_time": "2024-07-12T03:07:28.460Z"
   },
   {
    "duration": 54,
    "start_time": "2024-07-12T03:07:28.470Z"
   },
   {
    "duration": 16,
    "start_time": "2024-07-12T03:07:28.527Z"
   },
   {
    "duration": 14,
    "start_time": "2024-07-12T03:07:28.546Z"
   },
   {
    "duration": 50,
    "start_time": "2024-07-12T03:07:28.563Z"
   },
   {
    "duration": 54,
    "start_time": "2024-07-12T03:07:28.616Z"
   },
   {
    "duration": 27,
    "start_time": "2024-07-12T03:07:28.673Z"
   },
   {
    "duration": 45,
    "start_time": "2024-07-12T03:07:28.717Z"
   },
   {
    "duration": 29,
    "start_time": "2024-07-12T03:07:28.766Z"
   },
   {
    "duration": 54,
    "start_time": "2024-07-12T03:07:28.798Z"
   },
   {
    "duration": 28,
    "start_time": "2024-07-12T03:07:28.862Z"
   },
   {
    "duration": 23,
    "start_time": "2024-07-12T03:07:28.893Z"
   },
   {
    "duration": 24,
    "start_time": "2024-07-12T03:07:28.919Z"
   },
   {
    "duration": 659,
    "start_time": "2024-07-12T03:07:28.946Z"
   },
   {
    "duration": 136,
    "start_time": "2024-07-12T03:07:29.608Z"
   },
   {
    "duration": 7,
    "start_time": "2024-07-12T03:07:29.747Z"
   },
   {
    "duration": 44,
    "start_time": "2024-07-12T03:07:29.758Z"
   },
   {
    "duration": 39,
    "start_time": "2024-07-12T03:07:29.804Z"
   },
   {
    "duration": 32,
    "start_time": "2024-07-12T03:07:29.846Z"
   },
   {
    "duration": 58,
    "start_time": "2024-07-12T03:07:29.881Z"
   },
   {
    "duration": 10,
    "start_time": "2024-07-12T03:07:29.942Z"
   },
   {
    "duration": 12,
    "start_time": "2024-07-12T03:07:29.955Z"
   },
   {
    "duration": 8,
    "start_time": "2024-07-12T03:07:29.971Z"
   },
   {
    "duration": 363,
    "start_time": "2024-07-12T03:07:29.982Z"
   },
   {
    "duration": 364,
    "start_time": "2024-07-12T03:07:30.348Z"
   },
   {
    "duration": 18,
    "start_time": "2024-07-12T03:07:30.715Z"
   },
   {
    "duration": 277,
    "start_time": "2024-07-12T03:07:30.735Z"
   },
   {
    "duration": 57,
    "start_time": "2024-07-12T03:07:31.014Z"
   },
   {
    "duration": 17,
    "start_time": "2024-07-12T03:07:31.074Z"
   },
   {
    "duration": 52,
    "start_time": "2024-07-12T03:07:31.095Z"
   },
   {
    "duration": 9,
    "start_time": "2024-07-12T03:07:31.153Z"
   },
   {
    "duration": 474,
    "start_time": "2024-07-12T03:07:31.165Z"
   },
   {
    "duration": 5,
    "start_time": "2024-07-12T03:07:31.643Z"
   },
   {
    "duration": 26,
    "start_time": "2024-07-12T03:07:31.651Z"
   },
   {
    "duration": 8,
    "start_time": "2024-07-12T03:07:31.680Z"
   },
   {
    "duration": 9,
    "start_time": "2024-07-12T03:07:31.719Z"
   },
   {
    "duration": 17,
    "start_time": "2024-07-12T03:07:31.732Z"
   },
   {
    "duration": 8,
    "start_time": "2024-07-12T03:07:31.752Z"
   },
   {
    "duration": 7,
    "start_time": "2024-07-12T03:07:31.763Z"
   },
   {
    "duration": 4,
    "start_time": "2024-07-12T03:07:31.774Z"
   },
   {
    "duration": 44,
    "start_time": "2024-07-12T03:07:31.781Z"
   },
   {
    "duration": 521,
    "start_time": "2024-07-12T03:07:31.829Z"
   },
   {
    "duration": 4,
    "start_time": "2024-07-12T03:07:32.352Z"
   },
   {
    "duration": 25,
    "start_time": "2024-07-12T03:07:32.360Z"
   },
   {
    "duration": 30,
    "start_time": "2024-07-12T03:07:32.389Z"
   },
   {
    "duration": 1935,
    "start_time": "2024-07-12T03:07:32.438Z"
   },
   {
    "duration": 218,
    "start_time": "2024-07-12T03:07:34.376Z"
   },
   {
    "duration": 381,
    "start_time": "2024-07-12T03:08:05.270Z"
   },
   {
    "duration": 22,
    "start_time": "2024-07-12T03:08:17.358Z"
   },
   {
    "duration": 19,
    "start_time": "2024-07-12T03:12:42.062Z"
   },
   {
    "duration": 318,
    "start_time": "2024-07-12T03:20:15.247Z"
   },
   {
    "duration": 464,
    "start_time": "2024-07-12T03:20:25.915Z"
   },
   {
    "duration": 1680,
    "start_time": "2024-07-12T03:20:30.687Z"
   },
   {
    "duration": 20,
    "start_time": "2024-07-12T03:20:39.350Z"
   },
   {
    "duration": 64,
    "start_time": "2024-07-12T03:20:44.690Z"
   },
   {
    "duration": 3,
    "start_time": "2024-07-12T03:21:00.400Z"
   },
   {
    "duration": 1555,
    "start_time": "2024-07-12T03:21:00.407Z"
   },
   {
    "duration": 25,
    "start_time": "2024-07-12T03:21:01.966Z"
   },
   {
    "duration": 33,
    "start_time": "2024-07-12T03:21:01.994Z"
   },
   {
    "duration": 19,
    "start_time": "2024-07-12T03:21:02.031Z"
   },
   {
    "duration": 59,
    "start_time": "2024-07-12T03:21:02.053Z"
   },
   {
    "duration": 45,
    "start_time": "2024-07-12T03:21:02.115Z"
   },
   {
    "duration": 321,
    "start_time": "2024-07-12T03:21:02.164Z"
   },
   {
    "duration": 97,
    "start_time": "2024-07-12T03:21:02.488Z"
   },
   {
    "duration": 104,
    "start_time": "2024-07-12T03:21:02.589Z"
   },
   {
    "duration": 170,
    "start_time": "2024-07-12T03:21:02.699Z"
   },
   {
    "duration": 110,
    "start_time": "2024-07-12T03:21:02.872Z"
   },
   {
    "duration": 29,
    "start_time": "2024-07-12T03:21:02.985Z"
   },
   {
    "duration": 20,
    "start_time": "2024-07-12T03:21:03.017Z"
   },
   {
    "duration": 36,
    "start_time": "2024-07-12T03:21:03.041Z"
   },
   {
    "duration": 72,
    "start_time": "2024-07-12T03:21:03.080Z"
   },
   {
    "duration": 8,
    "start_time": "2024-07-12T03:21:03.155Z"
   },
   {
    "duration": 46,
    "start_time": "2024-07-12T03:21:03.166Z"
   },
   {
    "duration": 15,
    "start_time": "2024-07-12T03:21:03.215Z"
   },
   {
    "duration": 7,
    "start_time": "2024-07-12T03:21:03.233Z"
   },
   {
    "duration": 10,
    "start_time": "2024-07-12T03:21:03.243Z"
   },
   {
    "duration": 11,
    "start_time": "2024-07-12T03:21:03.256Z"
   },
   {
    "duration": 1417,
    "start_time": "2024-07-12T03:21:03.269Z"
   },
   {
    "duration": 1213,
    "start_time": "2024-07-12T03:21:04.688Z"
   },
   {
    "duration": 12,
    "start_time": "2024-07-12T03:21:05.911Z"
   },
   {
    "duration": 19,
    "start_time": "2024-07-12T03:21:05.926Z"
   },
   {
    "duration": 15,
    "start_time": "2024-07-12T03:21:05.948Z"
   },
   {
    "duration": 49,
    "start_time": "2024-07-12T03:21:05.965Z"
   },
   {
    "duration": 10,
    "start_time": "2024-07-12T03:21:06.023Z"
   },
   {
    "duration": 14,
    "start_time": "2024-07-12T03:21:06.036Z"
   },
   {
    "duration": 7,
    "start_time": "2024-07-12T03:21:06.053Z"
   },
   {
    "duration": 61,
    "start_time": "2024-07-12T03:21:06.063Z"
   },
   {
    "duration": 11,
    "start_time": "2024-07-12T03:21:06.127Z"
   },
   {
    "duration": 10,
    "start_time": "2024-07-12T03:21:06.141Z"
   },
   {
    "duration": 21,
    "start_time": "2024-07-12T03:21:06.154Z"
   },
   {
    "duration": 42,
    "start_time": "2024-07-12T03:21:06.213Z"
   },
   {
    "duration": 27,
    "start_time": "2024-07-12T03:21:06.258Z"
   },
   {
    "duration": 31,
    "start_time": "2024-07-12T03:21:06.312Z"
   },
   {
    "duration": 29,
    "start_time": "2024-07-12T03:21:06.346Z"
   },
   {
    "duration": 62,
    "start_time": "2024-07-12T03:21:06.378Z"
   },
   {
    "duration": 28,
    "start_time": "2024-07-12T03:21:06.443Z"
   },
   {
    "duration": 38,
    "start_time": "2024-07-12T03:21:06.474Z"
   },
   {
    "duration": 14,
    "start_time": "2024-07-12T03:21:06.514Z"
   },
   {
    "duration": 574,
    "start_time": "2024-07-12T03:21:06.531Z"
   },
   {
    "duration": 111,
    "start_time": "2024-07-12T03:21:07.113Z"
   },
   {
    "duration": 6,
    "start_time": "2024-07-12T03:21:07.227Z"
   },
   {
    "duration": 40,
    "start_time": "2024-07-12T03:21:07.237Z"
   },
   {
    "duration": 54,
    "start_time": "2024-07-12T03:21:07.280Z"
   },
   {
    "duration": 34,
    "start_time": "2024-07-12T03:21:07.338Z"
   },
   {
    "duration": 40,
    "start_time": "2024-07-12T03:21:07.376Z"
   },
   {
    "duration": 10,
    "start_time": "2024-07-12T03:21:07.419Z"
   },
   {
    "duration": 11,
    "start_time": "2024-07-12T03:21:07.432Z"
   },
   {
    "duration": 10,
    "start_time": "2024-07-12T03:21:07.446Z"
   },
   {
    "duration": 325,
    "start_time": "2024-07-12T03:21:07.459Z"
   },
   {
    "duration": 354,
    "start_time": "2024-07-12T03:21:07.787Z"
   },
   {
    "duration": 15,
    "start_time": "2024-07-12T03:21:08.144Z"
   },
   {
    "duration": 246,
    "start_time": "2024-07-12T03:21:08.162Z"
   },
   {
    "duration": 46,
    "start_time": "2024-07-12T03:21:08.413Z"
   },
   {
    "duration": 18,
    "start_time": "2024-07-12T03:21:08.462Z"
   },
   {
    "duration": 23,
    "start_time": "2024-07-12T03:21:08.512Z"
   },
   {
    "duration": 10,
    "start_time": "2024-07-12T03:21:08.538Z"
   },
   {
    "duration": 392,
    "start_time": "2024-07-12T03:21:08.551Z"
   },
   {
    "duration": 6,
    "start_time": "2024-07-12T03:21:08.947Z"
   },
   {
    "duration": 23,
    "start_time": "2024-07-12T03:21:08.956Z"
   },
   {
    "duration": 36,
    "start_time": "2024-07-12T03:21:08.982Z"
   },
   {
    "duration": 4,
    "start_time": "2024-07-12T03:21:09.022Z"
   },
   {
    "duration": 11,
    "start_time": "2024-07-12T03:21:09.030Z"
   },
   {
    "duration": 7,
    "start_time": "2024-07-12T03:21:09.044Z"
   },
   {
    "duration": 6,
    "start_time": "2024-07-12T03:21:09.054Z"
   },
   {
    "duration": 52,
    "start_time": "2024-07-12T03:21:09.063Z"
   },
   {
    "duration": 12,
    "start_time": "2024-07-12T03:21:09.118Z"
   },
   {
    "duration": 443,
    "start_time": "2024-07-12T03:21:09.133Z"
   },
   {
    "duration": 3,
    "start_time": "2024-07-12T03:21:09.579Z"
   },
   {
    "duration": 37,
    "start_time": "2024-07-12T03:21:09.585Z"
   },
   {
    "duration": 4,
    "start_time": "2024-07-12T03:21:14.915Z"
   },
   {
    "duration": 1535,
    "start_time": "2024-07-12T03:21:14.924Z"
   },
   {
    "duration": 24,
    "start_time": "2024-07-12T03:21:16.461Z"
   },
   {
    "duration": 38,
    "start_time": "2024-07-12T03:21:16.489Z"
   },
   {
    "duration": 19,
    "start_time": "2024-07-12T03:21:16.532Z"
   },
   {
    "duration": 19,
    "start_time": "2024-07-12T03:21:16.556Z"
   },
   {
    "duration": 119,
    "start_time": "2024-07-12T03:21:16.613Z"
   },
   {
    "duration": 300,
    "start_time": "2024-07-12T03:21:16.735Z"
   },
   {
    "duration": 98,
    "start_time": "2024-07-12T03:21:17.038Z"
   },
   {
    "duration": 104,
    "start_time": "2024-07-12T03:21:17.138Z"
   },
   {
    "duration": 171,
    "start_time": "2024-07-12T03:21:17.245Z"
   },
   {
    "duration": 94,
    "start_time": "2024-07-12T03:21:17.419Z"
   },
   {
    "duration": 24,
    "start_time": "2024-07-12T03:21:17.516Z"
   },
   {
    "duration": 12,
    "start_time": "2024-07-12T03:21:17.548Z"
   },
   {
    "duration": 63,
    "start_time": "2024-07-12T03:21:17.562Z"
   },
   {
    "duration": 41,
    "start_time": "2024-07-12T03:21:17.627Z"
   },
   {
    "duration": 7,
    "start_time": "2024-07-12T03:21:17.671Z"
   },
   {
    "duration": 9,
    "start_time": "2024-07-12T03:21:17.714Z"
   },
   {
    "duration": 9,
    "start_time": "2024-07-12T03:21:17.727Z"
   },
   {
    "duration": 8,
    "start_time": "2024-07-12T03:21:17.741Z"
   },
   {
    "duration": 10,
    "start_time": "2024-07-12T03:21:17.752Z"
   },
   {
    "duration": 54,
    "start_time": "2024-07-12T03:21:17.765Z"
   },
   {
    "duration": 1345,
    "start_time": "2024-07-12T03:21:17.822Z"
   },
   {
    "duration": 1198,
    "start_time": "2024-07-12T03:21:19.169Z"
   },
   {
    "duration": 11,
    "start_time": "2024-07-12T03:21:20.370Z"
   },
   {
    "duration": 38,
    "start_time": "2024-07-12T03:21:20.384Z"
   },
   {
    "duration": 14,
    "start_time": "2024-07-12T03:21:20.425Z"
   },
   {
    "duration": 12,
    "start_time": "2024-07-12T03:21:20.442Z"
   },
   {
    "duration": 10,
    "start_time": "2024-07-12T03:21:20.457Z"
   },
   {
    "duration": 48,
    "start_time": "2024-07-12T03:21:20.470Z"
   },
   {
    "duration": 10,
    "start_time": "2024-07-12T03:21:20.521Z"
   },
   {
    "duration": 22,
    "start_time": "2024-07-12T03:21:20.534Z"
   },
   {
    "duration": 56,
    "start_time": "2024-07-12T03:21:20.560Z"
   },
   {
    "duration": 12,
    "start_time": "2024-07-12T03:21:20.618Z"
   },
   {
    "duration": 21,
    "start_time": "2024-07-12T03:21:20.633Z"
   },
   {
    "duration": 76,
    "start_time": "2024-07-12T03:21:20.657Z"
   },
   {
    "duration": 28,
    "start_time": "2024-07-12T03:21:20.735Z"
   },
   {
    "duration": 51,
    "start_time": "2024-07-12T03:21:20.766Z"
   },
   {
    "duration": 30,
    "start_time": "2024-07-12T03:21:20.820Z"
   },
   {
    "duration": 27,
    "start_time": "2024-07-12T03:21:20.853Z"
   },
   {
    "duration": 30,
    "start_time": "2024-07-12T03:21:20.921Z"
   },
   {
    "duration": 18,
    "start_time": "2024-07-12T03:21:20.955Z"
   },
   {
    "duration": 43,
    "start_time": "2024-07-12T03:21:20.977Z"
   },
   {
    "duration": 572,
    "start_time": "2024-07-12T03:21:21.023Z"
   },
   {
    "duration": 116,
    "start_time": "2024-07-12T03:21:21.598Z"
   },
   {
    "duration": 5,
    "start_time": "2024-07-12T03:21:21.717Z"
   },
   {
    "duration": 40,
    "start_time": "2024-07-12T03:21:21.725Z"
   },
   {
    "duration": 58,
    "start_time": "2024-07-12T03:21:21.768Z"
   },
   {
    "duration": 33,
    "start_time": "2024-07-12T03:21:21.829Z"
   },
   {
    "duration": 12,
    "start_time": "2024-07-12T03:21:21.867Z"
   },
   {
    "duration": 37,
    "start_time": "2024-07-12T03:21:21.881Z"
   },
   {
    "duration": 12,
    "start_time": "2024-07-12T03:21:21.922Z"
   },
   {
    "duration": 10,
    "start_time": "2024-07-12T03:21:21.936Z"
   },
   {
    "duration": 4,
    "start_time": "2024-07-12T03:21:21.949Z"
   },
   {
    "duration": 369,
    "start_time": "2024-07-12T03:21:21.956Z"
   },
   {
    "duration": 16,
    "start_time": "2024-07-12T03:21:22.328Z"
   },
   {
    "duration": 237,
    "start_time": "2024-07-12T03:21:22.347Z"
   },
   {
    "duration": 50,
    "start_time": "2024-07-12T03:21:22.587Z"
   },
   {
    "duration": 17,
    "start_time": "2024-07-12T03:21:22.640Z"
   },
   {
    "duration": 56,
    "start_time": "2024-07-12T03:21:22.660Z"
   },
   {
    "duration": 11,
    "start_time": "2024-07-12T03:21:22.720Z"
   },
   {
    "duration": 397,
    "start_time": "2024-07-12T03:21:22.734Z"
   },
   {
    "duration": 4,
    "start_time": "2024-07-12T03:21:23.134Z"
   },
   {
    "duration": 19,
    "start_time": "2024-07-12T03:21:23.142Z"
   },
   {
    "duration": 8,
    "start_time": "2024-07-12T03:21:23.164Z"
   },
   {
    "duration": 7,
    "start_time": "2024-07-12T03:21:23.214Z"
   },
   {
    "duration": 11,
    "start_time": "2024-07-12T03:21:23.224Z"
   },
   {
    "duration": 7,
    "start_time": "2024-07-12T03:21:23.238Z"
   },
   {
    "duration": 5,
    "start_time": "2024-07-12T03:21:23.249Z"
   },
   {
    "duration": 5,
    "start_time": "2024-07-12T03:21:23.257Z"
   },
   {
    "duration": 58,
    "start_time": "2024-07-12T03:21:23.265Z"
   },
   {
    "duration": 450,
    "start_time": "2024-07-12T03:21:23.328Z"
   },
   {
    "duration": 5,
    "start_time": "2024-07-12T03:21:23.782Z"
   },
   {
    "duration": 12,
    "start_time": "2024-07-12T03:21:23.812Z"
   },
   {
    "duration": 165,
    "start_time": "2024-07-12T03:21:33.370Z"
   },
   {
    "duration": 314,
    "start_time": "2024-07-12T03:21:46.198Z"
   },
   {
    "duration": 494,
    "start_time": "2024-07-12T03:23:43.810Z"
   },
   {
    "duration": 1667,
    "start_time": "2024-07-12T03:23:44.313Z"
   },
   {
    "duration": 41,
    "start_time": "2024-07-12T03:23:45.982Z"
   },
   {
    "duration": 17,
    "start_time": "2024-07-12T03:23:46.026Z"
   },
   {
    "duration": 19,
    "start_time": "2024-07-12T03:23:46.048Z"
   },
   {
    "duration": 55,
    "start_time": "2024-07-12T03:23:46.071Z"
   },
   {
    "duration": 46,
    "start_time": "2024-07-12T03:23:46.130Z"
   },
   {
    "duration": 363,
    "start_time": "2024-07-12T03:23:46.211Z"
   },
   {
    "duration": 100,
    "start_time": "2024-07-12T03:23:46.577Z"
   },
   {
    "duration": 122,
    "start_time": "2024-07-12T03:23:46.680Z"
   },
   {
    "duration": 172,
    "start_time": "2024-07-12T03:23:46.805Z"
   },
   {
    "duration": 101,
    "start_time": "2024-07-12T03:23:46.980Z"
   },
   {
    "duration": 36,
    "start_time": "2024-07-12T03:23:47.084Z"
   },
   {
    "duration": 14,
    "start_time": "2024-07-12T03:23:47.128Z"
   },
   {
    "duration": 34,
    "start_time": "2024-07-12T03:23:47.144Z"
   },
   {
    "duration": 71,
    "start_time": "2024-07-12T03:23:47.181Z"
   },
   {
    "duration": 7,
    "start_time": "2024-07-12T03:23:47.255Z"
   },
   {
    "duration": 9,
    "start_time": "2024-07-12T03:23:47.265Z"
   },
   {
    "duration": 43,
    "start_time": "2024-07-12T03:23:47.277Z"
   },
   {
    "duration": 8,
    "start_time": "2024-07-12T03:23:47.323Z"
   },
   {
    "duration": 10,
    "start_time": "2024-07-12T03:23:47.334Z"
   },
   {
    "duration": 10,
    "start_time": "2024-07-12T03:23:47.347Z"
   },
   {
    "duration": 1447,
    "start_time": "2024-07-12T03:23:47.360Z"
   },
   {
    "duration": 1200,
    "start_time": "2024-07-12T03:23:48.813Z"
   },
   {
    "duration": 11,
    "start_time": "2024-07-12T03:23:50.016Z"
   },
   {
    "duration": 20,
    "start_time": "2024-07-12T03:23:50.030Z"
   },
   {
    "duration": 15,
    "start_time": "2024-07-12T03:23:50.053Z"
   },
   {
    "duration": 49,
    "start_time": "2024-07-12T03:23:50.071Z"
   },
   {
    "duration": 10,
    "start_time": "2024-07-12T03:23:50.123Z"
   },
   {
    "duration": 11,
    "start_time": "2024-07-12T03:23:50.136Z"
   },
   {
    "duration": 8,
    "start_time": "2024-07-12T03:23:50.149Z"
   },
   {
    "duration": 66,
    "start_time": "2024-07-12T03:23:50.160Z"
   },
   {
    "duration": 11,
    "start_time": "2024-07-12T03:23:50.229Z"
   },
   {
    "duration": 12,
    "start_time": "2024-07-12T03:23:50.243Z"
   },
   {
    "duration": 61,
    "start_time": "2024-07-12T03:23:50.258Z"
   },
   {
    "duration": 41,
    "start_time": "2024-07-12T03:23:50.324Z"
   },
   {
    "duration": 47,
    "start_time": "2024-07-12T03:23:50.367Z"
   },
   {
    "duration": 32,
    "start_time": "2024-07-12T03:23:50.418Z"
   },
   {
    "duration": 28,
    "start_time": "2024-07-12T03:23:50.453Z"
   },
   {
    "duration": 29,
    "start_time": "2024-07-12T03:23:50.513Z"
   },
   {
    "duration": 28,
    "start_time": "2024-07-12T03:23:50.552Z"
   },
   {
    "duration": 39,
    "start_time": "2024-07-12T03:23:50.582Z"
   },
   {
    "duration": 13,
    "start_time": "2024-07-12T03:23:50.624Z"
   },
   {
    "duration": 575,
    "start_time": "2024-07-12T03:23:50.641Z"
   },
   {
    "duration": 116,
    "start_time": "2024-07-12T03:23:51.219Z"
   },
   {
    "duration": 6,
    "start_time": "2024-07-12T03:23:51.338Z"
   },
   {
    "duration": 65,
    "start_time": "2024-07-12T03:23:51.347Z"
   },
   {
    "duration": 29,
    "start_time": "2024-07-12T03:23:51.415Z"
   },
   {
    "duration": 32,
    "start_time": "2024-07-12T03:23:51.447Z"
   },
   {
    "duration": 45,
    "start_time": "2024-07-12T03:23:51.482Z"
   },
   {
    "duration": 11,
    "start_time": "2024-07-12T03:23:51.530Z"
   },
   {
    "duration": 12,
    "start_time": "2024-07-12T03:23:51.543Z"
   },
   {
    "duration": 10,
    "start_time": "2024-07-12T03:23:51.557Z"
   },
   {
    "duration": 283,
    "start_time": "2024-07-12T03:23:51.569Z"
   },
   {
    "duration": 397,
    "start_time": "2024-07-12T03:23:51.855Z"
   },
   {
    "duration": 16,
    "start_time": "2024-07-12T03:23:52.254Z"
   },
   {
    "duration": 241,
    "start_time": "2024-07-12T03:23:52.273Z"
   },
   {
    "duration": 44,
    "start_time": "2024-07-12T03:23:52.517Z"
   },
   {
    "duration": 16,
    "start_time": "2024-07-12T03:23:52.564Z"
   },
   {
    "duration": 52,
    "start_time": "2024-07-12T03:23:52.582Z"
   },
   {
    "duration": 10,
    "start_time": "2024-07-12T03:23:52.637Z"
   },
   {
    "duration": 413,
    "start_time": "2024-07-12T03:23:52.649Z"
   },
   {
    "duration": 5,
    "start_time": "2024-07-12T03:23:53.065Z"
   },
   {
    "duration": 45,
    "start_time": "2024-07-12T03:23:53.073Z"
   },
   {
    "duration": 8,
    "start_time": "2024-07-12T03:23:53.122Z"
   },
   {
    "duration": 4,
    "start_time": "2024-07-12T03:23:53.134Z"
   },
   {
    "duration": 10,
    "start_time": "2024-07-12T03:23:53.143Z"
   },
   {
    "duration": 6,
    "start_time": "2024-07-12T03:23:53.156Z"
   },
   {
    "duration": 50,
    "start_time": "2024-07-12T03:23:53.166Z"
   },
   {
    "duration": 6,
    "start_time": "2024-07-12T03:23:53.219Z"
   },
   {
    "duration": 10,
    "start_time": "2024-07-12T03:23:53.228Z"
   },
   {
    "duration": 455,
    "start_time": "2024-07-12T03:23:53.241Z"
   },
   {
    "duration": 18,
    "start_time": "2024-07-12T03:23:53.698Z"
   },
   {
    "duration": 28,
    "start_time": "2024-07-12T03:23:53.719Z"
   },
   {
    "duration": 9,
    "start_time": "2024-07-12T03:23:53.750Z"
   },
   {
    "duration": 1745,
    "start_time": "2024-07-12T03:23:53.761Z"
   },
   {
    "duration": 10,
    "start_time": "2024-07-12T03:23:55.513Z"
   },
   {
    "duration": 194,
    "start_time": "2024-07-12T03:23:55.527Z"
   },
   {
    "duration": 322,
    "start_time": "2024-07-12T03:25:10.173Z"
   },
   {
    "duration": 21,
    "start_time": "2024-07-12T03:25:16.922Z"
   },
   {
    "duration": 22,
    "start_time": "2024-07-12T03:25:20.977Z"
   },
   {
    "duration": 25,
    "start_time": "2024-07-12T03:25:40.700Z"
   },
   {
    "duration": 478,
    "start_time": "2024-07-12T03:25:44.117Z"
   },
   {
    "duration": 1820,
    "start_time": "2024-07-12T03:26:08.049Z"
   },
   {
    "duration": 32,
    "start_time": "2024-07-12T03:26:42.919Z"
   },
   {
    "duration": 15,
    "start_time": "2024-07-12T03:26:45.778Z"
   },
   {
    "duration": 19,
    "start_time": "2024-07-12T03:26:48.649Z"
   },
   {
    "duration": 19,
    "start_time": "2024-07-12T03:26:50.725Z"
   },
   {
    "duration": 46,
    "start_time": "2024-07-12T03:26:52.837Z"
   },
   {
    "duration": 340,
    "start_time": "2024-07-12T03:26:56.725Z"
   },
   {
    "duration": 98,
    "start_time": "2024-07-12T03:26:59.904Z"
   },
   {
    "duration": 113,
    "start_time": "2024-07-12T03:27:02.741Z"
   },
   {
    "duration": 166,
    "start_time": "2024-07-12T03:27:04.788Z"
   },
   {
    "duration": 97,
    "start_time": "2024-07-12T03:27:07.157Z"
   },
   {
    "duration": 27,
    "start_time": "2024-07-12T03:27:10.353Z"
   },
   {
    "duration": 11,
    "start_time": "2024-07-12T03:27:12.418Z"
   },
   {
    "duration": 34,
    "start_time": "2024-07-12T03:27:16.230Z"
   },
   {
    "duration": 43,
    "start_time": "2024-07-12T03:27:19.438Z"
   },
   {
    "duration": 8,
    "start_time": "2024-07-12T03:27:37.222Z"
   },
   {
    "duration": 9,
    "start_time": "2024-07-12T03:27:39.562Z"
   },
   {
    "duration": 12,
    "start_time": "2024-07-12T03:27:41.916Z"
   },
   {
    "duration": 6,
    "start_time": "2024-07-12T03:27:45.534Z"
   },
   {
    "duration": 9,
    "start_time": "2024-07-12T03:27:48.388Z"
   },
   {
    "duration": 10,
    "start_time": "2024-07-12T03:27:50.893Z"
   },
   {
    "duration": 1410,
    "start_time": "2024-07-12T03:27:55.029Z"
   },
   {
    "duration": 1241,
    "start_time": "2024-07-12T03:27:58.151Z"
   },
   {
    "duration": 12,
    "start_time": "2024-07-12T03:28:03.664Z"
   },
   {
    "duration": 17,
    "start_time": "2024-07-12T03:28:09.077Z"
   },
   {
    "duration": 18,
    "start_time": "2024-07-12T03:28:12.637Z"
   },
   {
    "duration": 12,
    "start_time": "2024-07-12T03:28:15.160Z"
   },
   {
    "duration": 9,
    "start_time": "2024-07-12T03:28:17.248Z"
   },
   {
    "duration": 9,
    "start_time": "2024-07-12T03:28:19.501Z"
   },
   {
    "duration": 9,
    "start_time": "2024-07-12T03:28:21.765Z"
   },
   {
    "duration": 22,
    "start_time": "2024-07-12T03:28:24.002Z"
   },
   {
    "duration": 10,
    "start_time": "2024-07-12T03:28:27.309Z"
   },
   {
    "duration": 12,
    "start_time": "2024-07-12T03:28:30.559Z"
   },
   {
    "duration": 21,
    "start_time": "2024-07-12T03:28:32.791Z"
   },
   {
    "duration": 43,
    "start_time": "2024-07-12T03:28:35.889Z"
   },
   {
    "duration": 27,
    "start_time": "2024-07-12T03:28:38.817Z"
   },
   {
    "duration": 30,
    "start_time": "2024-07-12T03:28:41.353Z"
   },
   {
    "duration": 27,
    "start_time": "2024-07-12T03:28:43.983Z"
   },
   {
    "duration": 28,
    "start_time": "2024-07-12T03:28:47.636Z"
   },
   {
    "duration": 28,
    "start_time": "2024-07-12T03:28:49.184Z"
   },
   {
    "duration": 10,
    "start_time": "2024-07-12T03:28:50.730Z"
   },
   {
    "duration": 14,
    "start_time": "2024-07-12T03:28:52.870Z"
   },
   {
    "duration": 539,
    "start_time": "2024-07-12T03:28:54.702Z"
   },
   {
    "duration": 104,
    "start_time": "2024-07-12T03:29:00.987Z"
   },
   {
    "duration": 6,
    "start_time": "2024-07-12T03:29:02.494Z"
   },
   {
    "duration": 42,
    "start_time": "2024-07-12T03:29:03.718Z"
   },
   {
    "duration": 29,
    "start_time": "2024-07-12T03:29:10.961Z"
   },
   {
    "duration": 33,
    "start_time": "2024-07-12T03:29:15.304Z"
   },
   {
    "duration": 13,
    "start_time": "2024-07-12T03:29:18.371Z"
   },
   {
    "duration": 8,
    "start_time": "2024-07-12T03:29:21.889Z"
   },
   {
    "duration": 12,
    "start_time": "2024-07-12T03:29:23.138Z"
   },
   {
    "duration": 10,
    "start_time": "2024-07-12T03:29:24.603Z"
   },
   {
    "duration": 292,
    "start_time": "2024-07-12T03:29:27.998Z"
   },
   {
    "duration": 344,
    "start_time": "2024-07-12T03:29:29.938Z"
   },
   {
    "duration": 16,
    "start_time": "2024-07-12T03:29:32.889Z"
   },
   {
    "duration": 203,
    "start_time": "2024-07-12T03:29:36.039Z"
   },
   {
    "duration": 42,
    "start_time": "2024-07-12T03:29:39.220Z"
   },
   {
    "duration": 16,
    "start_time": "2024-07-12T03:29:41.365Z"
   },
   {
    "duration": 26,
    "start_time": "2024-07-12T03:29:43.933Z"
   },
   {
    "duration": 9,
    "start_time": "2024-07-12T03:29:48.015Z"
   },
   {
    "duration": 359,
    "start_time": "2024-07-12T03:29:49.612Z"
   },
   {
    "duration": 4,
    "start_time": "2024-07-12T03:29:54.866Z"
   },
   {
    "duration": 21,
    "start_time": "2024-07-12T03:29:56.362Z"
   },
   {
    "duration": 7,
    "start_time": "2024-07-12T03:29:57.751Z"
   },
   {
    "duration": 4,
    "start_time": "2024-07-12T03:30:00.699Z"
   },
   {
    "duration": 10,
    "start_time": "2024-07-12T03:30:03.335Z"
   },
   {
    "duration": 7,
    "start_time": "2024-07-12T03:30:04.765Z"
   },
   {
    "duration": 5,
    "start_time": "2024-07-12T03:30:08.504Z"
   },
   {
    "duration": 6,
    "start_time": "2024-07-12T03:30:10.342Z"
   },
   {
    "duration": 13,
    "start_time": "2024-07-12T03:30:12.073Z"
   },
   {
    "duration": 396,
    "start_time": "2024-07-12T03:30:15.768Z"
   },
   {
    "duration": 3,
    "start_time": "2024-07-12T03:30:18.454Z"
   },
   {
    "duration": 25,
    "start_time": "2024-07-12T03:30:22.268Z"
   },
   {
    "duration": 9,
    "start_time": "2024-07-12T03:30:25.466Z"
   },
   {
    "duration": 1733,
    "start_time": "2024-07-12T03:30:27.266Z"
   },
   {
    "duration": 1732,
    "start_time": "2024-07-12T03:30:37.425Z"
   },
   {
    "duration": 1721,
    "start_time": "2024-07-12T03:30:43.088Z"
   },
   {
    "duration": 10,
    "start_time": "2024-07-12T03:30:50.129Z"
   },
   {
    "duration": 178,
    "start_time": "2024-07-12T03:30:55.474Z"
   },
   {
    "duration": 321,
    "start_time": "2024-07-12T03:31:01.636Z"
   },
   {
    "duration": 32,
    "start_time": "2024-07-12T03:31:46.315Z"
   },
   {
    "duration": 476,
    "start_time": "2024-07-12T03:32:24.583Z"
   },
   {
    "duration": 1674,
    "start_time": "2024-07-12T03:32:25.063Z"
   },
   {
    "duration": 33,
    "start_time": "2024-07-12T03:32:26.739Z"
   },
   {
    "duration": 40,
    "start_time": "2024-07-12T03:32:26.777Z"
   },
   {
    "duration": 19,
    "start_time": "2024-07-12T03:32:26.820Z"
   },
   {
    "duration": 20,
    "start_time": "2024-07-12T03:32:26.842Z"
   },
   {
    "duration": 84,
    "start_time": "2024-07-12T03:32:26.865Z"
   },
   {
    "duration": 357,
    "start_time": "2024-07-12T03:32:26.957Z"
   },
   {
    "duration": 107,
    "start_time": "2024-07-12T03:32:27.318Z"
   },
   {
    "duration": 122,
    "start_time": "2024-07-12T03:32:27.431Z"
   },
   {
    "duration": 194,
    "start_time": "2024-07-12T03:32:27.556Z"
   },
   {
    "duration": 101,
    "start_time": "2024-07-12T03:32:27.752Z"
   },
   {
    "duration": 23,
    "start_time": "2024-07-12T03:32:27.856Z"
   },
   {
    "duration": 34,
    "start_time": "2024-07-12T03:32:27.882Z"
   },
   {
    "duration": 34,
    "start_time": "2024-07-12T03:32:27.920Z"
   },
   {
    "duration": 72,
    "start_time": "2024-07-12T03:32:27.958Z"
   },
   {
    "duration": 10,
    "start_time": "2024-07-12T03:32:28.033Z"
   },
   {
    "duration": 13,
    "start_time": "2024-07-12T03:32:28.046Z"
   },
   {
    "duration": 10,
    "start_time": "2024-07-12T03:32:28.063Z"
   },
   {
    "duration": 42,
    "start_time": "2024-07-12T03:32:28.076Z"
   },
   {
    "duration": 10,
    "start_time": "2024-07-12T03:32:28.121Z"
   },
   {
    "duration": 9,
    "start_time": "2024-07-12T03:32:28.135Z"
   },
   {
    "duration": 1453,
    "start_time": "2024-07-12T03:32:28.147Z"
   },
   {
    "duration": 1241,
    "start_time": "2024-07-12T03:32:29.612Z"
   },
   {
    "duration": 11,
    "start_time": "2024-07-12T03:32:30.856Z"
   },
   {
    "duration": 43,
    "start_time": "2024-07-12T03:32:30.870Z"
   },
   {
    "duration": 20,
    "start_time": "2024-07-12T03:32:30.916Z"
   },
   {
    "duration": 12,
    "start_time": "2024-07-12T03:32:30.946Z"
   },
   {
    "duration": 18,
    "start_time": "2024-07-12T03:32:30.962Z"
   },
   {
    "duration": 37,
    "start_time": "2024-07-12T03:32:30.984Z"
   },
   {
    "duration": 7,
    "start_time": "2024-07-12T03:32:31.025Z"
   },
   {
    "duration": 19,
    "start_time": "2024-07-12T03:32:31.035Z"
   },
   {
    "duration": 11,
    "start_time": "2024-07-12T03:32:31.057Z"
   },
   {
    "duration": 12,
    "start_time": "2024-07-12T03:32:31.112Z"
   },
   {
    "duration": 21,
    "start_time": "2024-07-12T03:32:31.128Z"
   },
   {
    "duration": 70,
    "start_time": "2024-07-12T03:32:31.151Z"
   },
   {
    "duration": 28,
    "start_time": "2024-07-12T03:32:31.224Z"
   },
   {
    "duration": 58,
    "start_time": "2024-07-12T03:32:31.255Z"
   },
   {
    "duration": 28,
    "start_time": "2024-07-12T03:32:31.316Z"
   },
   {
    "duration": 29,
    "start_time": "2024-07-12T03:32:31.346Z"
   },
   {
    "duration": 60,
    "start_time": "2024-07-12T03:32:31.378Z"
   },
   {
    "duration": 11,
    "start_time": "2024-07-12T03:32:31.441Z"
   },
   {
    "duration": 14,
    "start_time": "2024-07-12T03:32:31.455Z"
   },
   {
    "duration": 592,
    "start_time": "2024-07-12T03:32:31.472Z"
   },
   {
    "duration": 115,
    "start_time": "2024-07-12T03:32:32.067Z"
   },
   {
    "duration": 5,
    "start_time": "2024-07-12T03:32:32.185Z"
   },
   {
    "duration": 58,
    "start_time": "2024-07-12T03:32:32.193Z"
   },
   {
    "duration": 27,
    "start_time": "2024-07-12T03:32:32.254Z"
   },
   {
    "duration": 55,
    "start_time": "2024-07-12T03:32:32.284Z"
   },
   {
    "duration": 13,
    "start_time": "2024-07-12T03:32:32.341Z"
   },
   {
    "duration": 10,
    "start_time": "2024-07-12T03:32:32.357Z"
   },
   {
    "duration": 50,
    "start_time": "2024-07-12T03:32:32.369Z"
   },
   {
    "duration": 8,
    "start_time": "2024-07-12T03:32:32.422Z"
   },
   {
    "duration": 263,
    "start_time": "2024-07-12T03:32:32.433Z"
   },
   {
    "duration": 407,
    "start_time": "2024-07-12T03:32:32.699Z"
   },
   {
    "duration": 20,
    "start_time": "2024-07-12T03:32:33.113Z"
   },
   {
    "duration": 250,
    "start_time": "2024-07-12T03:32:33.136Z"
   },
   {
    "duration": 52,
    "start_time": "2024-07-12T03:32:33.389Z"
   },
   {
    "duration": 17,
    "start_time": "2024-07-12T03:32:33.444Z"
   },
   {
    "duration": 55,
    "start_time": "2024-07-12T03:32:33.464Z"
   },
   {
    "duration": 12,
    "start_time": "2024-07-12T03:32:33.524Z"
   },
   {
    "duration": 400,
    "start_time": "2024-07-12T03:32:33.538Z"
   },
   {
    "duration": 5,
    "start_time": "2024-07-12T03:32:33.941Z"
   },
   {
    "duration": 24,
    "start_time": "2024-07-12T03:32:33.949Z"
   },
   {
    "duration": 37,
    "start_time": "2024-07-12T03:32:33.976Z"
   },
   {
    "duration": 7,
    "start_time": "2024-07-12T03:32:34.016Z"
   },
   {
    "duration": 11,
    "start_time": "2024-07-12T03:32:34.027Z"
   },
   {
    "duration": 7,
    "start_time": "2024-07-12T03:32:34.041Z"
   },
   {
    "duration": 5,
    "start_time": "2024-07-12T03:32:34.051Z"
   },
   {
    "duration": 4,
    "start_time": "2024-07-12T03:32:34.059Z"
   },
   {
    "duration": 12,
    "start_time": "2024-07-12T03:32:34.112Z"
   },
   {
    "duration": 457,
    "start_time": "2024-07-12T03:32:34.127Z"
   },
   {
    "duration": 4,
    "start_time": "2024-07-12T03:32:34.588Z"
   },
   {
    "duration": 40,
    "start_time": "2024-07-12T03:32:34.596Z"
   },
   {
    "duration": 9,
    "start_time": "2024-07-12T03:32:34.639Z"
   },
   {
    "duration": 1700,
    "start_time": "2024-07-12T03:32:34.651Z"
   },
   {
    "duration": 10,
    "start_time": "2024-07-12T03:32:36.354Z"
   },
   {
    "duration": 188,
    "start_time": "2024-07-12T03:32:36.368Z"
   },
   {
    "duration": 4,
    "start_time": "2024-07-12T03:32:36.560Z"
   },
   {
    "duration": 448,
    "start_time": "2024-07-12T03:32:36.568Z"
   },
   {
    "duration": 122,
    "start_time": "2024-07-12T03:42:33.772Z"
   },
   {
    "duration": 121,
    "start_time": "2024-07-12T03:43:58.407Z"
   },
   {
    "duration": 356,
    "start_time": "2024-07-12T03:49:43.222Z"
   },
   {
    "duration": 471,
    "start_time": "2024-07-12T03:50:02.532Z"
   },
   {
    "duration": 1792,
    "start_time": "2024-07-12T03:50:03.016Z"
   },
   {
    "duration": 35,
    "start_time": "2024-07-12T03:50:04.810Z"
   },
   {
    "duration": 62,
    "start_time": "2024-07-12T03:50:04.851Z"
   },
   {
    "duration": 22,
    "start_time": "2024-07-12T03:50:04.915Z"
   },
   {
    "duration": 24,
    "start_time": "2024-07-12T03:50:04.940Z"
   },
   {
    "duration": 143,
    "start_time": "2024-07-12T03:50:04.969Z"
   },
   {
    "duration": 450,
    "start_time": "2024-07-12T03:50:05.117Z"
   },
   {
    "duration": 174,
    "start_time": "2024-07-12T03:50:05.573Z"
   },
   {
    "duration": 219,
    "start_time": "2024-07-12T03:50:05.754Z"
   },
   {
    "duration": 268,
    "start_time": "2024-07-12T03:50:05.978Z"
   },
   {
    "duration": 116,
    "start_time": "2024-07-12T03:50:06.253Z"
   },
   {
    "duration": 47,
    "start_time": "2024-07-12T03:50:06.373Z"
   },
   {
    "duration": 16,
    "start_time": "2024-07-12T03:50:06.424Z"
   },
   {
    "duration": 91,
    "start_time": "2024-07-12T03:50:06.445Z"
   },
   {
    "duration": 135,
    "start_time": "2024-07-12T03:50:06.543Z"
   },
   {
    "duration": 6,
    "start_time": "2024-07-12T03:50:06.682Z"
   },
   {
    "duration": 10,
    "start_time": "2024-07-12T03:50:06.712Z"
   },
   {
    "duration": 10,
    "start_time": "2024-07-12T03:50:06.726Z"
   },
   {
    "duration": 7,
    "start_time": "2024-07-12T03:50:06.740Z"
   },
   {
    "duration": 66,
    "start_time": "2024-07-12T03:50:06.750Z"
   },
   {
    "duration": 10,
    "start_time": "2024-07-12T03:50:06.819Z"
   },
   {
    "duration": 1591,
    "start_time": "2024-07-12T03:50:06.832Z"
   },
   {
    "duration": 1330,
    "start_time": "2024-07-12T03:50:08.425Z"
   },
   {
    "duration": 12,
    "start_time": "2024-07-12T03:50:09.758Z"
   },
   {
    "duration": 44,
    "start_time": "2024-07-12T03:50:09.773Z"
   },
   {
    "duration": 19,
    "start_time": "2024-07-12T03:50:09.820Z"
   },
   {
    "duration": 13,
    "start_time": "2024-07-12T03:50:09.849Z"
   },
   {
    "duration": 50,
    "start_time": "2024-07-12T03:50:09.864Z"
   },
   {
    "duration": 11,
    "start_time": "2024-07-12T03:50:09.917Z"
   },
   {
    "duration": 7,
    "start_time": "2024-07-12T03:50:09.931Z"
   },
   {
    "duration": 22,
    "start_time": "2024-07-12T03:50:09.941Z"
   },
   {
    "duration": 11,
    "start_time": "2024-07-12T03:50:10.012Z"
   },
   {
    "duration": 11,
    "start_time": "2024-07-12T03:50:10.027Z"
   },
   {
    "duration": 22,
    "start_time": "2024-07-12T03:50:10.041Z"
   },
   {
    "duration": 86,
    "start_time": "2024-07-12T03:50:10.066Z"
   },
   {
    "duration": 26,
    "start_time": "2024-07-12T03:50:10.155Z"
   },
   {
    "duration": 58,
    "start_time": "2024-07-12T03:50:10.184Z"
   },
   {
    "duration": 66,
    "start_time": "2024-07-12T03:50:10.246Z"
   },
   {
    "duration": 35,
    "start_time": "2024-07-12T03:50:10.315Z"
   },
   {
    "duration": 62,
    "start_time": "2024-07-12T03:50:10.353Z"
   },
   {
    "duration": 11,
    "start_time": "2024-07-12T03:50:10.418Z"
   },
   {
    "duration": 13,
    "start_time": "2024-07-12T03:50:10.432Z"
   },
   {
    "duration": 611,
    "start_time": "2024-07-12T03:50:10.448Z"
   },
   {
    "duration": 118,
    "start_time": "2024-07-12T03:50:11.062Z"
   },
   {
    "duration": 5,
    "start_time": "2024-07-12T03:50:11.183Z"
   },
   {
    "duration": 64,
    "start_time": "2024-07-12T03:50:11.192Z"
   },
   {
    "duration": 53,
    "start_time": "2024-07-12T03:50:11.259Z"
   },
   {
    "duration": 35,
    "start_time": "2024-07-12T03:50:11.315Z"
   },
   {
    "duration": 14,
    "start_time": "2024-07-12T03:50:11.354Z"
   },
   {
    "duration": 47,
    "start_time": "2024-07-12T03:50:11.371Z"
   },
   {
    "duration": 14,
    "start_time": "2024-07-12T03:50:11.421Z"
   },
   {
    "duration": 11,
    "start_time": "2024-07-12T03:50:11.439Z"
   },
   {
    "duration": 295,
    "start_time": "2024-07-12T03:50:11.457Z"
   },
   {
    "duration": 398,
    "start_time": "2024-07-12T03:50:11.756Z"
   },
   {
    "duration": 18,
    "start_time": "2024-07-12T03:50:12.158Z"
   },
   {
    "duration": 257,
    "start_time": "2024-07-12T03:50:12.180Z"
   },
   {
    "duration": 50,
    "start_time": "2024-07-12T03:50:12.439Z"
   },
   {
    "duration": 18,
    "start_time": "2024-07-12T03:50:12.512Z"
   },
   {
    "duration": 25,
    "start_time": "2024-07-12T03:50:12.532Z"
   },
   {
    "duration": 9,
    "start_time": "2024-07-12T03:50:12.560Z"
   },
   {
    "duration": 379,
    "start_time": "2024-07-12T03:50:12.613Z"
   },
   {
    "duration": 20,
    "start_time": "2024-07-12T03:50:12.995Z"
   },
   {
    "duration": 29,
    "start_time": "2024-07-12T03:50:13.018Z"
   },
   {
    "duration": 7,
    "start_time": "2024-07-12T03:50:13.049Z"
   },
   {
    "duration": 5,
    "start_time": "2024-07-12T03:50:13.059Z"
   },
   {
    "duration": 51,
    "start_time": "2024-07-12T03:50:13.068Z"
   },
   {
    "duration": 8,
    "start_time": "2024-07-12T03:50:13.123Z"
   },
   {
    "duration": 6,
    "start_time": "2024-07-12T03:50:13.134Z"
   },
   {
    "duration": 5,
    "start_time": "2024-07-12T03:50:13.143Z"
   },
   {
    "duration": 10,
    "start_time": "2024-07-12T03:50:13.151Z"
   },
   {
    "duration": 458,
    "start_time": "2024-07-12T03:50:13.215Z"
   },
   {
    "duration": 4,
    "start_time": "2024-07-12T03:50:13.677Z"
   },
   {
    "duration": 50,
    "start_time": "2024-07-12T03:50:13.684Z"
   },
   {
    "duration": 11,
    "start_time": "2024-07-12T03:50:13.738Z"
   },
   {
    "duration": 1714,
    "start_time": "2024-07-12T03:50:13.751Z"
   },
   {
    "duration": 12,
    "start_time": "2024-07-12T03:50:15.469Z"
   },
   {
    "duration": 215,
    "start_time": "2024-07-12T03:50:15.485Z"
   },
   {
    "duration": 10,
    "start_time": "2024-07-12T03:50:15.712Z"
   },
   {
    "duration": 4,
    "start_time": "2024-07-12T03:50:15.725Z"
   },
   {
    "duration": 455,
    "start_time": "2024-07-12T03:50:15.732Z"
   },
   {
    "duration": 11,
    "start_time": "2024-07-12T03:50:58.696Z"
   },
   {
    "duration": 13,
    "start_time": "2024-07-12T03:53:17.498Z"
   },
   {
    "duration": 11,
    "start_time": "2024-07-12T03:53:43.676Z"
   },
   {
    "duration": 22,
    "start_time": "2024-07-12T03:53:49.478Z"
   },
   {
    "duration": 24,
    "start_time": "2024-07-12T03:53:59.930Z"
   },
   {
    "duration": 751,
    "start_time": "2024-07-12T03:54:13.127Z"
   },
   {
    "duration": 313,
    "start_time": "2024-07-12T03:57:41.843Z"
   },
   {
    "duration": 473,
    "start_time": "2024-07-12T03:58:03.356Z"
   },
   {
    "duration": 1672,
    "start_time": "2024-07-12T03:58:03.833Z"
   },
   {
    "duration": 35,
    "start_time": "2024-07-12T03:58:05.508Z"
   },
   {
    "duration": 20,
    "start_time": "2024-07-12T03:58:05.545Z"
   },
   {
    "duration": 55,
    "start_time": "2024-07-12T03:58:05.569Z"
   },
   {
    "duration": 20,
    "start_time": "2024-07-12T03:58:05.626Z"
   },
   {
    "duration": 89,
    "start_time": "2024-07-12T03:58:05.649Z"
   },
   {
    "duration": 352,
    "start_time": "2024-07-12T03:58:05.741Z"
   },
   {
    "duration": 108,
    "start_time": "2024-07-12T03:58:06.096Z"
   },
   {
    "duration": 118,
    "start_time": "2024-07-12T03:58:06.213Z"
   },
   {
    "duration": 176,
    "start_time": "2024-07-12T03:58:06.334Z"
   },
   {
    "duration": 100,
    "start_time": "2024-07-12T03:58:06.513Z"
   },
   {
    "duration": 23,
    "start_time": "2024-07-12T03:58:06.616Z"
   },
   {
    "duration": 12,
    "start_time": "2024-07-12T03:58:06.647Z"
   },
   {
    "duration": 70,
    "start_time": "2024-07-12T03:58:06.662Z"
   },
   {
    "duration": 46,
    "start_time": "2024-07-12T03:58:06.735Z"
   },
   {
    "duration": 32,
    "start_time": "2024-07-12T03:58:06.784Z"
   },
   {
    "duration": 12,
    "start_time": "2024-07-12T03:58:06.820Z"
   },
   {
    "duration": 11,
    "start_time": "2024-07-12T03:58:06.836Z"
   },
   {
    "duration": 61,
    "start_time": "2024-07-12T03:58:06.851Z"
   },
   {
    "duration": 9,
    "start_time": "2024-07-12T03:58:06.915Z"
   },
   {
    "duration": 11,
    "start_time": "2024-07-12T03:58:06.928Z"
   },
   {
    "duration": 1414,
    "start_time": "2024-07-12T03:58:06.943Z"
   },
   {
    "duration": 1435,
    "start_time": "2024-07-12T03:58:08.360Z"
   },
   {
    "duration": 24,
    "start_time": "2024-07-12T03:58:09.798Z"
   },
   {
    "duration": 19,
    "start_time": "2024-07-12T03:58:09.825Z"
   },
   {
    "duration": 18,
    "start_time": "2024-07-12T03:58:09.847Z"
   },
   {
    "duration": 51,
    "start_time": "2024-07-12T03:58:09.867Z"
   },
   {
    "duration": 11,
    "start_time": "2024-07-12T03:58:09.921Z"
   },
   {
    "duration": 15,
    "start_time": "2024-07-12T03:58:09.935Z"
   },
   {
    "duration": 7,
    "start_time": "2024-07-12T03:58:09.953Z"
   },
   {
    "duration": 70,
    "start_time": "2024-07-12T03:58:09.964Z"
   },
   {
    "duration": 15,
    "start_time": "2024-07-12T03:58:10.041Z"
   },
   {
    "duration": 13,
    "start_time": "2024-07-12T03:58:10.062Z"
   },
   {
    "duration": 55,
    "start_time": "2024-07-12T03:58:10.078Z"
   },
   {
    "duration": 41,
    "start_time": "2024-07-12T03:58:10.136Z"
   },
   {
    "duration": 56,
    "start_time": "2024-07-12T03:58:10.179Z"
   },
   {
    "duration": 32,
    "start_time": "2024-07-12T03:58:10.239Z"
   },
   {
    "duration": 67,
    "start_time": "2024-07-12T03:58:10.274Z"
   },
   {
    "duration": 31,
    "start_time": "2024-07-12T03:58:10.344Z"
   },
   {
    "duration": 29,
    "start_time": "2024-07-12T03:58:10.414Z"
   },
   {
    "duration": 10,
    "start_time": "2024-07-12T03:58:10.446Z"
   },
   {
    "duration": 54,
    "start_time": "2024-07-12T03:58:10.460Z"
   },
   {
    "duration": 569,
    "start_time": "2024-07-12T03:58:10.517Z"
   },
   {
    "duration": 123,
    "start_time": "2024-07-12T03:58:11.089Z"
   },
   {
    "duration": 6,
    "start_time": "2024-07-12T03:58:11.215Z"
   },
   {
    "duration": 42,
    "start_time": "2024-07-12T03:58:11.224Z"
   },
   {
    "duration": 62,
    "start_time": "2024-07-12T03:58:11.269Z"
   },
   {
    "duration": 37,
    "start_time": "2024-07-12T03:58:11.334Z"
   },
   {
    "duration": 50,
    "start_time": "2024-07-12T03:58:11.374Z"
   },
   {
    "duration": 10,
    "start_time": "2024-07-12T03:58:11.428Z"
   },
   {
    "duration": 12,
    "start_time": "2024-07-12T03:58:11.441Z"
   },
   {
    "duration": 57,
    "start_time": "2024-07-12T03:58:11.456Z"
   },
   {
    "duration": 255,
    "start_time": "2024-07-12T03:58:11.517Z"
   },
   {
    "duration": 414,
    "start_time": "2024-07-12T03:58:11.775Z"
   },
   {
    "duration": 26,
    "start_time": "2024-07-12T03:58:12.192Z"
   },
   {
    "duration": 238,
    "start_time": "2024-07-12T03:58:12.221Z"
   },
   {
    "duration": 54,
    "start_time": "2024-07-12T03:58:12.462Z"
   },
   {
    "duration": 17,
    "start_time": "2024-07-12T03:58:12.519Z"
   },
   {
    "duration": 24,
    "start_time": "2024-07-12T03:58:12.539Z"
   },
   {
    "duration": 49,
    "start_time": "2024-07-12T03:58:12.566Z"
   },
   {
    "duration": 380,
    "start_time": "2024-07-12T03:58:12.618Z"
   },
   {
    "duration": 5,
    "start_time": "2024-07-12T03:58:13.000Z"
   },
   {
    "duration": 27,
    "start_time": "2024-07-12T03:58:13.014Z"
   },
   {
    "duration": 8,
    "start_time": "2024-07-12T03:58:13.047Z"
   },
   {
    "duration": 6,
    "start_time": "2024-07-12T03:58:13.057Z"
   },
   {
    "duration": 56,
    "start_time": "2024-07-12T03:58:13.066Z"
   },
   {
    "duration": 8,
    "start_time": "2024-07-12T03:58:13.125Z"
   },
   {
    "duration": 6,
    "start_time": "2024-07-12T03:58:13.136Z"
   },
   {
    "duration": 4,
    "start_time": "2024-07-12T03:58:13.145Z"
   },
   {
    "duration": 62,
    "start_time": "2024-07-12T03:58:13.153Z"
   },
   {
    "duration": 446,
    "start_time": "2024-07-12T03:58:13.217Z"
   },
   {
    "duration": 4,
    "start_time": "2024-07-12T03:58:13.666Z"
   },
   {
    "duration": 53,
    "start_time": "2024-07-12T03:58:13.673Z"
   },
   {
    "duration": 10,
    "start_time": "2024-07-12T03:58:13.729Z"
   },
   {
    "duration": 1721,
    "start_time": "2024-07-12T03:58:13.741Z"
   },
   {
    "duration": 11,
    "start_time": "2024-07-12T03:58:15.465Z"
   },
   {
    "duration": 211,
    "start_time": "2024-07-12T03:58:15.479Z"
   },
   {
    "duration": 21,
    "start_time": "2024-07-12T03:58:15.693Z"
   },
   {
    "duration": 18,
    "start_time": "2024-07-12T03:58:15.717Z"
   },
   {
    "duration": 1178,
    "start_time": "2024-07-12T03:58:15.739Z"
   },
   {
    "duration": 7,
    "start_time": "2024-07-12T03:58:53.491Z"
   },
   {
    "duration": 6,
    "start_time": "2024-07-12T03:59:07.666Z"
   },
   {
    "duration": 94,
    "start_time": "2024-07-12T04:00:03.603Z"
   },
   {
    "duration": 471,
    "start_time": "2024-07-12T04:03:52.943Z"
   },
   {
    "duration": 587,
    "start_time": "2024-07-12T04:05:38.762Z"
   },
   {
    "duration": 557,
    "start_time": "2024-07-12T04:06:05.195Z"
   },
   {
    "duration": 23,
    "start_time": "2024-07-12T04:06:20.715Z"
   },
   {
    "duration": 521,
    "start_time": "2024-07-12T04:06:34.909Z"
   },
   {
    "duration": 24,
    "start_time": "2024-07-12T04:07:06.777Z"
   },
   {
    "duration": 21,
    "start_time": "2024-07-12T04:07:10.665Z"
   },
   {
    "duration": 28,
    "start_time": "2024-07-12T04:07:27.455Z"
   },
   {
    "duration": 21,
    "start_time": "2024-07-12T04:07:39.883Z"
   },
   {
    "duration": 33,
    "start_time": "2024-07-12T04:08:03.947Z"
   },
   {
    "duration": 32,
    "start_time": "2024-07-12T04:08:17.729Z"
   },
   {
    "duration": 525,
    "start_time": "2024-07-12T04:08:30.456Z"
   },
   {
    "duration": 526,
    "start_time": "2024-07-12T04:08:40.489Z"
   },
   {
    "duration": 544,
    "start_time": "2024-07-12T04:08:50.373Z"
   },
   {
    "duration": 522,
    "start_time": "2024-07-12T04:09:09.426Z"
   },
   {
    "duration": 20,
    "start_time": "2024-07-12T04:09:14.868Z"
   },
   {
    "duration": 14,
    "start_time": "2024-07-12T04:09:30.254Z"
   },
   {
    "duration": 19,
    "start_time": "2024-07-12T04:09:54.475Z"
   },
   {
    "duration": 537,
    "start_time": "2024-07-12T04:09:57.051Z"
   },
   {
    "duration": 19,
    "start_time": "2024-07-12T04:09:59.881Z"
   },
   {
    "duration": 4,
    "start_time": "2024-07-12T04:10:19.146Z"
   },
   {
    "duration": 250,
    "start_time": "2024-07-12T04:10:59.193Z"
   },
   {
    "duration": 618,
    "start_time": "2024-07-12T04:11:06.029Z"
   },
   {
    "duration": 506,
    "start_time": "2024-07-12T04:11:41.872Z"
   },
   {
    "duration": 31,
    "start_time": "2024-07-12T04:12:44.615Z"
   },
   {
    "duration": 9,
    "start_time": "2024-07-12T04:13:37.497Z"
   },
   {
    "duration": 547,
    "start_time": "2024-07-12T04:13:42.825Z"
   },
   {
    "duration": 4,
    "start_time": "2024-07-12T04:13:46.679Z"
   },
   {
    "duration": 497,
    "start_time": "2024-07-12T04:13:48.863Z"
   },
   {
    "duration": 14,
    "start_time": "2024-07-12T04:14:00.672Z"
   },
   {
    "duration": 25,
    "start_time": "2024-07-12T04:15:50.520Z"
   },
   {
    "duration": 357,
    "start_time": "2024-07-12T04:15:57.326Z"
   },
   {
    "duration": 15,
    "start_time": "2024-07-12T04:17:02.408Z"
   },
   {
    "duration": 466,
    "start_time": "2024-07-12T16:06:04.481Z"
   },
   {
    "duration": 1732,
    "start_time": "2024-07-12T16:06:04.951Z"
   },
   {
    "duration": 32,
    "start_time": "2024-07-12T16:06:06.685Z"
   },
   {
    "duration": 17,
    "start_time": "2024-07-12T16:06:06.733Z"
   },
   {
    "duration": 20,
    "start_time": "2024-07-12T16:06:06.753Z"
   },
   {
    "duration": 57,
    "start_time": "2024-07-12T16:06:06.775Z"
   },
   {
    "duration": 46,
    "start_time": "2024-07-12T16:06:06.835Z"
   },
   {
    "duration": 351,
    "start_time": "2024-07-12T16:06:06.883Z"
   },
   {
    "duration": 103,
    "start_time": "2024-07-12T16:06:07.238Z"
   },
   {
    "duration": 117,
    "start_time": "2024-07-12T16:06:07.347Z"
   },
   {
    "duration": 167,
    "start_time": "2024-07-12T16:06:07.467Z"
   },
   {
    "duration": 95,
    "start_time": "2024-07-12T16:06:07.638Z"
   },
   {
    "duration": 29,
    "start_time": "2024-07-12T16:06:07.737Z"
   },
   {
    "duration": 14,
    "start_time": "2024-07-12T16:06:07.769Z"
   },
   {
    "duration": 73,
    "start_time": "2024-07-12T16:06:07.787Z"
   },
   {
    "duration": 42,
    "start_time": "2024-07-12T16:06:07.863Z"
   },
   {
    "duration": 28,
    "start_time": "2024-07-12T16:06:07.907Z"
   },
   {
    "duration": 10,
    "start_time": "2024-07-12T16:06:07.938Z"
   },
   {
    "duration": 10,
    "start_time": "2024-07-12T16:06:07.951Z"
   },
   {
    "duration": 7,
    "start_time": "2024-07-12T16:06:07.965Z"
   },
   {
    "duration": 58,
    "start_time": "2024-07-12T16:06:07.975Z"
   },
   {
    "duration": 9,
    "start_time": "2024-07-12T16:06:08.036Z"
   },
   {
    "duration": 1379,
    "start_time": "2024-07-12T16:06:08.050Z"
   },
   {
    "duration": 1179,
    "start_time": "2024-07-12T16:06:09.431Z"
   },
   {
    "duration": 19,
    "start_time": "2024-07-12T16:06:10.613Z"
   },
   {
    "duration": 20,
    "start_time": "2024-07-12T16:06:10.636Z"
   },
   {
    "duration": 14,
    "start_time": "2024-07-12T16:06:10.658Z"
   },
   {
    "duration": 50,
    "start_time": "2024-07-12T16:06:10.682Z"
   },
   {
    "duration": 12,
    "start_time": "2024-07-12T16:06:10.735Z"
   },
   {
    "duration": 10,
    "start_time": "2024-07-12T16:06:10.750Z"
   },
   {
    "duration": 7,
    "start_time": "2024-07-12T16:06:10.764Z"
   },
   {
    "duration": 64,
    "start_time": "2024-07-12T16:06:10.774Z"
   },
   {
    "duration": 11,
    "start_time": "2024-07-12T16:06:10.841Z"
   },
   {
    "duration": 12,
    "start_time": "2024-07-12T16:06:10.855Z"
   },
   {
    "duration": 21,
    "start_time": "2024-07-12T16:06:10.869Z"
   },
   {
    "duration": 41,
    "start_time": "2024-07-12T16:06:10.932Z"
   },
   {
    "duration": 26,
    "start_time": "2024-07-12T16:06:10.976Z"
   },
   {
    "duration": 32,
    "start_time": "2024-07-12T16:06:11.029Z"
   },
   {
    "duration": 28,
    "start_time": "2024-07-12T16:06:11.064Z"
   },
   {
    "duration": 54,
    "start_time": "2024-07-12T16:06:11.095Z"
   },
   {
    "duration": 29,
    "start_time": "2024-07-12T16:06:11.152Z"
   },
   {
    "duration": 49,
    "start_time": "2024-07-12T16:06:11.184Z"
   },
   {
    "duration": 17,
    "start_time": "2024-07-12T16:06:11.237Z"
   },
   {
    "duration": 647,
    "start_time": "2024-07-12T16:06:11.257Z"
   },
   {
    "duration": 132,
    "start_time": "2024-07-12T16:06:11.906Z"
   },
   {
    "duration": 12,
    "start_time": "2024-07-12T16:06:12.041Z"
   },
   {
    "duration": 77,
    "start_time": "2024-07-12T16:06:12.056Z"
   },
   {
    "duration": 35,
    "start_time": "2024-07-12T16:06:12.137Z"
   },
   {
    "duration": 61,
    "start_time": "2024-07-12T16:06:12.176Z"
   },
   {
    "duration": 20,
    "start_time": "2024-07-12T16:06:12.249Z"
   },
   {
    "duration": 12,
    "start_time": "2024-07-12T16:06:12.273Z"
   },
   {
    "duration": 21,
    "start_time": "2024-07-12T16:06:12.289Z"
   },
   {
    "duration": 16,
    "start_time": "2024-07-12T16:06:12.341Z"
   },
   {
    "duration": 4296,
    "start_time": "2024-07-12T16:06:12.361Z"
   },
   {
    "duration": 372,
    "start_time": "2024-07-12T16:06:16.661Z"
   },
   {
    "duration": 18,
    "start_time": "2024-07-12T16:06:17.036Z"
   },
   {
    "duration": 232,
    "start_time": "2024-07-12T16:06:17.057Z"
   },
   {
    "duration": 47,
    "start_time": "2024-07-12T16:06:17.292Z"
   },
   {
    "duration": 19,
    "start_time": "2024-07-12T16:06:17.341Z"
   },
   {
    "duration": 24,
    "start_time": "2024-07-12T16:06:17.363Z"
   },
   {
    "duration": 45,
    "start_time": "2024-07-12T16:06:17.390Z"
   },
   {
    "duration": 432,
    "start_time": "2024-07-12T16:06:17.437Z"
   },
   {
    "duration": 5,
    "start_time": "2024-07-12T16:06:17.872Z"
   },
   {
    "duration": 22,
    "start_time": "2024-07-12T16:06:17.881Z"
   },
   {
    "duration": 6,
    "start_time": "2024-07-12T16:06:17.930Z"
   },
   {
    "duration": 5,
    "start_time": "2024-07-12T16:06:17.939Z"
   },
   {
    "duration": 10,
    "start_time": "2024-07-12T16:06:17.947Z"
   },
   {
    "duration": 6,
    "start_time": "2024-07-12T16:06:17.960Z"
   },
   {
    "duration": 5,
    "start_time": "2024-07-12T16:06:17.969Z"
   },
   {
    "duration": 54,
    "start_time": "2024-07-12T16:06:17.977Z"
   },
   {
    "duration": 12,
    "start_time": "2024-07-12T16:06:18.035Z"
   },
   {
    "duration": 441,
    "start_time": "2024-07-12T16:06:18.051Z"
   },
   {
    "duration": 4,
    "start_time": "2024-07-12T16:06:18.497Z"
   },
   {
    "duration": 46,
    "start_time": "2024-07-12T16:06:18.503Z"
   },
   {
    "duration": 9,
    "start_time": "2024-07-12T16:06:18.552Z"
   },
   {
    "duration": 1841,
    "start_time": "2024-07-12T16:06:18.564Z"
   },
   {
    "duration": 11,
    "start_time": "2024-07-12T16:06:20.431Z"
   },
   {
    "duration": 196,
    "start_time": "2024-07-12T16:06:20.446Z"
   },
   {
    "duration": 10,
    "start_time": "2024-07-12T16:06:20.645Z"
   },
   {
    "duration": 444,
    "start_time": "2024-07-12T16:06:20.659Z"
   },
   {
    "duration": 565,
    "start_time": "2024-07-12T16:06:21.107Z"
   },
   {
    "duration": 3,
    "start_time": "2024-07-12T16:06:21.684Z"
   },
   {
    "duration": 421,
    "start_time": "2024-07-12T16:06:21.690Z"
   },
   {
    "duration": 7,
    "start_time": "2024-07-12T16:27:33.058Z"
   },
   {
    "duration": 438,
    "start_time": "2024-07-12T16:27:55.920Z"
   },
   {
    "duration": 7,
    "start_time": "2024-07-12T16:28:08.777Z"
   },
   {
    "duration": 438,
    "start_time": "2024-07-12T16:29:37.624Z"
   },
   {
    "duration": 7,
    "start_time": "2024-07-12T16:29:39.226Z"
   },
   {
    "duration": 444,
    "start_time": "2024-07-12T16:30:09.817Z"
   },
   {
    "duration": 12,
    "start_time": "2024-07-12T16:30:15.735Z"
   },
   {
    "duration": 462,
    "start_time": "2024-07-12T16:30:44.137Z"
   },
   {
    "duration": 12,
    "start_time": "2024-07-12T16:30:46.475Z"
   },
   {
    "duration": 10,
    "start_time": "2024-07-12T16:31:05.307Z"
   },
   {
    "duration": 1528,
    "start_time": "2024-07-12T16:35:01.376Z"
   },
   {
    "duration": 1460,
    "start_time": "2024-07-12T16:35:14.254Z"
   },
   {
    "duration": 5,
    "start_time": "2024-07-12T16:36:24.986Z"
   },
   {
    "duration": 1693,
    "start_time": "2024-07-12T16:36:29.486Z"
   },
   {
    "duration": 10,
    "start_time": "2024-07-12T16:39:11.091Z"
   },
   {
    "duration": 7,
    "start_time": "2024-07-12T16:39:44.906Z"
   },
   {
    "duration": 6,
    "start_time": "2024-07-12T16:39:55.273Z"
   },
   {
    "duration": 5,
    "start_time": "2024-07-12T16:40:09.111Z"
   },
   {
    "duration": 254,
    "start_time": "2024-07-12T16:40:19.462Z"
   },
   {
    "duration": 104,
    "start_time": "2024-07-12T16:51:04.754Z"
   },
   {
    "duration": 63,
    "start_time": "2024-07-12T16:51:17.774Z"
   },
   {
    "duration": 839,
    "start_time": "2024-07-12T16:52:14.528Z"
   },
   {
    "duration": 65,
    "start_time": "2024-07-12T16:52:39.660Z"
   },
   {
    "duration": 45,
    "start_time": "2024-07-12T17:01:34.094Z"
   },
   {
    "duration": 8,
    "start_time": "2024-07-12T17:02:03.911Z"
   },
   {
    "duration": 5,
    "start_time": "2024-07-12T17:02:31.709Z"
   },
   {
    "duration": 11,
    "start_time": "2024-07-12T17:17:27.817Z"
   },
   {
    "duration": 112,
    "start_time": "2024-07-12T17:19:07.951Z"
   },
   {
    "duration": 625,
    "start_time": "2024-07-12T17:19:37.257Z"
   },
   {
    "duration": 559,
    "start_time": "2024-07-12T17:25:06.057Z"
   },
   {
    "duration": 261,
    "start_time": "2024-07-12T17:25:14.292Z"
   },
   {
    "duration": 4,
    "start_time": "2024-07-12T17:25:28.046Z"
   },
   {
    "duration": 9,
    "start_time": "2024-07-12T17:25:34.046Z"
   },
   {
    "duration": 18,
    "start_time": "2024-07-12T17:25:41.332Z"
   },
   {
    "duration": 21,
    "start_time": "2024-07-12T17:25:52.623Z"
   },
   {
    "duration": 45,
    "start_time": "2024-07-12T17:29:01.773Z"
   },
   {
    "duration": 371,
    "start_time": "2024-07-12T17:29:14.398Z"
   },
   {
    "duration": 493,
    "start_time": "2024-07-12T17:30:51.039Z"
   },
   {
    "duration": 482,
    "start_time": "2024-07-12T17:31:32.768Z"
   },
   {
    "duration": 350,
    "start_time": "2024-07-12T17:35:19.976Z"
   },
   {
    "duration": 4,
    "start_time": "2024-07-12T17:35:50.854Z"
   },
   {
    "duration": 1516,
    "start_time": "2024-07-12T17:35:50.862Z"
   },
   {
    "duration": 27,
    "start_time": "2024-07-12T17:35:52.381Z"
   },
   {
    "duration": 17,
    "start_time": "2024-07-12T17:35:52.431Z"
   },
   {
    "duration": 20,
    "start_time": "2024-07-12T17:35:52.451Z"
   },
   {
    "duration": 57,
    "start_time": "2024-07-12T17:35:52.474Z"
   },
   {
    "duration": 43,
    "start_time": "2024-07-12T17:35:52.534Z"
   },
   {
    "duration": 318,
    "start_time": "2024-07-12T17:35:52.580Z"
   },
   {
    "duration": 90,
    "start_time": "2024-07-12T17:35:52.904Z"
   },
   {
    "duration": 94,
    "start_time": "2024-07-12T17:35:52.997Z"
   },
   {
    "duration": 148,
    "start_time": "2024-07-12T17:35:53.094Z"
   },
   {
    "duration": 87,
    "start_time": "2024-07-12T17:35:53.245Z"
   },
   {
    "duration": 22,
    "start_time": "2024-07-12T17:35:53.334Z"
   },
   {
    "duration": 13,
    "start_time": "2024-07-12T17:35:53.359Z"
   },
   {
    "duration": 66,
    "start_time": "2024-07-12T17:35:53.374Z"
   },
   {
    "duration": 51,
    "start_time": "2024-07-12T17:35:53.447Z"
   },
   {
    "duration": 32,
    "start_time": "2024-07-12T17:35:53.501Z"
   },
   {
    "duration": 9,
    "start_time": "2024-07-12T17:35:53.536Z"
   },
   {
    "duration": 11,
    "start_time": "2024-07-12T17:35:53.549Z"
   },
   {
    "duration": 8,
    "start_time": "2024-07-12T17:35:53.563Z"
   },
   {
    "duration": 10,
    "start_time": "2024-07-12T17:35:53.574Z"
   },
   {
    "duration": 50,
    "start_time": "2024-07-12T17:35:53.587Z"
   },
   {
    "duration": 1318,
    "start_time": "2024-07-12T17:35:53.641Z"
   },
   {
    "duration": 1132,
    "start_time": "2024-07-12T17:35:54.968Z"
   },
   {
    "duration": 29,
    "start_time": "2024-07-12T17:35:56.103Z"
   },
   {
    "duration": 18,
    "start_time": "2024-07-12T17:35:56.135Z"
   },
   {
    "duration": 12,
    "start_time": "2024-07-12T17:35:56.156Z"
   },
   {
    "duration": 12,
    "start_time": "2024-07-12T17:35:56.172Z"
   },
   {
    "duration": 47,
    "start_time": "2024-07-12T17:35:56.186Z"
   },
   {
    "duration": 10,
    "start_time": "2024-07-12T17:35:56.236Z"
   },
   {
    "duration": 8,
    "start_time": "2024-07-12T17:35:56.250Z"
   },
   {
    "duration": 18,
    "start_time": "2024-07-12T17:35:56.262Z"
   },
   {
    "duration": 52,
    "start_time": "2024-07-12T17:35:56.282Z"
   },
   {
    "duration": 12,
    "start_time": "2024-07-12T17:35:56.337Z"
   },
   {
    "duration": 21,
    "start_time": "2024-07-12T17:35:56.354Z"
   },
   {
    "duration": 82,
    "start_time": "2024-07-12T17:35:56.378Z"
   },
   {
    "duration": 27,
    "start_time": "2024-07-12T17:35:56.462Z"
   },
   {
    "duration": 53,
    "start_time": "2024-07-12T17:35:56.492Z"
   },
   {
    "duration": 28,
    "start_time": "2024-07-12T17:35:56.548Z"
   },
   {
    "duration": 55,
    "start_time": "2024-07-12T17:35:56.579Z"
   },
   {
    "duration": 27,
    "start_time": "2024-07-12T17:35:56.637Z"
   },
   {
    "duration": 11,
    "start_time": "2024-07-12T17:35:56.667Z"
   },
   {
    "duration": 48,
    "start_time": "2024-07-12T17:35:56.681Z"
   },
   {
    "duration": 543,
    "start_time": "2024-07-12T17:35:56.732Z"
   },
   {
    "duration": 115,
    "start_time": "2024-07-12T17:35:57.278Z"
   },
   {
    "duration": 6,
    "start_time": "2024-07-12T17:35:57.395Z"
   },
   {
    "duration": 60,
    "start_time": "2024-07-12T17:35:57.404Z"
   },
   {
    "duration": 26,
    "start_time": "2024-07-12T17:35:57.467Z"
   },
   {
    "duration": 52,
    "start_time": "2024-07-12T17:35:57.496Z"
   },
   {
    "duration": 14,
    "start_time": "2024-07-12T17:35:57.551Z"
   },
   {
    "duration": 10,
    "start_time": "2024-07-12T17:35:57.568Z"
   },
   {
    "duration": 51,
    "start_time": "2024-07-12T17:35:57.581Z"
   },
   {
    "duration": 10,
    "start_time": "2024-07-12T17:35:57.635Z"
   },
   {
    "duration": 4,
    "start_time": "2024-07-12T17:35:57.648Z"
   },
   {
    "duration": 371,
    "start_time": "2024-07-12T17:35:57.655Z"
   },
   {
    "duration": 15,
    "start_time": "2024-07-12T17:35:58.032Z"
   },
   {
    "duration": 230,
    "start_time": "2024-07-12T17:35:58.050Z"
   },
   {
    "duration": 53,
    "start_time": "2024-07-12T17:35:58.283Z"
   },
   {
    "duration": 16,
    "start_time": "2024-07-12T17:35:58.339Z"
   },
   {
    "duration": 32,
    "start_time": "2024-07-12T17:35:58.358Z"
   },
   {
    "duration": 36,
    "start_time": "2024-07-12T17:35:58.394Z"
   },
   {
    "duration": 482,
    "start_time": "2024-07-12T17:35:58.434Z"
   },
   {
    "duration": 12,
    "start_time": "2024-07-12T17:35:58.919Z"
   },
   {
    "duration": 18,
    "start_time": "2024-07-12T17:35:58.934Z"
   },
   {
    "duration": 8,
    "start_time": "2024-07-12T17:35:58.954Z"
   },
   {
    "duration": 4,
    "start_time": "2024-07-12T17:35:58.966Z"
   },
   {
    "duration": 56,
    "start_time": "2024-07-12T17:35:58.974Z"
   },
   {
    "duration": 9,
    "start_time": "2024-07-12T17:35:59.034Z"
   },
   {
    "duration": 5,
    "start_time": "2024-07-12T17:35:59.056Z"
   },
   {
    "duration": 5,
    "start_time": "2024-07-12T17:35:59.064Z"
   },
   {
    "duration": 13,
    "start_time": "2024-07-12T17:35:59.072Z"
   },
   {
    "duration": 469,
    "start_time": "2024-07-12T17:35:59.088Z"
   },
   {
    "duration": 7,
    "start_time": "2024-07-12T17:35:59.559Z"
   },
   {
    "duration": 27,
    "start_time": "2024-07-12T17:35:59.569Z"
   },
   {
    "duration": 33,
    "start_time": "2024-07-12T17:35:59.599Z"
   },
   {
    "duration": 1692,
    "start_time": "2024-07-12T17:35:59.635Z"
   },
   {
    "duration": 4,
    "start_time": "2024-07-12T17:36:01.334Z"
   },
   {
    "duration": 10,
    "start_time": "2024-07-12T17:36:01.341Z"
   },
   {
    "duration": 21,
    "start_time": "2024-07-12T17:36:01.355Z"
   },
   {
    "duration": 0,
    "start_time": "2024-07-12T17:36:01.378Z"
   },
   {
    "duration": 0,
    "start_time": "2024-07-12T17:36:01.380Z"
   },
   {
    "duration": 0,
    "start_time": "2024-07-12T17:36:01.382Z"
   },
   {
    "duration": 0,
    "start_time": "2024-07-12T17:36:01.384Z"
   },
   {
    "duration": 0,
    "start_time": "2024-07-12T17:36:01.431Z"
   },
   {
    "duration": 0,
    "start_time": "2024-07-12T17:36:01.433Z"
   },
   {
    "duration": 0,
    "start_time": "2024-07-12T17:36:01.435Z"
   },
   {
    "duration": 0,
    "start_time": "2024-07-12T17:36:01.438Z"
   },
   {
    "duration": 1,
    "start_time": "2024-07-12T17:36:01.440Z"
   },
   {
    "duration": 0,
    "start_time": "2024-07-12T17:36:01.442Z"
   },
   {
    "duration": 0,
    "start_time": "2024-07-12T17:36:01.444Z"
   },
   {
    "duration": 0,
    "start_time": "2024-07-12T17:36:01.447Z"
   },
   {
    "duration": 0,
    "start_time": "2024-07-12T17:36:01.449Z"
   },
   {
    "duration": 3,
    "start_time": "2024-07-12T17:36:10.223Z"
   },
   {
    "duration": 1497,
    "start_time": "2024-07-12T17:36:10.230Z"
   },
   {
    "duration": 26,
    "start_time": "2024-07-12T17:36:11.731Z"
   },
   {
    "duration": 21,
    "start_time": "2024-07-12T17:36:11.762Z"
   },
   {
    "duration": 48,
    "start_time": "2024-07-12T17:36:11.790Z"
   },
   {
    "duration": 22,
    "start_time": "2024-07-12T17:36:11.841Z"
   },
   {
    "duration": 69,
    "start_time": "2024-07-12T17:36:11.866Z"
   },
   {
    "duration": 296,
    "start_time": "2024-07-12T17:36:11.938Z"
   },
   {
    "duration": 94,
    "start_time": "2024-07-12T17:36:12.237Z"
   },
   {
    "duration": 99,
    "start_time": "2024-07-12T17:36:12.339Z"
   },
   {
    "duration": 149,
    "start_time": "2024-07-12T17:36:12.442Z"
   },
   {
    "duration": 85,
    "start_time": "2024-07-12T17:36:12.594Z"
   },
   {
    "duration": 23,
    "start_time": "2024-07-12T17:36:12.682Z"
   },
   {
    "duration": 13,
    "start_time": "2024-07-12T17:36:12.733Z"
   },
   {
    "duration": 33,
    "start_time": "2024-07-12T17:36:12.749Z"
   },
   {
    "duration": 72,
    "start_time": "2024-07-12T17:36:12.784Z"
   },
   {
    "duration": 10,
    "start_time": "2024-07-12T17:36:12.859Z"
   },
   {
    "duration": 12,
    "start_time": "2024-07-12T17:36:12.872Z"
   },
   {
    "duration": 41,
    "start_time": "2024-07-12T17:36:12.890Z"
   },
   {
    "duration": 11,
    "start_time": "2024-07-12T17:36:12.934Z"
   },
   {
    "duration": 10,
    "start_time": "2024-07-12T17:36:12.948Z"
   },
   {
    "duration": 10,
    "start_time": "2024-07-12T17:36:12.962Z"
   },
   {
    "duration": 1271,
    "start_time": "2024-07-12T17:36:12.974Z"
   },
   {
    "duration": 1087,
    "start_time": "2024-07-12T17:36:14.248Z"
   },
   {
    "duration": 11,
    "start_time": "2024-07-12T17:36:15.338Z"
   },
   {
    "duration": 19,
    "start_time": "2024-07-12T17:36:15.352Z"
   },
   {
    "duration": 14,
    "start_time": "2024-07-12T17:36:15.373Z"
   },
   {
    "duration": 51,
    "start_time": "2024-07-12T17:36:15.390Z"
   },
   {
    "duration": 10,
    "start_time": "2024-07-12T17:36:15.444Z"
   },
   {
    "duration": 9,
    "start_time": "2024-07-12T17:36:15.458Z"
   },
   {
    "duration": 11,
    "start_time": "2024-07-12T17:36:15.470Z"
   },
   {
    "duration": 59,
    "start_time": "2024-07-12T17:36:15.483Z"
   },
   {
    "duration": 10,
    "start_time": "2024-07-12T17:36:15.546Z"
   },
   {
    "duration": 11,
    "start_time": "2024-07-12T17:36:15.559Z"
   },
   {
    "duration": 60,
    "start_time": "2024-07-12T17:36:15.573Z"
   },
   {
    "duration": 41,
    "start_time": "2024-07-12T17:36:15.636Z"
   },
   {
    "duration": 28,
    "start_time": "2024-07-12T17:36:15.679Z"
   },
   {
    "duration": 29,
    "start_time": "2024-07-12T17:36:15.732Z"
   },
   {
    "duration": 34,
    "start_time": "2024-07-12T17:36:15.764Z"
   },
   {
    "duration": 59,
    "start_time": "2024-07-12T17:36:15.801Z"
   },
   {
    "duration": 57,
    "start_time": "2024-07-12T17:36:15.873Z"
   },
   {
    "duration": 16,
    "start_time": "2024-07-12T17:36:15.933Z"
   },
   {
    "duration": 16,
    "start_time": "2024-07-12T17:36:15.955Z"
   },
   {
    "duration": 521,
    "start_time": "2024-07-12T17:36:15.975Z"
   },
   {
    "duration": 116,
    "start_time": "2024-07-12T17:36:16.499Z"
   },
   {
    "duration": 13,
    "start_time": "2024-07-12T17:36:16.618Z"
   },
   {
    "duration": 41,
    "start_time": "2024-07-12T17:36:16.634Z"
   },
   {
    "duration": 52,
    "start_time": "2024-07-12T17:36:16.678Z"
   },
   {
    "duration": 32,
    "start_time": "2024-07-12T17:36:16.733Z"
   },
   {
    "duration": 13,
    "start_time": "2024-07-12T17:36:16.768Z"
   },
   {
    "duration": 10,
    "start_time": "2024-07-12T17:36:16.784Z"
   },
   {
    "duration": 14,
    "start_time": "2024-07-12T17:36:16.831Z"
   },
   {
    "duration": 10,
    "start_time": "2024-07-12T17:36:16.848Z"
   },
   {
    "duration": 3,
    "start_time": "2024-07-12T17:36:16.861Z"
   },
   {
    "duration": 374,
    "start_time": "2024-07-12T17:36:16.867Z"
   },
   {
    "duration": 17,
    "start_time": "2024-07-12T17:36:17.244Z"
   },
   {
    "duration": 233,
    "start_time": "2024-07-12T17:36:17.264Z"
   },
   {
    "duration": 51,
    "start_time": "2024-07-12T17:36:17.500Z"
   },
   {
    "duration": 17,
    "start_time": "2024-07-12T17:36:17.553Z"
   },
   {
    "duration": 23,
    "start_time": "2024-07-12T17:36:17.572Z"
   },
   {
    "duration": 9,
    "start_time": "2024-07-12T17:36:17.630Z"
   },
   {
    "duration": 385,
    "start_time": "2024-07-12T17:36:17.641Z"
   },
   {
    "duration": 5,
    "start_time": "2024-07-12T17:36:18.032Z"
   },
   {
    "duration": 22,
    "start_time": "2024-07-12T17:36:18.041Z"
   },
   {
    "duration": 7,
    "start_time": "2024-07-12T17:36:18.066Z"
   },
   {
    "duration": 5,
    "start_time": "2024-07-12T17:36:18.077Z"
   },
   {
    "duration": 54,
    "start_time": "2024-07-12T17:36:18.085Z"
   },
   {
    "duration": 7,
    "start_time": "2024-07-12T17:36:18.142Z"
   },
   {
    "duration": 7,
    "start_time": "2024-07-12T17:36:18.152Z"
   },
   {
    "duration": 4,
    "start_time": "2024-07-12T17:36:18.162Z"
   },
   {
    "duration": 11,
    "start_time": "2024-07-12T17:36:18.169Z"
   },
   {
    "duration": 459,
    "start_time": "2024-07-12T17:36:18.183Z"
   },
   {
    "duration": 4,
    "start_time": "2024-07-12T17:36:18.645Z"
   },
   {
    "duration": 26,
    "start_time": "2024-07-12T17:36:18.653Z"
   },
   {
    "duration": 9,
    "start_time": "2024-07-12T17:36:18.682Z"
   },
   {
    "duration": 1857,
    "start_time": "2024-07-12T17:36:18.693Z"
   },
   {
    "duration": 4,
    "start_time": "2024-07-12T17:36:20.554Z"
   },
   {
    "duration": 8,
    "start_time": "2024-07-12T17:36:20.561Z"
   },
   {
    "duration": 19,
    "start_time": "2024-07-12T17:36:20.573Z"
   },
   {
    "duration": 0,
    "start_time": "2024-07-12T17:36:20.632Z"
   },
   {
    "duration": 0,
    "start_time": "2024-07-12T17:36:20.634Z"
   },
   {
    "duration": 0,
    "start_time": "2024-07-12T17:36:20.636Z"
   },
   {
    "duration": 0,
    "start_time": "2024-07-12T17:36:20.638Z"
   },
   {
    "duration": 0,
    "start_time": "2024-07-12T17:36:20.640Z"
   },
   {
    "duration": 0,
    "start_time": "2024-07-12T17:36:20.642Z"
   },
   {
    "duration": 0,
    "start_time": "2024-07-12T17:36:20.644Z"
   },
   {
    "duration": 1,
    "start_time": "2024-07-12T17:36:20.645Z"
   },
   {
    "duration": 0,
    "start_time": "2024-07-12T17:36:20.648Z"
   },
   {
    "duration": 0,
    "start_time": "2024-07-12T17:36:20.649Z"
   },
   {
    "duration": 0,
    "start_time": "2024-07-12T17:36:20.651Z"
   },
   {
    "duration": 0,
    "start_time": "2024-07-12T17:36:20.654Z"
   },
   {
    "duration": 0,
    "start_time": "2024-07-12T17:36:20.656Z"
   },
   {
    "duration": 0,
    "start_time": "2024-07-12T17:36:20.659Z"
   },
   {
    "duration": 492,
    "start_time": "2024-07-12T17:36:49.995Z"
   },
   {
    "duration": 8,
    "start_time": "2024-07-12T17:36:53.228Z"
   },
   {
    "duration": 1586,
    "start_time": "2024-07-12T17:36:56.447Z"
   },
   {
    "duration": 174,
    "start_time": "2024-07-12T17:37:01.562Z"
   },
   {
    "duration": 10,
    "start_time": "2024-07-12T17:37:03.500Z"
   },
   {
    "duration": 466,
    "start_time": "2024-07-12T17:37:06.100Z"
   },
   {
    "duration": 304,
    "start_time": "2024-07-12T17:37:41.019Z"
   },
   {
    "duration": 505,
    "start_time": "2024-07-12T17:37:50.022Z"
   },
   {
    "duration": 1725,
    "start_time": "2024-07-12T17:37:50.532Z"
   },
   {
    "duration": 32,
    "start_time": "2024-07-12T17:37:52.259Z"
   },
   {
    "duration": 36,
    "start_time": "2024-07-12T17:37:52.295Z"
   },
   {
    "duration": 20,
    "start_time": "2024-07-12T17:37:52.334Z"
   },
   {
    "duration": 19,
    "start_time": "2024-07-12T17:37:52.357Z"
   },
   {
    "duration": 91,
    "start_time": "2024-07-12T17:37:52.379Z"
   },
   {
    "duration": 337,
    "start_time": "2024-07-12T17:37:52.473Z"
   },
   {
    "duration": 105,
    "start_time": "2024-07-12T17:37:52.813Z"
   },
   {
    "duration": 116,
    "start_time": "2024-07-12T17:37:52.930Z"
   },
   {
    "duration": 209,
    "start_time": "2024-07-12T17:37:53.049Z"
   },
   {
    "duration": 95,
    "start_time": "2024-07-12T17:37:53.261Z"
   },
   {
    "duration": 24,
    "start_time": "2024-07-12T17:37:53.359Z"
   },
   {
    "duration": 12,
    "start_time": "2024-07-12T17:37:53.385Z"
   },
   {
    "duration": 59,
    "start_time": "2024-07-12T17:37:53.400Z"
   },
   {
    "duration": 41,
    "start_time": "2024-07-12T17:37:53.462Z"
   },
   {
    "duration": 29,
    "start_time": "2024-07-12T17:37:53.506Z"
   },
   {
    "duration": 16,
    "start_time": "2024-07-12T17:37:53.540Z"
   },
   {
    "duration": 14,
    "start_time": "2024-07-12T17:37:53.560Z"
   },
   {
    "duration": 8,
    "start_time": "2024-07-12T17:37:53.578Z"
   },
   {
    "duration": 46,
    "start_time": "2024-07-12T17:37:53.590Z"
   },
   {
    "duration": 12,
    "start_time": "2024-07-12T17:37:53.639Z"
   },
   {
    "duration": 1377,
    "start_time": "2024-07-12T17:37:53.654Z"
   },
   {
    "duration": 1196,
    "start_time": "2024-07-12T17:37:55.035Z"
   },
   {
    "duration": 11,
    "start_time": "2024-07-12T17:37:56.234Z"
   },
   {
    "duration": 20,
    "start_time": "2024-07-12T17:37:56.247Z"
   },
   {
    "duration": 13,
    "start_time": "2024-07-12T17:37:56.270Z"
   },
   {
    "duration": 12,
    "start_time": "2024-07-12T17:37:56.330Z"
   },
   {
    "duration": 10,
    "start_time": "2024-07-12T17:37:56.345Z"
   },
   {
    "duration": 9,
    "start_time": "2024-07-12T17:37:56.359Z"
   },
   {
    "duration": 7,
    "start_time": "2024-07-12T17:37:56.372Z"
   },
   {
    "duration": 63,
    "start_time": "2024-07-12T17:37:56.384Z"
   },
   {
    "duration": 12,
    "start_time": "2024-07-12T17:37:56.450Z"
   },
   {
    "duration": 11,
    "start_time": "2024-07-12T17:37:56.465Z"
   },
   {
    "duration": 63,
    "start_time": "2024-07-12T17:37:56.479Z"
   },
   {
    "duration": 47,
    "start_time": "2024-07-12T17:37:56.546Z"
   },
   {
    "duration": 48,
    "start_time": "2024-07-12T17:37:56.598Z"
   },
   {
    "duration": 32,
    "start_time": "2024-07-12T17:37:56.648Z"
   },
   {
    "duration": 60,
    "start_time": "2024-07-12T17:37:56.683Z"
   },
   {
    "duration": 27,
    "start_time": "2024-07-12T17:37:56.745Z"
   },
   {
    "duration": 54,
    "start_time": "2024-07-12T17:37:56.776Z"
   },
   {
    "duration": 17,
    "start_time": "2024-07-12T17:37:56.833Z"
   },
   {
    "duration": 13,
    "start_time": "2024-07-12T17:37:56.854Z"
   },
   {
    "duration": 561,
    "start_time": "2024-07-12T17:37:56.870Z"
   },
   {
    "duration": 112,
    "start_time": "2024-07-12T17:37:57.434Z"
   },
   {
    "duration": 6,
    "start_time": "2024-07-12T17:37:57.550Z"
   },
   {
    "duration": 41,
    "start_time": "2024-07-12T17:37:57.559Z"
   },
   {
    "duration": 56,
    "start_time": "2024-07-12T17:37:57.603Z"
   },
   {
    "duration": 40,
    "start_time": "2024-07-12T17:37:57.662Z"
   },
   {
    "duration": 14,
    "start_time": "2024-07-12T17:37:57.730Z"
   },
   {
    "duration": 10,
    "start_time": "2024-07-12T17:37:57.746Z"
   },
   {
    "duration": 18,
    "start_time": "2024-07-12T17:37:57.758Z"
   },
   {
    "duration": 10,
    "start_time": "2024-07-12T17:37:57.780Z"
   },
   {
    "duration": 286,
    "start_time": "2024-07-12T17:37:57.830Z"
   },
   {
    "duration": 352,
    "start_time": "2024-07-12T17:37:58.119Z"
   },
   {
    "duration": 16,
    "start_time": "2024-07-12T17:37:58.474Z"
   },
   {
    "duration": 241,
    "start_time": "2024-07-12T17:37:58.493Z"
   },
   {
    "duration": 45,
    "start_time": "2024-07-12T17:37:58.736Z"
   },
   {
    "duration": 65,
    "start_time": "2024-07-12T17:37:58.784Z"
   },
   {
    "duration": 26,
    "start_time": "2024-07-12T17:37:58.852Z"
   },
   {
    "duration": 10,
    "start_time": "2024-07-12T17:37:58.881Z"
   },
   {
    "duration": 384,
    "start_time": "2024-07-12T17:37:58.894Z"
   },
   {
    "duration": 5,
    "start_time": "2024-07-12T17:37:59.281Z"
   },
   {
    "duration": 47,
    "start_time": "2024-07-12T17:37:59.289Z"
   },
   {
    "duration": 7,
    "start_time": "2024-07-12T17:37:59.338Z"
   },
   {
    "duration": 6,
    "start_time": "2024-07-12T17:37:59.347Z"
   },
   {
    "duration": 11,
    "start_time": "2024-07-12T17:37:59.356Z"
   },
   {
    "duration": 7,
    "start_time": "2024-07-12T17:37:59.370Z"
   },
   {
    "duration": 5,
    "start_time": "2024-07-12T17:37:59.381Z"
   },
   {
    "duration": 5,
    "start_time": "2024-07-12T17:37:59.431Z"
   },
   {
    "duration": 12,
    "start_time": "2024-07-12T17:37:59.439Z"
   },
   {
    "duration": 439,
    "start_time": "2024-07-12T17:37:59.454Z"
   },
   {
    "duration": 5,
    "start_time": "2024-07-12T17:37:59.896Z"
   },
   {
    "duration": 43,
    "start_time": "2024-07-12T17:37:59.905Z"
   },
   {
    "duration": 9,
    "start_time": "2024-07-12T17:37:59.952Z"
   },
   {
    "duration": 1784,
    "start_time": "2024-07-12T17:37:59.964Z"
   },
   {
    "duration": 3,
    "start_time": "2024-07-12T17:38:01.751Z"
   },
   {
    "duration": 15,
    "start_time": "2024-07-12T17:38:01.757Z"
   },
   {
    "duration": 101,
    "start_time": "2024-07-12T17:38:01.775Z"
   },
   {
    "duration": 0,
    "start_time": "2024-07-12T17:38:01.880Z"
   },
   {
    "duration": 0,
    "start_time": "2024-07-12T17:38:01.882Z"
   },
   {
    "duration": 0,
    "start_time": "2024-07-12T17:38:01.885Z"
   },
   {
    "duration": 0,
    "start_time": "2024-07-12T17:38:01.887Z"
   },
   {
    "duration": 0,
    "start_time": "2024-07-12T17:38:01.889Z"
   },
   {
    "duration": 0,
    "start_time": "2024-07-12T17:38:01.891Z"
   },
   {
    "duration": 0,
    "start_time": "2024-07-12T17:38:01.895Z"
   },
   {
    "duration": 0,
    "start_time": "2024-07-12T17:38:01.897Z"
   },
   {
    "duration": 0,
    "start_time": "2024-07-12T17:38:01.931Z"
   },
   {
    "duration": 0,
    "start_time": "2024-07-12T17:38:01.933Z"
   },
   {
    "duration": 0,
    "start_time": "2024-07-12T17:38:01.936Z"
   },
   {
    "duration": 0,
    "start_time": "2024-07-12T17:38:01.939Z"
   },
   {
    "duration": 0,
    "start_time": "2024-07-12T17:38:01.941Z"
   },
   {
    "duration": 11,
    "start_time": "2024-07-12T17:40:02.298Z"
   },
   {
    "duration": 3,
    "start_time": "2024-07-12T17:40:09.380Z"
   },
   {
    "duration": 1471,
    "start_time": "2024-07-12T17:40:09.388Z"
   },
   {
    "duration": 24,
    "start_time": "2024-07-12T17:40:10.862Z"
   },
   {
    "duration": 42,
    "start_time": "2024-07-12T17:40:10.889Z"
   },
   {
    "duration": 19,
    "start_time": "2024-07-12T17:40:10.936Z"
   },
   {
    "duration": 19,
    "start_time": "2024-07-12T17:40:10.958Z"
   },
   {
    "duration": 78,
    "start_time": "2024-07-12T17:40:10.980Z"
   },
   {
    "duration": 312,
    "start_time": "2024-07-12T17:40:11.061Z"
   },
   {
    "duration": 92,
    "start_time": "2024-07-12T17:40:11.378Z"
   },
   {
    "duration": 93,
    "start_time": "2024-07-12T17:40:11.473Z"
   },
   {
    "duration": 161,
    "start_time": "2024-07-12T17:40:11.570Z"
   },
   {
    "duration": 98,
    "start_time": "2024-07-12T17:40:11.734Z"
   },
   {
    "duration": 25,
    "start_time": "2024-07-12T17:40:11.834Z"
   },
   {
    "duration": 13,
    "start_time": "2024-07-12T17:40:11.866Z"
   },
   {
    "duration": 64,
    "start_time": "2024-07-12T17:40:11.881Z"
   },
   {
    "duration": 43,
    "start_time": "2024-07-12T17:40:11.948Z"
   },
   {
    "duration": 8,
    "start_time": "2024-07-12T17:40:11.993Z"
   },
   {
    "duration": 21,
    "start_time": "2024-07-12T17:40:12.033Z"
   },
   {
    "duration": 10,
    "start_time": "2024-07-12T17:40:12.058Z"
   },
   {
    "duration": 7,
    "start_time": "2024-07-12T17:40:12.071Z"
   },
   {
    "duration": 9,
    "start_time": "2024-07-12T17:40:12.081Z"
   },
   {
    "duration": 14,
    "start_time": "2024-07-12T17:40:12.131Z"
   },
   {
    "duration": 1302,
    "start_time": "2024-07-12T17:40:12.148Z"
   },
   {
    "duration": 1119,
    "start_time": "2024-07-12T17:40:13.453Z"
   },
   {
    "duration": 11,
    "start_time": "2024-07-12T17:40:14.576Z"
   },
   {
    "duration": 44,
    "start_time": "2024-07-12T17:40:14.591Z"
   },
   {
    "duration": 15,
    "start_time": "2024-07-12T17:40:14.638Z"
   },
   {
    "duration": 12,
    "start_time": "2024-07-12T17:40:14.656Z"
   },
   {
    "duration": 11,
    "start_time": "2024-07-12T17:40:14.670Z"
   },
   {
    "duration": 51,
    "start_time": "2024-07-12T17:40:14.684Z"
   },
   {
    "duration": 8,
    "start_time": "2024-07-12T17:40:14.738Z"
   },
   {
    "duration": 23,
    "start_time": "2024-07-12T17:40:14.750Z"
   },
   {
    "duration": 55,
    "start_time": "2024-07-12T17:40:14.776Z"
   },
   {
    "duration": 12,
    "start_time": "2024-07-12T17:40:14.834Z"
   },
   {
    "duration": 20,
    "start_time": "2024-07-12T17:40:14.849Z"
   },
   {
    "duration": 71,
    "start_time": "2024-07-12T17:40:14.872Z"
   },
   {
    "duration": 27,
    "start_time": "2024-07-12T17:40:14.945Z"
   },
   {
    "duration": 28,
    "start_time": "2024-07-12T17:40:14.975Z"
   },
   {
    "duration": 32,
    "start_time": "2024-07-12T17:40:15.030Z"
   },
   {
    "duration": 27,
    "start_time": "2024-07-12T17:40:15.065Z"
   },
   {
    "duration": 29,
    "start_time": "2024-07-12T17:40:15.131Z"
   },
   {
    "duration": 10,
    "start_time": "2024-07-12T17:40:15.164Z"
   },
   {
    "duration": 15,
    "start_time": "2024-07-12T17:40:15.177Z"
   },
   {
    "duration": 541,
    "start_time": "2024-07-12T17:40:15.194Z"
   },
   {
    "duration": 116,
    "start_time": "2024-07-12T17:40:15.738Z"
   },
   {
    "duration": 5,
    "start_time": "2024-07-12T17:40:15.858Z"
   },
   {
    "duration": 67,
    "start_time": "2024-07-12T17:40:15.866Z"
   },
   {
    "duration": 26,
    "start_time": "2024-07-12T17:40:15.937Z"
   },
   {
    "duration": 32,
    "start_time": "2024-07-12T17:40:15.966Z"
   },
   {
    "duration": 36,
    "start_time": "2024-07-12T17:40:16.001Z"
   },
   {
    "duration": 10,
    "start_time": "2024-07-12T17:40:16.040Z"
   },
   {
    "duration": 12,
    "start_time": "2024-07-12T17:40:16.053Z"
   },
   {
    "duration": 9,
    "start_time": "2024-07-12T17:40:16.067Z"
   },
   {
    "duration": 4,
    "start_time": "2024-07-12T17:40:16.078Z"
   },
   {
    "duration": 343,
    "start_time": "2024-07-12T17:40:16.132Z"
   },
   {
    "duration": 15,
    "start_time": "2024-07-12T17:40:16.478Z"
   },
   {
    "duration": 229,
    "start_time": "2024-07-12T17:40:16.496Z"
   },
   {
    "duration": 43,
    "start_time": "2024-07-12T17:40:16.730Z"
   },
   {
    "duration": 17,
    "start_time": "2024-07-12T17:40:16.776Z"
   },
   {
    "duration": 52,
    "start_time": "2024-07-12T17:40:16.795Z"
   },
   {
    "duration": 10,
    "start_time": "2024-07-12T17:40:16.850Z"
   },
   {
    "duration": 408,
    "start_time": "2024-07-12T17:40:16.862Z"
   },
   {
    "duration": 5,
    "start_time": "2024-07-12T17:40:17.273Z"
   },
   {
    "duration": 23,
    "start_time": "2024-07-12T17:40:17.281Z"
   },
   {
    "duration": 7,
    "start_time": "2024-07-12T17:40:17.330Z"
   },
   {
    "duration": 6,
    "start_time": "2024-07-12T17:40:17.340Z"
   },
   {
    "duration": 10,
    "start_time": "2024-07-12T17:40:17.349Z"
   },
   {
    "duration": 8,
    "start_time": "2024-07-12T17:40:17.361Z"
   },
   {
    "duration": 7,
    "start_time": "2024-07-12T17:40:17.372Z"
   },
   {
    "duration": 51,
    "start_time": "2024-07-12T17:40:17.382Z"
   },
   {
    "duration": 12,
    "start_time": "2024-07-12T17:40:17.436Z"
   },
   {
    "duration": 546,
    "start_time": "2024-07-12T17:40:17.451Z"
   },
   {
    "duration": 5,
    "start_time": "2024-07-12T17:40:18.003Z"
   },
   {
    "duration": 37,
    "start_time": "2024-07-12T17:40:18.013Z"
   },
   {
    "duration": 9,
    "start_time": "2024-07-12T17:40:18.053Z"
   },
   {
    "duration": 1772,
    "start_time": "2024-07-12T17:40:18.065Z"
   },
   {
    "duration": 4,
    "start_time": "2024-07-12T17:40:19.840Z"
   },
   {
    "duration": 10,
    "start_time": "2024-07-12T17:40:19.848Z"
   },
   {
    "duration": 23,
    "start_time": "2024-07-12T17:40:19.861Z"
   },
   {
    "duration": 0,
    "start_time": "2024-07-12T17:40:19.886Z"
   },
   {
    "duration": 0,
    "start_time": "2024-07-12T17:40:19.889Z"
   },
   {
    "duration": 0,
    "start_time": "2024-07-12T17:40:19.890Z"
   },
   {
    "duration": 0,
    "start_time": "2024-07-12T17:40:19.891Z"
   },
   {
    "duration": 0,
    "start_time": "2024-07-12T17:40:19.892Z"
   },
   {
    "duration": 0,
    "start_time": "2024-07-12T17:40:19.893Z"
   },
   {
    "duration": 0,
    "start_time": "2024-07-12T17:40:19.932Z"
   },
   {
    "duration": 0,
    "start_time": "2024-07-12T17:40:19.933Z"
   },
   {
    "duration": 0,
    "start_time": "2024-07-12T17:40:19.935Z"
   },
   {
    "duration": 0,
    "start_time": "2024-07-12T17:40:19.938Z"
   },
   {
    "duration": 0,
    "start_time": "2024-07-12T17:40:19.940Z"
   },
   {
    "duration": 1,
    "start_time": "2024-07-12T17:40:19.942Z"
   },
   {
    "duration": 0,
    "start_time": "2024-07-12T17:40:19.945Z"
   },
   {
    "duration": 476,
    "start_time": "2024-07-12T17:40:39.622Z"
   },
   {
    "duration": 10,
    "start_time": "2024-07-12T17:40:43.266Z"
   },
   {
    "duration": 1686,
    "start_time": "2024-07-12T17:40:44.984Z"
   },
   {
    "duration": 178,
    "start_time": "2024-07-12T17:40:49.072Z"
   },
   {
    "duration": 10,
    "start_time": "2024-07-12T17:40:51.974Z"
   },
   {
    "duration": 483,
    "start_time": "2024-07-12T17:40:54.749Z"
   },
   {
    "duration": 523,
    "start_time": "2024-07-12T17:41:14.418Z"
   },
   {
    "duration": 1755,
    "start_time": "2024-07-12T17:41:14.945Z"
   },
   {
    "duration": 46,
    "start_time": "2024-07-12T17:41:16.703Z"
   },
   {
    "duration": 15,
    "start_time": "2024-07-12T17:41:16.754Z"
   },
   {
    "duration": 20,
    "start_time": "2024-07-12T17:41:16.772Z"
   },
   {
    "duration": 21,
    "start_time": "2024-07-12T17:41:16.830Z"
   },
   {
    "duration": 77,
    "start_time": "2024-07-12T17:41:16.854Z"
   },
   {
    "duration": 351,
    "start_time": "2024-07-12T17:41:16.934Z"
   },
   {
    "duration": 106,
    "start_time": "2024-07-12T17:41:17.290Z"
   },
   {
    "duration": 134,
    "start_time": "2024-07-12T17:41:17.403Z"
   },
   {
    "duration": 190,
    "start_time": "2024-07-12T17:41:17.540Z"
   },
   {
    "duration": 97,
    "start_time": "2024-07-12T17:41:17.735Z"
   },
   {
    "duration": 26,
    "start_time": "2024-07-12T17:41:17.834Z"
   },
   {
    "duration": 13,
    "start_time": "2024-07-12T17:41:17.862Z"
   },
   {
    "duration": 66,
    "start_time": "2024-07-12T17:41:17.878Z"
   },
   {
    "duration": 45,
    "start_time": "2024-07-12T17:41:17.947Z"
   },
   {
    "duration": 37,
    "start_time": "2024-07-12T17:41:17.995Z"
   },
   {
    "duration": 10,
    "start_time": "2024-07-12T17:41:18.035Z"
   },
   {
    "duration": 13,
    "start_time": "2024-07-12T17:41:18.049Z"
   },
   {
    "duration": 9,
    "start_time": "2024-07-12T17:41:18.066Z"
   },
   {
    "duration": 51,
    "start_time": "2024-07-12T17:41:18.079Z"
   },
   {
    "duration": 14,
    "start_time": "2024-07-12T17:41:18.133Z"
   },
   {
    "duration": 1392,
    "start_time": "2024-07-12T17:41:18.150Z"
   },
   {
    "duration": 1205,
    "start_time": "2024-07-12T17:41:19.546Z"
   },
   {
    "duration": 12,
    "start_time": "2024-07-12T17:41:20.754Z"
   },
   {
    "duration": 21,
    "start_time": "2024-07-12T17:41:20.768Z"
   },
   {
    "duration": 47,
    "start_time": "2024-07-12T17:41:20.793Z"
   },
   {
    "duration": 14,
    "start_time": "2024-07-12T17:41:20.851Z"
   },
   {
    "duration": 10,
    "start_time": "2024-07-12T17:41:20.868Z"
   },
   {
    "duration": 53,
    "start_time": "2024-07-12T17:41:20.883Z"
   },
   {
    "duration": 9,
    "start_time": "2024-07-12T17:41:20.939Z"
   },
   {
    "duration": 24,
    "start_time": "2024-07-12T17:41:20.952Z"
   },
   {
    "duration": 13,
    "start_time": "2024-07-12T17:41:20.979Z"
   },
   {
    "duration": 46,
    "start_time": "2024-07-12T17:41:20.995Z"
   },
   {
    "duration": 24,
    "start_time": "2024-07-12T17:41:21.043Z"
   },
   {
    "duration": 69,
    "start_time": "2024-07-12T17:41:21.070Z"
   },
   {
    "duration": 27,
    "start_time": "2024-07-12T17:41:21.142Z"
   },
   {
    "duration": 57,
    "start_time": "2024-07-12T17:41:21.173Z"
   },
   {
    "duration": 30,
    "start_time": "2024-07-12T17:41:21.233Z"
   },
   {
    "duration": 30,
    "start_time": "2024-07-12T17:41:21.266Z"
   },
   {
    "duration": 58,
    "start_time": "2024-07-12T17:41:21.299Z"
   },
   {
    "duration": 11,
    "start_time": "2024-07-12T17:41:21.360Z"
   },
   {
    "duration": 17,
    "start_time": "2024-07-12T17:41:21.374Z"
   },
   {
    "duration": 585,
    "start_time": "2024-07-12T17:41:21.430Z"
   },
   {
    "duration": 128,
    "start_time": "2024-07-12T17:41:22.018Z"
   },
   {
    "duration": 7,
    "start_time": "2024-07-12T17:41:22.150Z"
   },
   {
    "duration": 71,
    "start_time": "2024-07-12T17:41:22.161Z"
   },
   {
    "duration": 37,
    "start_time": "2024-07-12T17:41:22.236Z"
   },
   {
    "duration": 60,
    "start_time": "2024-07-12T17:41:22.276Z"
   },
   {
    "duration": 15,
    "start_time": "2024-07-12T17:41:22.339Z"
   },
   {
    "duration": 10,
    "start_time": "2024-07-12T17:41:22.356Z"
   },
   {
    "duration": 25,
    "start_time": "2024-07-12T17:41:22.369Z"
   },
   {
    "duration": 31,
    "start_time": "2024-07-12T17:41:22.406Z"
   },
   {
    "duration": 266,
    "start_time": "2024-07-12T17:41:22.440Z"
   },
   {
    "duration": 404,
    "start_time": "2024-07-12T17:41:22.711Z"
   },
   {
    "duration": 27,
    "start_time": "2024-07-12T17:41:23.121Z"
   },
   {
    "duration": 282,
    "start_time": "2024-07-12T17:41:23.151Z"
   },
   {
    "duration": 44,
    "start_time": "2024-07-12T17:41:23.439Z"
   },
   {
    "duration": 18,
    "start_time": "2024-07-12T17:41:23.486Z"
   },
   {
    "duration": 23,
    "start_time": "2024-07-12T17:41:23.532Z"
   },
   {
    "duration": 10,
    "start_time": "2024-07-12T17:41:23.558Z"
   },
   {
    "duration": 400,
    "start_time": "2024-07-12T17:41:23.572Z"
   },
   {
    "duration": 4,
    "start_time": "2024-07-12T17:41:23.975Z"
   },
   {
    "duration": 22,
    "start_time": "2024-07-12T17:41:23.982Z"
   },
   {
    "duration": 28,
    "start_time": "2024-07-12T17:41:24.006Z"
   },
   {
    "duration": 5,
    "start_time": "2024-07-12T17:41:24.039Z"
   },
   {
    "duration": 10,
    "start_time": "2024-07-12T17:41:24.047Z"
   },
   {
    "duration": 7,
    "start_time": "2024-07-12T17:41:24.060Z"
   },
   {
    "duration": 6,
    "start_time": "2024-07-12T17:41:24.070Z"
   },
   {
    "duration": 52,
    "start_time": "2024-07-12T17:41:24.080Z"
   },
   {
    "duration": 12,
    "start_time": "2024-07-12T17:41:24.135Z"
   },
   {
    "duration": 618,
    "start_time": "2024-07-12T17:41:24.151Z"
   },
   {
    "duration": 10,
    "start_time": "2024-07-12T17:41:24.773Z"
   },
   {
    "duration": 46,
    "start_time": "2024-07-12T17:41:24.786Z"
   },
   {
    "duration": 10,
    "start_time": "2024-07-12T17:41:24.835Z"
   },
   {
    "duration": 2113,
    "start_time": "2024-07-12T17:41:24.849Z"
   },
   {
    "duration": 4,
    "start_time": "2024-07-12T17:41:26.965Z"
   },
   {
    "duration": 9,
    "start_time": "2024-07-12T17:41:26.973Z"
   },
   {
    "duration": 602,
    "start_time": "2024-07-12T17:41:26.985Z"
   },
   {
    "duration": 11,
    "start_time": "2024-07-12T17:41:27.592Z"
   },
   {
    "duration": 2105,
    "start_time": "2024-07-12T17:41:27.606Z"
   },
   {
    "duration": 196,
    "start_time": "2024-07-12T17:41:29.734Z"
   },
   {
    "duration": 11,
    "start_time": "2024-07-12T17:41:29.934Z"
   },
   {
    "duration": 480,
    "start_time": "2024-07-12T17:41:29.949Z"
   },
   {
    "duration": 585,
    "start_time": "2024-07-12T17:41:30.432Z"
   },
   {
    "duration": 11,
    "start_time": "2024-07-12T17:41:31.022Z"
   },
   {
    "duration": 415,
    "start_time": "2024-07-12T17:41:31.036Z"
   },
   {
    "duration": 827,
    "start_time": "2024-07-12T17:41:31.454Z"
   },
   {
    "duration": 134,
    "start_time": "2024-07-12T17:41:32.287Z"
   },
   {
    "duration": 20,
    "start_time": "2024-07-12T17:41:32.424Z"
   },
   {
    "duration": 15,
    "start_time": "2024-07-12T17:42:08.935Z"
   },
   {
    "duration": 379,
    "start_time": "2024-07-12T17:42:34.362Z"
   },
   {
    "duration": 8,
    "start_time": "2024-07-12T17:42:41.238Z"
   },
   {
    "duration": 13,
    "start_time": "2024-07-12T17:43:04.354Z"
   },
   {
    "duration": 707,
    "start_time": "2024-07-12T17:44:22.594Z"
   },
   {
    "duration": 130,
    "start_time": "2024-07-12T17:44:25.277Z"
   },
   {
    "duration": 12,
    "start_time": "2024-07-12T17:44:28.244Z"
   },
   {
    "duration": 12,
    "start_time": "2024-07-12T17:44:30.885Z"
   },
   {
    "duration": 11,
    "start_time": "2024-07-12T17:50:06.290Z"
   },
   {
    "duration": 14,
    "start_time": "2024-07-12T17:50:08.878Z"
   },
   {
    "duration": 19,
    "start_time": "2024-07-12T17:53:21.760Z"
   },
   {
    "duration": 739,
    "start_time": "2024-07-12T17:55:55.684Z"
   },
   {
    "duration": 69,
    "start_time": "2024-07-12T17:56:03.187Z"
   },
   {
    "duration": 76,
    "start_time": "2024-07-12T17:56:26.274Z"
   },
   {
    "duration": 68,
    "start_time": "2024-07-12T17:56:33.106Z"
   },
   {
    "duration": 12,
    "start_time": "2024-07-12T17:56:47.764Z"
   },
   {
    "duration": 79,
    "start_time": "2024-07-12T17:57:26.399Z"
   },
   {
    "duration": 107,
    "start_time": "2024-07-12T18:09:01.858Z"
   },
   {
    "duration": 13,
    "start_time": "2024-07-12T18:09:23.057Z"
   },
   {
    "duration": 130,
    "start_time": "2024-07-12T18:09:39.026Z"
   },
   {
    "duration": 1139,
    "start_time": "2024-07-12T18:11:17.686Z"
   },
   {
    "duration": 155,
    "start_time": "2024-07-12T18:11:21.450Z"
   },
   {
    "duration": 25,
    "start_time": "2024-07-12T18:11:25.175Z"
   },
   {
    "duration": 16,
    "start_time": "2024-07-12T18:11:26.986Z"
   },
   {
    "duration": 7,
    "start_time": "2024-07-12T18:11:40.175Z"
   },
   {
    "duration": 16,
    "start_time": "2024-07-12T18:12:33.061Z"
   },
   {
    "duration": 144,
    "start_time": "2024-07-12T18:38:40.123Z"
   },
   {
    "duration": 7,
    "start_time": "2024-07-12T18:38:46.544Z"
   },
   {
    "duration": 194,
    "start_time": "2024-07-12T18:39:07.793Z"
   },
   {
    "duration": 8,
    "start_time": "2024-07-12T18:40:13.718Z"
   },
   {
    "duration": 219,
    "start_time": "2024-07-12T18:40:32.572Z"
   },
   {
    "duration": 203,
    "start_time": "2024-07-12T18:40:36.782Z"
   },
   {
    "duration": 211,
    "start_time": "2024-07-12T18:42:59.552Z"
   },
   {
    "duration": 205,
    "start_time": "2024-07-12T18:43:08.921Z"
   },
   {
    "duration": 520,
    "start_time": "2024-07-12T18:44:02.984Z"
   },
   {
    "duration": 77,
    "start_time": "2024-07-12T18:44:08.339Z"
   },
   {
    "duration": 38,
    "start_time": "2024-07-12T18:44:19.811Z"
   },
   {
    "duration": 13,
    "start_time": "2024-07-12T18:44:26.907Z"
   },
   {
    "duration": 60,
    "start_time": "2024-07-12T18:45:58.131Z"
   },
   {
    "duration": 132,
    "start_time": "2024-07-12T18:48:05.967Z"
   },
   {
    "duration": 15,
    "start_time": "2024-07-12T18:48:45.661Z"
   },
   {
    "duration": 4,
    "start_time": "2024-07-12T18:49:38.346Z"
   },
   {
    "duration": 650,
    "start_time": "2024-07-12T18:50:33.294Z"
   },
   {
    "duration": 14,
    "start_time": "2024-07-12T18:50:58.869Z"
   },
   {
    "duration": 146,
    "start_time": "2024-07-12T18:52:27.595Z"
   },
   {
    "duration": 534,
    "start_time": "2024-07-12T18:52:32.116Z"
   },
   {
    "duration": 614,
    "start_time": "2024-07-12T18:52:48.982Z"
   },
   {
    "duration": 464,
    "start_time": "2024-07-12T18:53:54.409Z"
   },
   {
    "duration": 484,
    "start_time": "2024-07-12T18:54:11.681Z"
   },
   {
    "duration": 448,
    "start_time": "2024-07-12T18:54:24.614Z"
   },
   {
    "duration": 4,
    "start_time": "2024-07-12T18:54:26.954Z"
   },
   {
    "duration": 363,
    "start_time": "2024-07-12T18:54:34.292Z"
   },
   {
    "duration": 115,
    "start_time": "2024-07-12T18:55:18.813Z"
   },
   {
    "duration": 4,
    "start_time": "2024-07-12T18:55:21.188Z"
   },
   {
    "duration": 8,
    "start_time": "2024-07-12T18:55:23.008Z"
   },
   {
    "duration": 382,
    "start_time": "2024-07-12T18:55:25.502Z"
   },
   {
    "duration": 6,
    "start_time": "2024-07-12T19:02:01.494Z"
   },
   {
    "duration": 425,
    "start_time": "2024-07-12T19:02:45.070Z"
   },
   {
    "duration": 7,
    "start_time": "2024-07-12T19:03:55.308Z"
   },
   {
    "duration": 14,
    "start_time": "2024-07-12T19:23:46.748Z"
   },
   {
    "duration": 18,
    "start_time": "2024-07-12T19:24:04.620Z"
   },
   {
    "duration": 21,
    "start_time": "2024-07-12T19:42:16.047Z"
   },
   {
    "duration": 21,
    "start_time": "2024-07-12T19:42:20.468Z"
   },
   {
    "duration": 22,
    "start_time": "2024-07-12T19:42:24.272Z"
   },
   {
    "duration": 28,
    "start_time": "2024-07-12T19:42:26.610Z"
   },
   {
    "duration": 73,
    "start_time": "2024-07-12T19:44:01.195Z"
   },
   {
    "duration": 39,
    "start_time": "2024-07-12T19:44:24.228Z"
   },
   {
    "duration": 18,
    "start_time": "2024-07-12T19:48:34.197Z"
   },
   {
    "duration": 23,
    "start_time": "2024-07-12T19:48:52.248Z"
   },
   {
    "duration": 16,
    "start_time": "2024-07-12T19:50:24.622Z"
   },
   {
    "duration": 14,
    "start_time": "2024-07-12T20:10:57.130Z"
   },
   {
    "duration": 847,
    "start_time": "2024-07-12T20:16:03.613Z"
   },
   {
    "duration": 348,
    "start_time": "2024-07-12T20:19:11.628Z"
   },
   {
    "duration": 646,
    "start_time": "2024-07-12T20:19:26.047Z"
   },
   {
    "duration": 1710,
    "start_time": "2024-07-12T20:19:26.697Z"
   },
   {
    "duration": 47,
    "start_time": "2024-07-12T20:19:28.410Z"
   },
   {
    "duration": 19,
    "start_time": "2024-07-12T20:19:28.462Z"
   },
   {
    "duration": 46,
    "start_time": "2024-07-12T20:19:28.484Z"
   },
   {
    "duration": 27,
    "start_time": "2024-07-12T20:19:28.533Z"
   },
   {
    "duration": 70,
    "start_time": "2024-07-12T20:19:28.563Z"
   },
   {
    "duration": 348,
    "start_time": "2024-07-12T20:19:28.636Z"
   },
   {
    "duration": 125,
    "start_time": "2024-07-12T20:19:28.987Z"
   },
   {
    "duration": 127,
    "start_time": "2024-07-12T20:19:29.118Z"
   },
   {
    "duration": 177,
    "start_time": "2024-07-12T20:19:29.248Z"
   },
   {
    "duration": 102,
    "start_time": "2024-07-12T20:19:29.431Z"
   },
   {
    "duration": 29,
    "start_time": "2024-07-12T20:19:29.536Z"
   },
   {
    "duration": 13,
    "start_time": "2024-07-12T20:19:29.569Z"
   },
   {
    "duration": 82,
    "start_time": "2024-07-12T20:19:29.584Z"
   },
   {
    "duration": 57,
    "start_time": "2024-07-12T20:19:29.673Z"
   },
   {
    "duration": 12,
    "start_time": "2024-07-12T20:19:29.734Z"
   },
   {
    "duration": 9,
    "start_time": "2024-07-12T20:19:29.752Z"
   },
   {
    "duration": 11,
    "start_time": "2024-07-12T20:19:29.765Z"
   },
   {
    "duration": 9,
    "start_time": "2024-07-12T20:19:29.781Z"
   },
   {
    "duration": 41,
    "start_time": "2024-07-12T20:19:29.793Z"
   },
   {
    "duration": 12,
    "start_time": "2024-07-12T20:19:29.838Z"
   },
   {
    "duration": 1386,
    "start_time": "2024-07-12T20:19:29.853Z"
   },
   {
    "duration": 1256,
    "start_time": "2024-07-12T20:19:31.243Z"
   },
   {
    "duration": 13,
    "start_time": "2024-07-12T20:19:32.502Z"
   },
   {
    "duration": 27,
    "start_time": "2024-07-12T20:19:32.532Z"
   },
   {
    "duration": 18,
    "start_time": "2024-07-12T20:19:32.564Z"
   },
   {
    "duration": 13,
    "start_time": "2024-07-12T20:19:32.592Z"
   },
   {
    "duration": 15,
    "start_time": "2024-07-12T20:19:32.631Z"
   },
   {
    "duration": 13,
    "start_time": "2024-07-12T20:19:32.648Z"
   },
   {
    "duration": 9,
    "start_time": "2024-07-12T20:19:32.664Z"
   },
   {
    "duration": 53,
    "start_time": "2024-07-12T20:19:32.677Z"
   },
   {
    "duration": 19,
    "start_time": "2024-07-12T20:19:32.733Z"
   },
   {
    "duration": 13,
    "start_time": "2024-07-12T20:19:32.755Z"
   },
   {
    "duration": 24,
    "start_time": "2024-07-12T20:19:32.772Z"
   },
   {
    "duration": 73,
    "start_time": "2024-07-12T20:19:32.800Z"
   },
   {
    "duration": 27,
    "start_time": "2024-07-12T20:19:32.876Z"
   },
   {
    "duration": 55,
    "start_time": "2024-07-12T20:19:32.906Z"
   },
   {
    "duration": 28,
    "start_time": "2024-07-12T20:19:32.966Z"
   },
   {
    "duration": 51,
    "start_time": "2024-07-12T20:19:32.999Z"
   },
   {
    "duration": 36,
    "start_time": "2024-07-12T20:19:33.053Z"
   },
   {
    "duration": 46,
    "start_time": "2024-07-12T20:19:33.092Z"
   },
   {
    "duration": 17,
    "start_time": "2024-07-12T20:19:33.141Z"
   },
   {
    "duration": 571,
    "start_time": "2024-07-12T20:19:33.161Z"
   },
   {
    "duration": 116,
    "start_time": "2024-07-12T20:19:33.735Z"
   },
   {
    "duration": 6,
    "start_time": "2024-07-12T20:19:33.855Z"
   },
   {
    "duration": 68,
    "start_time": "2024-07-12T20:19:33.865Z"
   },
   {
    "duration": 35,
    "start_time": "2024-07-12T20:19:33.938Z"
   },
   {
    "duration": 63,
    "start_time": "2024-07-12T20:19:33.979Z"
   },
   {
    "duration": 14,
    "start_time": "2024-07-12T20:19:34.047Z"
   },
   {
    "duration": 9,
    "start_time": "2024-07-12T20:19:34.067Z"
   },
   {
    "duration": 13,
    "start_time": "2024-07-12T20:19:34.079Z"
   },
   {
    "duration": 43,
    "start_time": "2024-07-12T20:19:34.095Z"
   },
   {
    "duration": 352,
    "start_time": "2024-07-12T20:19:34.141Z"
   },
   {
    "duration": 354,
    "start_time": "2024-07-12T20:19:34.496Z"
   },
   {
    "duration": 17,
    "start_time": "2024-07-12T20:19:34.855Z"
   },
   {
    "duration": 250,
    "start_time": "2024-07-12T20:19:34.875Z"
   },
   {
    "duration": 45,
    "start_time": "2024-07-12T20:19:35.127Z"
   },
   {
    "duration": 19,
    "start_time": "2024-07-12T20:19:35.175Z"
   },
   {
    "duration": 50,
    "start_time": "2024-07-12T20:19:35.197Z"
   },
   {
    "duration": 10,
    "start_time": "2024-07-12T20:19:35.250Z"
   },
   {
    "duration": 469,
    "start_time": "2024-07-12T20:19:35.263Z"
   },
   {
    "duration": 5,
    "start_time": "2024-07-12T20:19:35.736Z"
   },
   {
    "duration": 22,
    "start_time": "2024-07-12T20:19:35.744Z"
   },
   {
    "duration": 8,
    "start_time": "2024-07-12T20:19:35.771Z"
   },
   {
    "duration": 5,
    "start_time": "2024-07-12T20:19:35.783Z"
   },
   {
    "duration": 46,
    "start_time": "2024-07-12T20:19:35.792Z"
   },
   {
    "duration": 9,
    "start_time": "2024-07-12T20:19:35.842Z"
   },
   {
    "duration": 6,
    "start_time": "2024-07-12T20:19:35.854Z"
   },
   {
    "duration": 4,
    "start_time": "2024-07-12T20:19:35.863Z"
   },
   {
    "duration": 12,
    "start_time": "2024-07-12T20:19:35.870Z"
   },
   {
    "duration": 456,
    "start_time": "2024-07-12T20:19:35.884Z"
   },
   {
    "duration": 4,
    "start_time": "2024-07-12T20:19:36.344Z"
   },
   {
    "duration": 26,
    "start_time": "2024-07-12T20:19:36.352Z"
   },
   {
    "duration": 10,
    "start_time": "2024-07-12T20:19:36.381Z"
   },
   {
    "duration": 1815,
    "start_time": "2024-07-12T20:19:36.394Z"
   },
   {
    "duration": 27,
    "start_time": "2024-07-12T20:19:38.213Z"
   },
   {
    "duration": 17,
    "start_time": "2024-07-12T20:19:38.245Z"
   },
   {
    "duration": 17,
    "start_time": "2024-07-12T20:19:38.265Z"
   },
   {
    "duration": 2460,
    "start_time": "2024-07-12T20:19:38.286Z"
   },
   {
    "duration": 525,
    "start_time": "2024-07-12T20:19:40.750Z"
   },
   {
    "duration": 9,
    "start_time": "2024-07-12T20:19:41.289Z"
   },
   {
    "duration": 1724,
    "start_time": "2024-07-12T20:19:41.302Z"
   },
   {
    "duration": 191,
    "start_time": "2024-07-12T20:19:43.032Z"
   },
   {
    "duration": 15,
    "start_time": "2024-07-12T20:19:43.226Z"
   },
   {
    "duration": 473,
    "start_time": "2024-07-12T20:19:43.244Z"
   },
   {
    "duration": 455,
    "start_time": "2024-07-12T20:19:43.721Z"
   },
   {
    "duration": 4,
    "start_time": "2024-07-12T20:19:44.179Z"
   },
   {
    "duration": 421,
    "start_time": "2024-07-12T20:19:44.187Z"
   },
   {
    "duration": 168,
    "start_time": "2024-07-12T20:19:44.612Z"
   },
   {
    "duration": 8,
    "start_time": "2024-07-12T20:19:44.782Z"
   },
   {
    "duration": 218,
    "start_time": "2024-07-12T20:19:44.793Z"
   },
   {
    "duration": 1171,
    "start_time": "2024-07-12T20:19:45.014Z"
   },
   {
    "duration": 184,
    "start_time": "2024-07-12T20:19:46.188Z"
   },
   {
    "duration": 15,
    "start_time": "2024-07-12T20:19:46.375Z"
   },
   {
    "duration": 224,
    "start_time": "2024-07-12T20:19:46.392Z"
   },
   {
    "duration": 17,
    "start_time": "2024-07-12T20:19:46.619Z"
   },
   {
    "duration": 40,
    "start_time": "2024-07-12T20:19:46.639Z"
   },
   {
    "duration": 48,
    "start_time": "2024-07-12T20:19:46.682Z"
   },
   {
    "duration": 69,
    "start_time": "2024-07-12T20:19:46.735Z"
   },
   {
    "duration": 178,
    "start_time": "2024-07-12T20:19:46.807Z"
   },
   {
    "duration": 5,
    "start_time": "2024-07-12T20:19:46.989Z"
   },
   {
    "duration": 11,
    "start_time": "2024-07-12T20:19:46.996Z"
   },
   {
    "duration": 464,
    "start_time": "2024-07-12T20:19:47.010Z"
   },
   {
    "duration": 2274,
    "start_time": "2024-07-12T20:20:27.456Z"
   },
   {
    "duration": 2545,
    "start_time": "2024-07-12T20:20:48.195Z"
   },
   {
    "duration": 2488,
    "start_time": "2024-07-12T20:23:06.857Z"
   },
   {
    "duration": 2671,
    "start_time": "2024-07-12T20:24:26.701Z"
   },
   {
    "duration": 2689,
    "start_time": "2024-07-12T20:24:41.823Z"
   },
   {
    "duration": 2700,
    "start_time": "2024-07-12T20:30:33.226Z"
   },
   {
    "duration": 5,
    "start_time": "2024-07-12T20:56:07.962Z"
   },
   {
    "duration": 10,
    "start_time": "2024-07-12T21:05:38.939Z"
   },
   {
    "duration": 12,
    "start_time": "2024-07-12T21:05:41.799Z"
   },
   {
    "duration": 9,
    "start_time": "2024-07-12T21:05:44.286Z"
   },
   {
    "duration": 1346,
    "start_time": "2024-07-12T21:17:08.751Z"
   },
   {
    "duration": 226,
    "start_time": "2024-07-12T21:17:19.370Z"
   },
   {
    "duration": 9,
    "start_time": "2024-07-12T21:44:45.771Z"
   }
  ],
  "celltoolbar": "Raw Cell Format",
  "colab": {
   "provenance": []
  },
  "kernelspec": {
   "display_name": "Python 3 (ipykernel)",
   "language": "python",
   "name": "python3"
  },
  "language_info": {
   "codemirror_mode": {
    "name": "ipython",
    "version": 3
   },
   "file_extension": ".py",
   "mimetype": "text/x-python",
   "name": "python",
   "nbconvert_exporter": "python",
   "pygments_lexer": "ipython3",
   "version": "3.9.19"
  },
  "toc": {
   "base_numbering": 1,
   "nav_menu": {},
   "number_sections": true,
   "sideBar": true,
   "skip_h1_title": true,
   "title_cell": "Table of Contents",
   "title_sidebar": "Contents",
   "toc_cell": false,
   "toc_position": {},
   "toc_section_display": true,
   "toc_window_display": false
  },
  "vscode": {
   "interpreter": {
    "hash": "01a7be9ec63e704a62cefc5fe7a4756944464ee731be31632bdf42a4cb4688cf"
   }
  }
 },
 "nbformat": 4,
 "nbformat_minor": 5
}
